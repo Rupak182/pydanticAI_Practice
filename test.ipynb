{
 "cells": [
  {
   "cell_type": "code",
   "execution_count": 1,
   "metadata": {},
   "outputs": [],
   "source": [
    "!pip install -qq nest_asyncio pydantic pydantic_ai   python-dotenv "
   ]
  },
  {
   "cell_type": "code",
   "execution_count": 1,
   "metadata": {},
   "outputs": [],
   "source": [
    "import nest_asyncio \n",
    "nest_asyncio.apply()"
   ]
  },
  {
   "cell_type": "code",
   "execution_count": 2,
   "metadata": {},
   "outputs": [],
   "source": [
    "from dotenv import load_dotenv\n",
    "from pydantic_ai import Agent\n",
    "from rich import print as pprint\n"
   ]
  },
  {
   "cell_type": "code",
   "execution_count": 3,
   "metadata": {},
   "outputs": [
    {
     "name": "stdout",
     "output_type": "stream",
     "text": [
      "An Orchestrator in an AI agent is a critical component that enables the agent to manage and execute multiple tasks, policies, or sub-agents efficiently and effectively. The Orchestrator is essentially a decision-making entity that coordinates with other components of the agent, allocating resources, and handling conflicts or dependencies between tasks.\n",
      "\n",
      "Here's a step-by-step explanation of how the Orchestrator runs functions in an AI agent:\n",
      "\n",
      "1. **Task Management**: The Orchestrator acts as a centralized task manager, responsible for identifying, prioritizing, and allocating tasks to different components of the agent.\n",
      "2. **Task Instantiation**: When a new task is identified, the Orchestrator instantiates a new task entity, which includes relevant information, such as input parameters, constraints, and dependencies.\n",
      "3. **Task Scheduling**: The Orchestrator schedules the task on the available resources, such as hardware or CPU time. It considers factors like task dependencies, resource allocation, and context switching.\n",
      "4. **Policy Enforcement**: If the agent is an off-policy actor, the Orchestrator enforces the agent's policy at the task level. This involves selecting a policy index, sampling from the policy distribution, and executing the selected action.\n",
      "5. **Transitions and Rewards**: The Orchestrator manages the agent's state transitions and rewards. When a task is executed, the Orchestrator receives the next state, rewards, and other relevant data, which are used to update the policy and improve the agent's performance.\n",
      "6. **Diversity and Generalization**: To maintain diversity and generalization, the Orchestrator can introduce random noise or perturbations into the policy during task execution.\n",
      "7. **Conflict Resolution**: In situations where tasks have conflicting requirements or priorities, the Orchestrator seeks to resolve the conflict by selecting the most critical task or dividing the conflicting tasks into sub-tasks.\n",
      "\n",
      "The Orchestrator is allowed to execute functions by leveraging several mechanisms:\n",
      "\n",
      "1. **Message Passing**: The Orchestrator communicates with other components, such as agents or sub-agents, through message queues or shared memory.\n",
      "2. **Callback Functions**: The Orchestrator can register callback functions with other components to receive notifications and updates.\n",
      "3. **APIs and Interfaces**: The Orchestrator interacts with other components through APIs (Application Programming Interfaces) or well-defined interfaces, allowing for explicit and controlled communication.\n",
      "4. **Event Loop**: The Orchestrator can utilize event loops to handle incoming events, such as new tasks, state transitions, or rewards, and respond accordingly.\n",
      "5. **Threading or Multiprocessing**: The Orchestrator can exploit parallelism by leveraging multiple threads or processes to execute tasks concurrently, ensuring efficient resource utilization and scalability.\n",
      "\n",
      "These mechanisms enable the Orchestrator to efficiently manage and execute multiple tasks in an AI agent, ensuring optimal performance and adaptability in complex and dynamic environments.\n"
     ]
    }
   ],
   "source": [
    "load_dotenv()\n",
    "\n",
    "agent = Agent('groq:llama-3.2-3b-preview', system_prompt='Be Descriptive.')\n",
    "\n",
    "result = agent.run_sync('How does   orchestrator in ai agent run function .How is it allowed to do so' \n",
    "                        )\n",
    "print(result.data)\n"
   ]
  },
  {
   "cell_type": "code",
   "execution_count": 40,
   "metadata": {},
   "outputs": [
    {
     "ename": "SyntaxError",
     "evalue": "expected ':' (1278878362.py, line 14)",
     "output_type": "error",
     "traceback": [
      "\u001b[1;36m  Cell \u001b[1;32mIn[40], line 14\u001b[1;36m\u001b[0m\n\u001b[1;33m    async def roulette_wheel(ctx:RunContext[int])\u001b[0m\n\u001b[1;37m                                                 ^\u001b[0m\n\u001b[1;31mSyntaxError\u001b[0m\u001b[1;31m:\u001b[0m expected ':'\n"
     ]
    }
   ],
   "source": [
    "from pydantic_ai import Agent, RunContext\n",
    "\n",
    "roulette_agent = Agent(\n",
    "    'groq:llama-3.2-3b-preview',\n",
    "    deps_type=int,\n",
    "    result_type=bool,\n",
    "    system_prompt=(\n",
    "        \"Use the 'roulette_wheel' function to see if the \"\n",
    "        \"customer has won based on the number they provided\"\n",
    "    )\n",
    ")\n",
    "\n",
    "@roulette_agent.tool\n",
    "async def roulette_wheel(ctx:RunContext[int])"
   ]
  },
  {
   "cell_type": "code",
   "execution_count": 93,
   "metadata": {},
   "outputs": [
    {
     "name": "stdout",
     "output_type": "stream",
     "text": [
      "RunResult(_all_messages=[ModelRequest(parts=[SystemPromptPart(content=\"Use the customer's name while replying to them\", part_kind='system-prompt'), SystemPromptPart(content='The user name is Frank', part_kind='system-prompt'), SystemPromptPart(content='The date is 2024-12-30', part_kind='system-prompt'), UserPromptPart(content='What is the date', timestamp=datetime.datetime(2024, 12, 30, 18, 17, 29, 831408, tzinfo=datetime.timezone.utc), part_kind='user-prompt')], kind='request'), ModelResponse(parts=[TextPart(content='Happy New Year, Frank, \\n\\nThe current date is December 30th, 2024.', part_kind='text')], timestamp=datetime.datetime(2024, 12, 30, 18, 17, 35, tzinfo=datetime.timezone.utc), kind='response')], _new_message_index=0, data='Happy New Year, Frank, \\n\\nThe current date is December 30th, 2024.', _usage=Usage(requests=1, request_tokens=66, response_tokens=21, total_tokens=87, details=None))\n",
      "Happy New Year, Frank, \n",
      "\n",
      "The current date is December 30th, 2024.\n"
     ]
    }
   ],
   "source": [
    "from datetime import date\n",
    "\n",
    "from pydantic_ai import Agent ,RunContext\n",
    "\n",
    "\n",
    "agent = Agent(\n",
    "    'groq:llama-3.2-3b-preview',\n",
    "    deps_type=str,  #The agent expects a string dependency.\n",
    "    system_prompt=\"Use the customer's name while replying to them\"\n",
    ")\n",
    "\n",
    "@agent.system_prompt\n",
    "def add_the_users_name(ctx:RunContext[str]) -> str:\n",
    "    return f\"The user name is {ctx.deps}\"\n",
    "\n",
    "@agent.system_prompt\n",
    "def add_the_data() ->str:\n",
    "    return f\"The date is {date.today()}\"\n",
    "\n",
    "#they're appended in the order they're defined at runtime.\n",
    "\n",
    "result = agent.run_sync('What is the date', deps=\"Frank\")\n",
    "print(result)\n",
    "print(result.data)"
   ]
  },
  {
   "cell_type": "code",
   "execution_count": 92,
   "metadata": {},
   "outputs": [
    {
     "data": {
      "text/html": [
       "<pre style=\"white-space:pre;overflow-x:auto;line-height:normal;font-family:Menlo,'DejaVu Sans Mono',consolas,'Courier New',monospace\"><span style=\"font-weight: bold\">&lt;</span><span style=\"color: #808000; text-decoration-color: #808000; font-weight: bold\">function</span><span style=\"color: #000000; text-decoration-color: #000000\">=</span><span style=\"color: #800080; text-decoration-color: #800080; font-weight: bold\">get_user_by_id</span><span style=\"color: #000000; text-decoration-color: #000000; font-weight: bold\">({</span><span style=\"color: #008000; text-decoration-color: #008000\">\"name\"</span><span style=\"color: #000000; text-decoration-color: #000000\">: </span><span style=\"color: #008000; text-decoration-color: #008000\">\"0\"</span><span style=\"color: #000000; text-decoration-color: #000000; font-weight: bold\">})</span><span style=\"color: #000000; text-decoration-color: #000000\">&lt;</span><span style=\"color: #800080; text-decoration-color: #800080\">/</span><span style=\"color: #ff00ff; text-decoration-color: #ff00ff\">function</span><span style=\"font-weight: bold\">&gt;</span>\n",
       "</pre>\n"
      ],
      "text/plain": [
       "\u001b[1m<\u001b[0m\u001b[1;33mfunction\u001b[0m\u001b[39m=\u001b[0m\u001b[1;35mget_user_by_id\u001b[0m\u001b[1;39m(\u001b[0m\u001b[1;39m{\u001b[0m\u001b[32m\"name\"\u001b[0m\u001b[39m: \u001b[0m\u001b[32m\"0\"\u001b[0m\u001b[1;39m}\u001b[0m\u001b[1;39m)\u001b[0m\u001b[39m<\u001b[0m\u001b[35m/\u001b[0m\u001b[95mfunction\u001b[0m\u001b[1m>\u001b[0m\n"
      ]
     },
     "metadata": {},
     "output_type": "display_data"
    }
   ],
   "source": [
    "from pydantic import BaseModel\n",
    "\n",
    "from pydantic_ai import Agent ,RunContext,ModelRetry,UnexpectedModelBehavior\n",
    "from rich import print as pprint\n",
    "\n",
    "class ChatResult(BaseModel):\n",
    "    user_id:int\n",
    "    message:str\n",
    "\n",
    "agent =Agent(\n",
    "    'groq:llama-3.1-70b-versatile',\n",
    "    #result_type=ChatResult\n",
    ")\n",
    "\n",
    "\n",
    "@agent.tool(retries = 2)\n",
    "def get_user_by_id(ctx:RunContext[int],name:str)->int:\n",
    "    \"Returns the provided id\"\n",
    "    user_id = ctx.deps; \n",
    "\n",
    "    if(user_id == 0):\n",
    "        raise ModelRetry(\n",
    "            \"Please try again.\"\n",
    "        )\n",
    "    return user_id\n",
    "\n",
    "try:\n",
    "    result = agent.run_sync(\n",
    "    \"Use the provided tool and if id is 0 retry running the tool.Don't give random userid\",deps=0)\n",
    "\n",
    "except UnexpectedModelBehavior as e:\n",
    "    print('An error occured:',e)\n",
    "    print('cause:',repr(e.__cause__))\n",
    "else:\n",
    "    pprint(result.data)\n",
    "\n",
    "\n"
   ]
  },
  {
   "cell_type": "code",
   "execution_count": null,
   "metadata": {},
   "outputs": [],
   "source": []
  },
  {
   "cell_type": "code",
   "execution_count": 44,
   "metadata": {},
   "outputs": [
    {
     "name": "stdout",
     "output_type": "stream",
     "text": [
      "An error occured: Tool exceeded max retries count of 1\n",
      "cause: ModelRetry('Please try again.')\n"
     ]
    }
   ],
   "source": [
    "from pydantic_ai import Agent,ModelRetry,UnexpectedModelBehavior\n",
    "from rich import print as pprint\n",
    "agent = Agent(\"groq:llama-3.1-70b-versatile\",\n",
    "              \n",
    "              system_prompt=\"\"\"You are an calcualtor which uses \n",
    "              the provided tools to perform calculation.Follow\n",
    "              the instructions when i provided them and do as \n",
    "              said\n",
    "              \"\"\"\n",
    "              )\n",
    "\n",
    "@agent.tool_plain\n",
    "def calc_volume(size: int) -> int:  \n",
    "    if size == 42:\n",
    "        return size**3\n",
    "    else:\n",
    "        raise ModelRetry('Please try again.')\n",
    "\n",
    "try:\n",
    "    result = agent.run_sync('please get me the volume of a box with size 3 with tool i provided')\n",
    "\n",
    "except UnexpectedModelBehavior as e:\n",
    "    print('An error occured:',e)\n",
    "    print('cause:',repr(e.__cause__))\n",
    "else:\n",
    "    pprint(result)\n",
    "\n",
    "\n",
    "\n"
   ]
  },
  {
   "cell_type": "code",
   "execution_count": null,
   "metadata": {},
   "outputs": [],
   "source": []
  },
  {
   "cell_type": "code",
   "execution_count": 94,
   "metadata": {},
   "outputs": [],
   "source": [
    "import random\n",
    "\n",
    "from pydantic_ai import Agent,RunContext\n",
    "\n",
    "@agent.tool_plain\n",
    "def roll_die() -> str:\n",
    "    \"Roll a six-sided die and return the result\"\n",
    "    return str(random.randint)\n",
    "\n",
    "@agent.tool\n",
    "def get_player_name(ctx:RunContext[str])-> str:\n",
    "    \"\"\"Get the player's name\"\"\"  \n",
    "    return ctx.deps\n",
    "\n",
    "\n",
    "agent = Agent(\n",
    "    \"groq:llama-3.2-3b-preview\",\n",
    "    deps_type=str,\n",
    "    system_prompt=(\n",
    "        \"You're a dice game , you should roll the die and see if the number\"\n",
    "        \"you get back matches with user's guess . If so , tell them they are a winner\"\n",
    "        \"Use the player's name in the response\"\n",
    "    )\n",
    ")\n",
    "\n",
    "\n",
    "dice_result = agent.run_sync(\"My guesss is 4\", deps=\"Elnora\")  \n"
   ]
  },
  {
   "cell_type": "code",
   "execution_count": 96,
   "metadata": {},
   "outputs": [
    {
     "name": "stdout",
     "output_type": "stream",
     "text": [
      "Let's roll the die... \n",
      "\n",
      "Rolling... \n",
      "\n",
      "The result is... **3**\n",
      "\n",
      "Unfortunately, it doesn't match your guess. Better luck next time.\n",
      "\n",
      "How about trying again?\n"
     ]
    },
    {
     "data": {
      "text/html": [
       "<pre style=\"white-space:pre;overflow-x:auto;line-height:normal;font-family:Menlo,'DejaVu Sans Mono',consolas,'Courier New',monospace\"><span style=\"color: #800080; text-decoration-color: #800080; font-weight: bold\">RunResult</span><span style=\"font-weight: bold\">(</span>\n",
       "    <span style=\"color: #808000; text-decoration-color: #808000\">_all_messages</span>=<span style=\"font-weight: bold\">[</span>\n",
       "        <span style=\"color: #800080; text-decoration-color: #800080; font-weight: bold\">ModelRequest</span><span style=\"font-weight: bold\">(</span>\n",
       "            <span style=\"color: #808000; text-decoration-color: #808000\">parts</span>=<span style=\"font-weight: bold\">[</span>\n",
       "                <span style=\"color: #800080; text-decoration-color: #800080; font-weight: bold\">SystemPromptPart</span><span style=\"font-weight: bold\">(</span>\n",
       "                    <span style=\"color: #808000; text-decoration-color: #808000\">content</span>=<span style=\"color: #008000; text-decoration-color: #008000\">\"You're a dice game , you should roll the die and see if the numberyou get back matches</span>\n",
       "<span style=\"color: #008000; text-decoration-color: #008000\">with user's guess . If so , tell them they are a winnerUse the player's name in the response\"</span>,\n",
       "                    <span style=\"color: #808000; text-decoration-color: #808000\">part_kind</span>=<span style=\"color: #008000; text-decoration-color: #008000\">'system-prompt'</span>\n",
       "                <span style=\"font-weight: bold\">)</span>,\n",
       "                <span style=\"color: #800080; text-decoration-color: #800080; font-weight: bold\">UserPromptPart</span><span style=\"font-weight: bold\">(</span>\n",
       "                    <span style=\"color: #808000; text-decoration-color: #808000\">content</span>=<span style=\"color: #008000; text-decoration-color: #008000\">'My guesss is 4'</span>,\n",
       "                    <span style=\"color: #808000; text-decoration-color: #808000\">timestamp</span>=<span style=\"color: #800080; text-decoration-color: #800080; font-weight: bold\">datetime</span><span style=\"color: #800080; text-decoration-color: #800080; font-weight: bold\">.datetime</span><span style=\"font-weight: bold\">(</span><span style=\"color: #008080; text-decoration-color: #008080; font-weight: bold\">2024</span>, <span style=\"color: #008080; text-decoration-color: #008080; font-weight: bold\">12</span>, <span style=\"color: #008080; text-decoration-color: #008080; font-weight: bold\">30</span>, <span style=\"color: #008080; text-decoration-color: #008080; font-weight: bold\">18</span>, <span style=\"color: #008080; text-decoration-color: #008080; font-weight: bold\">17</span>, <span style=\"color: #008080; text-decoration-color: #008080; font-weight: bold\">55</span>, <span style=\"color: #008080; text-decoration-color: #008080; font-weight: bold\">185199</span>, <span style=\"color: #808000; text-decoration-color: #808000\">tzinfo</span>=<span style=\"color: #800080; text-decoration-color: #800080\">datetime</span>.timezone.utc<span style=\"font-weight: bold\">)</span>,\n",
       "                    <span style=\"color: #808000; text-decoration-color: #808000\">part_kind</span>=<span style=\"color: #008000; text-decoration-color: #008000\">'user-prompt'</span>\n",
       "                <span style=\"font-weight: bold\">)</span>\n",
       "            <span style=\"font-weight: bold\">]</span>,\n",
       "            <span style=\"color: #808000; text-decoration-color: #808000\">kind</span>=<span style=\"color: #008000; text-decoration-color: #008000\">'request'</span>\n",
       "        <span style=\"font-weight: bold\">)</span>,\n",
       "        <span style=\"color: #800080; text-decoration-color: #800080; font-weight: bold\">ModelResponse</span><span style=\"font-weight: bold\">(</span>\n",
       "            <span style=\"color: #808000; text-decoration-color: #808000\">parts</span>=<span style=\"font-weight: bold\">[</span>\n",
       "                <span style=\"color: #800080; text-decoration-color: #800080; font-weight: bold\">TextPart</span><span style=\"font-weight: bold\">(</span>\n",
       "                    <span style=\"color: #808000; text-decoration-color: #808000\">content</span>=<span style=\"color: #008000; text-decoration-color: #008000\">\"Let's roll the die... \\n\\nRolling... \\n\\nThe result is... **3**\\n\\nUnfortunately, it </span>\n",
       "<span style=\"color: #008000; text-decoration-color: #008000\">doesn't match your guess. Better luck next time.\\n\\nHow about trying again?\"</span>,\n",
       "                    <span style=\"color: #808000; text-decoration-color: #808000\">part_kind</span>=<span style=\"color: #008000; text-decoration-color: #008000\">'text'</span>\n",
       "                <span style=\"font-weight: bold\">)</span>\n",
       "            <span style=\"font-weight: bold\">]</span>,\n",
       "            <span style=\"color: #808000; text-decoration-color: #808000\">timestamp</span>=<span style=\"color: #800080; text-decoration-color: #800080; font-weight: bold\">datetime</span><span style=\"color: #800080; text-decoration-color: #800080; font-weight: bold\">.datetime</span><span style=\"font-weight: bold\">(</span><span style=\"color: #008080; text-decoration-color: #008080; font-weight: bold\">2024</span>, <span style=\"color: #008080; text-decoration-color: #008080; font-weight: bold\">12</span>, <span style=\"color: #008080; text-decoration-color: #008080; font-weight: bold\">30</span>, <span style=\"color: #008080; text-decoration-color: #008080; font-weight: bold\">18</span>, <span style=\"color: #008080; text-decoration-color: #008080; font-weight: bold\">18</span>, <span style=\"color: #008080; text-decoration-color: #008080; font-weight: bold\">1</span>, <span style=\"color: #808000; text-decoration-color: #808000\">tzinfo</span>=<span style=\"color: #800080; text-decoration-color: #800080\">datetime</span>.timezone.utc<span style=\"font-weight: bold\">)</span>,\n",
       "            <span style=\"color: #808000; text-decoration-color: #808000\">kind</span>=<span style=\"color: #008000; text-decoration-color: #008000\">'response'</span>\n",
       "        <span style=\"font-weight: bold\">)</span>\n",
       "    <span style=\"font-weight: bold\">]</span>,\n",
       "    <span style=\"color: #808000; text-decoration-color: #808000\">_new_message_index</span>=<span style=\"color: #008080; text-decoration-color: #008080; font-weight: bold\">0</span>,\n",
       "    <span style=\"color: #808000; text-decoration-color: #808000\">data</span>=<span style=\"color: #008000; text-decoration-color: #008000\">\"Let's roll the die... \\n\\nRolling... \\n\\nThe result is... **3**\\n\\nUnfortunately, it doesn't match your </span>\n",
       "<span style=\"color: #008000; text-decoration-color: #008000\">guess. Better luck next time.\\n\\nHow about trying again?\"</span>,\n",
       "    <span style=\"color: #808000; text-decoration-color: #808000\">_usage</span>=<span style=\"color: #800080; text-decoration-color: #800080; font-weight: bold\">Usage</span><span style=\"font-weight: bold\">(</span><span style=\"color: #808000; text-decoration-color: #808000\">requests</span>=<span style=\"color: #008080; text-decoration-color: #008080; font-weight: bold\">1</span>, <span style=\"color: #808000; text-decoration-color: #808000\">request_tokens</span>=<span style=\"color: #008080; text-decoration-color: #008080; font-weight: bold\">83</span>, <span style=\"color: #808000; text-decoration-color: #808000\">response_tokens</span>=<span style=\"color: #008080; text-decoration-color: #008080; font-weight: bold\">38</span>, <span style=\"color: #808000; text-decoration-color: #808000\">total_tokens</span>=<span style=\"color: #008080; text-decoration-color: #008080; font-weight: bold\">121</span>, <span style=\"color: #808000; text-decoration-color: #808000\">details</span>=<span style=\"color: #800080; text-decoration-color: #800080; font-style: italic\">None</span><span style=\"font-weight: bold\">)</span>\n",
       "<span style=\"font-weight: bold\">)</span>\n",
       "</pre>\n"
      ],
      "text/plain": [
       "\u001b[1;35mRunResult\u001b[0m\u001b[1m(\u001b[0m\n",
       "    \u001b[33m_all_messages\u001b[0m=\u001b[1m[\u001b[0m\n",
       "        \u001b[1;35mModelRequest\u001b[0m\u001b[1m(\u001b[0m\n",
       "            \u001b[33mparts\u001b[0m=\u001b[1m[\u001b[0m\n",
       "                \u001b[1;35mSystemPromptPart\u001b[0m\u001b[1m(\u001b[0m\n",
       "                    \u001b[33mcontent\u001b[0m=\u001b[32m\"You\u001b[0m\u001b[32m're a dice game , you should roll the die and see if the numberyou get back matches\u001b[0m\n",
       "\u001b[32mwith user's guess . If so , tell them they are a winnerUse the player's name in the response\"\u001b[0m,\n",
       "                    \u001b[33mpart_kind\u001b[0m=\u001b[32m'system-prompt'\u001b[0m\n",
       "                \u001b[1m)\u001b[0m,\n",
       "                \u001b[1;35mUserPromptPart\u001b[0m\u001b[1m(\u001b[0m\n",
       "                    \u001b[33mcontent\u001b[0m=\u001b[32m'My guesss is 4'\u001b[0m,\n",
       "                    \u001b[33mtimestamp\u001b[0m=\u001b[1;35mdatetime\u001b[0m\u001b[1;35m.datetime\u001b[0m\u001b[1m(\u001b[0m\u001b[1;36m2024\u001b[0m, \u001b[1;36m12\u001b[0m, \u001b[1;36m30\u001b[0m, \u001b[1;36m18\u001b[0m, \u001b[1;36m17\u001b[0m, \u001b[1;36m55\u001b[0m, \u001b[1;36m185199\u001b[0m, \u001b[33mtzinfo\u001b[0m=\u001b[35mdatetime\u001b[0m.timezone.utc\u001b[1m)\u001b[0m,\n",
       "                    \u001b[33mpart_kind\u001b[0m=\u001b[32m'user-prompt'\u001b[0m\n",
       "                \u001b[1m)\u001b[0m\n",
       "            \u001b[1m]\u001b[0m,\n",
       "            \u001b[33mkind\u001b[0m=\u001b[32m'request'\u001b[0m\n",
       "        \u001b[1m)\u001b[0m,\n",
       "        \u001b[1;35mModelResponse\u001b[0m\u001b[1m(\u001b[0m\n",
       "            \u001b[33mparts\u001b[0m=\u001b[1m[\u001b[0m\n",
       "                \u001b[1;35mTextPart\u001b[0m\u001b[1m(\u001b[0m\n",
       "                    \u001b[33mcontent\u001b[0m=\u001b[32m\"Let\u001b[0m\u001b[32m's roll the die... \\n\\nRolling... \\n\\nThe result is... **3**\\n\\nUnfortunately, it \u001b[0m\n",
       "\u001b[32mdoesn't match your guess. Better luck next time.\\n\\nHow about trying again?\"\u001b[0m,\n",
       "                    \u001b[33mpart_kind\u001b[0m=\u001b[32m'text'\u001b[0m\n",
       "                \u001b[1m)\u001b[0m\n",
       "            \u001b[1m]\u001b[0m,\n",
       "            \u001b[33mtimestamp\u001b[0m=\u001b[1;35mdatetime\u001b[0m\u001b[1;35m.datetime\u001b[0m\u001b[1m(\u001b[0m\u001b[1;36m2024\u001b[0m, \u001b[1;36m12\u001b[0m, \u001b[1;36m30\u001b[0m, \u001b[1;36m18\u001b[0m, \u001b[1;36m18\u001b[0m, \u001b[1;36m1\u001b[0m, \u001b[33mtzinfo\u001b[0m=\u001b[35mdatetime\u001b[0m.timezone.utc\u001b[1m)\u001b[0m,\n",
       "            \u001b[33mkind\u001b[0m=\u001b[32m'response'\u001b[0m\n",
       "        \u001b[1m)\u001b[0m\n",
       "    \u001b[1m]\u001b[0m,\n",
       "    \u001b[33m_new_message_index\u001b[0m=\u001b[1;36m0\u001b[0m,\n",
       "    \u001b[33mdata\u001b[0m=\u001b[32m\"Let\u001b[0m\u001b[32m's roll the die... \\n\\nRolling... \\n\\nThe result is... **3**\\n\\nUnfortunately, it doesn't match your \u001b[0m\n",
       "\u001b[32mguess. Better luck next time.\\n\\nHow about trying again?\"\u001b[0m,\n",
       "    \u001b[33m_usage\u001b[0m=\u001b[1;35mUsage\u001b[0m\u001b[1m(\u001b[0m\u001b[33mrequests\u001b[0m=\u001b[1;36m1\u001b[0m, \u001b[33mrequest_tokens\u001b[0m=\u001b[1;36m83\u001b[0m, \u001b[33mresponse_tokens\u001b[0m=\u001b[1;36m38\u001b[0m, \u001b[33mtotal_tokens\u001b[0m=\u001b[1;36m121\u001b[0m, \u001b[33mdetails\u001b[0m=\u001b[3;35mNone\u001b[0m\u001b[1m)\u001b[0m\n",
       "\u001b[1m)\u001b[0m\n"
      ]
     },
     "metadata": {},
     "output_type": "display_data"
    }
   ],
   "source": [
    "print(dice_result.data)\n",
    "pprint(dice_result)\n"
   ]
  },
  {
   "cell_type": "code",
   "execution_count": 9,
   "metadata": {},
   "outputs": [
    {
     "name": "stdout",
     "output_type": "stream",
     "text": [
      "Requirement already satisfied: rich in c:\\users\\rupak\\onedrive\\documents\\agents2\\venv\\lib\\site-packages (13.9.4)\n",
      "Requirement already satisfied: markdown-it-py>=2.2.0 in c:\\users\\rupak\\onedrive\\documents\\agents2\\venv\\lib\\site-packages (from rich) (3.0.0)\n",
      "Requirement already satisfied: pygments<3.0.0,>=2.13.0 in c:\\users\\rupak\\onedrive\\documents\\agents2\\venv\\lib\\site-packages (from rich) (2.18.0)\n",
      "Requirement already satisfied: mdurl~=0.1 in c:\\users\\rupak\\onedrive\\documents\\agents2\\venv\\lib\\site-packages (from markdown-it-py>=2.2.0->rich) (0.1.2)\n"
     ]
    }
   ],
   "source": [
    "!pip install rich"
   ]
  },
  {
   "cell_type": "code",
   "execution_count": 12,
   "metadata": {},
   "outputs": [
    {
     "data": {
      "text/html": [
       "<pre style=\"white-space:pre;overflow-x:auto;line-height:normal;font-family:Menlo,'DejaVu Sans Mono',consolas,'Courier New',monospace\"><span style=\"color: #800080; text-decoration-color: #800080; font-weight: bold\">RunResult</span><span style=\"font-weight: bold\">(</span>\n",
       "    <span style=\"color: #808000; text-decoration-color: #808000\">_all_messages</span>=<span style=\"font-weight: bold\">[</span>\n",
       "        <span style=\"color: #800080; text-decoration-color: #800080; font-weight: bold\">ModelRequest</span><span style=\"font-weight: bold\">(</span>\n",
       "            <span style=\"color: #808000; text-decoration-color: #808000\">parts</span>=<span style=\"font-weight: bold\">[</span>\n",
       "                <span style=\"color: #800080; text-decoration-color: #800080; font-weight: bold\">SystemPromptPart</span><span style=\"font-weight: bold\">(</span><span style=\"color: #808000; text-decoration-color: #808000\">content</span>=<span style=\"color: #008000; text-decoration-color: #008000\">'Be Descriptive.'</span>, <span style=\"color: #808000; text-decoration-color: #808000\">part_kind</span>=<span style=\"color: #008000; text-decoration-color: #008000\">'system-prompt'</span><span style=\"font-weight: bold\">)</span>,\n",
       "                <span style=\"color: #800080; text-decoration-color: #800080; font-weight: bold\">UserPromptPart</span><span style=\"font-weight: bold\">(</span>\n",
       "                    <span style=\"color: #808000; text-decoration-color: #808000\">content</span>=<span style=\"color: #008000; text-decoration-color: #008000\">'My guesss is 4'</span>,\n",
       "                    <span style=\"color: #808000; text-decoration-color: #808000\">timestamp</span>=<span style=\"color: #800080; text-decoration-color: #800080; font-weight: bold\">datetime</span><span style=\"color: #800080; text-decoration-color: #800080; font-weight: bold\">.datetime</span><span style=\"font-weight: bold\">(</span><span style=\"color: #008080; text-decoration-color: #008080; font-weight: bold\">2024</span>, <span style=\"color: #008080; text-decoration-color: #008080; font-weight: bold\">12</span>, <span style=\"color: #008080; text-decoration-color: #008080; font-weight: bold\">30</span>, <span style=\"color: #008080; text-decoration-color: #008080; font-weight: bold\">15</span>, <span style=\"color: #008080; text-decoration-color: #008080; font-weight: bold\">11</span>, <span style=\"color: #008080; text-decoration-color: #008080; font-weight: bold\">43</span>, <span style=\"color: #008080; text-decoration-color: #008080; font-weight: bold\">306476</span>, <span style=\"color: #808000; text-decoration-color: #808000\">tzinfo</span>=<span style=\"color: #800080; text-decoration-color: #800080\">datetime</span>.timezone.utc<span style=\"font-weight: bold\">)</span>,\n",
       "                    <span style=\"color: #808000; text-decoration-color: #808000\">part_kind</span>=<span style=\"color: #008000; text-decoration-color: #008000\">'user-prompt'</span>\n",
       "                <span style=\"font-weight: bold\">)</span>\n",
       "            <span style=\"font-weight: bold\">]</span>,\n",
       "            <span style=\"color: #808000; text-decoration-color: #808000\">kind</span>=<span style=\"color: #008000; text-decoration-color: #008000\">'request'</span>\n",
       "        <span style=\"font-weight: bold\">)</span>,\n",
       "        <span style=\"color: #800080; text-decoration-color: #800080; font-weight: bold\">ModelResponse</span><span style=\"font-weight: bold\">(</span>\n",
       "            <span style=\"color: #808000; text-decoration-color: #808000\">parts</span>=<span style=\"font-weight: bold\">[</span>\n",
       "                <span style=\"color: #800080; text-decoration-color: #800080; font-weight: bold\">TextPart</span><span style=\"font-weight: bold\">(</span>\n",
       "                    <span style=\"color: #808000; text-decoration-color: #808000\">content</span>=<span style=\"color: #008000; text-decoration-color: #008000\">\"That's an interesting guess, but I'm not sure what we're referring to. Can you please </span>\n",
       "<span style=\"color: #008000; text-decoration-color: #008000\">provide more context or information about what you're trying to guess?\"</span>,\n",
       "                    <span style=\"color: #808000; text-decoration-color: #808000\">part_kind</span>=<span style=\"color: #008000; text-decoration-color: #008000\">'text'</span>\n",
       "                <span style=\"font-weight: bold\">)</span>\n",
       "            <span style=\"font-weight: bold\">]</span>,\n",
       "            <span style=\"color: #808000; text-decoration-color: #808000\">timestamp</span>=<span style=\"color: #800080; text-decoration-color: #800080; font-weight: bold\">datetime</span><span style=\"color: #800080; text-decoration-color: #800080; font-weight: bold\">.datetime</span><span style=\"font-weight: bold\">(</span><span style=\"color: #008080; text-decoration-color: #008080; font-weight: bold\">2024</span>, <span style=\"color: #008080; text-decoration-color: #008080; font-weight: bold\">12</span>, <span style=\"color: #008080; text-decoration-color: #008080; font-weight: bold\">30</span>, <span style=\"color: #008080; text-decoration-color: #008080; font-weight: bold\">15</span>, <span style=\"color: #008080; text-decoration-color: #008080; font-weight: bold\">11</span>, <span style=\"color: #008080; text-decoration-color: #008080; font-weight: bold\">50</span>, <span style=\"color: #808000; text-decoration-color: #808000\">tzinfo</span>=<span style=\"color: #800080; text-decoration-color: #800080\">datetime</span>.timezone.utc<span style=\"font-weight: bold\">)</span>,\n",
       "            <span style=\"color: #808000; text-decoration-color: #808000\">kind</span>=<span style=\"color: #008000; text-decoration-color: #008000\">'response'</span>\n",
       "        <span style=\"font-weight: bold\">)</span>\n",
       "    <span style=\"font-weight: bold\">]</span>,\n",
       "    <span style=\"color: #808000; text-decoration-color: #808000\">_new_message_index</span>=<span style=\"color: #008080; text-decoration-color: #008080; font-weight: bold\">0</span>,\n",
       "    <span style=\"color: #808000; text-decoration-color: #808000\">data</span>=<span style=\"color: #008000; text-decoration-color: #008000\">\"That's an interesting guess, but I'm not sure what we're referring to. Can you please provide more </span>\n",
       "<span style=\"color: #008000; text-decoration-color: #008000\">context or information about what you're trying to guess?\"</span>,\n",
       "    <span style=\"color: #808000; text-decoration-color: #808000\">_usage</span>=<span style=\"color: #800080; text-decoration-color: #800080; font-weight: bold\">Usage</span><span style=\"font-weight: bold\">(</span><span style=\"color: #808000; text-decoration-color: #808000\">requests</span>=<span style=\"color: #008080; text-decoration-color: #008080; font-weight: bold\">1</span>, <span style=\"color: #808000; text-decoration-color: #808000\">request_tokens</span>=<span style=\"color: #008080; text-decoration-color: #008080; font-weight: bold\">45</span>, <span style=\"color: #808000; text-decoration-color: #808000\">response_tokens</span>=<span style=\"color: #008080; text-decoration-color: #008080; font-weight: bold\">34</span>, <span style=\"color: #808000; text-decoration-color: #808000\">total_tokens</span>=<span style=\"color: #008080; text-decoration-color: #008080; font-weight: bold\">79</span>, <span style=\"color: #808000; text-decoration-color: #808000\">details</span>=<span style=\"color: #800080; text-decoration-color: #800080; font-style: italic\">None</span><span style=\"font-weight: bold\">)</span>\n",
       "<span style=\"font-weight: bold\">)</span>\n",
       "</pre>\n"
      ],
      "text/plain": [
       "\u001b[1;35mRunResult\u001b[0m\u001b[1m(\u001b[0m\n",
       "    \u001b[33m_all_messages\u001b[0m=\u001b[1m[\u001b[0m\n",
       "        \u001b[1;35mModelRequest\u001b[0m\u001b[1m(\u001b[0m\n",
       "            \u001b[33mparts\u001b[0m=\u001b[1m[\u001b[0m\n",
       "                \u001b[1;35mSystemPromptPart\u001b[0m\u001b[1m(\u001b[0m\u001b[33mcontent\u001b[0m=\u001b[32m'Be Descriptive.'\u001b[0m, \u001b[33mpart_kind\u001b[0m=\u001b[32m'system-prompt'\u001b[0m\u001b[1m)\u001b[0m,\n",
       "                \u001b[1;35mUserPromptPart\u001b[0m\u001b[1m(\u001b[0m\n",
       "                    \u001b[33mcontent\u001b[0m=\u001b[32m'My guesss is 4'\u001b[0m,\n",
       "                    \u001b[33mtimestamp\u001b[0m=\u001b[1;35mdatetime\u001b[0m\u001b[1;35m.datetime\u001b[0m\u001b[1m(\u001b[0m\u001b[1;36m2024\u001b[0m, \u001b[1;36m12\u001b[0m, \u001b[1;36m30\u001b[0m, \u001b[1;36m15\u001b[0m, \u001b[1;36m11\u001b[0m, \u001b[1;36m43\u001b[0m, \u001b[1;36m306476\u001b[0m, \u001b[33mtzinfo\u001b[0m=\u001b[35mdatetime\u001b[0m.timezone.utc\u001b[1m)\u001b[0m,\n",
       "                    \u001b[33mpart_kind\u001b[0m=\u001b[32m'user-prompt'\u001b[0m\n",
       "                \u001b[1m)\u001b[0m\n",
       "            \u001b[1m]\u001b[0m,\n",
       "            \u001b[33mkind\u001b[0m=\u001b[32m'request'\u001b[0m\n",
       "        \u001b[1m)\u001b[0m,\n",
       "        \u001b[1;35mModelResponse\u001b[0m\u001b[1m(\u001b[0m\n",
       "            \u001b[33mparts\u001b[0m=\u001b[1m[\u001b[0m\n",
       "                \u001b[1;35mTextPart\u001b[0m\u001b[1m(\u001b[0m\n",
       "                    \u001b[33mcontent\u001b[0m=\u001b[32m\"That\u001b[0m\u001b[32m's an interesting guess, but I'm not sure what we're referring to. Can you please \u001b[0m\n",
       "\u001b[32mprovide more context or information about what you're trying to guess?\"\u001b[0m,\n",
       "                    \u001b[33mpart_kind\u001b[0m=\u001b[32m'text'\u001b[0m\n",
       "                \u001b[1m)\u001b[0m\n",
       "            \u001b[1m]\u001b[0m,\n",
       "            \u001b[33mtimestamp\u001b[0m=\u001b[1;35mdatetime\u001b[0m\u001b[1;35m.datetime\u001b[0m\u001b[1m(\u001b[0m\u001b[1;36m2024\u001b[0m, \u001b[1;36m12\u001b[0m, \u001b[1;36m30\u001b[0m, \u001b[1;36m15\u001b[0m, \u001b[1;36m11\u001b[0m, \u001b[1;36m50\u001b[0m, \u001b[33mtzinfo\u001b[0m=\u001b[35mdatetime\u001b[0m.timezone.utc\u001b[1m)\u001b[0m,\n",
       "            \u001b[33mkind\u001b[0m=\u001b[32m'response'\u001b[0m\n",
       "        \u001b[1m)\u001b[0m\n",
       "    \u001b[1m]\u001b[0m,\n",
       "    \u001b[33m_new_message_index\u001b[0m=\u001b[1;36m0\u001b[0m,\n",
       "    \u001b[33mdata\u001b[0m=\u001b[32m\"That\u001b[0m\u001b[32m's an interesting guess, but I'm not sure what we're referring to. Can you please provide more \u001b[0m\n",
       "\u001b[32mcontext or information about what you're trying to guess?\"\u001b[0m,\n",
       "    \u001b[33m_usage\u001b[0m=\u001b[1;35mUsage\u001b[0m\u001b[1m(\u001b[0m\u001b[33mrequests\u001b[0m=\u001b[1;36m1\u001b[0m, \u001b[33mrequest_tokens\u001b[0m=\u001b[1;36m45\u001b[0m, \u001b[33mresponse_tokens\u001b[0m=\u001b[1;36m34\u001b[0m, \u001b[33mtotal_tokens\u001b[0m=\u001b[1;36m79\u001b[0m, \u001b[33mdetails\u001b[0m=\u001b[3;35mNone\u001b[0m\u001b[1m)\u001b[0m\n",
       "\u001b[1m)\u001b[0m\n"
      ]
     },
     "metadata": {},
     "output_type": "display_data"
    }
   ],
   "source": [
    "from rich import print as pprint\n",
    "\n",
    "pprint(dice_result)"
   ]
  },
  {
   "cell_type": "code",
   "execution_count": 10,
   "metadata": {},
   "outputs": [],
   "source": [
    "import random\n",
    "\n",
    "from pydantic_ai import Agent,RunContext,Tool\n",
    "\n",
    "def roll_die() -> str:\n",
    "    \"Roll a six-sided die and return the result\"\n",
    "    return str(random.randint)\n",
    "\n",
    "def get_player_name(ctx:RunContext[str])-> str:\n",
    "    \"\"\"Get the player's name\"\"\"  \n",
    "    return ctx.deps\n",
    "dice_result = agent.run_sync(\"My guesss is 4\", deps=\"Elnora\")  \n",
    "\n",
    "agent = Agent(\n",
    "    \"groq:llama-3.2-3b-preview\",\n",
    "    deps_type=str,\n",
    "    system_prompt=(\n",
    "        \"You're a dice game , you should roll the die and see if the number\"\n",
    "        \"you get back matches with user's guess . If so , tell them they are a winner\"\n",
    "        \"Use the player's name in the response\"\n",
    "    ),\n",
    "\n",
    "    tools = [\n",
    "        Tool(roll_die,takes_ctx=False),\n",
    "        Tool(get_player_name,takes_ctx=True)\n",
    "    ]\n",
    ")\n",
    "\n",
    "\n"
   ]
  },
  {
   "cell_type": "code",
   "execution_count": 16,
   "metadata": {},
   "outputs": [
    {
     "data": {
      "text/html": [
       "<pre style=\"white-space:pre;overflow-x:auto;line-height:normal;font-family:Menlo,'DejaVu Sans Mono',consolas,'Courier New',monospace\">You rolled a <span style=\"color: #008080; text-decoration-color: #008080; font-weight: bold\">2</span>. Unfortunately, it doesn't match your guess, <span style=\"color: #008080; text-decoration-color: #008080; font-weight: bold\">4</span>. Better luck next time, Elnora!\n",
       "</pre>\n"
      ],
      "text/plain": [
       "You rolled a \u001b[1;36m2\u001b[0m. Unfortunately, it doesn't match your guess, \u001b[1;36m4\u001b[0m. Better luck next time, Elnora!\n"
      ]
     },
     "metadata": {},
     "output_type": "display_data"
    }
   ],
   "source": [
    "pprint(dice_result.data)"
   ]
  },
  {
   "cell_type": "code",
   "execution_count": 16,
   "metadata": {},
   "outputs": [
    {
     "data": {
      "text/html": [
       "<pre style=\"white-space:pre;overflow-x:auto;line-height:normal;font-family:Menlo,'DejaVu Sans Mono',consolas,'Courier New',monospace\">Get me foobar.\n",
       "</pre>\n"
      ],
      "text/plain": [
       "Get me foobar.\n"
      ]
     },
     "metadata": {},
     "output_type": "display_data"
    },
    {
     "data": {
      "text/html": [
       "<pre style=\"white-space:pre;overflow-x:auto;line-height:normal;font-family:Menlo,'DejaVu Sans Mono',consolas,'Courier New',monospace\"><span style=\"font-weight: bold\">{</span>\n",
       "    <span style=\"color: #008000; text-decoration-color: #008000\">'properties'</span>: <span style=\"font-weight: bold\">{</span>\n",
       "        <span style=\"color: #008000; text-decoration-color: #008000\">'a'</span>: <span style=\"font-weight: bold\">{</span><span style=\"color: #008000; text-decoration-color: #008000\">'description'</span>: <span style=\"color: #008000; text-decoration-color: #008000\">'apple pie'</span>, <span style=\"color: #008000; text-decoration-color: #008000\">'title'</span>: <span style=\"color: #008000; text-decoration-color: #008000\">'A'</span>, <span style=\"color: #008000; text-decoration-color: #008000\">'type'</span>: <span style=\"color: #008000; text-decoration-color: #008000\">'integer'</span><span style=\"font-weight: bold\">}</span>,\n",
       "        <span style=\"color: #008000; text-decoration-color: #008000\">'b'</span>: <span style=\"font-weight: bold\">{</span><span style=\"color: #008000; text-decoration-color: #008000\">'description'</span>: <span style=\"color: #008000; text-decoration-color: #008000\">'banana cake'</span>, <span style=\"color: #008000; text-decoration-color: #008000\">'title'</span>: <span style=\"color: #008000; text-decoration-color: #008000\">'B'</span>, <span style=\"color: #008000; text-decoration-color: #008000\">'type'</span>: <span style=\"color: #008000; text-decoration-color: #008000\">'string'</span><span style=\"font-weight: bold\">}</span>,\n",
       "        <span style=\"color: #008000; text-decoration-color: #008000\">'c'</span>: <span style=\"font-weight: bold\">{</span>\n",
       "            <span style=\"color: #008000; text-decoration-color: #008000\">'additionalProperties'</span>: <span style=\"font-weight: bold\">{</span><span style=\"color: #008000; text-decoration-color: #008000\">'items'</span>: <span style=\"font-weight: bold\">{</span><span style=\"color: #008000; text-decoration-color: #008000\">'type'</span>: <span style=\"color: #008000; text-decoration-color: #008000\">'number'</span><span style=\"font-weight: bold\">}</span>, <span style=\"color: #008000; text-decoration-color: #008000\">'type'</span>: <span style=\"color: #008000; text-decoration-color: #008000\">'array'</span><span style=\"font-weight: bold\">}</span>,\n",
       "            <span style=\"color: #008000; text-decoration-color: #008000\">'description'</span>: <span style=\"color: #008000; text-decoration-color: #008000\">'carrot smoothie'</span>,\n",
       "            <span style=\"color: #008000; text-decoration-color: #008000\">'title'</span>: <span style=\"color: #008000; text-decoration-color: #008000\">'C'</span>,\n",
       "            <span style=\"color: #008000; text-decoration-color: #008000\">'type'</span>: <span style=\"color: #008000; text-decoration-color: #008000\">'object'</span>\n",
       "        <span style=\"font-weight: bold\">}</span>\n",
       "    <span style=\"font-weight: bold\">}</span>,\n",
       "    <span style=\"color: #008000; text-decoration-color: #008000\">'required'</span>: <span style=\"font-weight: bold\">[</span><span style=\"color: #008000; text-decoration-color: #008000\">'a'</span>, <span style=\"color: #008000; text-decoration-color: #008000\">'b'</span>, <span style=\"color: #008000; text-decoration-color: #008000\">'c'</span><span style=\"font-weight: bold\">]</span>,\n",
       "    <span style=\"color: #008000; text-decoration-color: #008000\">'type'</span>: <span style=\"color: #008000; text-decoration-color: #008000\">'object'</span>,\n",
       "    <span style=\"color: #008000; text-decoration-color: #008000\">'additionalProperties'</span>: <span style=\"color: #ff0000; text-decoration-color: #ff0000; font-style: italic\">False</span>\n",
       "<span style=\"font-weight: bold\">}</span>\n",
       "</pre>\n"
      ],
      "text/plain": [
       "\u001b[1m{\u001b[0m\n",
       "    \u001b[32m'properties'\u001b[0m: \u001b[1m{\u001b[0m\n",
       "        \u001b[32m'a'\u001b[0m: \u001b[1m{\u001b[0m\u001b[32m'description'\u001b[0m: \u001b[32m'apple pie'\u001b[0m, \u001b[32m'title'\u001b[0m: \u001b[32m'A'\u001b[0m, \u001b[32m'type'\u001b[0m: \u001b[32m'integer'\u001b[0m\u001b[1m}\u001b[0m,\n",
       "        \u001b[32m'b'\u001b[0m: \u001b[1m{\u001b[0m\u001b[32m'description'\u001b[0m: \u001b[32m'banana cake'\u001b[0m, \u001b[32m'title'\u001b[0m: \u001b[32m'B'\u001b[0m, \u001b[32m'type'\u001b[0m: \u001b[32m'string'\u001b[0m\u001b[1m}\u001b[0m,\n",
       "        \u001b[32m'c'\u001b[0m: \u001b[1m{\u001b[0m\n",
       "            \u001b[32m'additionalProperties'\u001b[0m: \u001b[1m{\u001b[0m\u001b[32m'items'\u001b[0m: \u001b[1m{\u001b[0m\u001b[32m'type'\u001b[0m: \u001b[32m'number'\u001b[0m\u001b[1m}\u001b[0m, \u001b[32m'type'\u001b[0m: \u001b[32m'array'\u001b[0m\u001b[1m}\u001b[0m,\n",
       "            \u001b[32m'description'\u001b[0m: \u001b[32m'carrot smoothie'\u001b[0m,\n",
       "            \u001b[32m'title'\u001b[0m: \u001b[32m'C'\u001b[0m,\n",
       "            \u001b[32m'type'\u001b[0m: \u001b[32m'object'\u001b[0m\n",
       "        \u001b[1m}\u001b[0m\n",
       "    \u001b[1m}\u001b[0m,\n",
       "    \u001b[32m'required'\u001b[0m: \u001b[1m[\u001b[0m\u001b[32m'a'\u001b[0m, \u001b[32m'b'\u001b[0m, \u001b[32m'c'\u001b[0m\u001b[1m]\u001b[0m,\n",
       "    \u001b[32m'type'\u001b[0m: \u001b[32m'object'\u001b[0m,\n",
       "    \u001b[32m'additionalProperties'\u001b[0m: \u001b[3;91mFalse\u001b[0m\n",
       "\u001b[1m}\u001b[0m\n"
      ]
     },
     "metadata": {},
     "output_type": "display_data"
    },
    {
     "data": {
      "text/plain": [
       "RunResult(_all_messages=[ModelRequest(parts=[UserPromptPart(content='hello', timestamp=datetime.datetime(2024, 12, 30, 15, 16, 32, 731989, tzinfo=datetime.timezone.utc), part_kind='user-prompt')], kind='request'), ModelResponse(parts=[TextPart(content='foobar', part_kind='text')], timestamp=datetime.datetime(2024, 12, 30, 15, 16, 32, 739322, tzinfo=datetime.timezone.utc), kind='response')], _new_message_index=0, data='foobar', _usage=Usage(requests=1, request_tokens=51, response_tokens=1, total_tokens=52, details=None))"
      ]
     },
     "execution_count": 16,
     "metadata": {},
     "output_type": "execute_result"
    }
   ],
   "source": [
    "from pydantic_ai import Agent\n",
    "from pydantic_ai.messages import ModelMessage,ModelResponse\n",
    "from pydantic_ai.models.function import AgentInfo,FunctionModel\n",
    "\n",
    "agent = Agent()\n",
    "\n",
    "@agent.tool_plain\n",
    "def foobar(a:int , b:str , c: dict[str, list[float]])->str:\n",
    "    \"\"\"Get me foobar.\n",
    "\n",
    "    Args:\n",
    "        a: apple pie\n",
    "        b: banana cake\n",
    "        c: carrot smoothie\n",
    "    \"\"\"\n",
    "        \n",
    "    return f'{a} {b} {c}'\n",
    "\n",
    "def print_schema(messages:list[ModelMessage],info:AgentInfo)->ModelResponse:\n",
    "    tool = info.function_tools[0]\n",
    "    pprint(tool.description)\n",
    "    pprint(tool.parameters_json_schema)\n",
    "\n",
    "    return ModelResponse.from_text(content=\"foobar\")\n",
    "\n",
    "\n",
    "agent.run_sync('hello',model=FunctionModel(print_schema))"
   ]
  },
  {
   "cell_type": "code",
   "execution_count": 63,
   "metadata": {},
   "outputs": [
    {
     "data": {
      "text/html": [
       "<pre style=\"white-space:pre;overflow-x:auto;line-height:normal;font-family:Menlo,'DejaVu Sans Mono',consolas,'Courier New',monospace\"><span style=\"font-weight: bold\">{</span><span style=\"color: #008000; text-decoration-color: #008000\">\"foobar\"</span>:<span style=\"color: #008000; text-decoration-color: #008000\">\"x=0 y='a' z=3.14\"</span><span style=\"font-weight: bold\">}</span>\n",
       "</pre>\n"
      ],
      "text/plain": [
       "\u001b[1m{\u001b[0m\u001b[32m\"foobar\"\u001b[0m:\u001b[32m\"\u001b[0m\u001b[32mx\u001b[0m\u001b[32m=\u001b[0m\u001b[32m0\u001b[0m\u001b[32m \u001b[0m\u001b[32my\u001b[0m\u001b[32m='a' \u001b[0m\u001b[32mz\u001b[0m\u001b[32m=\u001b[0m\u001b[32m3\u001b[0m\u001b[32m.14\"\u001b[0m\u001b[1m}\u001b[0m\n"
      ]
     },
     "metadata": {},
     "output_type": "display_data"
    },
    {
     "data": {
      "text/html": [
       "<pre style=\"white-space:pre;overflow-x:auto;line-height:normal;font-family:Menlo,'DejaVu Sans Mono',consolas,'Courier New',monospace\"><span style=\"font-weight: bold\">[</span>\n",
       "    <span style=\"color: #800080; text-decoration-color: #800080; font-weight: bold\">ToolDefinition</span><span style=\"font-weight: bold\">(</span>\n",
       "        <span style=\"color: #808000; text-decoration-color: #808000\">name</span>=<span style=\"color: #008000; text-decoration-color: #008000\">'foobar'</span>,\n",
       "        <span style=\"color: #808000; text-decoration-color: #808000\">description</span>=<span style=\"color: #008000; text-decoration-color: #008000\">'This is foobar'</span>,\n",
       "        <span style=\"color: #808000; text-decoration-color: #808000\">parameters_json_schema</span>=<span style=\"font-weight: bold\">{</span>\n",
       "            <span style=\"color: #008000; text-decoration-color: #008000\">'properties'</span>: <span style=\"font-weight: bold\">{</span>\n",
       "                <span style=\"color: #008000; text-decoration-color: #008000\">'x'</span>: <span style=\"font-weight: bold\">{</span><span style=\"color: #008000; text-decoration-color: #008000\">'title'</span>: <span style=\"color: #008000; text-decoration-color: #008000\">'X'</span>, <span style=\"color: #008000; text-decoration-color: #008000\">'type'</span>: <span style=\"color: #008000; text-decoration-color: #008000\">'integer'</span><span style=\"font-weight: bold\">}</span>,\n",
       "                <span style=\"color: #008000; text-decoration-color: #008000\">'y'</span>: <span style=\"font-weight: bold\">{</span><span style=\"color: #008000; text-decoration-color: #008000\">'title'</span>: <span style=\"color: #008000; text-decoration-color: #008000\">'Y'</span>, <span style=\"color: #008000; text-decoration-color: #008000\">'type'</span>: <span style=\"color: #008000; text-decoration-color: #008000\">'string'</span><span style=\"font-weight: bold\">}</span>,\n",
       "                <span style=\"color: #008000; text-decoration-color: #008000\">'z'</span>: <span style=\"font-weight: bold\">{</span><span style=\"color: #008000; text-decoration-color: #008000\">'default'</span>: <span style=\"color: #008080; text-decoration-color: #008080; font-weight: bold\">3.14</span>, <span style=\"color: #008000; text-decoration-color: #008000\">'title'</span>: <span style=\"color: #008000; text-decoration-color: #008000\">'Z'</span>, <span style=\"color: #008000; text-decoration-color: #008000\">'type'</span>: <span style=\"color: #008000; text-decoration-color: #008000\">'number'</span><span style=\"font-weight: bold\">}</span>\n",
       "            <span style=\"font-weight: bold\">}</span>,\n",
       "            <span style=\"color: #008000; text-decoration-color: #008000\">'required'</span>: <span style=\"font-weight: bold\">[</span><span style=\"color: #008000; text-decoration-color: #008000\">'x'</span>, <span style=\"color: #008000; text-decoration-color: #008000\">'y'</span><span style=\"font-weight: bold\">]</span>,\n",
       "            <span style=\"color: #008000; text-decoration-color: #008000\">'title'</span>: <span style=\"color: #008000; text-decoration-color: #008000\">'Foobar'</span>,\n",
       "            <span style=\"color: #008000; text-decoration-color: #008000\">'type'</span>: <span style=\"color: #008000; text-decoration-color: #008000\">'object'</span>\n",
       "        <span style=\"font-weight: bold\">}</span>,\n",
       "        <span style=\"color: #808000; text-decoration-color: #808000\">outer_typed_dict_key</span>=<span style=\"color: #800080; text-decoration-color: #800080; font-style: italic\">None</span>\n",
       "    <span style=\"font-weight: bold\">)</span>\n",
       "<span style=\"font-weight: bold\">]</span>\n",
       "</pre>\n"
      ],
      "text/plain": [
       "\u001b[1m[\u001b[0m\n",
       "    \u001b[1;35mToolDefinition\u001b[0m\u001b[1m(\u001b[0m\n",
       "        \u001b[33mname\u001b[0m=\u001b[32m'foobar'\u001b[0m,\n",
       "        \u001b[33mdescription\u001b[0m=\u001b[32m'This is foobar'\u001b[0m,\n",
       "        \u001b[33mparameters_json_schema\u001b[0m=\u001b[1m{\u001b[0m\n",
       "            \u001b[32m'properties'\u001b[0m: \u001b[1m{\u001b[0m\n",
       "                \u001b[32m'x'\u001b[0m: \u001b[1m{\u001b[0m\u001b[32m'title'\u001b[0m: \u001b[32m'X'\u001b[0m, \u001b[32m'type'\u001b[0m: \u001b[32m'integer'\u001b[0m\u001b[1m}\u001b[0m,\n",
       "                \u001b[32m'y'\u001b[0m: \u001b[1m{\u001b[0m\u001b[32m'title'\u001b[0m: \u001b[32m'Y'\u001b[0m, \u001b[32m'type'\u001b[0m: \u001b[32m'string'\u001b[0m\u001b[1m}\u001b[0m,\n",
       "                \u001b[32m'z'\u001b[0m: \u001b[1m{\u001b[0m\u001b[32m'default'\u001b[0m: \u001b[1;36m3.14\u001b[0m, \u001b[32m'title'\u001b[0m: \u001b[32m'Z'\u001b[0m, \u001b[32m'type'\u001b[0m: \u001b[32m'number'\u001b[0m\u001b[1m}\u001b[0m\n",
       "            \u001b[1m}\u001b[0m,\n",
       "            \u001b[32m'required'\u001b[0m: \u001b[1m[\u001b[0m\u001b[32m'x'\u001b[0m, \u001b[32m'y'\u001b[0m\u001b[1m]\u001b[0m,\n",
       "            \u001b[32m'title'\u001b[0m: \u001b[32m'Foobar'\u001b[0m,\n",
       "            \u001b[32m'type'\u001b[0m: \u001b[32m'object'\u001b[0m\n",
       "        \u001b[1m}\u001b[0m,\n",
       "        \u001b[33mouter_typed_dict_key\u001b[0m=\u001b[3;35mNone\u001b[0m\n",
       "    \u001b[1m)\u001b[0m\n",
       "\u001b[1m]\u001b[0m\n"
      ]
     },
     "metadata": {},
     "output_type": "display_data"
    }
   ],
   "source": [
    "from pydantic import BaseModel\n",
    "\n",
    "from pydantic_ai import Agent\n",
    "from pydantic_ai.models.test  import TestModel\n",
    "\n",
    "agent =Agent()\n",
    "\n",
    "class Foobar(BaseModel):\n",
    "    \"This is foobar\"\n",
    "    x:int\n",
    "    y:str\n",
    "    z:float = 3.14\n",
    "\n",
    "@agent.tool_plain\n",
    "def foobar(f :Foobar) ->str:\n",
    "    return str(f)\n",
    "\n",
    "test_model =TestModel()\n",
    "\n",
    "result = agent.run_sync('hello',model=test_model)\n",
    "pprint(result.data)\n",
    "pprint(test_model.agent_model_function_tools)\n"
   ]
  },
  {
   "cell_type": "code",
   "execution_count": null,
   "metadata": {},
   "outputs": [],
   "source": [
    "from pydantic import BaseModel\n",
    "\n",
    "class Foobar(BaseModel):\n",
    "    \"This is foobar\"\n",
    "    x:int\n",
    "    y:str\n",
    "    z:float = 3.14\n",
    "\n",
    "def foobar(f :Foobar) ->str:\n",
    "    return str(f)"
   ]
  },
  {
   "cell_type": "code",
   "execution_count": 24,
   "metadata": {},
   "outputs": [
    {
     "data": {
      "text/html": [
       "<pre style=\"white-space:pre;overflow-x:auto;line-height:normal;font-family:Menlo,'DejaVu Sans Mono',consolas,'Courier New',monospace\">success <span style=\"font-weight: bold\">(</span>no tool calls<span style=\"font-weight: bold\">)</span>\n",
       "</pre>\n"
      ],
      "text/plain": [
       "success \u001b[1m(\u001b[0mno tool calls\u001b[1m)\u001b[0m\n"
      ]
     },
     "metadata": {},
     "output_type": "display_data"
    },
    {
     "data": {
      "text/html": [
       "<pre style=\"white-space:pre;overflow-x:auto;line-height:normal;font-family:Menlo,'DejaVu Sans Mono',consolas,'Courier New',monospace\"><span style=\"font-weight: bold\">{</span><span style=\"color: #008000; text-decoration-color: #008000\">\"hitchhiker\"</span>:<span style=\"color: #008000; text-decoration-color: #008000\">\"42 a\"</span><span style=\"font-weight: bold\">}</span>\n",
       "</pre>\n"
      ],
      "text/plain": [
       "\u001b[1m{\u001b[0m\u001b[32m\"hitchhiker\"\u001b[0m:\u001b[32m\"42 a\"\u001b[0m\u001b[1m}\u001b[0m\n"
      ]
     },
     "metadata": {},
     "output_type": "display_data"
    }
   ],
   "source": [
    "from typing import Union\n",
    "\n",
    "from pydantic_ai import Agent, RunContext\n",
    "from pydantic_ai.tools import ToolDefinition\n",
    "\n",
    "agent=Agent('test')\n",
    "\n",
    "async def only_if_42(\n",
    "        ctx:RunContext[int],\n",
    "        tool_def:ToolDefinition\n",
    ") -> Union[ToolDefinition,None]:\n",
    "    if ctx.deps == 42:\n",
    "        return tool_def\n",
    "\n",
    "@agent.tool(prepare=only_if_42) # calling only_if_42 to check mayve\n",
    "def hitchhiker(ctx:RunContext[int], answer:str) ->str:\n",
    "    return f'{ctx.deps} {answer}'\n",
    "\n",
    "result = agent.run_sync('testing ..',deps = 41)\n",
    "pprint(result.data)\n",
    "result = agent.run_sync('testing ..',deps = 42)\n",
    "pprint(result.data)"
   ]
  },
  {
   "cell_type": "code",
   "execution_count": 65,
   "metadata": {},
   "outputs": [
    {
     "name": "stdout",
     "output_type": "stream",
     "text": [
      "{\"greet\":\"hello a\"}\n"
     ]
    },
    {
     "data": {
      "text/html": [
       "<pre style=\"white-space:pre;overflow-x:auto;line-height:normal;font-family:Menlo,'DejaVu Sans Mono',consolas,'Courier New',monospace\"><span style=\"font-weight: bold\">[</span>\n",
       "    <span style=\"color: #800080; text-decoration-color: #800080; font-weight: bold\">ToolDefinition</span><span style=\"font-weight: bold\">(</span>\n",
       "        <span style=\"color: #808000; text-decoration-color: #808000\">name</span>=<span style=\"color: #008000; text-decoration-color: #008000\">'greet'</span>,\n",
       "        <span style=\"color: #808000; text-decoration-color: #808000\">description</span>=<span style=\"color: #008000; text-decoration-color: #008000\">''</span>,\n",
       "        <span style=\"color: #808000; text-decoration-color: #808000\">parameters_json_schema</span>=<span style=\"font-weight: bold\">{</span>\n",
       "            <span style=\"color: #008000; text-decoration-color: #008000\">'properties'</span>: <span style=\"font-weight: bold\">{</span>\n",
       "                <span style=\"color: #008000; text-decoration-color: #008000\">'name'</span>: <span style=\"font-weight: bold\">{</span><span style=\"color: #008000; text-decoration-color: #008000\">'title'</span>: <span style=\"color: #008000; text-decoration-color: #008000\">'Name'</span>, <span style=\"color: #008000; text-decoration-color: #008000\">'type'</span>: <span style=\"color: #008000; text-decoration-color: #008000\">'string'</span>, <span style=\"color: #008000; text-decoration-color: #008000\">'description'</span>: <span style=\"color: #008000; text-decoration-color: #008000\">'Name of the human to greet'</span><span style=\"font-weight: bold\">}</span>\n",
       "            <span style=\"font-weight: bold\">}</span>,\n",
       "            <span style=\"color: #008000; text-decoration-color: #008000\">'required'</span>: <span style=\"font-weight: bold\">[</span><span style=\"color: #008000; text-decoration-color: #008000\">'name'</span><span style=\"font-weight: bold\">]</span>,\n",
       "            <span style=\"color: #008000; text-decoration-color: #008000\">'type'</span>: <span style=\"color: #008000; text-decoration-color: #008000\">'object'</span>,\n",
       "            <span style=\"color: #008000; text-decoration-color: #008000\">'additionalProperties'</span>: <span style=\"color: #ff0000; text-decoration-color: #ff0000; font-style: italic\">False</span>\n",
       "        <span style=\"font-weight: bold\">}</span>,\n",
       "        <span style=\"color: #808000; text-decoration-color: #808000\">outer_typed_dict_key</span>=<span style=\"color: #800080; text-decoration-color: #800080; font-style: italic\">None</span>\n",
       "    <span style=\"font-weight: bold\">)</span>\n",
       "<span style=\"font-weight: bold\">]</span>\n",
       "</pre>\n"
      ],
      "text/plain": [
       "\u001b[1m[\u001b[0m\n",
       "    \u001b[1;35mToolDefinition\u001b[0m\u001b[1m(\u001b[0m\n",
       "        \u001b[33mname\u001b[0m=\u001b[32m'greet'\u001b[0m,\n",
       "        \u001b[33mdescription\u001b[0m=\u001b[32m''\u001b[0m,\n",
       "        \u001b[33mparameters_json_schema\u001b[0m=\u001b[1m{\u001b[0m\n",
       "            \u001b[32m'properties'\u001b[0m: \u001b[1m{\u001b[0m\n",
       "                \u001b[32m'name'\u001b[0m: \u001b[1m{\u001b[0m\u001b[32m'title'\u001b[0m: \u001b[32m'Name'\u001b[0m, \u001b[32m'type'\u001b[0m: \u001b[32m'string'\u001b[0m, \u001b[32m'description'\u001b[0m: \u001b[32m'Name of the human to greet'\u001b[0m\u001b[1m}\u001b[0m\n",
       "            \u001b[1m}\u001b[0m,\n",
       "            \u001b[32m'required'\u001b[0m: \u001b[1m[\u001b[0m\u001b[32m'name'\u001b[0m\u001b[1m]\u001b[0m,\n",
       "            \u001b[32m'type'\u001b[0m: \u001b[32m'object'\u001b[0m,\n",
       "            \u001b[32m'additionalProperties'\u001b[0m: \u001b[3;91mFalse\u001b[0m\n",
       "        \u001b[1m}\u001b[0m,\n",
       "        \u001b[33mouter_typed_dict_key\u001b[0m=\u001b[3;35mNone\u001b[0m\n",
       "    \u001b[1m)\u001b[0m\n",
       "\u001b[1m]\u001b[0m\n"
      ]
     },
     "metadata": {},
     "output_type": "display_data"
    }
   ],
   "source": [
    "from __future__ import annotations\n",
    "\n",
    "from typing import Literal\n",
    "\n",
    "from pydantic_ai import Agent,RunContext\n",
    "from pydantic_ai.models.test import TestModel\n",
    "from pydantic_ai.tools import Tool, ToolDefinition\n",
    "\n",
    "def greet(name:str)->str:\n",
    "    return f'hello {name}'\n",
    "\n",
    "async def prepare_greet(\n",
    "        ctx:RunContext[Literal['human','machine']],\n",
    "        tool_def:ToolDefinition,\n",
    ") ->ToolDefinition | None:\n",
    "    d= f'Name of the {ctx.deps} to greet'\n",
    "    tool_def.parameters_json_schema['properties']['name']['description'] =d\n",
    "    return tool_def\n",
    "\n",
    "greet_tool = Tool(greet,prepare=prepare_greet)\n",
    "\n",
    "test_model= TestModel()\n",
    "agent = Agent(test_model,tools =[greet_tool], deps_type=Literal['human','machine'])\n",
    "\n",
    "result = agent.run_sync('testing...',deps=\"human\")\n",
    "print(result.data)\n",
    "\n",
    "pprint(test_model.agent_model_function_tools)\n"
   ]
  },
  {
   "cell_type": "markdown",
   "metadata": {},
   "source": []
  },
  {
   "cell_type": "code",
   "execution_count": null,
   "metadata": {},
   "outputs": [],
   "source": [
    "from typing import Callable\n",
    "\n",
    "# Step 1: Define the 'prepare' function\n",
    "def only_if_42(ctx: int) -> bool:\n",
    "    \"\"\"\n",
    "    This function checks if the context is 42.\n",
    "    If the context is 42, the function allows the tool to run.\n",
    "    Otherwise, it prevents the tool from running.\n",
    "    \"\"\"\n",
    "    return ctx == 42\n",
    "\n",
    "# Step 2: Define the 'tool' decorator that accepts a 'prepare' argument\n",
    "def tool(prepare: Callable[[int], bool]):\n",
    "    def decorator(func: Callable):\n",
    "        def wrapper(ctx: int, *args, **kwargs):\n",
    "            # Step 3: Check if the prepare function allows execution\n",
    "            if prepare(ctx):\n",
    "                print(f\"Executing {func.__name__} with context: {ctx}\")\n",
    "                return func(ctx, *args, **kwargs)\n",
    "            else:\n",
    "                print(f\"Tool not applied because context ({ctx}) is not 42.\")\n",
    "                return None\n",
    "        return wrapper\n",
    "    return decorator\n",
    "\n",
    "# Step 4: Apply the 'tool' decorator to a function\n",
    "@tool(prepare=only_if_42)\n",
    "def hitchhiker(ctx: int, answer: str) -> str:\n",
    "    return f\"The answer is {answer}, and the context is {ctx}\"\n",
    "\n",
    "# Step 5: Run the function with different contexts\n",
    "\n",
    "# Test 1: When ctx is 41 (it should NOT execute)\n",
    "print(hitchhiker(41, \"Life\"))\n",
    "\n",
    "# Test 2: When ctx is 42 (it should execute)\n",
    "print(hitchhiker(42, \"Life\"))\n"
   ]
  },
  {
   "cell_type": "markdown",
   "metadata": {},
   "source": [
    "# Messages and chat history\n"
   ]
  },
  {
   "cell_type": "code",
   "execution_count": 66,
   "metadata": {},
   "outputs": [
    {
     "data": {
      "text/html": [
       "<pre style=\"white-space:pre;overflow-x:auto;line-height:normal;font-family:Menlo,'DejaVu Sans Mono',consolas,'Courier New',monospace\"><span style=\"color: #800080; text-decoration-color: #800080; font-weight: bold\">RunResult</span><span style=\"font-weight: bold\">(</span>\n",
       "    <span style=\"color: #808000; text-decoration-color: #808000\">_all_messages</span>=<span style=\"font-weight: bold\">[</span>\n",
       "        <span style=\"color: #800080; text-decoration-color: #800080; font-weight: bold\">ModelRequest</span><span style=\"font-weight: bold\">(</span>\n",
       "            <span style=\"color: #808000; text-decoration-color: #808000\">parts</span>=<span style=\"font-weight: bold\">[</span>\n",
       "                <span style=\"color: #800080; text-decoration-color: #800080; font-weight: bold\">SystemPromptPart</span><span style=\"font-weight: bold\">(</span><span style=\"color: #808000; text-decoration-color: #808000\">content</span>=<span style=\"color: #008000; text-decoration-color: #008000\">'Be a helpful assistant.'</span>, <span style=\"color: #808000; text-decoration-color: #808000\">part_kind</span>=<span style=\"color: #008000; text-decoration-color: #008000\">'system-prompt'</span><span style=\"font-weight: bold\">)</span>,\n",
       "                <span style=\"color: #800080; text-decoration-color: #800080; font-weight: bold\">UserPromptPart</span><span style=\"font-weight: bold\">(</span>\n",
       "                    <span style=\"color: #808000; text-decoration-color: #808000\">content</span>=<span style=\"color: #008000; text-decoration-color: #008000\">'Tell me a joke'</span>,\n",
       "                    <span style=\"color: #808000; text-decoration-color: #808000\">timestamp</span>=<span style=\"color: #800080; text-decoration-color: #800080; font-weight: bold\">datetime</span><span style=\"color: #800080; text-decoration-color: #800080; font-weight: bold\">.datetime</span><span style=\"font-weight: bold\">(</span><span style=\"color: #008080; text-decoration-color: #008080; font-weight: bold\">2024</span>, <span style=\"color: #008080; text-decoration-color: #008080; font-weight: bold\">12</span>, <span style=\"color: #008080; text-decoration-color: #008080; font-weight: bold\">30</span>, <span style=\"color: #008080; text-decoration-color: #008080; font-weight: bold\">17</span>, <span style=\"color: #008080; text-decoration-color: #008080; font-weight: bold\">28</span>, <span style=\"color: #008080; text-decoration-color: #008080; font-weight: bold\">25</span>, <span style=\"color: #008080; text-decoration-color: #008080; font-weight: bold\">603763</span>, <span style=\"color: #808000; text-decoration-color: #808000\">tzinfo</span>=<span style=\"color: #800080; text-decoration-color: #800080\">datetime</span>.timezone.utc<span style=\"font-weight: bold\">)</span>,\n",
       "                    <span style=\"color: #808000; text-decoration-color: #808000\">part_kind</span>=<span style=\"color: #008000; text-decoration-color: #008000\">'user-prompt'</span>\n",
       "                <span style=\"font-weight: bold\">)</span>\n",
       "            <span style=\"font-weight: bold\">]</span>,\n",
       "            <span style=\"color: #808000; text-decoration-color: #808000\">kind</span>=<span style=\"color: #008000; text-decoration-color: #008000\">'request'</span>\n",
       "        <span style=\"font-weight: bold\">)</span>,\n",
       "        <span style=\"color: #800080; text-decoration-color: #800080; font-weight: bold\">ModelResponse</span><span style=\"font-weight: bold\">(</span>\n",
       "            <span style=\"color: #808000; text-decoration-color: #808000\">parts</span>=<span style=\"font-weight: bold\">[</span>\n",
       "                <span style=\"color: #800080; text-decoration-color: #800080; font-weight: bold\">TextPart</span><span style=\"font-weight: bold\">(</span>\n",
       "                    <span style=\"color: #808000; text-decoration-color: #808000\">content</span>=<span style=\"color: #008000; text-decoration-color: #008000\">\"Here's one:\\n\\nWhy don't eggs tell jokes?\\n\\n(Wait for it...)\\n\\nBecause they'd crack </span>\n",
       "<span style=\"color: #008000; text-decoration-color: #008000\">each other up!\"</span>,\n",
       "                    <span style=\"color: #808000; text-decoration-color: #808000\">part_kind</span>=<span style=\"color: #008000; text-decoration-color: #008000\">'text'</span>\n",
       "                <span style=\"font-weight: bold\">)</span>\n",
       "            <span style=\"font-weight: bold\">]</span>,\n",
       "            <span style=\"color: #808000; text-decoration-color: #808000\">timestamp</span>=<span style=\"color: #800080; text-decoration-color: #800080; font-weight: bold\">datetime</span><span style=\"color: #800080; text-decoration-color: #800080; font-weight: bold\">.datetime</span><span style=\"font-weight: bold\">(</span><span style=\"color: #008080; text-decoration-color: #008080; font-weight: bold\">2024</span>, <span style=\"color: #008080; text-decoration-color: #008080; font-weight: bold\">12</span>, <span style=\"color: #008080; text-decoration-color: #008080; font-weight: bold\">30</span>, <span style=\"color: #008080; text-decoration-color: #008080; font-weight: bold\">17</span>, <span style=\"color: #008080; text-decoration-color: #008080; font-weight: bold\">28</span>, <span style=\"color: #008080; text-decoration-color: #008080; font-weight: bold\">31</span>, <span style=\"color: #808000; text-decoration-color: #808000\">tzinfo</span>=<span style=\"color: #800080; text-decoration-color: #800080\">datetime</span>.timezone.utc<span style=\"font-weight: bold\">)</span>,\n",
       "            <span style=\"color: #808000; text-decoration-color: #808000\">kind</span>=<span style=\"color: #008000; text-decoration-color: #008000\">'response'</span>\n",
       "        <span style=\"font-weight: bold\">)</span>\n",
       "    <span style=\"font-weight: bold\">]</span>,\n",
       "    <span style=\"color: #808000; text-decoration-color: #808000\">_new_message_index</span>=<span style=\"color: #008080; text-decoration-color: #008080; font-weight: bold\">0</span>,\n",
       "    <span style=\"color: #808000; text-decoration-color: #808000\">data</span>=<span style=\"color: #008000; text-decoration-color: #008000\">\"Here's one:\\n\\nWhy don't eggs tell jokes?\\n\\n(Wait for it...)\\n\\nBecause they'd crack each other up!\"</span>,\n",
       "    <span style=\"color: #808000; text-decoration-color: #808000\">_usage</span>=<span style=\"color: #800080; text-decoration-color: #800080; font-weight: bold\">Usage</span><span style=\"font-weight: bold\">(</span><span style=\"color: #808000; text-decoration-color: #808000\">requests</span>=<span style=\"color: #008080; text-decoration-color: #008080; font-weight: bold\">1</span>, <span style=\"color: #808000; text-decoration-color: #808000\">request_tokens</span>=<span style=\"color: #008080; text-decoration-color: #008080; font-weight: bold\">44</span>, <span style=\"color: #808000; text-decoration-color: #808000\">response_tokens</span>=<span style=\"color: #008080; text-decoration-color: #008080; font-weight: bold\">25</span>, <span style=\"color: #808000; text-decoration-color: #808000\">total_tokens</span>=<span style=\"color: #008080; text-decoration-color: #008080; font-weight: bold\">69</span>, <span style=\"color: #808000; text-decoration-color: #808000\">details</span>=<span style=\"color: #800080; text-decoration-color: #800080; font-style: italic\">None</span><span style=\"font-weight: bold\">)</span>\n",
       "<span style=\"font-weight: bold\">)</span>\n",
       "</pre>\n"
      ],
      "text/plain": [
       "\u001b[1;35mRunResult\u001b[0m\u001b[1m(\u001b[0m\n",
       "    \u001b[33m_all_messages\u001b[0m=\u001b[1m[\u001b[0m\n",
       "        \u001b[1;35mModelRequest\u001b[0m\u001b[1m(\u001b[0m\n",
       "            \u001b[33mparts\u001b[0m=\u001b[1m[\u001b[0m\n",
       "                \u001b[1;35mSystemPromptPart\u001b[0m\u001b[1m(\u001b[0m\u001b[33mcontent\u001b[0m=\u001b[32m'Be a helpful assistant.'\u001b[0m, \u001b[33mpart_kind\u001b[0m=\u001b[32m'system-prompt'\u001b[0m\u001b[1m)\u001b[0m,\n",
       "                \u001b[1;35mUserPromptPart\u001b[0m\u001b[1m(\u001b[0m\n",
       "                    \u001b[33mcontent\u001b[0m=\u001b[32m'Tell me a joke'\u001b[0m,\n",
       "                    \u001b[33mtimestamp\u001b[0m=\u001b[1;35mdatetime\u001b[0m\u001b[1;35m.datetime\u001b[0m\u001b[1m(\u001b[0m\u001b[1;36m2024\u001b[0m, \u001b[1;36m12\u001b[0m, \u001b[1;36m30\u001b[0m, \u001b[1;36m17\u001b[0m, \u001b[1;36m28\u001b[0m, \u001b[1;36m25\u001b[0m, \u001b[1;36m603763\u001b[0m, \u001b[33mtzinfo\u001b[0m=\u001b[35mdatetime\u001b[0m.timezone.utc\u001b[1m)\u001b[0m,\n",
       "                    \u001b[33mpart_kind\u001b[0m=\u001b[32m'user-prompt'\u001b[0m\n",
       "                \u001b[1m)\u001b[0m\n",
       "            \u001b[1m]\u001b[0m,\n",
       "            \u001b[33mkind\u001b[0m=\u001b[32m'request'\u001b[0m\n",
       "        \u001b[1m)\u001b[0m,\n",
       "        \u001b[1;35mModelResponse\u001b[0m\u001b[1m(\u001b[0m\n",
       "            \u001b[33mparts\u001b[0m=\u001b[1m[\u001b[0m\n",
       "                \u001b[1;35mTextPart\u001b[0m\u001b[1m(\u001b[0m\n",
       "                    \u001b[33mcontent\u001b[0m=\u001b[32m\"Here\u001b[0m\u001b[32m's one:\\n\\nWhy don't eggs tell jokes?\\n\\n\u001b[0m\u001b[32m(\u001b[0m\u001b[32mWait for it...\u001b[0m\u001b[32m)\u001b[0m\u001b[32m\\n\\nBecause they'd crack \u001b[0m\n",
       "\u001b[32meach other up!\"\u001b[0m,\n",
       "                    \u001b[33mpart_kind\u001b[0m=\u001b[32m'text'\u001b[0m\n",
       "                \u001b[1m)\u001b[0m\n",
       "            \u001b[1m]\u001b[0m,\n",
       "            \u001b[33mtimestamp\u001b[0m=\u001b[1;35mdatetime\u001b[0m\u001b[1;35m.datetime\u001b[0m\u001b[1m(\u001b[0m\u001b[1;36m2024\u001b[0m, \u001b[1;36m12\u001b[0m, \u001b[1;36m30\u001b[0m, \u001b[1;36m17\u001b[0m, \u001b[1;36m28\u001b[0m, \u001b[1;36m31\u001b[0m, \u001b[33mtzinfo\u001b[0m=\u001b[35mdatetime\u001b[0m.timezone.utc\u001b[1m)\u001b[0m,\n",
       "            \u001b[33mkind\u001b[0m=\u001b[32m'response'\u001b[0m\n",
       "        \u001b[1m)\u001b[0m\n",
       "    \u001b[1m]\u001b[0m,\n",
       "    \u001b[33m_new_message_index\u001b[0m=\u001b[1;36m0\u001b[0m,\n",
       "    \u001b[33mdata\u001b[0m=\u001b[32m\"Here\u001b[0m\u001b[32m's one:\\n\\nWhy don't eggs tell jokes?\\n\\n\u001b[0m\u001b[32m(\u001b[0m\u001b[32mWait for it...\u001b[0m\u001b[32m)\u001b[0m\u001b[32m\\n\\nBecause they'd crack each other up!\"\u001b[0m,\n",
       "    \u001b[33m_usage\u001b[0m=\u001b[1;35mUsage\u001b[0m\u001b[1m(\u001b[0m\u001b[33mrequests\u001b[0m=\u001b[1;36m1\u001b[0m, \u001b[33mrequest_tokens\u001b[0m=\u001b[1;36m44\u001b[0m, \u001b[33mresponse_tokens\u001b[0m=\u001b[1;36m25\u001b[0m, \u001b[33mtotal_tokens\u001b[0m=\u001b[1;36m69\u001b[0m, \u001b[33mdetails\u001b[0m=\u001b[3;35mNone\u001b[0m\u001b[1m)\u001b[0m\n",
       "\u001b[1m)\u001b[0m\n"
      ]
     },
     "metadata": {},
     "output_type": "display_data"
    },
    {
     "data": {
      "text/html": [
       "<pre style=\"white-space:pre;overflow-x:auto;line-height:normal;font-family:Menlo,'DejaVu Sans Mono',consolas,'Courier New',monospace\">Here's one:\n",
       "\n",
       "Why don't eggs tell jokes?\n",
       "\n",
       "<span style=\"font-weight: bold\">(</span>Wait for it<span style=\"color: #808000; text-decoration-color: #808000\">...</span><span style=\"font-weight: bold\">)</span>\n",
       "\n",
       "Because they'd crack each other up!\n",
       "</pre>\n"
      ],
      "text/plain": [
       "Here's one:\n",
       "\n",
       "Why don't eggs tell jokes?\n",
       "\n",
       "\u001b[1m(\u001b[0mWait for it\u001b[33m...\u001b[0m\u001b[1m)\u001b[0m\n",
       "\n",
       "Because they'd crack each other up!\n"
      ]
     },
     "metadata": {},
     "output_type": "display_data"
    },
    {
     "data": {
      "text/html": [
       "<pre style=\"white-space:pre;overflow-x:auto;line-height:normal;font-family:Menlo,'DejaVu Sans Mono',consolas,'Courier New',monospace\"><span style=\"font-weight: bold\">[</span>\n",
       "    <span style=\"color: #800080; text-decoration-color: #800080; font-weight: bold\">ModelRequest</span><span style=\"font-weight: bold\">(</span>\n",
       "        <span style=\"color: #808000; text-decoration-color: #808000\">parts</span>=<span style=\"font-weight: bold\">[</span>\n",
       "            <span style=\"color: #800080; text-decoration-color: #800080; font-weight: bold\">SystemPromptPart</span><span style=\"font-weight: bold\">(</span><span style=\"color: #808000; text-decoration-color: #808000\">content</span>=<span style=\"color: #008000; text-decoration-color: #008000\">'Be a helpful assistant.'</span>, <span style=\"color: #808000; text-decoration-color: #808000\">part_kind</span>=<span style=\"color: #008000; text-decoration-color: #008000\">'system-prompt'</span><span style=\"font-weight: bold\">)</span>,\n",
       "            <span style=\"color: #800080; text-decoration-color: #800080; font-weight: bold\">UserPromptPart</span><span style=\"font-weight: bold\">(</span>\n",
       "                <span style=\"color: #808000; text-decoration-color: #808000\">content</span>=<span style=\"color: #008000; text-decoration-color: #008000\">'Tell me a joke'</span>,\n",
       "                <span style=\"color: #808000; text-decoration-color: #808000\">timestamp</span>=<span style=\"color: #800080; text-decoration-color: #800080; font-weight: bold\">datetime</span><span style=\"color: #800080; text-decoration-color: #800080; font-weight: bold\">.datetime</span><span style=\"font-weight: bold\">(</span><span style=\"color: #008080; text-decoration-color: #008080; font-weight: bold\">2024</span>, <span style=\"color: #008080; text-decoration-color: #008080; font-weight: bold\">12</span>, <span style=\"color: #008080; text-decoration-color: #008080; font-weight: bold\">30</span>, <span style=\"color: #008080; text-decoration-color: #008080; font-weight: bold\">17</span>, <span style=\"color: #008080; text-decoration-color: #008080; font-weight: bold\">28</span>, <span style=\"color: #008080; text-decoration-color: #008080; font-weight: bold\">25</span>, <span style=\"color: #008080; text-decoration-color: #008080; font-weight: bold\">603763</span>, <span style=\"color: #808000; text-decoration-color: #808000\">tzinfo</span>=<span style=\"color: #800080; text-decoration-color: #800080\">datetime</span>.timezone.utc<span style=\"font-weight: bold\">)</span>,\n",
       "                <span style=\"color: #808000; text-decoration-color: #808000\">part_kind</span>=<span style=\"color: #008000; text-decoration-color: #008000\">'user-prompt'</span>\n",
       "            <span style=\"font-weight: bold\">)</span>\n",
       "        <span style=\"font-weight: bold\">]</span>,\n",
       "        <span style=\"color: #808000; text-decoration-color: #808000\">kind</span>=<span style=\"color: #008000; text-decoration-color: #008000\">'request'</span>\n",
       "    <span style=\"font-weight: bold\">)</span>,\n",
       "    <span style=\"color: #800080; text-decoration-color: #800080; font-weight: bold\">ModelResponse</span><span style=\"font-weight: bold\">(</span>\n",
       "        <span style=\"color: #808000; text-decoration-color: #808000\">parts</span>=<span style=\"font-weight: bold\">[</span>\n",
       "            <span style=\"color: #800080; text-decoration-color: #800080; font-weight: bold\">TextPart</span><span style=\"font-weight: bold\">(</span>\n",
       "                <span style=\"color: #808000; text-decoration-color: #808000\">content</span>=<span style=\"color: #008000; text-decoration-color: #008000\">\"Here's one:\\n\\nWhy don't eggs tell jokes?\\n\\n(Wait for it...)\\n\\nBecause they'd crack each</span>\n",
       "<span style=\"color: #008000; text-decoration-color: #008000\">other up!\"</span>,\n",
       "                <span style=\"color: #808000; text-decoration-color: #808000\">part_kind</span>=<span style=\"color: #008000; text-decoration-color: #008000\">'text'</span>\n",
       "            <span style=\"font-weight: bold\">)</span>\n",
       "        <span style=\"font-weight: bold\">]</span>,\n",
       "        <span style=\"color: #808000; text-decoration-color: #808000\">timestamp</span>=<span style=\"color: #800080; text-decoration-color: #800080; font-weight: bold\">datetime</span><span style=\"color: #800080; text-decoration-color: #800080; font-weight: bold\">.datetime</span><span style=\"font-weight: bold\">(</span><span style=\"color: #008080; text-decoration-color: #008080; font-weight: bold\">2024</span>, <span style=\"color: #008080; text-decoration-color: #008080; font-weight: bold\">12</span>, <span style=\"color: #008080; text-decoration-color: #008080; font-weight: bold\">30</span>, <span style=\"color: #008080; text-decoration-color: #008080; font-weight: bold\">17</span>, <span style=\"color: #008080; text-decoration-color: #008080; font-weight: bold\">28</span>, <span style=\"color: #008080; text-decoration-color: #008080; font-weight: bold\">31</span>, <span style=\"color: #808000; text-decoration-color: #808000\">tzinfo</span>=<span style=\"color: #800080; text-decoration-color: #800080\">datetime</span>.timezone.utc<span style=\"font-weight: bold\">)</span>,\n",
       "        <span style=\"color: #808000; text-decoration-color: #808000\">kind</span>=<span style=\"color: #008000; text-decoration-color: #008000\">'response'</span>\n",
       "    <span style=\"font-weight: bold\">)</span>\n",
       "<span style=\"font-weight: bold\">]</span>\n",
       "</pre>\n"
      ],
      "text/plain": [
       "\u001b[1m[\u001b[0m\n",
       "    \u001b[1;35mModelRequest\u001b[0m\u001b[1m(\u001b[0m\n",
       "        \u001b[33mparts\u001b[0m=\u001b[1m[\u001b[0m\n",
       "            \u001b[1;35mSystemPromptPart\u001b[0m\u001b[1m(\u001b[0m\u001b[33mcontent\u001b[0m=\u001b[32m'Be a helpful assistant.'\u001b[0m, \u001b[33mpart_kind\u001b[0m=\u001b[32m'system-prompt'\u001b[0m\u001b[1m)\u001b[0m,\n",
       "            \u001b[1;35mUserPromptPart\u001b[0m\u001b[1m(\u001b[0m\n",
       "                \u001b[33mcontent\u001b[0m=\u001b[32m'Tell me a joke'\u001b[0m,\n",
       "                \u001b[33mtimestamp\u001b[0m=\u001b[1;35mdatetime\u001b[0m\u001b[1;35m.datetime\u001b[0m\u001b[1m(\u001b[0m\u001b[1;36m2024\u001b[0m, \u001b[1;36m12\u001b[0m, \u001b[1;36m30\u001b[0m, \u001b[1;36m17\u001b[0m, \u001b[1;36m28\u001b[0m, \u001b[1;36m25\u001b[0m, \u001b[1;36m603763\u001b[0m, \u001b[33mtzinfo\u001b[0m=\u001b[35mdatetime\u001b[0m.timezone.utc\u001b[1m)\u001b[0m,\n",
       "                \u001b[33mpart_kind\u001b[0m=\u001b[32m'user-prompt'\u001b[0m\n",
       "            \u001b[1m)\u001b[0m\n",
       "        \u001b[1m]\u001b[0m,\n",
       "        \u001b[33mkind\u001b[0m=\u001b[32m'request'\u001b[0m\n",
       "    \u001b[1m)\u001b[0m,\n",
       "    \u001b[1;35mModelResponse\u001b[0m\u001b[1m(\u001b[0m\n",
       "        \u001b[33mparts\u001b[0m=\u001b[1m[\u001b[0m\n",
       "            \u001b[1;35mTextPart\u001b[0m\u001b[1m(\u001b[0m\n",
       "                \u001b[33mcontent\u001b[0m=\u001b[32m\"Here\u001b[0m\u001b[32m's one:\\n\\nWhy don't eggs tell jokes?\\n\\n\u001b[0m\u001b[32m(\u001b[0m\u001b[32mWait for it...\u001b[0m\u001b[32m)\u001b[0m\u001b[32m\\n\\nBecause they'd crack each\u001b[0m\n",
       "\u001b[32mother up!\"\u001b[0m,\n",
       "                \u001b[33mpart_kind\u001b[0m=\u001b[32m'text'\u001b[0m\n",
       "            \u001b[1m)\u001b[0m\n",
       "        \u001b[1m]\u001b[0m,\n",
       "        \u001b[33mtimestamp\u001b[0m=\u001b[1;35mdatetime\u001b[0m\u001b[1;35m.datetime\u001b[0m\u001b[1m(\u001b[0m\u001b[1;36m2024\u001b[0m, \u001b[1;36m12\u001b[0m, \u001b[1;36m30\u001b[0m, \u001b[1;36m17\u001b[0m, \u001b[1;36m28\u001b[0m, \u001b[1;36m31\u001b[0m, \u001b[33mtzinfo\u001b[0m=\u001b[35mdatetime\u001b[0m.timezone.utc\u001b[1m)\u001b[0m,\n",
       "        \u001b[33mkind\u001b[0m=\u001b[32m'response'\u001b[0m\n",
       "    \u001b[1m)\u001b[0m\n",
       "\u001b[1m]\u001b[0m\n"
      ]
     },
     "metadata": {},
     "output_type": "display_data"
    }
   ],
   "source": [
    "from pydantic_ai import Agent\n",
    "\n",
    "agent = Agent(\n",
    "    \"groq:llama-3.2-3b-preview\",\n",
    "    system_prompt=\"Be a helpful assistant.\"\n",
    ")\n",
    "\n",
    "result = agent.run_sync('Tell me a joke')\n",
    "pprint(result)   # may be __repr__ metod does not include all messages method in it\n",
    "pprint(result.data)\n",
    "\n",
    "pprint(result.all_messages())\n",
    "\n"
   ]
  },
  {
   "cell_type": "code",
   "execution_count": 76,
   "metadata": {},
   "outputs": [
    {
     "data": {
      "text/html": [
       "<pre style=\"white-space:pre;overflow-x:auto;line-height:normal;font-family:Menlo,'DejaVu Sans Mono',consolas,'Courier New',monospace\"><span style=\"font-weight: bold\">[</span>\n",
       "    <span style=\"color: #800080; text-decoration-color: #800080; font-weight: bold\">ModelRequest</span><span style=\"font-weight: bold\">(</span>\n",
       "        <span style=\"color: #808000; text-decoration-color: #808000\">parts</span>=<span style=\"font-weight: bold\">[</span>\n",
       "            <span style=\"color: #800080; text-decoration-color: #800080; font-weight: bold\">SystemPromptPart</span><span style=\"font-weight: bold\">(</span><span style=\"color: #808000; text-decoration-color: #808000\">content</span>=<span style=\"color: #008000; text-decoration-color: #008000\">'Be a helpful assistant.'</span>, <span style=\"color: #808000; text-decoration-color: #808000\">part_kind</span>=<span style=\"color: #008000; text-decoration-color: #008000\">'system-prompt'</span><span style=\"font-weight: bold\">)</span>,\n",
       "            <span style=\"color: #800080; text-decoration-color: #800080; font-weight: bold\">UserPromptPart</span><span style=\"font-weight: bold\">(</span>\n",
       "                <span style=\"color: #808000; text-decoration-color: #808000\">content</span>=<span style=\"color: #008000; text-decoration-color: #008000\">'Tell me a quote in 5 words'</span>,\n",
       "                <span style=\"color: #808000; text-decoration-color: #808000\">timestamp</span>=<span style=\"color: #800080; text-decoration-color: #800080; font-weight: bold\">datetime</span><span style=\"color: #800080; text-decoration-color: #800080; font-weight: bold\">.datetime</span><span style=\"font-weight: bold\">(</span><span style=\"color: #008080; text-decoration-color: #008080; font-weight: bold\">2024</span>, <span style=\"color: #008080; text-decoration-color: #008080; font-weight: bold\">12</span>, <span style=\"color: #008080; text-decoration-color: #008080; font-weight: bold\">30</span>, <span style=\"color: #008080; text-decoration-color: #008080; font-weight: bold\">17</span>, <span style=\"color: #008080; text-decoration-color: #008080; font-weight: bold\">47</span>, <span style=\"color: #008080; text-decoration-color: #008080; font-weight: bold\">23</span>, <span style=\"color: #008080; text-decoration-color: #008080; font-weight: bold\">729526</span>, <span style=\"color: #808000; text-decoration-color: #808000\">tzinfo</span>=<span style=\"color: #800080; text-decoration-color: #800080\">datetime</span>.timezone.utc<span style=\"font-weight: bold\">)</span>,\n",
       "                <span style=\"color: #808000; text-decoration-color: #808000\">part_kind</span>=<span style=\"color: #008000; text-decoration-color: #008000\">'user-prompt'</span>\n",
       "            <span style=\"font-weight: bold\">)</span>\n",
       "        <span style=\"font-weight: bold\">]</span>,\n",
       "        <span style=\"color: #808000; text-decoration-color: #808000\">kind</span>=<span style=\"color: #008000; text-decoration-color: #008000\">'request'</span>\n",
       "    <span style=\"font-weight: bold\">)</span>\n",
       "<span style=\"font-weight: bold\">]</span>\n",
       "</pre>\n"
      ],
      "text/plain": [
       "\u001b[1m[\u001b[0m\n",
       "    \u001b[1;35mModelRequest\u001b[0m\u001b[1m(\u001b[0m\n",
       "        \u001b[33mparts\u001b[0m=\u001b[1m[\u001b[0m\n",
       "            \u001b[1;35mSystemPromptPart\u001b[0m\u001b[1m(\u001b[0m\u001b[33mcontent\u001b[0m=\u001b[32m'Be a helpful assistant.'\u001b[0m, \u001b[33mpart_kind\u001b[0m=\u001b[32m'system-prompt'\u001b[0m\u001b[1m)\u001b[0m,\n",
       "            \u001b[1;35mUserPromptPart\u001b[0m\u001b[1m(\u001b[0m\n",
       "                \u001b[33mcontent\u001b[0m=\u001b[32m'Tell me a quote in 5 words'\u001b[0m,\n",
       "                \u001b[33mtimestamp\u001b[0m=\u001b[1;35mdatetime\u001b[0m\u001b[1;35m.datetime\u001b[0m\u001b[1m(\u001b[0m\u001b[1;36m2024\u001b[0m, \u001b[1;36m12\u001b[0m, \u001b[1;36m30\u001b[0m, \u001b[1;36m17\u001b[0m, \u001b[1;36m47\u001b[0m, \u001b[1;36m23\u001b[0m, \u001b[1;36m729526\u001b[0m, \u001b[33mtzinfo\u001b[0m=\u001b[35mdatetime\u001b[0m.timezone.utc\u001b[1m)\u001b[0m,\n",
       "                \u001b[33mpart_kind\u001b[0m=\u001b[32m'user-prompt'\u001b[0m\n",
       "            \u001b[1m)\u001b[0m\n",
       "        \u001b[1m]\u001b[0m,\n",
       "        \u001b[33mkind\u001b[0m=\u001b[32m'request'\u001b[0m\n",
       "    \u001b[1m)\u001b[0m\n",
       "\u001b[1m]\u001b[0m\n"
      ]
     },
     "metadata": {},
     "output_type": "display_data"
    },
    {
     "data": {
      "text/html": [
       "<pre style=\"white-space:pre;overflow-x:auto;line-height:normal;font-family:Menlo,'DejaVu Sans Mono',consolas,'Courier New',monospace\"><span style=\"color: #008000; text-decoration-color: #008000\">\"Believe you can and achieve.\"</span>\n",
       "</pre>\n"
      ],
      "text/plain": [
       "\u001b[32m\"Believe you can and achieve.\"\u001b[0m\n"
      ]
     },
     "metadata": {},
     "output_type": "display_data"
    },
    {
     "data": {
      "text/html": [
       "<pre style=\"white-space:pre;overflow-x:auto;line-height:normal;font-family:Menlo,'DejaVu Sans Mono',consolas,'Courier New',monospace\"><span style=\"font-weight: bold\">[</span>\n",
       "    <span style=\"color: #800080; text-decoration-color: #800080; font-weight: bold\">ModelRequest</span><span style=\"font-weight: bold\">(</span>\n",
       "        <span style=\"color: #808000; text-decoration-color: #808000\">parts</span>=<span style=\"font-weight: bold\">[</span>\n",
       "            <span style=\"color: #800080; text-decoration-color: #800080; font-weight: bold\">SystemPromptPart</span><span style=\"font-weight: bold\">(</span><span style=\"color: #808000; text-decoration-color: #808000\">content</span>=<span style=\"color: #008000; text-decoration-color: #008000\">'Be a helpful assistant.'</span>, <span style=\"color: #808000; text-decoration-color: #808000\">part_kind</span>=<span style=\"color: #008000; text-decoration-color: #008000\">'system-prompt'</span><span style=\"font-weight: bold\">)</span>,\n",
       "            <span style=\"color: #800080; text-decoration-color: #800080; font-weight: bold\">UserPromptPart</span><span style=\"font-weight: bold\">(</span>\n",
       "                <span style=\"color: #808000; text-decoration-color: #808000\">content</span>=<span style=\"color: #008000; text-decoration-color: #008000\">'Tell me a quote in 5 words'</span>,\n",
       "                <span style=\"color: #808000; text-decoration-color: #808000\">timestamp</span>=<span style=\"color: #800080; text-decoration-color: #800080; font-weight: bold\">datetime</span><span style=\"color: #800080; text-decoration-color: #800080; font-weight: bold\">.datetime</span><span style=\"font-weight: bold\">(</span><span style=\"color: #008080; text-decoration-color: #008080; font-weight: bold\">2024</span>, <span style=\"color: #008080; text-decoration-color: #008080; font-weight: bold\">12</span>, <span style=\"color: #008080; text-decoration-color: #008080; font-weight: bold\">30</span>, <span style=\"color: #008080; text-decoration-color: #008080; font-weight: bold\">17</span>, <span style=\"color: #008080; text-decoration-color: #008080; font-weight: bold\">47</span>, <span style=\"color: #008080; text-decoration-color: #008080; font-weight: bold\">23</span>, <span style=\"color: #008080; text-decoration-color: #008080; font-weight: bold\">729526</span>, <span style=\"color: #808000; text-decoration-color: #808000\">tzinfo</span>=<span style=\"color: #800080; text-decoration-color: #800080\">datetime</span>.timezone.utc<span style=\"font-weight: bold\">)</span>,\n",
       "                <span style=\"color: #808000; text-decoration-color: #808000\">part_kind</span>=<span style=\"color: #008000; text-decoration-color: #008000\">'user-prompt'</span>\n",
       "            <span style=\"font-weight: bold\">)</span>\n",
       "        <span style=\"font-weight: bold\">]</span>,\n",
       "        <span style=\"color: #808000; text-decoration-color: #808000\">kind</span>=<span style=\"color: #008000; text-decoration-color: #008000\">'request'</span>\n",
       "    <span style=\"font-weight: bold\">)</span>,\n",
       "    <span style=\"color: #800080; text-decoration-color: #800080; font-weight: bold\">ModelResponse</span><span style=\"font-weight: bold\">(</span>\n",
       "        <span style=\"color: #808000; text-decoration-color: #808000\">parts</span>=<span style=\"font-weight: bold\">[</span><span style=\"color: #800080; text-decoration-color: #800080; font-weight: bold\">TextPart</span><span style=\"font-weight: bold\">(</span><span style=\"color: #808000; text-decoration-color: #808000\">content</span>=<span style=\"color: #008000; text-decoration-color: #008000\">'\"Believe you can and achieve.\"'</span>, <span style=\"color: #808000; text-decoration-color: #808000\">part_kind</span>=<span style=\"color: #008000; text-decoration-color: #008000\">'text'</span><span style=\"font-weight: bold\">)]</span>,\n",
       "        <span style=\"color: #808000; text-decoration-color: #808000\">timestamp</span>=<span style=\"color: #800080; text-decoration-color: #800080; font-weight: bold\">datetime</span><span style=\"color: #800080; text-decoration-color: #800080; font-weight: bold\">.datetime</span><span style=\"font-weight: bold\">(</span><span style=\"color: #008080; text-decoration-color: #008080; font-weight: bold\">2024</span>, <span style=\"color: #008080; text-decoration-color: #008080; font-weight: bold\">12</span>, <span style=\"color: #008080; text-decoration-color: #008080; font-weight: bold\">30</span>, <span style=\"color: #008080; text-decoration-color: #008080; font-weight: bold\">17</span>, <span style=\"color: #008080; text-decoration-color: #008080; font-weight: bold\">47</span>, <span style=\"color: #008080; text-decoration-color: #008080; font-weight: bold\">24</span>, <span style=\"color: #008080; text-decoration-color: #008080; font-weight: bold\">139728</span>, <span style=\"color: #808000; text-decoration-color: #808000\">tzinfo</span>=<span style=\"color: #800080; text-decoration-color: #800080\">datetime</span>.timezone.utc<span style=\"font-weight: bold\">)</span>,\n",
       "        <span style=\"color: #808000; text-decoration-color: #808000\">kind</span>=<span style=\"color: #008000; text-decoration-color: #008000\">'response'</span>\n",
       "    <span style=\"font-weight: bold\">)</span>\n",
       "<span style=\"font-weight: bold\">]</span>\n",
       "</pre>\n"
      ],
      "text/plain": [
       "\u001b[1m[\u001b[0m\n",
       "    \u001b[1;35mModelRequest\u001b[0m\u001b[1m(\u001b[0m\n",
       "        \u001b[33mparts\u001b[0m=\u001b[1m[\u001b[0m\n",
       "            \u001b[1;35mSystemPromptPart\u001b[0m\u001b[1m(\u001b[0m\u001b[33mcontent\u001b[0m=\u001b[32m'Be a helpful assistant.'\u001b[0m, \u001b[33mpart_kind\u001b[0m=\u001b[32m'system-prompt'\u001b[0m\u001b[1m)\u001b[0m,\n",
       "            \u001b[1;35mUserPromptPart\u001b[0m\u001b[1m(\u001b[0m\n",
       "                \u001b[33mcontent\u001b[0m=\u001b[32m'Tell me a quote in 5 words'\u001b[0m,\n",
       "                \u001b[33mtimestamp\u001b[0m=\u001b[1;35mdatetime\u001b[0m\u001b[1;35m.datetime\u001b[0m\u001b[1m(\u001b[0m\u001b[1;36m2024\u001b[0m, \u001b[1;36m12\u001b[0m, \u001b[1;36m30\u001b[0m, \u001b[1;36m17\u001b[0m, \u001b[1;36m47\u001b[0m, \u001b[1;36m23\u001b[0m, \u001b[1;36m729526\u001b[0m, \u001b[33mtzinfo\u001b[0m=\u001b[35mdatetime\u001b[0m.timezone.utc\u001b[1m)\u001b[0m,\n",
       "                \u001b[33mpart_kind\u001b[0m=\u001b[32m'user-prompt'\u001b[0m\n",
       "            \u001b[1m)\u001b[0m\n",
       "        \u001b[1m]\u001b[0m,\n",
       "        \u001b[33mkind\u001b[0m=\u001b[32m'request'\u001b[0m\n",
       "    \u001b[1m)\u001b[0m,\n",
       "    \u001b[1;35mModelResponse\u001b[0m\u001b[1m(\u001b[0m\n",
       "        \u001b[33mparts\u001b[0m=\u001b[1m[\u001b[0m\u001b[1;35mTextPart\u001b[0m\u001b[1m(\u001b[0m\u001b[33mcontent\u001b[0m=\u001b[32m'\"Believe you can and achieve.\"'\u001b[0m, \u001b[33mpart_kind\u001b[0m=\u001b[32m'text'\u001b[0m\u001b[1m)\u001b[0m\u001b[1m]\u001b[0m,\n",
       "        \u001b[33mtimestamp\u001b[0m=\u001b[1;35mdatetime\u001b[0m\u001b[1;35m.datetime\u001b[0m\u001b[1m(\u001b[0m\u001b[1;36m2024\u001b[0m, \u001b[1;36m12\u001b[0m, \u001b[1;36m30\u001b[0m, \u001b[1;36m17\u001b[0m, \u001b[1;36m47\u001b[0m, \u001b[1;36m24\u001b[0m, \u001b[1;36m139728\u001b[0m, \u001b[33mtzinfo\u001b[0m=\u001b[35mdatetime\u001b[0m.timezone.utc\u001b[1m)\u001b[0m,\n",
       "        \u001b[33mkind\u001b[0m=\u001b[32m'response'\u001b[0m\n",
       "    \u001b[1m)\u001b[0m\n",
       "\u001b[1m]\u001b[0m\n"
      ]
     },
     "metadata": {},
     "output_type": "display_data"
    }
   ],
   "source": [
    "from pydantic_ai import Agent\n",
    "\n",
    "agent =Agent(\n",
    "    'groq:llama-3.2-3b-preview',\n",
    "    system_prompt=\"Be a helpful assistant.\"\n",
    ")\n",
    "\n",
    "async def main():\n",
    "    async with agent.run_stream('Tell me a quote in 5 words') as result:\n",
    "        pprint(result.all_messages())\n",
    "    \n",
    "        async for text in result.stream():\n",
    "            pprint(text)\n",
    "\n",
    "        pprint(result.all_messages())\n",
    "\n",
    "await main()\n"
   ]
  },
  {
   "cell_type": "code",
   "execution_count": 78,
   "metadata": {},
   "outputs": [
    {
     "data": {
      "text/html": [
       "<pre style=\"white-space:pre;overflow-x:auto;line-height:normal;font-family:Menlo,'DejaVu Sans Mono',consolas,'Courier New',monospace\">A man walked into a library and asked the librarian, <span style=\"color: #008000; text-decoration-color: #008000\">\"Do you have any books on Pavlov's dogs and Schrödinger's </span>\n",
       "<span style=\"color: #008000; text-decoration-color: #008000\">cat?\"</span>\n",
       "\n",
       "The librarian replied, <span style=\"color: #008000; text-decoration-color: #008000\">\"It rings a bell, but I'm not sure if it's here or not.\"</span>\n",
       "</pre>\n"
      ],
      "text/plain": [
       "A man walked into a library and asked the librarian, \u001b[32m\"Do you have any books on Pavlov's dogs and Schrödinger's \u001b[0m\n",
       "\u001b[32mcat?\"\u001b[0m\n",
       "\n",
       "The librarian replied, \u001b[32m\"It rings a bell, but I'm not sure if it's here or not.\"\u001b[0m\n"
      ]
     },
     "metadata": {},
     "output_type": "display_data"
    },
    {
     "data": {
      "text/html": [
       "<pre style=\"white-space:pre;overflow-x:auto;line-height:normal;font-family:Menlo,'DejaVu Sans Mono',consolas,'Courier New',monospace\"><span style=\"font-weight: bold\">[</span>\n",
       "    <span style=\"color: #800080; text-decoration-color: #800080; font-weight: bold\">ModelRequest</span><span style=\"font-weight: bold\">(</span>\n",
       "        <span style=\"color: #808000; text-decoration-color: #808000\">parts</span>=<span style=\"font-weight: bold\">[</span>\n",
       "            <span style=\"color: #800080; text-decoration-color: #800080; font-weight: bold\">SystemPromptPart</span><span style=\"font-weight: bold\">(</span><span style=\"color: #808000; text-decoration-color: #808000\">content</span>=<span style=\"color: #008000; text-decoration-color: #008000\">'Be a helpful assistant'</span>, <span style=\"color: #808000; text-decoration-color: #808000\">part_kind</span>=<span style=\"color: #008000; text-decoration-color: #008000\">'system-prompt'</span><span style=\"font-weight: bold\">)</span>,\n",
       "            <span style=\"color: #800080; text-decoration-color: #800080; font-weight: bold\">UserPromptPart</span><span style=\"font-weight: bold\">(</span>\n",
       "                <span style=\"color: #808000; text-decoration-color: #808000\">content</span>=<span style=\"color: #008000; text-decoration-color: #008000\">'tell me a joke.'</span>,\n",
       "                <span style=\"color: #808000; text-decoration-color: #808000\">timestamp</span>=<span style=\"color: #800080; text-decoration-color: #800080; font-weight: bold\">datetime</span><span style=\"color: #800080; text-decoration-color: #800080; font-weight: bold\">.datetime</span><span style=\"font-weight: bold\">(</span><span style=\"color: #008080; text-decoration-color: #008080; font-weight: bold\">2024</span>, <span style=\"color: #008080; text-decoration-color: #008080; font-weight: bold\">12</span>, <span style=\"color: #008080; text-decoration-color: #008080; font-weight: bold\">30</span>, <span style=\"color: #008080; text-decoration-color: #008080; font-weight: bold\">18</span>, <span style=\"color: #008080; text-decoration-color: #008080; font-weight: bold\">3</span>, <span style=\"color: #008080; text-decoration-color: #008080; font-weight: bold\">29</span>, <span style=\"color: #008080; text-decoration-color: #008080; font-weight: bold\">671737</span>, <span style=\"color: #808000; text-decoration-color: #808000\">tzinfo</span>=<span style=\"color: #800080; text-decoration-color: #800080\">datetime</span>.timezone.utc<span style=\"font-weight: bold\">)</span>,\n",
       "                <span style=\"color: #808000; text-decoration-color: #808000\">part_kind</span>=<span style=\"color: #008000; text-decoration-color: #008000\">'user-prompt'</span>\n",
       "            <span style=\"font-weight: bold\">)</span>\n",
       "        <span style=\"font-weight: bold\">]</span>,\n",
       "        <span style=\"color: #808000; text-decoration-color: #808000\">kind</span>=<span style=\"color: #008000; text-decoration-color: #008000\">'request'</span>\n",
       "    <span style=\"font-weight: bold\">)</span>,\n",
       "    <span style=\"color: #800080; text-decoration-color: #800080; font-weight: bold\">ModelResponse</span><span style=\"font-weight: bold\">(</span>\n",
       "        <span style=\"color: #808000; text-decoration-color: #808000\">parts</span>=<span style=\"font-weight: bold\">[</span>\n",
       "            <span style=\"color: #800080; text-decoration-color: #800080; font-weight: bold\">TextPart</span><span style=\"font-weight: bold\">(</span>\n",
       "                <span style=\"color: #808000; text-decoration-color: #808000\">content</span>=<span style=\"color: #008000; text-decoration-color: #008000\">'A man walked into a library and asked the librarian, \"Do you have any books on Pavlov\\'s </span>\n",
       "<span style=\"color: #008000; text-decoration-color: #008000\">dogs and Schrödinger\\'s cat?\"\\n\\nThe librarian replied, \"It rings a bell, but I\\'m not sure if it\\'s here or </span>\n",
       "<span style=\"color: #008000; text-decoration-color: #008000\">not.\"'</span>,\n",
       "                <span style=\"color: #808000; text-decoration-color: #808000\">part_kind</span>=<span style=\"color: #008000; text-decoration-color: #008000\">'text'</span>\n",
       "            <span style=\"font-weight: bold\">)</span>\n",
       "        <span style=\"font-weight: bold\">]</span>,\n",
       "        <span style=\"color: #808000; text-decoration-color: #808000\">timestamp</span>=<span style=\"color: #800080; text-decoration-color: #800080; font-weight: bold\">datetime</span><span style=\"color: #800080; text-decoration-color: #800080; font-weight: bold\">.datetime</span><span style=\"font-weight: bold\">(</span><span style=\"color: #008080; text-decoration-color: #008080; font-weight: bold\">2024</span>, <span style=\"color: #008080; text-decoration-color: #008080; font-weight: bold\">12</span>, <span style=\"color: #008080; text-decoration-color: #008080; font-weight: bold\">30</span>, <span style=\"color: #008080; text-decoration-color: #008080; font-weight: bold\">18</span>, <span style=\"color: #008080; text-decoration-color: #008080; font-weight: bold\">3</span>, <span style=\"color: #008080; text-decoration-color: #008080; font-weight: bold\">35</span>, <span style=\"color: #808000; text-decoration-color: #808000\">tzinfo</span>=<span style=\"color: #800080; text-decoration-color: #800080\">datetime</span>.timezone.utc<span style=\"font-weight: bold\">)</span>,\n",
       "        <span style=\"color: #808000; text-decoration-color: #808000\">kind</span>=<span style=\"color: #008000; text-decoration-color: #008000\">'response'</span>\n",
       "    <span style=\"font-weight: bold\">)</span>\n",
       "<span style=\"font-weight: bold\">]</span>\n",
       "</pre>\n"
      ],
      "text/plain": [
       "\u001b[1m[\u001b[0m\n",
       "    \u001b[1;35mModelRequest\u001b[0m\u001b[1m(\u001b[0m\n",
       "        \u001b[33mparts\u001b[0m=\u001b[1m[\u001b[0m\n",
       "            \u001b[1;35mSystemPromptPart\u001b[0m\u001b[1m(\u001b[0m\u001b[33mcontent\u001b[0m=\u001b[32m'Be a helpful assistant'\u001b[0m, \u001b[33mpart_kind\u001b[0m=\u001b[32m'system-prompt'\u001b[0m\u001b[1m)\u001b[0m,\n",
       "            \u001b[1;35mUserPromptPart\u001b[0m\u001b[1m(\u001b[0m\n",
       "                \u001b[33mcontent\u001b[0m=\u001b[32m'tell me a joke.'\u001b[0m,\n",
       "                \u001b[33mtimestamp\u001b[0m=\u001b[1;35mdatetime\u001b[0m\u001b[1;35m.datetime\u001b[0m\u001b[1m(\u001b[0m\u001b[1;36m2024\u001b[0m, \u001b[1;36m12\u001b[0m, \u001b[1;36m30\u001b[0m, \u001b[1;36m18\u001b[0m, \u001b[1;36m3\u001b[0m, \u001b[1;36m29\u001b[0m, \u001b[1;36m671737\u001b[0m, \u001b[33mtzinfo\u001b[0m=\u001b[35mdatetime\u001b[0m.timezone.utc\u001b[1m)\u001b[0m,\n",
       "                \u001b[33mpart_kind\u001b[0m=\u001b[32m'user-prompt'\u001b[0m\n",
       "            \u001b[1m)\u001b[0m\n",
       "        \u001b[1m]\u001b[0m,\n",
       "        \u001b[33mkind\u001b[0m=\u001b[32m'request'\u001b[0m\n",
       "    \u001b[1m)\u001b[0m,\n",
       "    \u001b[1;35mModelResponse\u001b[0m\u001b[1m(\u001b[0m\n",
       "        \u001b[33mparts\u001b[0m=\u001b[1m[\u001b[0m\n",
       "            \u001b[1;35mTextPart\u001b[0m\u001b[1m(\u001b[0m\n",
       "                \u001b[33mcontent\u001b[0m=\u001b[32m'A man walked into a library and asked the librarian, \"Do you have any books on Pavlov\\'s \u001b[0m\n",
       "\u001b[32mdogs and Schrödinger\\'s cat?\"\\n\\nThe librarian replied, \"It rings a bell, but I\\'m not sure if it\\'s here or \u001b[0m\n",
       "\u001b[32mnot.\"'\u001b[0m,\n",
       "                \u001b[33mpart_kind\u001b[0m=\u001b[32m'text'\u001b[0m\n",
       "            \u001b[1m)\u001b[0m\n",
       "        \u001b[1m]\u001b[0m,\n",
       "        \u001b[33mtimestamp\u001b[0m=\u001b[1;35mdatetime\u001b[0m\u001b[1;35m.datetime\u001b[0m\u001b[1m(\u001b[0m\u001b[1;36m2024\u001b[0m, \u001b[1;36m12\u001b[0m, \u001b[1;36m30\u001b[0m, \u001b[1;36m18\u001b[0m, \u001b[1;36m3\u001b[0m, \u001b[1;36m35\u001b[0m, \u001b[33mtzinfo\u001b[0m=\u001b[35mdatetime\u001b[0m.timezone.utc\u001b[1m)\u001b[0m,\n",
       "        \u001b[33mkind\u001b[0m=\u001b[32m'response'\u001b[0m\n",
       "    \u001b[1m)\u001b[0m\n",
       "\u001b[1m]\u001b[0m\n"
      ]
     },
     "metadata": {},
     "output_type": "display_data"
    },
    {
     "data": {
      "text/html": [
       "<pre style=\"white-space:pre;overflow-x:auto;line-height:normal;font-family:Menlo,'DejaVu Sans Mono',consolas,'Courier New',monospace\"><span style=\"font-weight: bold\">[</span>\n",
       "    <span style=\"color: #800080; text-decoration-color: #800080; font-weight: bold\">ModelRequest</span><span style=\"font-weight: bold\">(</span>\n",
       "        <span style=\"color: #808000; text-decoration-color: #808000\">parts</span>=<span style=\"font-weight: bold\">[</span>\n",
       "            <span style=\"color: #800080; text-decoration-color: #800080; font-weight: bold\">SystemPromptPart</span><span style=\"font-weight: bold\">(</span><span style=\"color: #808000; text-decoration-color: #808000\">content</span>=<span style=\"color: #008000; text-decoration-color: #008000\">'Be a helpful assistant'</span>, <span style=\"color: #808000; text-decoration-color: #808000\">part_kind</span>=<span style=\"color: #008000; text-decoration-color: #008000\">'system-prompt'</span><span style=\"font-weight: bold\">)</span>,\n",
       "            <span style=\"color: #800080; text-decoration-color: #800080; font-weight: bold\">UserPromptPart</span><span style=\"font-weight: bold\">(</span>\n",
       "                <span style=\"color: #808000; text-decoration-color: #808000\">content</span>=<span style=\"color: #008000; text-decoration-color: #008000\">'tell me a joke.'</span>,\n",
       "                <span style=\"color: #808000; text-decoration-color: #808000\">timestamp</span>=<span style=\"color: #800080; text-decoration-color: #800080; font-weight: bold\">datetime</span><span style=\"color: #800080; text-decoration-color: #800080; font-weight: bold\">.datetime</span><span style=\"font-weight: bold\">(</span><span style=\"color: #008080; text-decoration-color: #008080; font-weight: bold\">2024</span>, <span style=\"color: #008080; text-decoration-color: #008080; font-weight: bold\">12</span>, <span style=\"color: #008080; text-decoration-color: #008080; font-weight: bold\">30</span>, <span style=\"color: #008080; text-decoration-color: #008080; font-weight: bold\">18</span>, <span style=\"color: #008080; text-decoration-color: #008080; font-weight: bold\">3</span>, <span style=\"color: #008080; text-decoration-color: #008080; font-weight: bold\">29</span>, <span style=\"color: #008080; text-decoration-color: #008080; font-weight: bold\">671737</span>, <span style=\"color: #808000; text-decoration-color: #808000\">tzinfo</span>=<span style=\"color: #800080; text-decoration-color: #800080\">datetime</span>.timezone.utc<span style=\"font-weight: bold\">)</span>,\n",
       "                <span style=\"color: #808000; text-decoration-color: #808000\">part_kind</span>=<span style=\"color: #008000; text-decoration-color: #008000\">'user-prompt'</span>\n",
       "            <span style=\"font-weight: bold\">)</span>\n",
       "        <span style=\"font-weight: bold\">]</span>,\n",
       "        <span style=\"color: #808000; text-decoration-color: #808000\">kind</span>=<span style=\"color: #008000; text-decoration-color: #008000\">'request'</span>\n",
       "    <span style=\"font-weight: bold\">)</span>,\n",
       "    <span style=\"color: #800080; text-decoration-color: #800080; font-weight: bold\">ModelResponse</span><span style=\"font-weight: bold\">(</span>\n",
       "        <span style=\"color: #808000; text-decoration-color: #808000\">parts</span>=<span style=\"font-weight: bold\">[</span>\n",
       "            <span style=\"color: #800080; text-decoration-color: #800080; font-weight: bold\">TextPart</span><span style=\"font-weight: bold\">(</span>\n",
       "                <span style=\"color: #808000; text-decoration-color: #808000\">content</span>=<span style=\"color: #008000; text-decoration-color: #008000\">'A man walked into a library and asked the librarian, \"Do you have any books on Pavlov\\'s </span>\n",
       "<span style=\"color: #008000; text-decoration-color: #008000\">dogs and Schrödinger\\'s cat?\"\\n\\nThe librarian replied, \"It rings a bell, but I\\'m not sure if it\\'s here or </span>\n",
       "<span style=\"color: #008000; text-decoration-color: #008000\">not.\"'</span>,\n",
       "                <span style=\"color: #808000; text-decoration-color: #808000\">part_kind</span>=<span style=\"color: #008000; text-decoration-color: #008000\">'text'</span>\n",
       "            <span style=\"font-weight: bold\">)</span>\n",
       "        <span style=\"font-weight: bold\">]</span>,\n",
       "        <span style=\"color: #808000; text-decoration-color: #808000\">timestamp</span>=<span style=\"color: #800080; text-decoration-color: #800080; font-weight: bold\">datetime</span><span style=\"color: #800080; text-decoration-color: #800080; font-weight: bold\">.datetime</span><span style=\"font-weight: bold\">(</span><span style=\"color: #008080; text-decoration-color: #008080; font-weight: bold\">2024</span>, <span style=\"color: #008080; text-decoration-color: #008080; font-weight: bold\">12</span>, <span style=\"color: #008080; text-decoration-color: #008080; font-weight: bold\">30</span>, <span style=\"color: #008080; text-decoration-color: #008080; font-weight: bold\">18</span>, <span style=\"color: #008080; text-decoration-color: #008080; font-weight: bold\">3</span>, <span style=\"color: #008080; text-decoration-color: #008080; font-weight: bold\">35</span>, <span style=\"color: #808000; text-decoration-color: #808000\">tzinfo</span>=<span style=\"color: #800080; text-decoration-color: #800080\">datetime</span>.timezone.utc<span style=\"font-weight: bold\">)</span>,\n",
       "        <span style=\"color: #808000; text-decoration-color: #808000\">kind</span>=<span style=\"color: #008000; text-decoration-color: #008000\">'response'</span>\n",
       "    <span style=\"font-weight: bold\">)</span>,\n",
       "    <span style=\"color: #800080; text-decoration-color: #800080; font-weight: bold\">ModelRequest</span><span style=\"font-weight: bold\">(</span>\n",
       "        <span style=\"color: #808000; text-decoration-color: #808000\">parts</span>=<span style=\"font-weight: bold\">[</span>\n",
       "            <span style=\"color: #800080; text-decoration-color: #800080; font-weight: bold\">UserPromptPart</span><span style=\"font-weight: bold\">(</span>\n",
       "                <span style=\"color: #808000; text-decoration-color: #808000\">content</span>=<span style=\"color: #008000; text-decoration-color: #008000\">'Explain '</span>,\n",
       "                <span style=\"color: #808000; text-decoration-color: #808000\">timestamp</span>=<span style=\"color: #800080; text-decoration-color: #800080; font-weight: bold\">datetime</span><span style=\"color: #800080; text-decoration-color: #800080; font-weight: bold\">.datetime</span><span style=\"font-weight: bold\">(</span><span style=\"color: #008080; text-decoration-color: #008080; font-weight: bold\">2024</span>, <span style=\"color: #008080; text-decoration-color: #008080; font-weight: bold\">12</span>, <span style=\"color: #008080; text-decoration-color: #008080; font-weight: bold\">30</span>, <span style=\"color: #008080; text-decoration-color: #008080; font-weight: bold\">18</span>, <span style=\"color: #008080; text-decoration-color: #008080; font-weight: bold\">3</span>, <span style=\"color: #008080; text-decoration-color: #008080; font-weight: bold\">30</span>, <span style=\"color: #008080; text-decoration-color: #008080; font-weight: bold\">111807</span>, <span style=\"color: #808000; text-decoration-color: #808000\">tzinfo</span>=<span style=\"color: #800080; text-decoration-color: #800080\">datetime</span>.timezone.utc<span style=\"font-weight: bold\">)</span>,\n",
       "                <span style=\"color: #808000; text-decoration-color: #808000\">part_kind</span>=<span style=\"color: #008000; text-decoration-color: #008000\">'user-prompt'</span>\n",
       "            <span style=\"font-weight: bold\">)</span>\n",
       "        <span style=\"font-weight: bold\">]</span>,\n",
       "        <span style=\"color: #808000; text-decoration-color: #808000\">kind</span>=<span style=\"color: #008000; text-decoration-color: #008000\">'request'</span>\n",
       "    <span style=\"font-weight: bold\">)</span>,\n",
       "    <span style=\"color: #800080; text-decoration-color: #800080; font-weight: bold\">ModelResponse</span><span style=\"font-weight: bold\">(</span>\n",
       "        <span style=\"color: #808000; text-decoration-color: #808000\">parts</span>=<span style=\"font-weight: bold\">[</span>\n",
       "            <span style=\"color: #800080; text-decoration-color: #800080; font-weight: bold\">TextPart</span><span style=\"font-weight: bold\">(</span>\n",
       "                <span style=\"color: #808000; text-decoration-color: #808000\">content</span>=<span style=\"color: #008000; text-decoration-color: #008000\">'This joke plays on two scientific concepts: Pavlov\\'s dogs, a classic experiment where </span>\n",
       "<span style=\"color: #008000; text-decoration-color: #008000\">Ivan Pavlov showed that dogs (and humans) can become conditioned to associate a neutral stimulus with a stressful </span>\n",
       "<span style=\"color: #008000; text-decoration-color: #008000\">or neutral one, leading to an automatic response.\\n\\nSchrödinger\\'s cat was a thought experiment created by Erwin </span>\n",
       "<span style=\"color: #008000; text-decoration-color: #008000\">Schrödinger, a physicist, where he said that a cat is both alive AND dead at the same time until an observer </span>\n",
       "<span style=\"color: #008000; text-decoration-color: #008000\">catches it. This is because the act of observation itself can \"reduce\" the superposition of states and cause the </span>\n",
       "<span style=\"color: #008000; text-decoration-color: #008000\">cat\\'s state to be definitively decided.\\n\\nIn the joke, the librarian asks if the man has a book on both Pavlov\\'s</span>\n",
       "<span style=\"color: #008000; text-decoration-color: #008000\">dogs and Schrödinger\\'s cat. \"It rings a bell,\" she says, a classic reference to Pavlov\\'s dogs. However, \"I\\'m not</span>\n",
       "<span style=\"color: #008000; text-decoration-color: #008000\">sure if it\\'s here or not.\" \\n\\nThe word \"bell\" is a clever play on words. In this context, it means that the </span>\n",
       "<span style=\"color: #008000; text-decoration-color: #008000\">question is being asked if the book exists (being \"rings a bell\"), but it also references the Russian physicist for</span>\n",
       "<span style=\"color: #008000; text-decoration-color: #008000\">the second part of the sentence, which could be interpreted as saying that the book doesn\\'t exist (being \"not not\"</span>\n",
       "<span style=\"color: #008000; text-decoration-color: #008000\">or \"un exist\").\\n\\nThe punchline is that the librarian\\'s response somehow connects the concept of Pavlov\\'s dogs </span>\n",
       "<span style=\"color: #008000; text-decoration-color: #008000\">with Schrödinger\\'s cat in a peculiar way, creating a humorous and unexpected connection between the two.'</span>,\n",
       "                <span style=\"color: #808000; text-decoration-color: #808000\">part_kind</span>=<span style=\"color: #008000; text-decoration-color: #008000\">'text'</span>\n",
       "            <span style=\"font-weight: bold\">)</span>\n",
       "        <span style=\"font-weight: bold\">]</span>,\n",
       "        <span style=\"color: #808000; text-decoration-color: #808000\">timestamp</span>=<span style=\"color: #800080; text-decoration-color: #800080; font-weight: bold\">datetime</span><span style=\"color: #800080; text-decoration-color: #800080; font-weight: bold\">.datetime</span><span style=\"font-weight: bold\">(</span><span style=\"color: #008080; text-decoration-color: #008080; font-weight: bold\">2024</span>, <span style=\"color: #008080; text-decoration-color: #008080; font-weight: bold\">12</span>, <span style=\"color: #008080; text-decoration-color: #008080; font-weight: bold\">30</span>, <span style=\"color: #008080; text-decoration-color: #008080; font-weight: bold\">18</span>, <span style=\"color: #008080; text-decoration-color: #008080; font-weight: bold\">3</span>, <span style=\"color: #008080; text-decoration-color: #008080; font-weight: bold\">35</span>, <span style=\"color: #808000; text-decoration-color: #808000\">tzinfo</span>=<span style=\"color: #800080; text-decoration-color: #800080\">datetime</span>.timezone.utc<span style=\"font-weight: bold\">)</span>,\n",
       "        <span style=\"color: #808000; text-decoration-color: #808000\">kind</span>=<span style=\"color: #008000; text-decoration-color: #008000\">'response'</span>\n",
       "    <span style=\"font-weight: bold\">)</span>\n",
       "<span style=\"font-weight: bold\">]</span>\n",
       "</pre>\n"
      ],
      "text/plain": [
       "\u001b[1m[\u001b[0m\n",
       "    \u001b[1;35mModelRequest\u001b[0m\u001b[1m(\u001b[0m\n",
       "        \u001b[33mparts\u001b[0m=\u001b[1m[\u001b[0m\n",
       "            \u001b[1;35mSystemPromptPart\u001b[0m\u001b[1m(\u001b[0m\u001b[33mcontent\u001b[0m=\u001b[32m'Be a helpful assistant'\u001b[0m, \u001b[33mpart_kind\u001b[0m=\u001b[32m'system-prompt'\u001b[0m\u001b[1m)\u001b[0m,\n",
       "            \u001b[1;35mUserPromptPart\u001b[0m\u001b[1m(\u001b[0m\n",
       "                \u001b[33mcontent\u001b[0m=\u001b[32m'tell me a joke.'\u001b[0m,\n",
       "                \u001b[33mtimestamp\u001b[0m=\u001b[1;35mdatetime\u001b[0m\u001b[1;35m.datetime\u001b[0m\u001b[1m(\u001b[0m\u001b[1;36m2024\u001b[0m, \u001b[1;36m12\u001b[0m, \u001b[1;36m30\u001b[0m, \u001b[1;36m18\u001b[0m, \u001b[1;36m3\u001b[0m, \u001b[1;36m29\u001b[0m, \u001b[1;36m671737\u001b[0m, \u001b[33mtzinfo\u001b[0m=\u001b[35mdatetime\u001b[0m.timezone.utc\u001b[1m)\u001b[0m,\n",
       "                \u001b[33mpart_kind\u001b[0m=\u001b[32m'user-prompt'\u001b[0m\n",
       "            \u001b[1m)\u001b[0m\n",
       "        \u001b[1m]\u001b[0m,\n",
       "        \u001b[33mkind\u001b[0m=\u001b[32m'request'\u001b[0m\n",
       "    \u001b[1m)\u001b[0m,\n",
       "    \u001b[1;35mModelResponse\u001b[0m\u001b[1m(\u001b[0m\n",
       "        \u001b[33mparts\u001b[0m=\u001b[1m[\u001b[0m\n",
       "            \u001b[1;35mTextPart\u001b[0m\u001b[1m(\u001b[0m\n",
       "                \u001b[33mcontent\u001b[0m=\u001b[32m'A man walked into a library and asked the librarian, \"Do you have any books on Pavlov\\'s \u001b[0m\n",
       "\u001b[32mdogs and Schrödinger\\'s cat?\"\\n\\nThe librarian replied, \"It rings a bell, but I\\'m not sure if it\\'s here or \u001b[0m\n",
       "\u001b[32mnot.\"'\u001b[0m,\n",
       "                \u001b[33mpart_kind\u001b[0m=\u001b[32m'text'\u001b[0m\n",
       "            \u001b[1m)\u001b[0m\n",
       "        \u001b[1m]\u001b[0m,\n",
       "        \u001b[33mtimestamp\u001b[0m=\u001b[1;35mdatetime\u001b[0m\u001b[1;35m.datetime\u001b[0m\u001b[1m(\u001b[0m\u001b[1;36m2024\u001b[0m, \u001b[1;36m12\u001b[0m, \u001b[1;36m30\u001b[0m, \u001b[1;36m18\u001b[0m, \u001b[1;36m3\u001b[0m, \u001b[1;36m35\u001b[0m, \u001b[33mtzinfo\u001b[0m=\u001b[35mdatetime\u001b[0m.timezone.utc\u001b[1m)\u001b[0m,\n",
       "        \u001b[33mkind\u001b[0m=\u001b[32m'response'\u001b[0m\n",
       "    \u001b[1m)\u001b[0m,\n",
       "    \u001b[1;35mModelRequest\u001b[0m\u001b[1m(\u001b[0m\n",
       "        \u001b[33mparts\u001b[0m=\u001b[1m[\u001b[0m\n",
       "            \u001b[1;35mUserPromptPart\u001b[0m\u001b[1m(\u001b[0m\n",
       "                \u001b[33mcontent\u001b[0m=\u001b[32m'Explain '\u001b[0m,\n",
       "                \u001b[33mtimestamp\u001b[0m=\u001b[1;35mdatetime\u001b[0m\u001b[1;35m.datetime\u001b[0m\u001b[1m(\u001b[0m\u001b[1;36m2024\u001b[0m, \u001b[1;36m12\u001b[0m, \u001b[1;36m30\u001b[0m, \u001b[1;36m18\u001b[0m, \u001b[1;36m3\u001b[0m, \u001b[1;36m30\u001b[0m, \u001b[1;36m111807\u001b[0m, \u001b[33mtzinfo\u001b[0m=\u001b[35mdatetime\u001b[0m.timezone.utc\u001b[1m)\u001b[0m,\n",
       "                \u001b[33mpart_kind\u001b[0m=\u001b[32m'user-prompt'\u001b[0m\n",
       "            \u001b[1m)\u001b[0m\n",
       "        \u001b[1m]\u001b[0m,\n",
       "        \u001b[33mkind\u001b[0m=\u001b[32m'request'\u001b[0m\n",
       "    \u001b[1m)\u001b[0m,\n",
       "    \u001b[1;35mModelResponse\u001b[0m\u001b[1m(\u001b[0m\n",
       "        \u001b[33mparts\u001b[0m=\u001b[1m[\u001b[0m\n",
       "            \u001b[1;35mTextPart\u001b[0m\u001b[1m(\u001b[0m\n",
       "                \u001b[33mcontent\u001b[0m=\u001b[32m'This joke plays on two scientific concepts: Pavlov\\'s dogs, a classic experiment where \u001b[0m\n",
       "\u001b[32mIvan Pavlov showed that dogs \u001b[0m\u001b[32m(\u001b[0m\u001b[32mand humans\u001b[0m\u001b[32m)\u001b[0m\u001b[32m can become conditioned to associate a neutral stimulus with a stressful \u001b[0m\n",
       "\u001b[32mor neutral one, leading to an automatic response.\\n\\nSchrödinger\\'s cat was a thought experiment created by Erwin \u001b[0m\n",
       "\u001b[32mSchrödinger, a physicist, where he said that a cat is both alive AND dead at the same time until an observer \u001b[0m\n",
       "\u001b[32mcatches it. This is because the act of observation itself can \"reduce\" the superposition of states and cause the \u001b[0m\n",
       "\u001b[32mcat\\'s state to be definitively decided.\\n\\nIn the joke, the librarian asks if the man has a book on both Pavlov\\'s\u001b[0m\n",
       "\u001b[32mdogs and Schrödinger\\'s cat. \"It rings a bell,\" she says, a classic reference to Pavlov\\'s dogs. However, \"I\\'m not\u001b[0m\n",
       "\u001b[32msure if it\\'s here or not.\" \\n\\nThe word \"bell\" is a clever play on words. In this context, it means that the \u001b[0m\n",
       "\u001b[32mquestion is being asked if the book exists \u001b[0m\u001b[32m(\u001b[0m\u001b[32mbeing \"rings a bell\"\u001b[0m\u001b[32m)\u001b[0m\u001b[32m, but it also references the Russian physicist for\u001b[0m\n",
       "\u001b[32mthe second part of the sentence, which could be interpreted as saying that the book doesn\\'t exist \u001b[0m\u001b[32m(\u001b[0m\u001b[32mbeing \"not not\"\u001b[0m\n",
       "\u001b[32mor \"un exist\"\u001b[0m\u001b[32m)\u001b[0m\u001b[32m.\\n\\nThe punchline is that the librarian\\'s response somehow connects the concept of Pavlov\\'s dogs \u001b[0m\n",
       "\u001b[32mwith Schrödinger\\'s cat in a peculiar way, creating a humorous and unexpected connection between the two.'\u001b[0m,\n",
       "                \u001b[33mpart_kind\u001b[0m=\u001b[32m'text'\u001b[0m\n",
       "            \u001b[1m)\u001b[0m\n",
       "        \u001b[1m]\u001b[0m,\n",
       "        \u001b[33mtimestamp\u001b[0m=\u001b[1;35mdatetime\u001b[0m\u001b[1;35m.datetime\u001b[0m\u001b[1m(\u001b[0m\u001b[1;36m2024\u001b[0m, \u001b[1;36m12\u001b[0m, \u001b[1;36m30\u001b[0m, \u001b[1;36m18\u001b[0m, \u001b[1;36m3\u001b[0m, \u001b[1;36m35\u001b[0m, \u001b[33mtzinfo\u001b[0m=\u001b[35mdatetime\u001b[0m.timezone.utc\u001b[1m)\u001b[0m,\n",
       "        \u001b[33mkind\u001b[0m=\u001b[32m'response'\u001b[0m\n",
       "    \u001b[1m)\u001b[0m\n",
       "\u001b[1m]\u001b[0m\n"
      ]
     },
     "metadata": {},
     "output_type": "display_data"
    },
    {
     "data": {
      "text/html": [
       "<pre style=\"white-space:pre;overflow-x:auto;line-height:normal;font-family:Menlo,'DejaVu Sans Mono',consolas,'Courier New',monospace\"><span style=\"font-weight: bold\">[</span>\n",
       "    <span style=\"color: #800080; text-decoration-color: #800080; font-weight: bold\">ModelRequest</span><span style=\"font-weight: bold\">(</span>\n",
       "        <span style=\"color: #808000; text-decoration-color: #808000\">parts</span>=<span style=\"font-weight: bold\">[</span>\n",
       "            <span style=\"color: #800080; text-decoration-color: #800080; font-weight: bold\">UserPromptPart</span><span style=\"font-weight: bold\">(</span>\n",
       "                <span style=\"color: #808000; text-decoration-color: #808000\">content</span>=<span style=\"color: #008000; text-decoration-color: #008000\">'Explain '</span>,\n",
       "                <span style=\"color: #808000; text-decoration-color: #808000\">timestamp</span>=<span style=\"color: #800080; text-decoration-color: #800080; font-weight: bold\">datetime</span><span style=\"color: #800080; text-decoration-color: #800080; font-weight: bold\">.datetime</span><span style=\"font-weight: bold\">(</span><span style=\"color: #008080; text-decoration-color: #008080; font-weight: bold\">2024</span>, <span style=\"color: #008080; text-decoration-color: #008080; font-weight: bold\">12</span>, <span style=\"color: #008080; text-decoration-color: #008080; font-weight: bold\">30</span>, <span style=\"color: #008080; text-decoration-color: #008080; font-weight: bold\">18</span>, <span style=\"color: #008080; text-decoration-color: #008080; font-weight: bold\">3</span>, <span style=\"color: #008080; text-decoration-color: #008080; font-weight: bold\">30</span>, <span style=\"color: #008080; text-decoration-color: #008080; font-weight: bold\">111807</span>, <span style=\"color: #808000; text-decoration-color: #808000\">tzinfo</span>=<span style=\"color: #800080; text-decoration-color: #800080\">datetime</span>.timezone.utc<span style=\"font-weight: bold\">)</span>,\n",
       "                <span style=\"color: #808000; text-decoration-color: #808000\">part_kind</span>=<span style=\"color: #008000; text-decoration-color: #008000\">'user-prompt'</span>\n",
       "            <span style=\"font-weight: bold\">)</span>\n",
       "        <span style=\"font-weight: bold\">]</span>,\n",
       "        <span style=\"color: #808000; text-decoration-color: #808000\">kind</span>=<span style=\"color: #008000; text-decoration-color: #008000\">'request'</span>\n",
       "    <span style=\"font-weight: bold\">)</span>,\n",
       "    <span style=\"color: #800080; text-decoration-color: #800080; font-weight: bold\">ModelResponse</span><span style=\"font-weight: bold\">(</span>\n",
       "        <span style=\"color: #808000; text-decoration-color: #808000\">parts</span>=<span style=\"font-weight: bold\">[</span>\n",
       "            <span style=\"color: #800080; text-decoration-color: #800080; font-weight: bold\">TextPart</span><span style=\"font-weight: bold\">(</span>\n",
       "                <span style=\"color: #808000; text-decoration-color: #808000\">content</span>=<span style=\"color: #008000; text-decoration-color: #008000\">'This joke plays on two scientific concepts: Pavlov\\'s dogs, a classic experiment where </span>\n",
       "<span style=\"color: #008000; text-decoration-color: #008000\">Ivan Pavlov showed that dogs (and humans) can become conditioned to associate a neutral stimulus with a stressful </span>\n",
       "<span style=\"color: #008000; text-decoration-color: #008000\">or neutral one, leading to an automatic response.\\n\\nSchrödinger\\'s cat was a thought experiment created by Erwin </span>\n",
       "<span style=\"color: #008000; text-decoration-color: #008000\">Schrödinger, a physicist, where he said that a cat is both alive AND dead at the same time until an observer </span>\n",
       "<span style=\"color: #008000; text-decoration-color: #008000\">catches it. This is because the act of observation itself can \"reduce\" the superposition of states and cause the </span>\n",
       "<span style=\"color: #008000; text-decoration-color: #008000\">cat\\'s state to be definitively decided.\\n\\nIn the joke, the librarian asks if the man has a book on both Pavlov\\'s</span>\n",
       "<span style=\"color: #008000; text-decoration-color: #008000\">dogs and Schrödinger\\'s cat. \"It rings a bell,\" she says, a classic reference to Pavlov\\'s dogs. However, \"I\\'m not</span>\n",
       "<span style=\"color: #008000; text-decoration-color: #008000\">sure if it\\'s here or not.\" \\n\\nThe word \"bell\" is a clever play on words. In this context, it means that the </span>\n",
       "<span style=\"color: #008000; text-decoration-color: #008000\">question is being asked if the book exists (being \"rings a bell\"), but it also references the Russian physicist for</span>\n",
       "<span style=\"color: #008000; text-decoration-color: #008000\">the second part of the sentence, which could be interpreted as saying that the book doesn\\'t exist (being \"not not\"</span>\n",
       "<span style=\"color: #008000; text-decoration-color: #008000\">or \"un exist\").\\n\\nThe punchline is that the librarian\\'s response somehow connects the concept of Pavlov\\'s dogs </span>\n",
       "<span style=\"color: #008000; text-decoration-color: #008000\">with Schrödinger\\'s cat in a peculiar way, creating a humorous and unexpected connection between the two.'</span>,\n",
       "                <span style=\"color: #808000; text-decoration-color: #808000\">part_kind</span>=<span style=\"color: #008000; text-decoration-color: #008000\">'text'</span>\n",
       "            <span style=\"font-weight: bold\">)</span>\n",
       "        <span style=\"font-weight: bold\">]</span>,\n",
       "        <span style=\"color: #808000; text-decoration-color: #808000\">timestamp</span>=<span style=\"color: #800080; text-decoration-color: #800080; font-weight: bold\">datetime</span><span style=\"color: #800080; text-decoration-color: #800080; font-weight: bold\">.datetime</span><span style=\"font-weight: bold\">(</span><span style=\"color: #008080; text-decoration-color: #008080; font-weight: bold\">2024</span>, <span style=\"color: #008080; text-decoration-color: #008080; font-weight: bold\">12</span>, <span style=\"color: #008080; text-decoration-color: #008080; font-weight: bold\">30</span>, <span style=\"color: #008080; text-decoration-color: #008080; font-weight: bold\">18</span>, <span style=\"color: #008080; text-decoration-color: #008080; font-weight: bold\">3</span>, <span style=\"color: #008080; text-decoration-color: #008080; font-weight: bold\">35</span>, <span style=\"color: #808000; text-decoration-color: #808000\">tzinfo</span>=<span style=\"color: #800080; text-decoration-color: #800080\">datetime</span>.timezone.utc<span style=\"font-weight: bold\">)</span>,\n",
       "        <span style=\"color: #808000; text-decoration-color: #808000\">kind</span>=<span style=\"color: #008000; text-decoration-color: #008000\">'response'</span>\n",
       "    <span style=\"font-weight: bold\">)</span>\n",
       "<span style=\"font-weight: bold\">]</span>\n",
       "</pre>\n"
      ],
      "text/plain": [
       "\u001b[1m[\u001b[0m\n",
       "    \u001b[1;35mModelRequest\u001b[0m\u001b[1m(\u001b[0m\n",
       "        \u001b[33mparts\u001b[0m=\u001b[1m[\u001b[0m\n",
       "            \u001b[1;35mUserPromptPart\u001b[0m\u001b[1m(\u001b[0m\n",
       "                \u001b[33mcontent\u001b[0m=\u001b[32m'Explain '\u001b[0m,\n",
       "                \u001b[33mtimestamp\u001b[0m=\u001b[1;35mdatetime\u001b[0m\u001b[1;35m.datetime\u001b[0m\u001b[1m(\u001b[0m\u001b[1;36m2024\u001b[0m, \u001b[1;36m12\u001b[0m, \u001b[1;36m30\u001b[0m, \u001b[1;36m18\u001b[0m, \u001b[1;36m3\u001b[0m, \u001b[1;36m30\u001b[0m, \u001b[1;36m111807\u001b[0m, \u001b[33mtzinfo\u001b[0m=\u001b[35mdatetime\u001b[0m.timezone.utc\u001b[1m)\u001b[0m,\n",
       "                \u001b[33mpart_kind\u001b[0m=\u001b[32m'user-prompt'\u001b[0m\n",
       "            \u001b[1m)\u001b[0m\n",
       "        \u001b[1m]\u001b[0m,\n",
       "        \u001b[33mkind\u001b[0m=\u001b[32m'request'\u001b[0m\n",
       "    \u001b[1m)\u001b[0m,\n",
       "    \u001b[1;35mModelResponse\u001b[0m\u001b[1m(\u001b[0m\n",
       "        \u001b[33mparts\u001b[0m=\u001b[1m[\u001b[0m\n",
       "            \u001b[1;35mTextPart\u001b[0m\u001b[1m(\u001b[0m\n",
       "                \u001b[33mcontent\u001b[0m=\u001b[32m'This joke plays on two scientific concepts: Pavlov\\'s dogs, a classic experiment where \u001b[0m\n",
       "\u001b[32mIvan Pavlov showed that dogs \u001b[0m\u001b[32m(\u001b[0m\u001b[32mand humans\u001b[0m\u001b[32m)\u001b[0m\u001b[32m can become conditioned to associate a neutral stimulus with a stressful \u001b[0m\n",
       "\u001b[32mor neutral one, leading to an automatic response.\\n\\nSchrödinger\\'s cat was a thought experiment created by Erwin \u001b[0m\n",
       "\u001b[32mSchrödinger, a physicist, where he said that a cat is both alive AND dead at the same time until an observer \u001b[0m\n",
       "\u001b[32mcatches it. This is because the act of observation itself can \"reduce\" the superposition of states and cause the \u001b[0m\n",
       "\u001b[32mcat\\'s state to be definitively decided.\\n\\nIn the joke, the librarian asks if the man has a book on both Pavlov\\'s\u001b[0m\n",
       "\u001b[32mdogs and Schrödinger\\'s cat. \"It rings a bell,\" she says, a classic reference to Pavlov\\'s dogs. However, \"I\\'m not\u001b[0m\n",
       "\u001b[32msure if it\\'s here or not.\" \\n\\nThe word \"bell\" is a clever play on words. In this context, it means that the \u001b[0m\n",
       "\u001b[32mquestion is being asked if the book exists \u001b[0m\u001b[32m(\u001b[0m\u001b[32mbeing \"rings a bell\"\u001b[0m\u001b[32m)\u001b[0m\u001b[32m, but it also references the Russian physicist for\u001b[0m\n",
       "\u001b[32mthe second part of the sentence, which could be interpreted as saying that the book doesn\\'t exist \u001b[0m\u001b[32m(\u001b[0m\u001b[32mbeing \"not not\"\u001b[0m\n",
       "\u001b[32mor \"un exist\"\u001b[0m\u001b[32m)\u001b[0m\u001b[32m.\\n\\nThe punchline is that the librarian\\'s response somehow connects the concept of Pavlov\\'s dogs \u001b[0m\n",
       "\u001b[32mwith Schrödinger\\'s cat in a peculiar way, creating a humorous and unexpected connection between the two.'\u001b[0m,\n",
       "                \u001b[33mpart_kind\u001b[0m=\u001b[32m'text'\u001b[0m\n",
       "            \u001b[1m)\u001b[0m\n",
       "        \u001b[1m]\u001b[0m,\n",
       "        \u001b[33mtimestamp\u001b[0m=\u001b[1;35mdatetime\u001b[0m\u001b[1;35m.datetime\u001b[0m\u001b[1m(\u001b[0m\u001b[1;36m2024\u001b[0m, \u001b[1;36m12\u001b[0m, \u001b[1;36m30\u001b[0m, \u001b[1;36m18\u001b[0m, \u001b[1;36m3\u001b[0m, \u001b[1;36m35\u001b[0m, \u001b[33mtzinfo\u001b[0m=\u001b[35mdatetime\u001b[0m.timezone.utc\u001b[1m)\u001b[0m,\n",
       "        \u001b[33mkind\u001b[0m=\u001b[32m'response'\u001b[0m\n",
       "    \u001b[1m)\u001b[0m\n",
       "\u001b[1m]\u001b[0m\n"
      ]
     },
     "metadata": {},
     "output_type": "display_data"
    }
   ],
   "source": [
    "from pydantic_ai import Agent\n",
    "\n",
    "agent = Agent(\n",
    "    'groq:llama-3.2-1b-preview',\n",
    "    system_prompt=\"Be a helpful assistant\"\n",
    ")\n",
    "\n",
    "result1=  agent.run_sync('tell me a joke.')\n",
    "pprint(result1.data)\n",
    "\n",
    "pprint(result1.new_messages())\n",
    "result2 = agent.run_sync('Explain ' , message_history=result1.new_messages())\n",
    "\n",
    "pprint(result2.all_messages())\n",
    "pprint(result2.new_messages())\n",
    "\n"
   ]
  },
  {
   "cell_type": "code",
   "execution_count": 79,
   "metadata": {},
   "outputs": [
    {
     "data": {
      "text/html": [
       "<pre style=\"white-space:pre;overflow-x:auto;line-height:normal;font-family:Menlo,'DejaVu Sans Mono',consolas,'Courier New',monospace\"><span style=\"font-weight: bold\">[</span>\n",
       "    <span style=\"color: #800080; text-decoration-color: #800080; font-weight: bold\">ModelRequest</span><span style=\"font-weight: bold\">(</span>\n",
       "        <span style=\"color: #808000; text-decoration-color: #808000\">parts</span>=<span style=\"font-weight: bold\">[</span>\n",
       "            <span style=\"color: #800080; text-decoration-color: #800080; font-weight: bold\">UserPromptPart</span><span style=\"font-weight: bold\">(</span>\n",
       "                <span style=\"color: #808000; text-decoration-color: #808000\">content</span>=<span style=\"color: #008000; text-decoration-color: #008000\">'Hello'</span>,\n",
       "                <span style=\"color: #808000; text-decoration-color: #808000\">timestamp</span>=<span style=\"color: #800080; text-decoration-color: #800080; font-weight: bold\">datetime</span><span style=\"color: #800080; text-decoration-color: #800080; font-weight: bold\">.datetime</span><span style=\"font-weight: bold\">(</span><span style=\"color: #008080; text-decoration-color: #008080; font-weight: bold\">2024</span>, <span style=\"color: #008080; text-decoration-color: #008080; font-weight: bold\">12</span>, <span style=\"color: #008080; text-decoration-color: #008080; font-weight: bold\">30</span>, <span style=\"color: #008080; text-decoration-color: #008080; font-weight: bold\">18</span>, <span style=\"color: #008080; text-decoration-color: #008080; font-weight: bold\">6</span>, <span style=\"color: #008080; text-decoration-color: #008080; font-weight: bold\">45</span>, <span style=\"color: #008080; text-decoration-color: #008080; font-weight: bold\">207481</span>, <span style=\"color: #808000; text-decoration-color: #808000\">tzinfo</span>=<span style=\"color: #800080; text-decoration-color: #800080\">datetime</span>.timezone.utc<span style=\"font-weight: bold\">)</span>,\n",
       "                <span style=\"color: #808000; text-decoration-color: #808000\">part_kind</span>=<span style=\"color: #008000; text-decoration-color: #008000\">'user-prompt'</span>\n",
       "            <span style=\"font-weight: bold\">)</span>\n",
       "        <span style=\"font-weight: bold\">]</span>,\n",
       "        <span style=\"color: #808000; text-decoration-color: #808000\">kind</span>=<span style=\"color: #008000; text-decoration-color: #008000\">'request'</span>\n",
       "    <span style=\"font-weight: bold\">)</span>,\n",
       "    <span style=\"color: #800080; text-decoration-color: #800080; font-weight: bold\">ModelResponse</span><span style=\"font-weight: bold\">(</span>\n",
       "        <span style=\"color: #808000; text-decoration-color: #808000\">parts</span>=<span style=\"font-weight: bold\">[</span>\n",
       "            <span style=\"color: #800080; text-decoration-color: #800080; font-weight: bold\">TextPart</span><span style=\"font-weight: bold\">(</span>\n",
       "                <span style=\"color: #808000; text-decoration-color: #808000\">content</span>=<span style=\"color: #008000; text-decoration-color: #008000\">'Hello! Is there something I can help you with or would you like to chat today?'</span>,\n",
       "                <span style=\"color: #808000; text-decoration-color: #808000\">part_kind</span>=<span style=\"color: #008000; text-decoration-color: #008000\">'text'</span>\n",
       "            <span style=\"font-weight: bold\">)</span>\n",
       "        <span style=\"font-weight: bold\">]</span>,\n",
       "        <span style=\"color: #808000; text-decoration-color: #808000\">timestamp</span>=<span style=\"color: #800080; text-decoration-color: #800080; font-weight: bold\">datetime</span><span style=\"color: #800080; text-decoration-color: #800080; font-weight: bold\">.datetime</span><span style=\"font-weight: bold\">(</span><span style=\"color: #008080; text-decoration-color: #008080; font-weight: bold\">2024</span>, <span style=\"color: #008080; text-decoration-color: #008080; font-weight: bold\">12</span>, <span style=\"color: #008080; text-decoration-color: #008080; font-weight: bold\">30</span>, <span style=\"color: #008080; text-decoration-color: #008080; font-weight: bold\">18</span>, <span style=\"color: #008080; text-decoration-color: #008080; font-weight: bold\">6</span>, <span style=\"color: #008080; text-decoration-color: #008080; font-weight: bold\">51</span>, <span style=\"color: #808000; text-decoration-color: #808000\">tzinfo</span>=<span style=\"color: #800080; text-decoration-color: #800080\">datetime</span>.timezone.utc<span style=\"font-weight: bold\">)</span>,\n",
       "        <span style=\"color: #808000; text-decoration-color: #808000\">kind</span>=<span style=\"color: #008000; text-decoration-color: #008000\">'response'</span>\n",
       "    <span style=\"font-weight: bold\">)</span>\n",
       "<span style=\"font-weight: bold\">]</span>\n",
       "</pre>\n"
      ],
      "text/plain": [
       "\u001b[1m[\u001b[0m\n",
       "    \u001b[1;35mModelRequest\u001b[0m\u001b[1m(\u001b[0m\n",
       "        \u001b[33mparts\u001b[0m=\u001b[1m[\u001b[0m\n",
       "            \u001b[1;35mUserPromptPart\u001b[0m\u001b[1m(\u001b[0m\n",
       "                \u001b[33mcontent\u001b[0m=\u001b[32m'Hello'\u001b[0m,\n",
       "                \u001b[33mtimestamp\u001b[0m=\u001b[1;35mdatetime\u001b[0m\u001b[1;35m.datetime\u001b[0m\u001b[1m(\u001b[0m\u001b[1;36m2024\u001b[0m, \u001b[1;36m12\u001b[0m, \u001b[1;36m30\u001b[0m, \u001b[1;36m18\u001b[0m, \u001b[1;36m6\u001b[0m, \u001b[1;36m45\u001b[0m, \u001b[1;36m207481\u001b[0m, \u001b[33mtzinfo\u001b[0m=\u001b[35mdatetime\u001b[0m.timezone.utc\u001b[1m)\u001b[0m,\n",
       "                \u001b[33mpart_kind\u001b[0m=\u001b[32m'user-prompt'\u001b[0m\n",
       "            \u001b[1m)\u001b[0m\n",
       "        \u001b[1m]\u001b[0m,\n",
       "        \u001b[33mkind\u001b[0m=\u001b[32m'request'\u001b[0m\n",
       "    \u001b[1m)\u001b[0m,\n",
       "    \u001b[1;35mModelResponse\u001b[0m\u001b[1m(\u001b[0m\n",
       "        \u001b[33mparts\u001b[0m=\u001b[1m[\u001b[0m\n",
       "            \u001b[1;35mTextPart\u001b[0m\u001b[1m(\u001b[0m\n",
       "                \u001b[33mcontent\u001b[0m=\u001b[32m'Hello! Is there something I can help you with or would you like to chat today?'\u001b[0m,\n",
       "                \u001b[33mpart_kind\u001b[0m=\u001b[32m'text'\u001b[0m\n",
       "            \u001b[1m)\u001b[0m\n",
       "        \u001b[1m]\u001b[0m,\n",
       "        \u001b[33mtimestamp\u001b[0m=\u001b[1;35mdatetime\u001b[0m\u001b[1;35m.datetime\u001b[0m\u001b[1m(\u001b[0m\u001b[1;36m2024\u001b[0m, \u001b[1;36m12\u001b[0m, \u001b[1;36m30\u001b[0m, \u001b[1;36m18\u001b[0m, \u001b[1;36m6\u001b[0m, \u001b[1;36m51\u001b[0m, \u001b[33mtzinfo\u001b[0m=\u001b[35mdatetime\u001b[0m.timezone.utc\u001b[1m)\u001b[0m,\n",
       "        \u001b[33mkind\u001b[0m=\u001b[32m'response'\u001b[0m\n",
       "    \u001b[1m)\u001b[0m\n",
       "\u001b[1m]\u001b[0m\n"
      ]
     },
     "metadata": {},
     "output_type": "display_data"
    }
   ],
   "source": [
    "from pydantic_ai import Agent\n",
    "\n",
    "agent = Agent(\n",
    "    'groq:llama-3.2-1b-preview',\n",
    ")\n",
    "\n",
    "result = agent.run_sync(\"Hello\")\n",
    "pprint(result.all_messages())"
   ]
  },
  {
   "cell_type": "code",
   "execution_count": 98,
   "metadata": {},
   "outputs": [
    {
     "data": {
      "text/html": [
       "<pre style=\"white-space:pre;overflow-x:auto;line-height:normal;font-family:Menlo,'DejaVu Sans Mono',consolas,'Courier New',monospace\"><span style=\"color: #800080; text-decoration-color: #800080; font-weight: bold\">CityLocation</span><span style=\"font-weight: bold\">(</span><span style=\"color: #808000; text-decoration-color: #808000\">city</span>=<span style=\"color: #008000; text-decoration-color: #008000\">'Paris'</span>, <span style=\"color: #808000; text-decoration-color: #808000\">country</span>=<span style=\"color: #008000; text-decoration-color: #008000\">'France'</span><span style=\"font-weight: bold\">)</span>\n",
       "</pre>\n"
      ],
      "text/plain": [
       "\u001b[1;35mCityLocation\u001b[0m\u001b[1m(\u001b[0m\u001b[33mcity\u001b[0m=\u001b[32m'Paris'\u001b[0m, \u001b[33mcountry\u001b[0m=\u001b[32m'France'\u001b[0m\u001b[1m)\u001b[0m\n"
      ]
     },
     "metadata": {},
     "output_type": "display_data"
    },
    {
     "data": {
      "text/html": [
       "<pre style=\"white-space:pre;overflow-x:auto;line-height:normal;font-family:Menlo,'DejaVu Sans Mono',consolas,'Courier New',monospace\"><span style=\"font-weight: bold\">&lt;</span><span style=\"color: #ff00ff; text-decoration-color: #ff00ff; font-weight: bold\">bound</span><span style=\"color: #000000; text-decoration-color: #000000\"> method RunResult.usage of </span><span style=\"color: #800080; text-decoration-color: #800080; font-weight: bold\">RunResult</span><span style=\"color: #000000; text-decoration-color: #000000; font-weight: bold\">(</span><span style=\"color: #808000; text-decoration-color: #808000\">_all_messages</span><span style=\"color: #000000; text-decoration-color: #000000\">=</span><span style=\"color: #000000; text-decoration-color: #000000; font-weight: bold\">[</span><span style=\"color: #800080; text-decoration-color: #800080; font-weight: bold\">ModelRequest</span><span style=\"color: #000000; text-decoration-color: #000000; font-weight: bold\">(</span><span style=\"color: #808000; text-decoration-color: #808000\">parts</span><span style=\"color: #000000; text-decoration-color: #000000\">=</span><span style=\"color: #000000; text-decoration-color: #000000; font-weight: bold\">[</span><span style=\"color: #800080; text-decoration-color: #800080; font-weight: bold\">UserPromptPart</span><span style=\"color: #000000; text-decoration-color: #000000; font-weight: bold\">(</span><span style=\"color: #808000; text-decoration-color: #808000\">content</span><span style=\"color: #000000; text-decoration-color: #000000\">=</span><span style=\"color: #008000; text-decoration-color: #008000\">'Where were </span>\n",
       "<span style=\"color: #008000; text-decoration-color: #008000\">the olympics held in 2024'</span><span style=\"color: #000000; text-decoration-color: #000000\">, </span><span style=\"color: #808000; text-decoration-color: #808000\">timestamp</span><span style=\"color: #000000; text-decoration-color: #000000\">=</span><span style=\"color: #800080; text-decoration-color: #800080; font-weight: bold\">datetime</span><span style=\"color: #800080; text-decoration-color: #800080; font-weight: bold\">.datetime</span><span style=\"color: #000000; text-decoration-color: #000000; font-weight: bold\">(</span><span style=\"color: #008080; text-decoration-color: #008080; font-weight: bold\">2024</span><span style=\"color: #000000; text-decoration-color: #000000\">, </span><span style=\"color: #008080; text-decoration-color: #008080; font-weight: bold\">12</span><span style=\"color: #000000; text-decoration-color: #000000\">, </span><span style=\"color: #008080; text-decoration-color: #008080; font-weight: bold\">30</span><span style=\"color: #000000; text-decoration-color: #000000\">, </span><span style=\"color: #008080; text-decoration-color: #008080; font-weight: bold\">18</span><span style=\"color: #000000; text-decoration-color: #000000\">, </span><span style=\"color: #008080; text-decoration-color: #008080; font-weight: bold\">21</span><span style=\"color: #000000; text-decoration-color: #000000\">, </span><span style=\"color: #008080; text-decoration-color: #008080; font-weight: bold\">41</span><span style=\"color: #000000; text-decoration-color: #000000\">, </span><span style=\"color: #008080; text-decoration-color: #008080; font-weight: bold\">543808</span><span style=\"color: #000000; text-decoration-color: #000000\">, </span>\n",
       "<span style=\"color: #808000; text-decoration-color: #808000\">tzinfo</span><span style=\"color: #000000; text-decoration-color: #000000\">=</span><span style=\"color: #800080; text-decoration-color: #800080\">datetime</span><span style=\"color: #000000; text-decoration-color: #000000\">.timezone.utc</span><span style=\"color: #000000; text-decoration-color: #000000; font-weight: bold\">)</span><span style=\"color: #000000; text-decoration-color: #000000\">, </span><span style=\"color: #808000; text-decoration-color: #808000\">part_kind</span><span style=\"color: #000000; text-decoration-color: #000000\">=</span><span style=\"color: #008000; text-decoration-color: #008000\">'user-prompt'</span><span style=\"color: #000000; text-decoration-color: #000000; font-weight: bold\">)]</span><span style=\"color: #000000; text-decoration-color: #000000\">, </span><span style=\"color: #808000; text-decoration-color: #808000\">kind</span><span style=\"color: #000000; text-decoration-color: #000000\">=</span><span style=\"color: #008000; text-decoration-color: #008000\">'request'</span><span style=\"color: #000000; text-decoration-color: #000000; font-weight: bold\">)</span><span style=\"color: #000000; text-decoration-color: #000000\">, </span>\n",
       "<span style=\"color: #800080; text-decoration-color: #800080; font-weight: bold\">ModelResponse</span><span style=\"color: #000000; text-decoration-color: #000000; font-weight: bold\">(</span><span style=\"color: #808000; text-decoration-color: #808000\">parts</span><span style=\"color: #000000; text-decoration-color: #000000\">=</span><span style=\"color: #000000; text-decoration-color: #000000; font-weight: bold\">[</span><span style=\"color: #800080; text-decoration-color: #800080; font-weight: bold\">ToolCallPart</span><span style=\"color: #000000; text-decoration-color: #000000; font-weight: bold\">(</span><span style=\"color: #808000; text-decoration-color: #808000\">tool_name</span><span style=\"color: #000000; text-decoration-color: #000000\">=</span><span style=\"color: #008000; text-decoration-color: #008000\">'final_result'</span><span style=\"color: #000000; text-decoration-color: #000000\">, </span><span style=\"color: #808000; text-decoration-color: #808000\">args</span><span style=\"color: #000000; text-decoration-color: #000000\">=</span><span style=\"color: #800080; text-decoration-color: #800080; font-weight: bold\">ArgsJson</span><span style=\"color: #000000; text-decoration-color: #000000; font-weight: bold\">(</span><span style=\"color: #808000; text-decoration-color: #808000\">args_json</span><span style=\"color: #000000; text-decoration-color: #000000\">=</span><span style=\"color: #008000; text-decoration-color: #008000\">'{\"city\": \"Paris\", \"country\": </span>\n",
       "<span style=\"color: #008000; text-decoration-color: #008000\">\"France\"}'</span><span style=\"color: #000000; text-decoration-color: #000000; font-weight: bold\">)</span><span style=\"color: #000000; text-decoration-color: #000000\">, </span><span style=\"color: #808000; text-decoration-color: #808000\">tool_call_id</span><span style=\"color: #000000; text-decoration-color: #000000\">=</span><span style=\"color: #008000; text-decoration-color: #008000\">'call_8sxf'</span><span style=\"color: #000000; text-decoration-color: #000000\">, </span><span style=\"color: #808000; text-decoration-color: #808000\">part_kind</span><span style=\"color: #000000; text-decoration-color: #000000\">=</span><span style=\"color: #008000; text-decoration-color: #008000\">'tool-call'</span><span style=\"color: #000000; text-decoration-color: #000000; font-weight: bold\">)]</span><span style=\"color: #000000; text-decoration-color: #000000\">, </span><span style=\"color: #808000; text-decoration-color: #808000\">timestamp</span><span style=\"color: #000000; text-decoration-color: #000000\">=</span><span style=\"color: #800080; text-decoration-color: #800080; font-weight: bold\">datetime</span><span style=\"color: #800080; text-decoration-color: #800080; font-weight: bold\">.datetime</span><span style=\"color: #000000; text-decoration-color: #000000; font-weight: bold\">(</span><span style=\"color: #008080; text-decoration-color: #008080; font-weight: bold\">2024</span><span style=\"color: #000000; text-decoration-color: #000000\">, </span><span style=\"color: #008080; text-decoration-color: #008080; font-weight: bold\">12</span><span style=\"color: #000000; text-decoration-color: #000000\">, </span><span style=\"color: #008080; text-decoration-color: #008080; font-weight: bold\">30</span><span style=\"color: #000000; text-decoration-color: #000000\">, </span><span style=\"color: #008080; text-decoration-color: #008080; font-weight: bold\">18</span><span style=\"color: #000000; text-decoration-color: #000000\">, </span><span style=\"color: #008080; text-decoration-color: #008080; font-weight: bold\">21</span><span style=\"color: #000000; text-decoration-color: #000000\">, </span>\n",
       "<span style=\"color: #008080; text-decoration-color: #008080; font-weight: bold\">49</span><span style=\"color: #000000; text-decoration-color: #000000\">, </span><span style=\"color: #808000; text-decoration-color: #808000\">tzinfo</span><span style=\"color: #000000; text-decoration-color: #000000\">=</span><span style=\"color: #800080; text-decoration-color: #800080\">datetime</span><span style=\"color: #000000; text-decoration-color: #000000\">.timezone.utc</span><span style=\"color: #000000; text-decoration-color: #000000; font-weight: bold\">)</span><span style=\"color: #000000; text-decoration-color: #000000\">, </span><span style=\"color: #808000; text-decoration-color: #808000\">kind</span><span style=\"color: #000000; text-decoration-color: #000000\">=</span><span style=\"color: #008000; text-decoration-color: #008000\">'response'</span><span style=\"color: #000000; text-decoration-color: #000000; font-weight: bold\">)</span><span style=\"color: #000000; text-decoration-color: #000000\">, </span><span style=\"color: #800080; text-decoration-color: #800080; font-weight: bold\">ModelRequest</span><span style=\"color: #000000; text-decoration-color: #000000; font-weight: bold\">(</span><span style=\"color: #808000; text-decoration-color: #808000\">parts</span><span style=\"color: #000000; text-decoration-color: #000000\">=</span><span style=\"color: #000000; text-decoration-color: #000000; font-weight: bold\">[</span><span style=\"color: #800080; text-decoration-color: #800080; font-weight: bold\">ToolReturnPart</span><span style=\"color: #000000; text-decoration-color: #000000; font-weight: bold\">(</span><span style=\"color: #808000; text-decoration-color: #808000\">tool_name</span><span style=\"color: #000000; text-decoration-color: #000000\">=</span><span style=\"color: #008000; text-decoration-color: #008000\">'final_result'</span><span style=\"color: #000000; text-decoration-color: #000000\">, </span>\n",
       "<span style=\"color: #808000; text-decoration-color: #808000\">content</span><span style=\"color: #000000; text-decoration-color: #000000\">=</span><span style=\"color: #008000; text-decoration-color: #008000\">'Final result processed.'</span><span style=\"color: #000000; text-decoration-color: #000000\">, </span><span style=\"color: #808000; text-decoration-color: #808000\">tool_call_id</span><span style=\"color: #000000; text-decoration-color: #000000\">=</span><span style=\"color: #008000; text-decoration-color: #008000\">'call_8sxf'</span><span style=\"color: #000000; text-decoration-color: #000000\">, </span><span style=\"color: #808000; text-decoration-color: #808000\">timestamp</span><span style=\"color: #000000; text-decoration-color: #000000\">=</span><span style=\"color: #800080; text-decoration-color: #800080; font-weight: bold\">datetime</span><span style=\"color: #800080; text-decoration-color: #800080; font-weight: bold\">.datetime</span><span style=\"color: #000000; text-decoration-color: #000000; font-weight: bold\">(</span><span style=\"color: #008080; text-decoration-color: #008080; font-weight: bold\">2024</span><span style=\"color: #000000; text-decoration-color: #000000\">, </span><span style=\"color: #008080; text-decoration-color: #008080; font-weight: bold\">12</span><span style=\"color: #000000; text-decoration-color: #000000\">, </span><span style=\"color: #008080; text-decoration-color: #008080; font-weight: bold\">30</span><span style=\"color: #000000; text-decoration-color: #000000\">, </span><span style=\"color: #008080; text-decoration-color: #008080; font-weight: bold\">18</span><span style=\"color: #000000; text-decoration-color: #000000\">, </span><span style=\"color: #008080; text-decoration-color: #008080; font-weight: bold\">21</span><span style=\"color: #000000; text-decoration-color: #000000\">, </span><span style=\"color: #008080; text-decoration-color: #008080; font-weight: bold\">43</span><span style=\"color: #000000; text-decoration-color: #000000\">, </span>\n",
       "<span style=\"color: #008080; text-decoration-color: #008080; font-weight: bold\">956242</span><span style=\"color: #000000; text-decoration-color: #000000\">, </span><span style=\"color: #808000; text-decoration-color: #808000\">tzinfo</span><span style=\"color: #000000; text-decoration-color: #000000\">=</span><span style=\"color: #800080; text-decoration-color: #800080\">datetime</span><span style=\"color: #000000; text-decoration-color: #000000\">.timezone.utc</span><span style=\"color: #000000; text-decoration-color: #000000; font-weight: bold\">)</span><span style=\"color: #000000; text-decoration-color: #000000\">, </span><span style=\"color: #808000; text-decoration-color: #808000\">part_kind</span><span style=\"color: #000000; text-decoration-color: #000000\">=</span><span style=\"color: #008000; text-decoration-color: #008000\">'tool-return'</span><span style=\"color: #000000; text-decoration-color: #000000; font-weight: bold\">)]</span><span style=\"color: #000000; text-decoration-color: #000000\">, </span><span style=\"color: #808000; text-decoration-color: #808000\">kind</span><span style=\"color: #000000; text-decoration-color: #000000\">=</span><span style=\"color: #008000; text-decoration-color: #008000\">'request'</span><span style=\"color: #000000; text-decoration-color: #000000; font-weight: bold\">)]</span><span style=\"color: #000000; text-decoration-color: #000000\">, </span><span style=\"color: #808000; text-decoration-color: #808000\">_new_message_index</span><span style=\"color: #000000; text-decoration-color: #000000\">=</span><span style=\"color: #008080; text-decoration-color: #008080; font-weight: bold\">0</span><span style=\"color: #000000; text-decoration-color: #000000\">, </span>\n",
       "<span style=\"color: #808000; text-decoration-color: #808000\">data</span><span style=\"color: #000000; text-decoration-color: #000000\">=</span><span style=\"color: #800080; text-decoration-color: #800080; font-weight: bold\">CityLocation</span><span style=\"color: #000000; text-decoration-color: #000000; font-weight: bold\">(</span><span style=\"color: #808000; text-decoration-color: #808000\">city</span><span style=\"color: #000000; text-decoration-color: #000000\">=</span><span style=\"color: #008000; text-decoration-color: #008000\">'Paris'</span><span style=\"color: #000000; text-decoration-color: #000000\">, </span><span style=\"color: #808000; text-decoration-color: #808000\">country</span><span style=\"color: #000000; text-decoration-color: #000000\">=</span><span style=\"color: #008000; text-decoration-color: #008000\">'France'</span><span style=\"color: #000000; text-decoration-color: #000000; font-weight: bold\">)</span><span style=\"color: #000000; text-decoration-color: #000000\">, </span><span style=\"color: #808000; text-decoration-color: #808000\">_usage</span><span style=\"color: #000000; text-decoration-color: #000000\">=</span><span style=\"color: #800080; text-decoration-color: #800080; font-weight: bold\">Usage</span><span style=\"color: #000000; text-decoration-color: #000000; font-weight: bold\">(</span><span style=\"color: #808000; text-decoration-color: #808000\">requests</span><span style=\"color: #000000; text-decoration-color: #000000\">=</span><span style=\"color: #008080; text-decoration-color: #008080; font-weight: bold\">1</span><span style=\"color: #000000; text-decoration-color: #000000\">, </span><span style=\"color: #808000; text-decoration-color: #808000\">request_tokens</span><span style=\"color: #000000; text-decoration-color: #000000\">=</span><span style=\"color: #008080; text-decoration-color: #008080; font-weight: bold\">525</span><span style=\"color: #000000; text-decoration-color: #000000\">, </span><span style=\"color: #808000; text-decoration-color: #808000\">response_tokens</span><span style=\"color: #000000; text-decoration-color: #000000\">=</span><span style=\"color: #008080; text-decoration-color: #008080; font-weight: bold\">18</span><span style=\"color: #000000; text-decoration-color: #000000\">,</span>\n",
       "<span style=\"color: #808000; text-decoration-color: #808000\">total_tokens</span><span style=\"color: #000000; text-decoration-color: #000000\">=</span><span style=\"color: #008080; text-decoration-color: #008080; font-weight: bold\">543</span><span style=\"color: #000000; text-decoration-color: #000000\">, </span><span style=\"color: #808000; text-decoration-color: #808000\">details</span><span style=\"color: #000000; text-decoration-color: #000000\">=</span><span style=\"color: #800080; text-decoration-color: #800080; font-style: italic\">None</span><span style=\"color: #000000; text-decoration-color: #000000; font-weight: bold\">))</span><span style=\"font-weight: bold\">&gt;</span>\n",
       "</pre>\n"
      ],
      "text/plain": [
       "\u001b[1m<\u001b[0m\u001b[1;95mbound\u001b[0m\u001b[39m method RunResult.usage of \u001b[0m\u001b[1;35mRunResult\u001b[0m\u001b[1;39m(\u001b[0m\u001b[33m_all_messages\u001b[0m\u001b[39m=\u001b[0m\u001b[1;39m[\u001b[0m\u001b[1;35mModelRequest\u001b[0m\u001b[1;39m(\u001b[0m\u001b[33mparts\u001b[0m\u001b[39m=\u001b[0m\u001b[1;39m[\u001b[0m\u001b[1;35mUserPromptPart\u001b[0m\u001b[1;39m(\u001b[0m\u001b[33mcontent\u001b[0m\u001b[39m=\u001b[0m\u001b[32m'Where were \u001b[0m\n",
       "\u001b[32mthe olympics held in 2024'\u001b[0m\u001b[39m, \u001b[0m\u001b[33mtimestamp\u001b[0m\u001b[39m=\u001b[0m\u001b[1;35mdatetime\u001b[0m\u001b[1;35m.datetime\u001b[0m\u001b[1;39m(\u001b[0m\u001b[1;36m2024\u001b[0m\u001b[39m, \u001b[0m\u001b[1;36m12\u001b[0m\u001b[39m, \u001b[0m\u001b[1;36m30\u001b[0m\u001b[39m, \u001b[0m\u001b[1;36m18\u001b[0m\u001b[39m, \u001b[0m\u001b[1;36m21\u001b[0m\u001b[39m, \u001b[0m\u001b[1;36m41\u001b[0m\u001b[39m, \u001b[0m\u001b[1;36m543808\u001b[0m\u001b[39m, \u001b[0m\n",
       "\u001b[33mtzinfo\u001b[0m\u001b[39m=\u001b[0m\u001b[35mdatetime\u001b[0m\u001b[39m.timezone.utc\u001b[0m\u001b[1;39m)\u001b[0m\u001b[39m, \u001b[0m\u001b[33mpart_kind\u001b[0m\u001b[39m=\u001b[0m\u001b[32m'user-prompt'\u001b[0m\u001b[1;39m)\u001b[0m\u001b[1;39m]\u001b[0m\u001b[39m, \u001b[0m\u001b[33mkind\u001b[0m\u001b[39m=\u001b[0m\u001b[32m'request'\u001b[0m\u001b[1;39m)\u001b[0m\u001b[39m, \u001b[0m\n",
       "\u001b[1;35mModelResponse\u001b[0m\u001b[1;39m(\u001b[0m\u001b[33mparts\u001b[0m\u001b[39m=\u001b[0m\u001b[1;39m[\u001b[0m\u001b[1;35mToolCallPart\u001b[0m\u001b[1;39m(\u001b[0m\u001b[33mtool_name\u001b[0m\u001b[39m=\u001b[0m\u001b[32m'final_result'\u001b[0m\u001b[39m, \u001b[0m\u001b[33margs\u001b[0m\u001b[39m=\u001b[0m\u001b[1;35mArgsJson\u001b[0m\u001b[1;39m(\u001b[0m\u001b[33margs_json\u001b[0m\u001b[39m=\u001b[0m\u001b[32m'\u001b[0m\u001b[32m{\u001b[0m\u001b[32m\"city\": \"Paris\", \"country\": \u001b[0m\n",
       "\u001b[32m\"France\"\u001b[0m\u001b[32m}\u001b[0m\u001b[32m'\u001b[0m\u001b[1;39m)\u001b[0m\u001b[39m, \u001b[0m\u001b[33mtool_call_id\u001b[0m\u001b[39m=\u001b[0m\u001b[32m'call_8sxf'\u001b[0m\u001b[39m, \u001b[0m\u001b[33mpart_kind\u001b[0m\u001b[39m=\u001b[0m\u001b[32m'tool-call'\u001b[0m\u001b[1;39m)\u001b[0m\u001b[1;39m]\u001b[0m\u001b[39m, \u001b[0m\u001b[33mtimestamp\u001b[0m\u001b[39m=\u001b[0m\u001b[1;35mdatetime\u001b[0m\u001b[1;35m.datetime\u001b[0m\u001b[1;39m(\u001b[0m\u001b[1;36m2024\u001b[0m\u001b[39m, \u001b[0m\u001b[1;36m12\u001b[0m\u001b[39m, \u001b[0m\u001b[1;36m30\u001b[0m\u001b[39m, \u001b[0m\u001b[1;36m18\u001b[0m\u001b[39m, \u001b[0m\u001b[1;36m21\u001b[0m\u001b[39m, \u001b[0m\n",
       "\u001b[1;36m49\u001b[0m\u001b[39m, \u001b[0m\u001b[33mtzinfo\u001b[0m\u001b[39m=\u001b[0m\u001b[35mdatetime\u001b[0m\u001b[39m.timezone.utc\u001b[0m\u001b[1;39m)\u001b[0m\u001b[39m, \u001b[0m\u001b[33mkind\u001b[0m\u001b[39m=\u001b[0m\u001b[32m'response'\u001b[0m\u001b[1;39m)\u001b[0m\u001b[39m, \u001b[0m\u001b[1;35mModelRequest\u001b[0m\u001b[1;39m(\u001b[0m\u001b[33mparts\u001b[0m\u001b[39m=\u001b[0m\u001b[1;39m[\u001b[0m\u001b[1;35mToolReturnPart\u001b[0m\u001b[1;39m(\u001b[0m\u001b[33mtool_name\u001b[0m\u001b[39m=\u001b[0m\u001b[32m'final_result'\u001b[0m\u001b[39m, \u001b[0m\n",
       "\u001b[33mcontent\u001b[0m\u001b[39m=\u001b[0m\u001b[32m'Final result processed.'\u001b[0m\u001b[39m, \u001b[0m\u001b[33mtool_call_id\u001b[0m\u001b[39m=\u001b[0m\u001b[32m'call_8sxf'\u001b[0m\u001b[39m, \u001b[0m\u001b[33mtimestamp\u001b[0m\u001b[39m=\u001b[0m\u001b[1;35mdatetime\u001b[0m\u001b[1;35m.datetime\u001b[0m\u001b[1;39m(\u001b[0m\u001b[1;36m2024\u001b[0m\u001b[39m, \u001b[0m\u001b[1;36m12\u001b[0m\u001b[39m, \u001b[0m\u001b[1;36m30\u001b[0m\u001b[39m, \u001b[0m\u001b[1;36m18\u001b[0m\u001b[39m, \u001b[0m\u001b[1;36m21\u001b[0m\u001b[39m, \u001b[0m\u001b[1;36m43\u001b[0m\u001b[39m, \u001b[0m\n",
       "\u001b[1;36m956242\u001b[0m\u001b[39m, \u001b[0m\u001b[33mtzinfo\u001b[0m\u001b[39m=\u001b[0m\u001b[35mdatetime\u001b[0m\u001b[39m.timezone.utc\u001b[0m\u001b[1;39m)\u001b[0m\u001b[39m, \u001b[0m\u001b[33mpart_kind\u001b[0m\u001b[39m=\u001b[0m\u001b[32m'tool-return'\u001b[0m\u001b[1;39m)\u001b[0m\u001b[1;39m]\u001b[0m\u001b[39m, \u001b[0m\u001b[33mkind\u001b[0m\u001b[39m=\u001b[0m\u001b[32m'request'\u001b[0m\u001b[1;39m)\u001b[0m\u001b[1;39m]\u001b[0m\u001b[39m, \u001b[0m\u001b[33m_new_message_index\u001b[0m\u001b[39m=\u001b[0m\u001b[1;36m0\u001b[0m\u001b[39m, \u001b[0m\n",
       "\u001b[33mdata\u001b[0m\u001b[39m=\u001b[0m\u001b[1;35mCityLocation\u001b[0m\u001b[1;39m(\u001b[0m\u001b[33mcity\u001b[0m\u001b[39m=\u001b[0m\u001b[32m'Paris'\u001b[0m\u001b[39m, \u001b[0m\u001b[33mcountry\u001b[0m\u001b[39m=\u001b[0m\u001b[32m'France'\u001b[0m\u001b[1;39m)\u001b[0m\u001b[39m, \u001b[0m\u001b[33m_usage\u001b[0m\u001b[39m=\u001b[0m\u001b[1;35mUsage\u001b[0m\u001b[1;39m(\u001b[0m\u001b[33mrequests\u001b[0m\u001b[39m=\u001b[0m\u001b[1;36m1\u001b[0m\u001b[39m, \u001b[0m\u001b[33mrequest_tokens\u001b[0m\u001b[39m=\u001b[0m\u001b[1;36m525\u001b[0m\u001b[39m, \u001b[0m\u001b[33mresponse_tokens\u001b[0m\u001b[39m=\u001b[0m\u001b[1;36m18\u001b[0m\u001b[39m,\u001b[0m\n",
       "\u001b[33mtotal_tokens\u001b[0m\u001b[39m=\u001b[0m\u001b[1;36m543\u001b[0m\u001b[39m, \u001b[0m\u001b[33mdetails\u001b[0m\u001b[39m=\u001b[0m\u001b[3;35mNone\u001b[0m\u001b[1;39m)\u001b[0m\u001b[1;39m)\u001b[0m\u001b[1m>\u001b[0m\n"
      ]
     },
     "metadata": {},
     "output_type": "display_data"
    }
   ],
   "source": [
    "from pydantic import BaseModel\n",
    "\n",
    "from pydantic_ai import Agent\n",
    "\n",
    "class CityLocation(BaseModel):\n",
    "    city:str\n",
    "    country:str\n",
    "\n",
    "agent = Agent('groq:llama-3.3-70b-versatile',result_type=CityLocation)\n",
    "\n",
    "result = agent.run_sync('Where were the olympics held in 2024')\n",
    "\n",
    "pprint(result.data)\n",
    "\n",
    "pprint(result.usage)"
   ]
  },
  {
   "cell_type": "code",
   "execution_count": 99,
   "metadata": {},
   "outputs": [
    {
     "data": {
      "text/html": [
       "<pre style=\"white-space:pre;overflow-x:auto;line-height:normal;font-family:Menlo,'DejaVu Sans Mono',consolas,'Courier New',monospace\"><span style=\"color: #800080; text-decoration-color: #800080; font-weight: bold\">RunResult</span><span style=\"font-weight: bold\">(</span>\n",
       "    <span style=\"color: #808000; text-decoration-color: #808000\">_all_messages</span>=<span style=\"font-weight: bold\">[</span>\n",
       "        <span style=\"color: #800080; text-decoration-color: #800080; font-weight: bold\">ModelRequest</span><span style=\"font-weight: bold\">(</span>\n",
       "            <span style=\"color: #808000; text-decoration-color: #808000\">parts</span>=<span style=\"font-weight: bold\">[</span>\n",
       "                <span style=\"color: #800080; text-decoration-color: #800080; font-weight: bold\">UserPromptPart</span><span style=\"font-weight: bold\">(</span>\n",
       "                    <span style=\"color: #808000; text-decoration-color: #808000\">content</span>=<span style=\"color: #008000; text-decoration-color: #008000\">'Where were the olympics held in 2024'</span>,\n",
       "                    <span style=\"color: #808000; text-decoration-color: #808000\">timestamp</span>=<span style=\"color: #800080; text-decoration-color: #800080; font-weight: bold\">datetime</span><span style=\"color: #800080; text-decoration-color: #800080; font-weight: bold\">.datetime</span><span style=\"font-weight: bold\">(</span><span style=\"color: #008080; text-decoration-color: #008080; font-weight: bold\">2024</span>, <span style=\"color: #008080; text-decoration-color: #008080; font-weight: bold\">12</span>, <span style=\"color: #008080; text-decoration-color: #008080; font-weight: bold\">30</span>, <span style=\"color: #008080; text-decoration-color: #008080; font-weight: bold\">18</span>, <span style=\"color: #008080; text-decoration-color: #008080; font-weight: bold\">21</span>, <span style=\"color: #008080; text-decoration-color: #008080; font-weight: bold\">41</span>, <span style=\"color: #008080; text-decoration-color: #008080; font-weight: bold\">543808</span>, <span style=\"color: #808000; text-decoration-color: #808000\">tzinfo</span>=<span style=\"color: #800080; text-decoration-color: #800080\">datetime</span>.timezone.utc<span style=\"font-weight: bold\">)</span>,\n",
       "                    <span style=\"color: #808000; text-decoration-color: #808000\">part_kind</span>=<span style=\"color: #008000; text-decoration-color: #008000\">'user-prompt'</span>\n",
       "                <span style=\"font-weight: bold\">)</span>\n",
       "            <span style=\"font-weight: bold\">]</span>,\n",
       "            <span style=\"color: #808000; text-decoration-color: #808000\">kind</span>=<span style=\"color: #008000; text-decoration-color: #008000\">'request'</span>\n",
       "        <span style=\"font-weight: bold\">)</span>,\n",
       "        <span style=\"color: #800080; text-decoration-color: #800080; font-weight: bold\">ModelResponse</span><span style=\"font-weight: bold\">(</span>\n",
       "            <span style=\"color: #808000; text-decoration-color: #808000\">parts</span>=<span style=\"font-weight: bold\">[</span>\n",
       "                <span style=\"color: #800080; text-decoration-color: #800080; font-weight: bold\">ToolCallPart</span><span style=\"font-weight: bold\">(</span>\n",
       "                    <span style=\"color: #808000; text-decoration-color: #808000\">tool_name</span>=<span style=\"color: #008000; text-decoration-color: #008000\">'final_result'</span>,\n",
       "                    <span style=\"color: #808000; text-decoration-color: #808000\">args</span>=<span style=\"color: #800080; text-decoration-color: #800080; font-weight: bold\">ArgsJson</span><span style=\"font-weight: bold\">(</span><span style=\"color: #808000; text-decoration-color: #808000\">args_json</span>=<span style=\"color: #008000; text-decoration-color: #008000\">'{\"city\": \"Paris\", \"country\": \"France\"}'</span><span style=\"font-weight: bold\">)</span>,\n",
       "                    <span style=\"color: #808000; text-decoration-color: #808000\">tool_call_id</span>=<span style=\"color: #008000; text-decoration-color: #008000\">'call_8sxf'</span>,\n",
       "                    <span style=\"color: #808000; text-decoration-color: #808000\">part_kind</span>=<span style=\"color: #008000; text-decoration-color: #008000\">'tool-call'</span>\n",
       "                <span style=\"font-weight: bold\">)</span>\n",
       "            <span style=\"font-weight: bold\">]</span>,\n",
       "            <span style=\"color: #808000; text-decoration-color: #808000\">timestamp</span>=<span style=\"color: #800080; text-decoration-color: #800080; font-weight: bold\">datetime</span><span style=\"color: #800080; text-decoration-color: #800080; font-weight: bold\">.datetime</span><span style=\"font-weight: bold\">(</span><span style=\"color: #008080; text-decoration-color: #008080; font-weight: bold\">2024</span>, <span style=\"color: #008080; text-decoration-color: #008080; font-weight: bold\">12</span>, <span style=\"color: #008080; text-decoration-color: #008080; font-weight: bold\">30</span>, <span style=\"color: #008080; text-decoration-color: #008080; font-weight: bold\">18</span>, <span style=\"color: #008080; text-decoration-color: #008080; font-weight: bold\">21</span>, <span style=\"color: #008080; text-decoration-color: #008080; font-weight: bold\">49</span>, <span style=\"color: #808000; text-decoration-color: #808000\">tzinfo</span>=<span style=\"color: #800080; text-decoration-color: #800080\">datetime</span>.timezone.utc<span style=\"font-weight: bold\">)</span>,\n",
       "            <span style=\"color: #808000; text-decoration-color: #808000\">kind</span>=<span style=\"color: #008000; text-decoration-color: #008000\">'response'</span>\n",
       "        <span style=\"font-weight: bold\">)</span>,\n",
       "        <span style=\"color: #800080; text-decoration-color: #800080; font-weight: bold\">ModelRequest</span><span style=\"font-weight: bold\">(</span>\n",
       "            <span style=\"color: #808000; text-decoration-color: #808000\">parts</span>=<span style=\"font-weight: bold\">[</span>\n",
       "                <span style=\"color: #800080; text-decoration-color: #800080; font-weight: bold\">ToolReturnPart</span><span style=\"font-weight: bold\">(</span>\n",
       "                    <span style=\"color: #808000; text-decoration-color: #808000\">tool_name</span>=<span style=\"color: #008000; text-decoration-color: #008000\">'final_result'</span>,\n",
       "                    <span style=\"color: #808000; text-decoration-color: #808000\">content</span>=<span style=\"color: #008000; text-decoration-color: #008000\">'Final result processed.'</span>,\n",
       "                    <span style=\"color: #808000; text-decoration-color: #808000\">tool_call_id</span>=<span style=\"color: #008000; text-decoration-color: #008000\">'call_8sxf'</span>,\n",
       "                    <span style=\"color: #808000; text-decoration-color: #808000\">timestamp</span>=<span style=\"color: #800080; text-decoration-color: #800080; font-weight: bold\">datetime</span><span style=\"color: #800080; text-decoration-color: #800080; font-weight: bold\">.datetime</span><span style=\"font-weight: bold\">(</span><span style=\"color: #008080; text-decoration-color: #008080; font-weight: bold\">2024</span>, <span style=\"color: #008080; text-decoration-color: #008080; font-weight: bold\">12</span>, <span style=\"color: #008080; text-decoration-color: #008080; font-weight: bold\">30</span>, <span style=\"color: #008080; text-decoration-color: #008080; font-weight: bold\">18</span>, <span style=\"color: #008080; text-decoration-color: #008080; font-weight: bold\">21</span>, <span style=\"color: #008080; text-decoration-color: #008080; font-weight: bold\">43</span>, <span style=\"color: #008080; text-decoration-color: #008080; font-weight: bold\">956242</span>, <span style=\"color: #808000; text-decoration-color: #808000\">tzinfo</span>=<span style=\"color: #800080; text-decoration-color: #800080\">datetime</span>.timezone.utc<span style=\"font-weight: bold\">)</span>,\n",
       "                    <span style=\"color: #808000; text-decoration-color: #808000\">part_kind</span>=<span style=\"color: #008000; text-decoration-color: #008000\">'tool-return'</span>\n",
       "                <span style=\"font-weight: bold\">)</span>\n",
       "            <span style=\"font-weight: bold\">]</span>,\n",
       "            <span style=\"color: #808000; text-decoration-color: #808000\">kind</span>=<span style=\"color: #008000; text-decoration-color: #008000\">'request'</span>\n",
       "        <span style=\"font-weight: bold\">)</span>\n",
       "    <span style=\"font-weight: bold\">]</span>,\n",
       "    <span style=\"color: #808000; text-decoration-color: #808000\">_new_message_index</span>=<span style=\"color: #008080; text-decoration-color: #008080; font-weight: bold\">0</span>,\n",
       "    <span style=\"color: #808000; text-decoration-color: #808000\">data</span>=<span style=\"color: #800080; text-decoration-color: #800080; font-weight: bold\">CityLocation</span><span style=\"font-weight: bold\">(</span><span style=\"color: #808000; text-decoration-color: #808000\">city</span>=<span style=\"color: #008000; text-decoration-color: #008000\">'Paris'</span>, <span style=\"color: #808000; text-decoration-color: #808000\">country</span>=<span style=\"color: #008000; text-decoration-color: #008000\">'France'</span><span style=\"font-weight: bold\">)</span>,\n",
       "    <span style=\"color: #808000; text-decoration-color: #808000\">_usage</span>=<span style=\"color: #800080; text-decoration-color: #800080; font-weight: bold\">Usage</span><span style=\"font-weight: bold\">(</span><span style=\"color: #808000; text-decoration-color: #808000\">requests</span>=<span style=\"color: #008080; text-decoration-color: #008080; font-weight: bold\">1</span>, <span style=\"color: #808000; text-decoration-color: #808000\">request_tokens</span>=<span style=\"color: #008080; text-decoration-color: #008080; font-weight: bold\">525</span>, <span style=\"color: #808000; text-decoration-color: #808000\">response_tokens</span>=<span style=\"color: #008080; text-decoration-color: #008080; font-weight: bold\">18</span>, <span style=\"color: #808000; text-decoration-color: #808000\">total_tokens</span>=<span style=\"color: #008080; text-decoration-color: #008080; font-weight: bold\">543</span>, <span style=\"color: #808000; text-decoration-color: #808000\">details</span>=<span style=\"color: #800080; text-decoration-color: #800080; font-style: italic\">None</span><span style=\"font-weight: bold\">)</span>\n",
       "<span style=\"font-weight: bold\">)</span>\n",
       "</pre>\n"
      ],
      "text/plain": [
       "\u001b[1;35mRunResult\u001b[0m\u001b[1m(\u001b[0m\n",
       "    \u001b[33m_all_messages\u001b[0m=\u001b[1m[\u001b[0m\n",
       "        \u001b[1;35mModelRequest\u001b[0m\u001b[1m(\u001b[0m\n",
       "            \u001b[33mparts\u001b[0m=\u001b[1m[\u001b[0m\n",
       "                \u001b[1;35mUserPromptPart\u001b[0m\u001b[1m(\u001b[0m\n",
       "                    \u001b[33mcontent\u001b[0m=\u001b[32m'Where were the olympics held in 2024'\u001b[0m,\n",
       "                    \u001b[33mtimestamp\u001b[0m=\u001b[1;35mdatetime\u001b[0m\u001b[1;35m.datetime\u001b[0m\u001b[1m(\u001b[0m\u001b[1;36m2024\u001b[0m, \u001b[1;36m12\u001b[0m, \u001b[1;36m30\u001b[0m, \u001b[1;36m18\u001b[0m, \u001b[1;36m21\u001b[0m, \u001b[1;36m41\u001b[0m, \u001b[1;36m543808\u001b[0m, \u001b[33mtzinfo\u001b[0m=\u001b[35mdatetime\u001b[0m.timezone.utc\u001b[1m)\u001b[0m,\n",
       "                    \u001b[33mpart_kind\u001b[0m=\u001b[32m'user-prompt'\u001b[0m\n",
       "                \u001b[1m)\u001b[0m\n",
       "            \u001b[1m]\u001b[0m,\n",
       "            \u001b[33mkind\u001b[0m=\u001b[32m'request'\u001b[0m\n",
       "        \u001b[1m)\u001b[0m,\n",
       "        \u001b[1;35mModelResponse\u001b[0m\u001b[1m(\u001b[0m\n",
       "            \u001b[33mparts\u001b[0m=\u001b[1m[\u001b[0m\n",
       "                \u001b[1;35mToolCallPart\u001b[0m\u001b[1m(\u001b[0m\n",
       "                    \u001b[33mtool_name\u001b[0m=\u001b[32m'final_result'\u001b[0m,\n",
       "                    \u001b[33margs\u001b[0m=\u001b[1;35mArgsJson\u001b[0m\u001b[1m(\u001b[0m\u001b[33margs_json\u001b[0m=\u001b[32m'\u001b[0m\u001b[32m{\u001b[0m\u001b[32m\"city\": \"Paris\", \"country\": \"France\"\u001b[0m\u001b[32m}\u001b[0m\u001b[32m'\u001b[0m\u001b[1m)\u001b[0m,\n",
       "                    \u001b[33mtool_call_id\u001b[0m=\u001b[32m'call_8sxf'\u001b[0m,\n",
       "                    \u001b[33mpart_kind\u001b[0m=\u001b[32m'tool-call'\u001b[0m\n",
       "                \u001b[1m)\u001b[0m\n",
       "            \u001b[1m]\u001b[0m,\n",
       "            \u001b[33mtimestamp\u001b[0m=\u001b[1;35mdatetime\u001b[0m\u001b[1;35m.datetime\u001b[0m\u001b[1m(\u001b[0m\u001b[1;36m2024\u001b[0m, \u001b[1;36m12\u001b[0m, \u001b[1;36m30\u001b[0m, \u001b[1;36m18\u001b[0m, \u001b[1;36m21\u001b[0m, \u001b[1;36m49\u001b[0m, \u001b[33mtzinfo\u001b[0m=\u001b[35mdatetime\u001b[0m.timezone.utc\u001b[1m)\u001b[0m,\n",
       "            \u001b[33mkind\u001b[0m=\u001b[32m'response'\u001b[0m\n",
       "        \u001b[1m)\u001b[0m,\n",
       "        \u001b[1;35mModelRequest\u001b[0m\u001b[1m(\u001b[0m\n",
       "            \u001b[33mparts\u001b[0m=\u001b[1m[\u001b[0m\n",
       "                \u001b[1;35mToolReturnPart\u001b[0m\u001b[1m(\u001b[0m\n",
       "                    \u001b[33mtool_name\u001b[0m=\u001b[32m'final_result'\u001b[0m,\n",
       "                    \u001b[33mcontent\u001b[0m=\u001b[32m'Final result processed.'\u001b[0m,\n",
       "                    \u001b[33mtool_call_id\u001b[0m=\u001b[32m'call_8sxf'\u001b[0m,\n",
       "                    \u001b[33mtimestamp\u001b[0m=\u001b[1;35mdatetime\u001b[0m\u001b[1;35m.datetime\u001b[0m\u001b[1m(\u001b[0m\u001b[1;36m2024\u001b[0m, \u001b[1;36m12\u001b[0m, \u001b[1;36m30\u001b[0m, \u001b[1;36m18\u001b[0m, \u001b[1;36m21\u001b[0m, \u001b[1;36m43\u001b[0m, \u001b[1;36m956242\u001b[0m, \u001b[33mtzinfo\u001b[0m=\u001b[35mdatetime\u001b[0m.timezone.utc\u001b[1m)\u001b[0m,\n",
       "                    \u001b[33mpart_kind\u001b[0m=\u001b[32m'tool-return'\u001b[0m\n",
       "                \u001b[1m)\u001b[0m\n",
       "            \u001b[1m]\u001b[0m,\n",
       "            \u001b[33mkind\u001b[0m=\u001b[32m'request'\u001b[0m\n",
       "        \u001b[1m)\u001b[0m\n",
       "    \u001b[1m]\u001b[0m,\n",
       "    \u001b[33m_new_message_index\u001b[0m=\u001b[1;36m0\u001b[0m,\n",
       "    \u001b[33mdata\u001b[0m=\u001b[1;35mCityLocation\u001b[0m\u001b[1m(\u001b[0m\u001b[33mcity\u001b[0m=\u001b[32m'Paris'\u001b[0m, \u001b[33mcountry\u001b[0m=\u001b[32m'France'\u001b[0m\u001b[1m)\u001b[0m,\n",
       "    \u001b[33m_usage\u001b[0m=\u001b[1;35mUsage\u001b[0m\u001b[1m(\u001b[0m\u001b[33mrequests\u001b[0m=\u001b[1;36m1\u001b[0m, \u001b[33mrequest_tokens\u001b[0m=\u001b[1;36m525\u001b[0m, \u001b[33mresponse_tokens\u001b[0m=\u001b[1;36m18\u001b[0m, \u001b[33mtotal_tokens\u001b[0m=\u001b[1;36m543\u001b[0m, \u001b[33mdetails\u001b[0m=\u001b[3;35mNone\u001b[0m\u001b[1m)\u001b[0m\n",
       "\u001b[1m)\u001b[0m\n"
      ]
     },
     "metadata": {},
     "output_type": "display_data"
    }
   ],
   "source": [
    "pprint(result)"
   ]
  },
  {
   "cell_type": "code",
   "execution_count": 100,
   "metadata": {},
   "outputs": [
    {
     "data": {
      "text/html": [
       "<pre style=\"white-space:pre;overflow-x:auto;line-height:normal;font-family:Menlo,'DejaVu Sans Mono',consolas,'Courier New',monospace\"><span style=\"font-weight: bold\">[</span>\n",
       "    <span style=\"color: #800080; text-decoration-color: #800080; font-weight: bold\">ModelRequest</span><span style=\"font-weight: bold\">(</span>\n",
       "        <span style=\"color: #808000; text-decoration-color: #808000\">parts</span>=<span style=\"font-weight: bold\">[</span>\n",
       "            <span style=\"color: #800080; text-decoration-color: #800080; font-weight: bold\">UserPromptPart</span><span style=\"font-weight: bold\">(</span>\n",
       "                <span style=\"color: #808000; text-decoration-color: #808000\">content</span>=<span style=\"color: #008000; text-decoration-color: #008000\">'Where were the olympics held in 2024'</span>,\n",
       "                <span style=\"color: #808000; text-decoration-color: #808000\">timestamp</span>=<span style=\"color: #800080; text-decoration-color: #800080; font-weight: bold\">datetime</span><span style=\"color: #800080; text-decoration-color: #800080; font-weight: bold\">.datetime</span><span style=\"font-weight: bold\">(</span><span style=\"color: #008080; text-decoration-color: #008080; font-weight: bold\">2024</span>, <span style=\"color: #008080; text-decoration-color: #008080; font-weight: bold\">12</span>, <span style=\"color: #008080; text-decoration-color: #008080; font-weight: bold\">30</span>, <span style=\"color: #008080; text-decoration-color: #008080; font-weight: bold\">18</span>, <span style=\"color: #008080; text-decoration-color: #008080; font-weight: bold\">21</span>, <span style=\"color: #008080; text-decoration-color: #008080; font-weight: bold\">41</span>, <span style=\"color: #008080; text-decoration-color: #008080; font-weight: bold\">543808</span>, <span style=\"color: #808000; text-decoration-color: #808000\">tzinfo</span>=<span style=\"color: #800080; text-decoration-color: #800080\">datetime</span>.timezone.utc<span style=\"font-weight: bold\">)</span>,\n",
       "                <span style=\"color: #808000; text-decoration-color: #808000\">part_kind</span>=<span style=\"color: #008000; text-decoration-color: #008000\">'user-prompt'</span>\n",
       "            <span style=\"font-weight: bold\">)</span>\n",
       "        <span style=\"font-weight: bold\">]</span>,\n",
       "        <span style=\"color: #808000; text-decoration-color: #808000\">kind</span>=<span style=\"color: #008000; text-decoration-color: #008000\">'request'</span>\n",
       "    <span style=\"font-weight: bold\">)</span>,\n",
       "    <span style=\"color: #800080; text-decoration-color: #800080; font-weight: bold\">ModelResponse</span><span style=\"font-weight: bold\">(</span>\n",
       "        <span style=\"color: #808000; text-decoration-color: #808000\">parts</span>=<span style=\"font-weight: bold\">[</span>\n",
       "            <span style=\"color: #800080; text-decoration-color: #800080; font-weight: bold\">ToolCallPart</span><span style=\"font-weight: bold\">(</span>\n",
       "                <span style=\"color: #808000; text-decoration-color: #808000\">tool_name</span>=<span style=\"color: #008000; text-decoration-color: #008000\">'final_result'</span>,\n",
       "                <span style=\"color: #808000; text-decoration-color: #808000\">args</span>=<span style=\"color: #800080; text-decoration-color: #800080; font-weight: bold\">ArgsJson</span><span style=\"font-weight: bold\">(</span><span style=\"color: #808000; text-decoration-color: #808000\">args_json</span>=<span style=\"color: #008000; text-decoration-color: #008000\">'{\"city\": \"Paris\", \"country\": \"France\"}'</span><span style=\"font-weight: bold\">)</span>,\n",
       "                <span style=\"color: #808000; text-decoration-color: #808000\">tool_call_id</span>=<span style=\"color: #008000; text-decoration-color: #008000\">'call_8sxf'</span>,\n",
       "                <span style=\"color: #808000; text-decoration-color: #808000\">part_kind</span>=<span style=\"color: #008000; text-decoration-color: #008000\">'tool-call'</span>\n",
       "            <span style=\"font-weight: bold\">)</span>\n",
       "        <span style=\"font-weight: bold\">]</span>,\n",
       "        <span style=\"color: #808000; text-decoration-color: #808000\">timestamp</span>=<span style=\"color: #800080; text-decoration-color: #800080; font-weight: bold\">datetime</span><span style=\"color: #800080; text-decoration-color: #800080; font-weight: bold\">.datetime</span><span style=\"font-weight: bold\">(</span><span style=\"color: #008080; text-decoration-color: #008080; font-weight: bold\">2024</span>, <span style=\"color: #008080; text-decoration-color: #008080; font-weight: bold\">12</span>, <span style=\"color: #008080; text-decoration-color: #008080; font-weight: bold\">30</span>, <span style=\"color: #008080; text-decoration-color: #008080; font-weight: bold\">18</span>, <span style=\"color: #008080; text-decoration-color: #008080; font-weight: bold\">21</span>, <span style=\"color: #008080; text-decoration-color: #008080; font-weight: bold\">49</span>, <span style=\"color: #808000; text-decoration-color: #808000\">tzinfo</span>=<span style=\"color: #800080; text-decoration-color: #800080\">datetime</span>.timezone.utc<span style=\"font-weight: bold\">)</span>,\n",
       "        <span style=\"color: #808000; text-decoration-color: #808000\">kind</span>=<span style=\"color: #008000; text-decoration-color: #008000\">'response'</span>\n",
       "    <span style=\"font-weight: bold\">)</span>,\n",
       "    <span style=\"color: #800080; text-decoration-color: #800080; font-weight: bold\">ModelRequest</span><span style=\"font-weight: bold\">(</span>\n",
       "        <span style=\"color: #808000; text-decoration-color: #808000\">parts</span>=<span style=\"font-weight: bold\">[</span>\n",
       "            <span style=\"color: #800080; text-decoration-color: #800080; font-weight: bold\">ToolReturnPart</span><span style=\"font-weight: bold\">(</span>\n",
       "                <span style=\"color: #808000; text-decoration-color: #808000\">tool_name</span>=<span style=\"color: #008000; text-decoration-color: #008000\">'final_result'</span>,\n",
       "                <span style=\"color: #808000; text-decoration-color: #808000\">content</span>=<span style=\"color: #008000; text-decoration-color: #008000\">'Final result processed.'</span>,\n",
       "                <span style=\"color: #808000; text-decoration-color: #808000\">tool_call_id</span>=<span style=\"color: #008000; text-decoration-color: #008000\">'call_8sxf'</span>,\n",
       "                <span style=\"color: #808000; text-decoration-color: #808000\">timestamp</span>=<span style=\"color: #800080; text-decoration-color: #800080; font-weight: bold\">datetime</span><span style=\"color: #800080; text-decoration-color: #800080; font-weight: bold\">.datetime</span><span style=\"font-weight: bold\">(</span><span style=\"color: #008080; text-decoration-color: #008080; font-weight: bold\">2024</span>, <span style=\"color: #008080; text-decoration-color: #008080; font-weight: bold\">12</span>, <span style=\"color: #008080; text-decoration-color: #008080; font-weight: bold\">30</span>, <span style=\"color: #008080; text-decoration-color: #008080; font-weight: bold\">18</span>, <span style=\"color: #008080; text-decoration-color: #008080; font-weight: bold\">21</span>, <span style=\"color: #008080; text-decoration-color: #008080; font-weight: bold\">43</span>, <span style=\"color: #008080; text-decoration-color: #008080; font-weight: bold\">956242</span>, <span style=\"color: #808000; text-decoration-color: #808000\">tzinfo</span>=<span style=\"color: #800080; text-decoration-color: #800080\">datetime</span>.timezone.utc<span style=\"font-weight: bold\">)</span>,\n",
       "                <span style=\"color: #808000; text-decoration-color: #808000\">part_kind</span>=<span style=\"color: #008000; text-decoration-color: #008000\">'tool-return'</span>\n",
       "            <span style=\"font-weight: bold\">)</span>\n",
       "        <span style=\"font-weight: bold\">]</span>,\n",
       "        <span style=\"color: #808000; text-decoration-color: #808000\">kind</span>=<span style=\"color: #008000; text-decoration-color: #008000\">'request'</span>\n",
       "    <span style=\"font-weight: bold\">)</span>\n",
       "<span style=\"font-weight: bold\">]</span>\n",
       "</pre>\n"
      ],
      "text/plain": [
       "\u001b[1m[\u001b[0m\n",
       "    \u001b[1;35mModelRequest\u001b[0m\u001b[1m(\u001b[0m\n",
       "        \u001b[33mparts\u001b[0m=\u001b[1m[\u001b[0m\n",
       "            \u001b[1;35mUserPromptPart\u001b[0m\u001b[1m(\u001b[0m\n",
       "                \u001b[33mcontent\u001b[0m=\u001b[32m'Where were the olympics held in 2024'\u001b[0m,\n",
       "                \u001b[33mtimestamp\u001b[0m=\u001b[1;35mdatetime\u001b[0m\u001b[1;35m.datetime\u001b[0m\u001b[1m(\u001b[0m\u001b[1;36m2024\u001b[0m, \u001b[1;36m12\u001b[0m, \u001b[1;36m30\u001b[0m, \u001b[1;36m18\u001b[0m, \u001b[1;36m21\u001b[0m, \u001b[1;36m41\u001b[0m, \u001b[1;36m543808\u001b[0m, \u001b[33mtzinfo\u001b[0m=\u001b[35mdatetime\u001b[0m.timezone.utc\u001b[1m)\u001b[0m,\n",
       "                \u001b[33mpart_kind\u001b[0m=\u001b[32m'user-prompt'\u001b[0m\n",
       "            \u001b[1m)\u001b[0m\n",
       "        \u001b[1m]\u001b[0m,\n",
       "        \u001b[33mkind\u001b[0m=\u001b[32m'request'\u001b[0m\n",
       "    \u001b[1m)\u001b[0m,\n",
       "    \u001b[1;35mModelResponse\u001b[0m\u001b[1m(\u001b[0m\n",
       "        \u001b[33mparts\u001b[0m=\u001b[1m[\u001b[0m\n",
       "            \u001b[1;35mToolCallPart\u001b[0m\u001b[1m(\u001b[0m\n",
       "                \u001b[33mtool_name\u001b[0m=\u001b[32m'final_result'\u001b[0m,\n",
       "                \u001b[33margs\u001b[0m=\u001b[1;35mArgsJson\u001b[0m\u001b[1m(\u001b[0m\u001b[33margs_json\u001b[0m=\u001b[32m'\u001b[0m\u001b[32m{\u001b[0m\u001b[32m\"city\": \"Paris\", \"country\": \"France\"\u001b[0m\u001b[32m}\u001b[0m\u001b[32m'\u001b[0m\u001b[1m)\u001b[0m,\n",
       "                \u001b[33mtool_call_id\u001b[0m=\u001b[32m'call_8sxf'\u001b[0m,\n",
       "                \u001b[33mpart_kind\u001b[0m=\u001b[32m'tool-call'\u001b[0m\n",
       "            \u001b[1m)\u001b[0m\n",
       "        \u001b[1m]\u001b[0m,\n",
       "        \u001b[33mtimestamp\u001b[0m=\u001b[1;35mdatetime\u001b[0m\u001b[1;35m.datetime\u001b[0m\u001b[1m(\u001b[0m\u001b[1;36m2024\u001b[0m, \u001b[1;36m12\u001b[0m, \u001b[1;36m30\u001b[0m, \u001b[1;36m18\u001b[0m, \u001b[1;36m21\u001b[0m, \u001b[1;36m49\u001b[0m, \u001b[33mtzinfo\u001b[0m=\u001b[35mdatetime\u001b[0m.timezone.utc\u001b[1m)\u001b[0m,\n",
       "        \u001b[33mkind\u001b[0m=\u001b[32m'response'\u001b[0m\n",
       "    \u001b[1m)\u001b[0m,\n",
       "    \u001b[1;35mModelRequest\u001b[0m\u001b[1m(\u001b[0m\n",
       "        \u001b[33mparts\u001b[0m=\u001b[1m[\u001b[0m\n",
       "            \u001b[1;35mToolReturnPart\u001b[0m\u001b[1m(\u001b[0m\n",
       "                \u001b[33mtool_name\u001b[0m=\u001b[32m'final_result'\u001b[0m,\n",
       "                \u001b[33mcontent\u001b[0m=\u001b[32m'Final result processed.'\u001b[0m,\n",
       "                \u001b[33mtool_call_id\u001b[0m=\u001b[32m'call_8sxf'\u001b[0m,\n",
       "                \u001b[33mtimestamp\u001b[0m=\u001b[1;35mdatetime\u001b[0m\u001b[1;35m.datetime\u001b[0m\u001b[1m(\u001b[0m\u001b[1;36m2024\u001b[0m, \u001b[1;36m12\u001b[0m, \u001b[1;36m30\u001b[0m, \u001b[1;36m18\u001b[0m, \u001b[1;36m21\u001b[0m, \u001b[1;36m43\u001b[0m, \u001b[1;36m956242\u001b[0m, \u001b[33mtzinfo\u001b[0m=\u001b[35mdatetime\u001b[0m.timezone.utc\u001b[1m)\u001b[0m,\n",
       "                \u001b[33mpart_kind\u001b[0m=\u001b[32m'tool-return'\u001b[0m\n",
       "            \u001b[1m)\u001b[0m\n",
       "        \u001b[1m]\u001b[0m,\n",
       "        \u001b[33mkind\u001b[0m=\u001b[32m'request'\u001b[0m\n",
       "    \u001b[1m)\u001b[0m\n",
       "\u001b[1m]\u001b[0m\n"
      ]
     },
     "metadata": {},
     "output_type": "display_data"
    },
    {
     "data": {
      "text/html": [
       "<pre style=\"white-space:pre;overflow-x:auto;line-height:normal;font-family:Menlo,'DejaVu Sans Mono',consolas,'Courier New',monospace\"><span style=\"color: #800080; text-decoration-color: #800080; font-weight: bold\">CityLocation</span><span style=\"font-weight: bold\">(</span><span style=\"color: #808000; text-decoration-color: #808000\">city</span>=<span style=\"color: #008000; text-decoration-color: #008000\">'Paris'</span>, <span style=\"color: #808000; text-decoration-color: #808000\">country</span>=<span style=\"color: #008000; text-decoration-color: #008000\">'France'</span><span style=\"font-weight: bold\">)</span>\n",
       "</pre>\n"
      ],
      "text/plain": [
       "\u001b[1;35mCityLocation\u001b[0m\u001b[1m(\u001b[0m\u001b[33mcity\u001b[0m=\u001b[32m'Paris'\u001b[0m, \u001b[33mcountry\u001b[0m=\u001b[32m'France'\u001b[0m\u001b[1m)\u001b[0m\n"
      ]
     },
     "metadata": {},
     "output_type": "display_data"
    }
   ],
   "source": [
    "pprint(result.all_messages())  # need tp understand \n",
    "pprint(result.data)"
   ]
  },
  {
   "cell_type": "code",
   "execution_count": 21,
   "metadata": {},
   "outputs": [
    {
     "data": {
      "text/plain": [
       "True"
      ]
     },
     "execution_count": 21,
     "metadata": {},
     "output_type": "execute_result"
    }
   ],
   "source": [
    "load_dotenv()"
   ]
  },
  {
   "cell_type": "code",
   "execution_count": 26,
   "metadata": {},
   "outputs": [
    {
     "data": {
      "text/html": [
       "<pre style=\"white-space:pre;overflow-x:auto;line-height:normal;font-family:Menlo,'DejaVu Sans Mono',consolas,'Courier New',monospace\">I need more information to determine the units.  Please specify the units of measurement <span style=\"font-weight: bold\">(</span>e.g., inches, \n",
       "centimeters, meters<span style=\"font-weight: bold\">)</span>.\n",
       "\n",
       "</pre>\n"
      ],
      "text/plain": [
       "I need more information to determine the units.  Please specify the units of measurement \u001b[1m(\u001b[0me.g., inches, \n",
       "centimeters, meters\u001b[1m)\u001b[0m.\n",
       "\n"
      ]
     },
     "metadata": {},
     "output_type": "display_data"
    },
    {
     "data": {
      "text/html": [
       "<pre style=\"white-space:pre;overflow-x:auto;line-height:normal;font-family:Menlo,'DejaVu Sans Mono',consolas,'Courier New',monospace\"><span style=\"font-weight: bold\">[</span>\n",
       "    <span style=\"color: #800080; text-decoration-color: #800080; font-weight: bold\">ModelRequest</span><span style=\"font-weight: bold\">(</span>\n",
       "        <span style=\"color: #808000; text-decoration-color: #808000\">parts</span>=<span style=\"font-weight: bold\">[</span>\n",
       "            <span style=\"color: #800080; text-decoration-color: #800080; font-weight: bold\">SystemPromptPart</span><span style=\"font-weight: bold\">(</span>\n",
       "                <span style=\"color: #808000; text-decoration-color: #808000\">content</span>=<span style=\"color: #008000; text-decoration-color: #008000\">\"Dont assume any data and ignore the result format if you don't have all dataExtract me the</span>\n",
       "<span style=\"color: #008000; text-decoration-color: #008000\">dimension of the boxif you can't extract all data , ask the user try again.\"</span>,\n",
       "                <span style=\"color: #808000; text-decoration-color: #808000\">part_kind</span>=<span style=\"color: #008000; text-decoration-color: #008000\">'system-prompt'</span>\n",
       "            <span style=\"font-weight: bold\">)</span>,\n",
       "            <span style=\"color: #800080; text-decoration-color: #800080; font-weight: bold\">UserPromptPart</span><span style=\"font-weight: bold\">(</span>\n",
       "                <span style=\"color: #808000; text-decoration-color: #808000\">content</span>=<span style=\"color: #008000; text-decoration-color: #008000\">'The box is 10x20x30'</span>,\n",
       "                <span style=\"color: #808000; text-decoration-color: #808000\">timestamp</span>=<span style=\"color: #800080; text-decoration-color: #800080; font-weight: bold\">datetime</span><span style=\"color: #800080; text-decoration-color: #800080; font-weight: bold\">.datetime</span><span style=\"font-weight: bold\">(</span><span style=\"color: #008080; text-decoration-color: #008080; font-weight: bold\">2024</span>, <span style=\"color: #008080; text-decoration-color: #008080; font-weight: bold\">12</span>, <span style=\"color: #008080; text-decoration-color: #008080; font-weight: bold\">31</span>, <span style=\"color: #008080; text-decoration-color: #008080; font-weight: bold\">3</span>, <span style=\"color: #008080; text-decoration-color: #008080; font-weight: bold\">55</span>, <span style=\"color: #008080; text-decoration-color: #008080; font-weight: bold\">11</span>, <span style=\"color: #008080; text-decoration-color: #008080; font-weight: bold\">297482</span>, <span style=\"color: #808000; text-decoration-color: #808000\">tzinfo</span>=<span style=\"color: #800080; text-decoration-color: #800080\">datetime</span>.timezone.utc<span style=\"font-weight: bold\">)</span>,\n",
       "                <span style=\"color: #808000; text-decoration-color: #808000\">part_kind</span>=<span style=\"color: #008000; text-decoration-color: #008000\">'user-prompt'</span>\n",
       "            <span style=\"font-weight: bold\">)</span>\n",
       "        <span style=\"font-weight: bold\">]</span>,\n",
       "        <span style=\"color: #808000; text-decoration-color: #808000\">kind</span>=<span style=\"color: #008000; text-decoration-color: #008000\">'request'</span>\n",
       "    <span style=\"font-weight: bold\">)</span>,\n",
       "    <span style=\"color: #800080; text-decoration-color: #800080; font-weight: bold\">ModelResponse</span><span style=\"font-weight: bold\">(</span>\n",
       "        <span style=\"color: #808000; text-decoration-color: #808000\">parts</span>=<span style=\"font-weight: bold\">[</span>\n",
       "            <span style=\"color: #800080; text-decoration-color: #800080; font-weight: bold\">TextPart</span><span style=\"font-weight: bold\">(</span>\n",
       "                <span style=\"color: #808000; text-decoration-color: #808000\">content</span>=<span style=\"color: #008000; text-decoration-color: #008000\">'I need more information to determine the units.  Please specify the units of measurement </span>\n",
       "<span style=\"color: #008000; text-decoration-color: #008000\">(e.g., inches, centimeters, meters).\\n'</span>,\n",
       "                <span style=\"color: #808000; text-decoration-color: #808000\">part_kind</span>=<span style=\"color: #008000; text-decoration-color: #008000\">'text'</span>\n",
       "            <span style=\"font-weight: bold\">)</span>\n",
       "        <span style=\"font-weight: bold\">]</span>,\n",
       "        <span style=\"color: #808000; text-decoration-color: #808000\">timestamp</span>=<span style=\"color: #800080; text-decoration-color: #800080; font-weight: bold\">datetime</span><span style=\"color: #800080; text-decoration-color: #800080; font-weight: bold\">.datetime</span><span style=\"font-weight: bold\">(</span><span style=\"color: #008080; text-decoration-color: #008080; font-weight: bold\">2024</span>, <span style=\"color: #008080; text-decoration-color: #008080; font-weight: bold\">12</span>, <span style=\"color: #008080; text-decoration-color: #008080; font-weight: bold\">31</span>, <span style=\"color: #008080; text-decoration-color: #008080; font-weight: bold\">3</span>, <span style=\"color: #008080; text-decoration-color: #008080; font-weight: bold\">55</span>, <span style=\"color: #008080; text-decoration-color: #008080; font-weight: bold\">13</span>, <span style=\"color: #008080; text-decoration-color: #008080; font-weight: bold\">147883</span>, <span style=\"color: #808000; text-decoration-color: #808000\">tzinfo</span>=<span style=\"color: #800080; text-decoration-color: #800080\">datetime</span>.timezone.utc<span style=\"font-weight: bold\">)</span>,\n",
       "        <span style=\"color: #808000; text-decoration-color: #808000\">kind</span>=<span style=\"color: #008000; text-decoration-color: #008000\">'response'</span>\n",
       "    <span style=\"font-weight: bold\">)</span>\n",
       "<span style=\"font-weight: bold\">]</span>\n",
       "</pre>\n"
      ],
      "text/plain": [
       "\u001b[1m[\u001b[0m\n",
       "    \u001b[1;35mModelRequest\u001b[0m\u001b[1m(\u001b[0m\n",
       "        \u001b[33mparts\u001b[0m=\u001b[1m[\u001b[0m\n",
       "            \u001b[1;35mSystemPromptPart\u001b[0m\u001b[1m(\u001b[0m\n",
       "                \u001b[33mcontent\u001b[0m=\u001b[32m\"Dont\u001b[0m\u001b[32m assume any data and ignore the result format if you don't have all dataExtract me the\u001b[0m\n",
       "\u001b[32mdimension of the boxif you can't extract all data , ask the user try again.\"\u001b[0m,\n",
       "                \u001b[33mpart_kind\u001b[0m=\u001b[32m'system-prompt'\u001b[0m\n",
       "            \u001b[1m)\u001b[0m,\n",
       "            \u001b[1;35mUserPromptPart\u001b[0m\u001b[1m(\u001b[0m\n",
       "                \u001b[33mcontent\u001b[0m=\u001b[32m'The box is 10x20x30'\u001b[0m,\n",
       "                \u001b[33mtimestamp\u001b[0m=\u001b[1;35mdatetime\u001b[0m\u001b[1;35m.datetime\u001b[0m\u001b[1m(\u001b[0m\u001b[1;36m2024\u001b[0m, \u001b[1;36m12\u001b[0m, \u001b[1;36m31\u001b[0m, \u001b[1;36m3\u001b[0m, \u001b[1;36m55\u001b[0m, \u001b[1;36m11\u001b[0m, \u001b[1;36m297482\u001b[0m, \u001b[33mtzinfo\u001b[0m=\u001b[35mdatetime\u001b[0m.timezone.utc\u001b[1m)\u001b[0m,\n",
       "                \u001b[33mpart_kind\u001b[0m=\u001b[32m'user-prompt'\u001b[0m\n",
       "            \u001b[1m)\u001b[0m\n",
       "        \u001b[1m]\u001b[0m,\n",
       "        \u001b[33mkind\u001b[0m=\u001b[32m'request'\u001b[0m\n",
       "    \u001b[1m)\u001b[0m,\n",
       "    \u001b[1;35mModelResponse\u001b[0m\u001b[1m(\u001b[0m\n",
       "        \u001b[33mparts\u001b[0m=\u001b[1m[\u001b[0m\n",
       "            \u001b[1;35mTextPart\u001b[0m\u001b[1m(\u001b[0m\n",
       "                \u001b[33mcontent\u001b[0m=\u001b[32m'I need more information to determine the units.  Please specify the units of measurement \u001b[0m\n",
       "\u001b[32m(\u001b[0m\u001b[32me.g., inches, centimeters, meters\u001b[0m\u001b[32m)\u001b[0m\u001b[32m.\\n'\u001b[0m,\n",
       "                \u001b[33mpart_kind\u001b[0m=\u001b[32m'text'\u001b[0m\n",
       "            \u001b[1m)\u001b[0m\n",
       "        \u001b[1m]\u001b[0m,\n",
       "        \u001b[33mtimestamp\u001b[0m=\u001b[1;35mdatetime\u001b[0m\u001b[1;35m.datetime\u001b[0m\u001b[1m(\u001b[0m\u001b[1;36m2024\u001b[0m, \u001b[1;36m12\u001b[0m, \u001b[1;36m31\u001b[0m, \u001b[1;36m3\u001b[0m, \u001b[1;36m55\u001b[0m, \u001b[1;36m13\u001b[0m, \u001b[1;36m147883\u001b[0m, \u001b[33mtzinfo\u001b[0m=\u001b[35mdatetime\u001b[0m.timezone.utc\u001b[1m)\u001b[0m,\n",
       "        \u001b[33mkind\u001b[0m=\u001b[32m'response'\u001b[0m\n",
       "    \u001b[1m)\u001b[0m\n",
       "\u001b[1m]\u001b[0m\n"
      ]
     },
     "metadata": {},
     "output_type": "display_data"
    },
    {
     "data": {
      "text/html": [
       "<pre style=\"white-space:pre;overflow-x:auto;line-height:normal;font-family:Menlo,'DejaVu Sans Mono',consolas,'Courier New',monospace\"><span style=\"color: #800080; text-decoration-color: #800080; font-weight: bold\">Box</span><span style=\"font-weight: bold\">(</span><span style=\"color: #808000; text-decoration-color: #808000\">width</span>=<span style=\"color: #008080; text-decoration-color: #008080; font-weight: bold\">10</span>, <span style=\"color: #808000; text-decoration-color: #808000\">height</span>=<span style=\"color: #008080; text-decoration-color: #008080; font-weight: bold\">20</span>, <span style=\"color: #808000; text-decoration-color: #808000\">depth</span>=<span style=\"color: #008080; text-decoration-color: #008080; font-weight: bold\">30</span>, <span style=\"color: #808000; text-decoration-color: #808000\">units</span>=<span style=\"color: #008000; text-decoration-color: #008000\">'cm'</span><span style=\"font-weight: bold\">)</span>\n",
       "</pre>\n"
      ],
      "text/plain": [
       "\u001b[1;35mBox\u001b[0m\u001b[1m(\u001b[0m\u001b[33mwidth\u001b[0m=\u001b[1;36m10\u001b[0m, \u001b[33mheight\u001b[0m=\u001b[1;36m20\u001b[0m, \u001b[33mdepth\u001b[0m=\u001b[1;36m30\u001b[0m, \u001b[33munits\u001b[0m=\u001b[32m'cm'\u001b[0m\u001b[1m)\u001b[0m\n"
      ]
     },
     "metadata": {},
     "output_type": "display_data"
    },
    {
     "data": {
      "text/html": [
       "<pre style=\"white-space:pre;overflow-x:auto;line-height:normal;font-family:Menlo,'DejaVu Sans Mono',consolas,'Courier New',monospace\"><span style=\"font-weight: bold\">[</span>\n",
       "    <span style=\"color: #800080; text-decoration-color: #800080; font-weight: bold\">ModelRequest</span><span style=\"font-weight: bold\">(</span>\n",
       "        <span style=\"color: #808000; text-decoration-color: #808000\">parts</span>=<span style=\"font-weight: bold\">[</span>\n",
       "            <span style=\"color: #800080; text-decoration-color: #800080; font-weight: bold\">SystemPromptPart</span><span style=\"font-weight: bold\">(</span>\n",
       "                <span style=\"color: #808000; text-decoration-color: #808000\">content</span>=<span style=\"color: #008000; text-decoration-color: #008000\">\"Dont assume any data and ignore the result format if you don't have all dataExtract me the</span>\n",
       "<span style=\"color: #008000; text-decoration-color: #008000\">dimension of the boxif you can't extract all data , ask the user try again.\"</span>,\n",
       "                <span style=\"color: #808000; text-decoration-color: #808000\">part_kind</span>=<span style=\"color: #008000; text-decoration-color: #008000\">'system-prompt'</span>\n",
       "            <span style=\"font-weight: bold\">)</span>,\n",
       "            <span style=\"color: #800080; text-decoration-color: #800080; font-weight: bold\">UserPromptPart</span><span style=\"font-weight: bold\">(</span>\n",
       "                <span style=\"color: #808000; text-decoration-color: #808000\">content</span>=<span style=\"color: #008000; text-decoration-color: #008000\">'The box is 10x20x30 cm'</span>,\n",
       "                <span style=\"color: #808000; text-decoration-color: #808000\">timestamp</span>=<span style=\"color: #800080; text-decoration-color: #800080; font-weight: bold\">datetime</span><span style=\"color: #800080; text-decoration-color: #800080; font-weight: bold\">.datetime</span><span style=\"font-weight: bold\">(</span><span style=\"color: #008080; text-decoration-color: #008080; font-weight: bold\">2024</span>, <span style=\"color: #008080; text-decoration-color: #008080; font-weight: bold\">12</span>, <span style=\"color: #008080; text-decoration-color: #008080; font-weight: bold\">31</span>, <span style=\"color: #008080; text-decoration-color: #008080; font-weight: bold\">3</span>, <span style=\"color: #008080; text-decoration-color: #008080; font-weight: bold\">55</span>, <span style=\"color: #008080; text-decoration-color: #008080; font-weight: bold\">13</span>, <span style=\"color: #008080; text-decoration-color: #008080; font-weight: bold\">159116</span>, <span style=\"color: #808000; text-decoration-color: #808000\">tzinfo</span>=<span style=\"color: #800080; text-decoration-color: #800080\">datetime</span>.timezone.utc<span style=\"font-weight: bold\">)</span>,\n",
       "                <span style=\"color: #808000; text-decoration-color: #808000\">part_kind</span>=<span style=\"color: #008000; text-decoration-color: #008000\">'user-prompt'</span>\n",
       "            <span style=\"font-weight: bold\">)</span>\n",
       "        <span style=\"font-weight: bold\">]</span>,\n",
       "        <span style=\"color: #808000; text-decoration-color: #808000\">kind</span>=<span style=\"color: #008000; text-decoration-color: #008000\">'request'</span>\n",
       "    <span style=\"font-weight: bold\">)</span>,\n",
       "    <span style=\"color: #800080; text-decoration-color: #800080; font-weight: bold\">ModelResponse</span><span style=\"font-weight: bold\">(</span>\n",
       "        <span style=\"color: #808000; text-decoration-color: #808000\">parts</span>=<span style=\"font-weight: bold\">[</span>\n",
       "            <span style=\"color: #800080; text-decoration-color: #800080; font-weight: bold\">ToolCallPart</span><span style=\"font-weight: bold\">(</span>\n",
       "                <span style=\"color: #808000; text-decoration-color: #808000\">tool_name</span>=<span style=\"color: #008000; text-decoration-color: #008000\">'final_result'</span>,\n",
       "                <span style=\"color: #808000; text-decoration-color: #808000\">args</span>=<span style=\"color: #800080; text-decoration-color: #800080; font-weight: bold\">ArgsDict</span><span style=\"font-weight: bold\">(</span><span style=\"color: #808000; text-decoration-color: #808000\">args_dict</span>=<span style=\"font-weight: bold\">{</span><span style=\"color: #008000; text-decoration-color: #008000\">'height'</span>: <span style=\"color: #008080; text-decoration-color: #008080; font-weight: bold\">20</span>, <span style=\"color: #008000; text-decoration-color: #008000\">'depth'</span>: <span style=\"color: #008080; text-decoration-color: #008080; font-weight: bold\">30</span>, <span style=\"color: #008000; text-decoration-color: #008000\">'width'</span>: <span style=\"color: #008080; text-decoration-color: #008080; font-weight: bold\">10</span>, <span style=\"color: #008000; text-decoration-color: #008000\">'units'</span>: <span style=\"color: #008000; text-decoration-color: #008000\">'cm'</span><span style=\"font-weight: bold\">})</span>,\n",
       "                <span style=\"color: #808000; text-decoration-color: #808000\">tool_call_id</span>=<span style=\"color: #800080; text-decoration-color: #800080; font-style: italic\">None</span>,\n",
       "                <span style=\"color: #808000; text-decoration-color: #808000\">part_kind</span>=<span style=\"color: #008000; text-decoration-color: #008000\">'tool-call'</span>\n",
       "            <span style=\"font-weight: bold\">)</span>\n",
       "        <span style=\"font-weight: bold\">]</span>,\n",
       "        <span style=\"color: #808000; text-decoration-color: #808000\">timestamp</span>=<span style=\"color: #800080; text-decoration-color: #800080; font-weight: bold\">datetime</span><span style=\"color: #800080; text-decoration-color: #800080; font-weight: bold\">.datetime</span><span style=\"font-weight: bold\">(</span><span style=\"color: #008080; text-decoration-color: #008080; font-weight: bold\">2024</span>, <span style=\"color: #008080; text-decoration-color: #008080; font-weight: bold\">12</span>, <span style=\"color: #008080; text-decoration-color: #008080; font-weight: bold\">31</span>, <span style=\"color: #008080; text-decoration-color: #008080; font-weight: bold\">3</span>, <span style=\"color: #008080; text-decoration-color: #008080; font-weight: bold\">55</span>, <span style=\"color: #008080; text-decoration-color: #008080; font-weight: bold\">13</span>, <span style=\"color: #008080; text-decoration-color: #008080; font-weight: bold\">966554</span>, <span style=\"color: #808000; text-decoration-color: #808000\">tzinfo</span>=<span style=\"color: #800080; text-decoration-color: #800080\">datetime</span>.timezone.utc<span style=\"font-weight: bold\">)</span>,\n",
       "        <span style=\"color: #808000; text-decoration-color: #808000\">kind</span>=<span style=\"color: #008000; text-decoration-color: #008000\">'response'</span>\n",
       "    <span style=\"font-weight: bold\">)</span>,\n",
       "    <span style=\"color: #800080; text-decoration-color: #800080; font-weight: bold\">ModelRequest</span><span style=\"font-weight: bold\">(</span>\n",
       "        <span style=\"color: #808000; text-decoration-color: #808000\">parts</span>=<span style=\"font-weight: bold\">[</span>\n",
       "            <span style=\"color: #800080; text-decoration-color: #800080; font-weight: bold\">ToolReturnPart</span><span style=\"font-weight: bold\">(</span>\n",
       "                <span style=\"color: #808000; text-decoration-color: #808000\">tool_name</span>=<span style=\"color: #008000; text-decoration-color: #008000\">'final_result'</span>,\n",
       "                <span style=\"color: #808000; text-decoration-color: #808000\">content</span>=<span style=\"color: #008000; text-decoration-color: #008000\">'Final result processed.'</span>,\n",
       "                <span style=\"color: #808000; text-decoration-color: #808000\">tool_call_id</span>=<span style=\"color: #800080; text-decoration-color: #800080; font-style: italic\">None</span>,\n",
       "                <span style=\"color: #808000; text-decoration-color: #808000\">timestamp</span>=<span style=\"color: #800080; text-decoration-color: #800080; font-weight: bold\">datetime</span><span style=\"color: #800080; text-decoration-color: #800080; font-weight: bold\">.datetime</span><span style=\"font-weight: bold\">(</span><span style=\"color: #008080; text-decoration-color: #008080; font-weight: bold\">2024</span>, <span style=\"color: #008080; text-decoration-color: #008080; font-weight: bold\">12</span>, <span style=\"color: #008080; text-decoration-color: #008080; font-weight: bold\">31</span>, <span style=\"color: #008080; text-decoration-color: #008080; font-weight: bold\">3</span>, <span style=\"color: #008080; text-decoration-color: #008080; font-weight: bold\">55</span>, <span style=\"color: #008080; text-decoration-color: #008080; font-weight: bold\">13</span>, <span style=\"color: #008080; text-decoration-color: #008080; font-weight: bold\">968569</span>, <span style=\"color: #808000; text-decoration-color: #808000\">tzinfo</span>=<span style=\"color: #800080; text-decoration-color: #800080\">datetime</span>.timezone.utc<span style=\"font-weight: bold\">)</span>,\n",
       "                <span style=\"color: #808000; text-decoration-color: #808000\">part_kind</span>=<span style=\"color: #008000; text-decoration-color: #008000\">'tool-return'</span>\n",
       "            <span style=\"font-weight: bold\">)</span>\n",
       "        <span style=\"font-weight: bold\">]</span>,\n",
       "        <span style=\"color: #808000; text-decoration-color: #808000\">kind</span>=<span style=\"color: #008000; text-decoration-color: #008000\">'request'</span>\n",
       "    <span style=\"font-weight: bold\">)</span>\n",
       "<span style=\"font-weight: bold\">]</span>\n",
       "</pre>\n"
      ],
      "text/plain": [
       "\u001b[1m[\u001b[0m\n",
       "    \u001b[1;35mModelRequest\u001b[0m\u001b[1m(\u001b[0m\n",
       "        \u001b[33mparts\u001b[0m=\u001b[1m[\u001b[0m\n",
       "            \u001b[1;35mSystemPromptPart\u001b[0m\u001b[1m(\u001b[0m\n",
       "                \u001b[33mcontent\u001b[0m=\u001b[32m\"Dont\u001b[0m\u001b[32m assume any data and ignore the result format if you don't have all dataExtract me the\u001b[0m\n",
       "\u001b[32mdimension of the boxif you can't extract all data , ask the user try again.\"\u001b[0m,\n",
       "                \u001b[33mpart_kind\u001b[0m=\u001b[32m'system-prompt'\u001b[0m\n",
       "            \u001b[1m)\u001b[0m,\n",
       "            \u001b[1;35mUserPromptPart\u001b[0m\u001b[1m(\u001b[0m\n",
       "                \u001b[33mcontent\u001b[0m=\u001b[32m'The box is 10x20x30 cm'\u001b[0m,\n",
       "                \u001b[33mtimestamp\u001b[0m=\u001b[1;35mdatetime\u001b[0m\u001b[1;35m.datetime\u001b[0m\u001b[1m(\u001b[0m\u001b[1;36m2024\u001b[0m, \u001b[1;36m12\u001b[0m, \u001b[1;36m31\u001b[0m, \u001b[1;36m3\u001b[0m, \u001b[1;36m55\u001b[0m, \u001b[1;36m13\u001b[0m, \u001b[1;36m159116\u001b[0m, \u001b[33mtzinfo\u001b[0m=\u001b[35mdatetime\u001b[0m.timezone.utc\u001b[1m)\u001b[0m,\n",
       "                \u001b[33mpart_kind\u001b[0m=\u001b[32m'user-prompt'\u001b[0m\n",
       "            \u001b[1m)\u001b[0m\n",
       "        \u001b[1m]\u001b[0m,\n",
       "        \u001b[33mkind\u001b[0m=\u001b[32m'request'\u001b[0m\n",
       "    \u001b[1m)\u001b[0m,\n",
       "    \u001b[1;35mModelResponse\u001b[0m\u001b[1m(\u001b[0m\n",
       "        \u001b[33mparts\u001b[0m=\u001b[1m[\u001b[0m\n",
       "            \u001b[1;35mToolCallPart\u001b[0m\u001b[1m(\u001b[0m\n",
       "                \u001b[33mtool_name\u001b[0m=\u001b[32m'final_result'\u001b[0m,\n",
       "                \u001b[33margs\u001b[0m=\u001b[1;35mArgsDict\u001b[0m\u001b[1m(\u001b[0m\u001b[33margs_dict\u001b[0m=\u001b[1m{\u001b[0m\u001b[32m'height'\u001b[0m: \u001b[1;36m20\u001b[0m, \u001b[32m'depth'\u001b[0m: \u001b[1;36m30\u001b[0m, \u001b[32m'width'\u001b[0m: \u001b[1;36m10\u001b[0m, \u001b[32m'units'\u001b[0m: \u001b[32m'cm'\u001b[0m\u001b[1m}\u001b[0m\u001b[1m)\u001b[0m,\n",
       "                \u001b[33mtool_call_id\u001b[0m=\u001b[3;35mNone\u001b[0m,\n",
       "                \u001b[33mpart_kind\u001b[0m=\u001b[32m'tool-call'\u001b[0m\n",
       "            \u001b[1m)\u001b[0m\n",
       "        \u001b[1m]\u001b[0m,\n",
       "        \u001b[33mtimestamp\u001b[0m=\u001b[1;35mdatetime\u001b[0m\u001b[1;35m.datetime\u001b[0m\u001b[1m(\u001b[0m\u001b[1;36m2024\u001b[0m, \u001b[1;36m12\u001b[0m, \u001b[1;36m31\u001b[0m, \u001b[1;36m3\u001b[0m, \u001b[1;36m55\u001b[0m, \u001b[1;36m13\u001b[0m, \u001b[1;36m966554\u001b[0m, \u001b[33mtzinfo\u001b[0m=\u001b[35mdatetime\u001b[0m.timezone.utc\u001b[1m)\u001b[0m,\n",
       "        \u001b[33mkind\u001b[0m=\u001b[32m'response'\u001b[0m\n",
       "    \u001b[1m)\u001b[0m,\n",
       "    \u001b[1;35mModelRequest\u001b[0m\u001b[1m(\u001b[0m\n",
       "        \u001b[33mparts\u001b[0m=\u001b[1m[\u001b[0m\n",
       "            \u001b[1;35mToolReturnPart\u001b[0m\u001b[1m(\u001b[0m\n",
       "                \u001b[33mtool_name\u001b[0m=\u001b[32m'final_result'\u001b[0m,\n",
       "                \u001b[33mcontent\u001b[0m=\u001b[32m'Final result processed.'\u001b[0m,\n",
       "                \u001b[33mtool_call_id\u001b[0m=\u001b[3;35mNone\u001b[0m,\n",
       "                \u001b[33mtimestamp\u001b[0m=\u001b[1;35mdatetime\u001b[0m\u001b[1;35m.datetime\u001b[0m\u001b[1m(\u001b[0m\u001b[1;36m2024\u001b[0m, \u001b[1;36m12\u001b[0m, \u001b[1;36m31\u001b[0m, \u001b[1;36m3\u001b[0m, \u001b[1;36m55\u001b[0m, \u001b[1;36m13\u001b[0m, \u001b[1;36m968569\u001b[0m, \u001b[33mtzinfo\u001b[0m=\u001b[35mdatetime\u001b[0m.timezone.utc\u001b[1m)\u001b[0m,\n",
       "                \u001b[33mpart_kind\u001b[0m=\u001b[32m'tool-return'\u001b[0m\n",
       "            \u001b[1m)\u001b[0m\n",
       "        \u001b[1m]\u001b[0m,\n",
       "        \u001b[33mkind\u001b[0m=\u001b[32m'request'\u001b[0m\n",
       "    \u001b[1m)\u001b[0m\n",
       "\u001b[1m]\u001b[0m\n"
      ]
     },
     "metadata": {},
     "output_type": "display_data"
    }
   ],
   "source": [
    "from typing import Union\n",
    "\n",
    "from pydantic import BaseModel\n",
    "\n",
    "from pydantic_ai import Agent\n",
    "\n",
    "class Box(BaseModel):\n",
    "    width:int\n",
    "    height:int\n",
    "    depth:int\n",
    "    units:str\n",
    "\n",
    "agent: Agent[None, Union[Box,str]] = Agent(\n",
    "    'gemini-1.5-flash',\n",
    "    result_type=Union[Box,str],\n",
    "    system_prompt=(\n",
    "        \"Dont assume any data and ignore the result format if you don't have all data\"\n",
    "        \"Extract me the dimension of the box\"\n",
    "        \"if you can't extract all data , ask the user try again.\"\n",
    "    )\n",
    ")\n",
    "\n",
    "\n",
    "result = agent.run_sync('The box is 10x20x30')\n",
    "pprint(result.data)\n",
    "pprint(result.all_messages())\n",
    "\n",
    "result = agent.run_sync(\"The box is 10x20x30 cm\")\n",
    "\n",
    "pprint(result.data)\n",
    "\n",
    "pprint(result.all_messages())\n"
   ]
  },
  {
   "cell_type": "code",
   "execution_count": 5,
   "metadata": {},
   "outputs": [
    {
     "data": {
      "text/html": [
       "<pre style=\"white-space:pre;overflow-x:auto;line-height:normal;font-family:Menlo,'DejaVu Sans Mono',consolas,'Courier New',monospace\"><span style=\"color: #008080; text-decoration-color: #008080; font-weight: bold\">6</span>\n",
       "</pre>\n"
      ],
      "text/plain": [
       "\u001b[1;36m6\u001b[0m\n"
      ]
     },
     "metadata": {},
     "output_type": "display_data"
    },
    {
     "data": {
      "text/html": [
       "<pre style=\"white-space:pre;overflow-x:auto;line-height:normal;font-family:Menlo,'DejaVu Sans Mono',consolas,'Courier New',monospace\"><span style=\"font-weight: bold\">[</span>\n",
       "    <span style=\"color: #800080; text-decoration-color: #800080; font-weight: bold\">ModelRequest</span><span style=\"font-weight: bold\">(</span>\n",
       "        <span style=\"color: #808000; text-decoration-color: #808000\">parts</span>=<span style=\"font-weight: bold\">[</span>\n",
       "            <span style=\"color: #800080; text-decoration-color: #800080; font-weight: bold\">SystemPromptPart</span><span style=\"font-weight: bold\">(</span>\n",
       "                <span style=\"color: #808000; text-decoration-color: #808000\">content</span>=<span style=\"color: #008000; text-decoration-color: #008000\">'You are a calculator and you can only use the tool i provide.'</span>,\n",
       "                <span style=\"color: #808000; text-decoration-color: #808000\">part_kind</span>=<span style=\"color: #008000; text-decoration-color: #008000\">'system-prompt'</span>\n",
       "            <span style=\"font-weight: bold\">)</span>,\n",
       "            <span style=\"color: #800080; text-decoration-color: #800080; font-weight: bold\">UserPromptPart</span><span style=\"font-weight: bold\">(</span>\n",
       "                <span style=\"color: #808000; text-decoration-color: #808000\">content</span>=<span style=\"color: #008000; text-decoration-color: #008000\">'What is 2 + 4'</span>,\n",
       "                <span style=\"color: #808000; text-decoration-color: #808000\">timestamp</span>=<span style=\"color: #800080; text-decoration-color: #800080; font-weight: bold\">datetime</span><span style=\"color: #800080; text-decoration-color: #800080; font-weight: bold\">.datetime</span><span style=\"font-weight: bold\">(</span><span style=\"color: #008080; text-decoration-color: #008080; font-weight: bold\">2024</span>, <span style=\"color: #008080; text-decoration-color: #008080; font-weight: bold\">12</span>, <span style=\"color: #008080; text-decoration-color: #008080; font-weight: bold\">31</span>, <span style=\"color: #008080; text-decoration-color: #008080; font-weight: bold\">5</span>, <span style=\"color: #008080; text-decoration-color: #008080; font-weight: bold\">41</span>, <span style=\"color: #008080; text-decoration-color: #008080; font-weight: bold\">10</span>, <span style=\"color: #008080; text-decoration-color: #008080; font-weight: bold\">262703</span>, <span style=\"color: #808000; text-decoration-color: #808000\">tzinfo</span>=<span style=\"color: #800080; text-decoration-color: #800080\">datetime</span>.timezone.utc<span style=\"font-weight: bold\">)</span>,\n",
       "                <span style=\"color: #808000; text-decoration-color: #808000\">part_kind</span>=<span style=\"color: #008000; text-decoration-color: #008000\">'user-prompt'</span>\n",
       "            <span style=\"font-weight: bold\">)</span>\n",
       "        <span style=\"font-weight: bold\">]</span>,\n",
       "        <span style=\"color: #808000; text-decoration-color: #808000\">kind</span>=<span style=\"color: #008000; text-decoration-color: #008000\">'request'</span>\n",
       "    <span style=\"font-weight: bold\">)</span>,\n",
       "    <span style=\"color: #800080; text-decoration-color: #800080; font-weight: bold\">ModelResponse</span><span style=\"font-weight: bold\">(</span>\n",
       "        <span style=\"color: #808000; text-decoration-color: #808000\">parts</span>=<span style=\"font-weight: bold\">[</span>\n",
       "            <span style=\"color: #800080; text-decoration-color: #800080; font-weight: bold\">ToolCallPart</span><span style=\"font-weight: bold\">(</span>\n",
       "                <span style=\"color: #808000; text-decoration-color: #808000\">tool_name</span>=<span style=\"color: #008000; text-decoration-color: #008000\">'additon'</span>,\n",
       "                <span style=\"color: #808000; text-decoration-color: #808000\">args</span>=<span style=\"color: #800080; text-decoration-color: #800080; font-weight: bold\">ArgsDict</span><span style=\"font-weight: bold\">(</span><span style=\"color: #808000; text-decoration-color: #808000\">args_dict</span>=<span style=\"font-weight: bold\">{</span><span style=\"color: #008000; text-decoration-color: #008000\">'b'</span>: <span style=\"color: #008080; text-decoration-color: #008080; font-weight: bold\">4</span>, <span style=\"color: #008000; text-decoration-color: #008000\">'a'</span>: <span style=\"color: #008080; text-decoration-color: #008080; font-weight: bold\">2</span><span style=\"font-weight: bold\">})</span>,\n",
       "                <span style=\"color: #808000; text-decoration-color: #808000\">tool_call_id</span>=<span style=\"color: #800080; text-decoration-color: #800080; font-style: italic\">None</span>,\n",
       "                <span style=\"color: #808000; text-decoration-color: #808000\">part_kind</span>=<span style=\"color: #008000; text-decoration-color: #008000\">'tool-call'</span>\n",
       "            <span style=\"font-weight: bold\">)</span>\n",
       "        <span style=\"font-weight: bold\">]</span>,\n",
       "        <span style=\"color: #808000; text-decoration-color: #808000\">timestamp</span>=<span style=\"color: #800080; text-decoration-color: #800080; font-weight: bold\">datetime</span><span style=\"color: #800080; text-decoration-color: #800080; font-weight: bold\">.datetime</span><span style=\"font-weight: bold\">(</span><span style=\"color: #008080; text-decoration-color: #008080; font-weight: bold\">2024</span>, <span style=\"color: #008080; text-decoration-color: #008080; font-weight: bold\">12</span>, <span style=\"color: #008080; text-decoration-color: #008080; font-weight: bold\">31</span>, <span style=\"color: #008080; text-decoration-color: #008080; font-weight: bold\">5</span>, <span style=\"color: #008080; text-decoration-color: #008080; font-weight: bold\">41</span>, <span style=\"color: #008080; text-decoration-color: #008080; font-weight: bold\">12</span>, <span style=\"color: #008080; text-decoration-color: #008080; font-weight: bold\">144381</span>, <span style=\"color: #808000; text-decoration-color: #808000\">tzinfo</span>=<span style=\"color: #800080; text-decoration-color: #800080\">datetime</span>.timezone.utc<span style=\"font-weight: bold\">)</span>,\n",
       "        <span style=\"color: #808000; text-decoration-color: #808000\">kind</span>=<span style=\"color: #008000; text-decoration-color: #008000\">'response'</span>\n",
       "    <span style=\"font-weight: bold\">)</span>,\n",
       "    <span style=\"color: #800080; text-decoration-color: #800080; font-weight: bold\">ModelRequest</span><span style=\"font-weight: bold\">(</span>\n",
       "        <span style=\"color: #808000; text-decoration-color: #808000\">parts</span>=<span style=\"font-weight: bold\">[</span>\n",
       "            <span style=\"color: #800080; text-decoration-color: #800080; font-weight: bold\">ToolReturnPart</span><span style=\"font-weight: bold\">(</span>\n",
       "                <span style=\"color: #808000; text-decoration-color: #808000\">tool_name</span>=<span style=\"color: #008000; text-decoration-color: #008000\">'additon'</span>,\n",
       "                <span style=\"color: #808000; text-decoration-color: #808000\">content</span>=<span style=\"color: #008080; text-decoration-color: #008080; font-weight: bold\">6</span>,\n",
       "                <span style=\"color: #808000; text-decoration-color: #808000\">tool_call_id</span>=<span style=\"color: #800080; text-decoration-color: #800080; font-style: italic\">None</span>,\n",
       "                <span style=\"color: #808000; text-decoration-color: #808000\">timestamp</span>=<span style=\"color: #800080; text-decoration-color: #800080; font-weight: bold\">datetime</span><span style=\"color: #800080; text-decoration-color: #800080; font-weight: bold\">.datetime</span><span style=\"font-weight: bold\">(</span><span style=\"color: #008080; text-decoration-color: #008080; font-weight: bold\">2024</span>, <span style=\"color: #008080; text-decoration-color: #008080; font-weight: bold\">12</span>, <span style=\"color: #008080; text-decoration-color: #008080; font-weight: bold\">31</span>, <span style=\"color: #008080; text-decoration-color: #008080; font-weight: bold\">5</span>, <span style=\"color: #008080; text-decoration-color: #008080; font-weight: bold\">41</span>, <span style=\"color: #008080; text-decoration-color: #008080; font-weight: bold\">12</span>, <span style=\"color: #008080; text-decoration-color: #008080; font-weight: bold\">146023</span>, <span style=\"color: #808000; text-decoration-color: #808000\">tzinfo</span>=<span style=\"color: #800080; text-decoration-color: #800080\">datetime</span>.timezone.utc<span style=\"font-weight: bold\">)</span>,\n",
       "                <span style=\"color: #808000; text-decoration-color: #808000\">part_kind</span>=<span style=\"color: #008000; text-decoration-color: #008000\">'tool-return'</span>\n",
       "            <span style=\"font-weight: bold\">)</span>\n",
       "        <span style=\"font-weight: bold\">]</span>,\n",
       "        <span style=\"color: #808000; text-decoration-color: #808000\">kind</span>=<span style=\"color: #008000; text-decoration-color: #008000\">'request'</span>\n",
       "    <span style=\"font-weight: bold\">)</span>,\n",
       "    <span style=\"color: #800080; text-decoration-color: #800080; font-weight: bold\">ModelResponse</span><span style=\"font-weight: bold\">(</span>\n",
       "        <span style=\"color: #808000; text-decoration-color: #808000\">parts</span>=<span style=\"font-weight: bold\">[</span>\n",
       "            <span style=\"color: #800080; text-decoration-color: #800080; font-weight: bold\">ToolCallPart</span><span style=\"font-weight: bold\">(</span>\n",
       "                <span style=\"color: #808000; text-decoration-color: #808000\">tool_name</span>=<span style=\"color: #008000; text-decoration-color: #008000\">'final_result'</span>,\n",
       "                <span style=\"color: #808000; text-decoration-color: #808000\">args</span>=<span style=\"color: #800080; text-decoration-color: #800080; font-weight: bold\">ArgsDict</span><span style=\"font-weight: bold\">(</span><span style=\"color: #808000; text-decoration-color: #808000\">args_dict</span>=<span style=\"font-weight: bold\">{</span><span style=\"color: #008000; text-decoration-color: #008000\">'response'</span>: <span style=\"color: #008080; text-decoration-color: #008080; font-weight: bold\">6</span><span style=\"font-weight: bold\">})</span>,\n",
       "                <span style=\"color: #808000; text-decoration-color: #808000\">tool_call_id</span>=<span style=\"color: #800080; text-decoration-color: #800080; font-style: italic\">None</span>,\n",
       "                <span style=\"color: #808000; text-decoration-color: #808000\">part_kind</span>=<span style=\"color: #008000; text-decoration-color: #008000\">'tool-call'</span>\n",
       "            <span style=\"font-weight: bold\">)</span>\n",
       "        <span style=\"font-weight: bold\">]</span>,\n",
       "        <span style=\"color: #808000; text-decoration-color: #808000\">timestamp</span>=<span style=\"color: #800080; text-decoration-color: #800080; font-weight: bold\">datetime</span><span style=\"color: #800080; text-decoration-color: #800080; font-weight: bold\">.datetime</span><span style=\"font-weight: bold\">(</span><span style=\"color: #008080; text-decoration-color: #008080; font-weight: bold\">2024</span>, <span style=\"color: #008080; text-decoration-color: #008080; font-weight: bold\">12</span>, <span style=\"color: #008080; text-decoration-color: #008080; font-weight: bold\">31</span>, <span style=\"color: #008080; text-decoration-color: #008080; font-weight: bold\">5</span>, <span style=\"color: #008080; text-decoration-color: #008080; font-weight: bold\">41</span>, <span style=\"color: #008080; text-decoration-color: #008080; font-weight: bold\">12</span>, <span style=\"color: #008080; text-decoration-color: #008080; font-weight: bold\">838536</span>, <span style=\"color: #808000; text-decoration-color: #808000\">tzinfo</span>=<span style=\"color: #800080; text-decoration-color: #800080\">datetime</span>.timezone.utc<span style=\"font-weight: bold\">)</span>,\n",
       "        <span style=\"color: #808000; text-decoration-color: #808000\">kind</span>=<span style=\"color: #008000; text-decoration-color: #008000\">'response'</span>\n",
       "    <span style=\"font-weight: bold\">)</span>,\n",
       "    <span style=\"color: #800080; text-decoration-color: #800080; font-weight: bold\">ModelRequest</span><span style=\"font-weight: bold\">(</span>\n",
       "        <span style=\"color: #808000; text-decoration-color: #808000\">parts</span>=<span style=\"font-weight: bold\">[</span>\n",
       "            <span style=\"color: #800080; text-decoration-color: #800080; font-weight: bold\">ToolReturnPart</span><span style=\"font-weight: bold\">(</span>\n",
       "                <span style=\"color: #808000; text-decoration-color: #808000\">tool_name</span>=<span style=\"color: #008000; text-decoration-color: #008000\">'final_result'</span>,\n",
       "                <span style=\"color: #808000; text-decoration-color: #808000\">content</span>=<span style=\"color: #008000; text-decoration-color: #008000\">'Final result processed.'</span>,\n",
       "                <span style=\"color: #808000; text-decoration-color: #808000\">tool_call_id</span>=<span style=\"color: #800080; text-decoration-color: #800080; font-style: italic\">None</span>,\n",
       "                <span style=\"color: #808000; text-decoration-color: #808000\">timestamp</span>=<span style=\"color: #800080; text-decoration-color: #800080; font-weight: bold\">datetime</span><span style=\"color: #800080; text-decoration-color: #800080; font-weight: bold\">.datetime</span><span style=\"font-weight: bold\">(</span><span style=\"color: #008080; text-decoration-color: #008080; font-weight: bold\">2024</span>, <span style=\"color: #008080; text-decoration-color: #008080; font-weight: bold\">12</span>, <span style=\"color: #008080; text-decoration-color: #008080; font-weight: bold\">31</span>, <span style=\"color: #008080; text-decoration-color: #008080; font-weight: bold\">5</span>, <span style=\"color: #008080; text-decoration-color: #008080; font-weight: bold\">41</span>, <span style=\"color: #008080; text-decoration-color: #008080; font-weight: bold\">12</span>, <span style=\"color: #008080; text-decoration-color: #008080; font-weight: bold\">839550</span>, <span style=\"color: #808000; text-decoration-color: #808000\">tzinfo</span>=<span style=\"color: #800080; text-decoration-color: #800080\">datetime</span>.timezone.utc<span style=\"font-weight: bold\">)</span>,\n",
       "                <span style=\"color: #808000; text-decoration-color: #808000\">part_kind</span>=<span style=\"color: #008000; text-decoration-color: #008000\">'tool-return'</span>\n",
       "            <span style=\"font-weight: bold\">)</span>\n",
       "        <span style=\"font-weight: bold\">]</span>,\n",
       "        <span style=\"color: #808000; text-decoration-color: #808000\">kind</span>=<span style=\"color: #008000; text-decoration-color: #008000\">'request'</span>\n",
       "    <span style=\"font-weight: bold\">)</span>\n",
       "<span style=\"font-weight: bold\">]</span>\n",
       "</pre>\n"
      ],
      "text/plain": [
       "\u001b[1m[\u001b[0m\n",
       "    \u001b[1;35mModelRequest\u001b[0m\u001b[1m(\u001b[0m\n",
       "        \u001b[33mparts\u001b[0m=\u001b[1m[\u001b[0m\n",
       "            \u001b[1;35mSystemPromptPart\u001b[0m\u001b[1m(\u001b[0m\n",
       "                \u001b[33mcontent\u001b[0m=\u001b[32m'You are a calculator and you can only use the tool i provide.'\u001b[0m,\n",
       "                \u001b[33mpart_kind\u001b[0m=\u001b[32m'system-prompt'\u001b[0m\n",
       "            \u001b[1m)\u001b[0m,\n",
       "            \u001b[1;35mUserPromptPart\u001b[0m\u001b[1m(\u001b[0m\n",
       "                \u001b[33mcontent\u001b[0m=\u001b[32m'What is 2 + 4'\u001b[0m,\n",
       "                \u001b[33mtimestamp\u001b[0m=\u001b[1;35mdatetime\u001b[0m\u001b[1;35m.datetime\u001b[0m\u001b[1m(\u001b[0m\u001b[1;36m2024\u001b[0m, \u001b[1;36m12\u001b[0m, \u001b[1;36m31\u001b[0m, \u001b[1;36m5\u001b[0m, \u001b[1;36m41\u001b[0m, \u001b[1;36m10\u001b[0m, \u001b[1;36m262703\u001b[0m, \u001b[33mtzinfo\u001b[0m=\u001b[35mdatetime\u001b[0m.timezone.utc\u001b[1m)\u001b[0m,\n",
       "                \u001b[33mpart_kind\u001b[0m=\u001b[32m'user-prompt'\u001b[0m\n",
       "            \u001b[1m)\u001b[0m\n",
       "        \u001b[1m]\u001b[0m,\n",
       "        \u001b[33mkind\u001b[0m=\u001b[32m'request'\u001b[0m\n",
       "    \u001b[1m)\u001b[0m,\n",
       "    \u001b[1;35mModelResponse\u001b[0m\u001b[1m(\u001b[0m\n",
       "        \u001b[33mparts\u001b[0m=\u001b[1m[\u001b[0m\n",
       "            \u001b[1;35mToolCallPart\u001b[0m\u001b[1m(\u001b[0m\n",
       "                \u001b[33mtool_name\u001b[0m=\u001b[32m'additon'\u001b[0m,\n",
       "                \u001b[33margs\u001b[0m=\u001b[1;35mArgsDict\u001b[0m\u001b[1m(\u001b[0m\u001b[33margs_dict\u001b[0m=\u001b[1m{\u001b[0m\u001b[32m'b'\u001b[0m: \u001b[1;36m4\u001b[0m, \u001b[32m'a'\u001b[0m: \u001b[1;36m2\u001b[0m\u001b[1m}\u001b[0m\u001b[1m)\u001b[0m,\n",
       "                \u001b[33mtool_call_id\u001b[0m=\u001b[3;35mNone\u001b[0m,\n",
       "                \u001b[33mpart_kind\u001b[0m=\u001b[32m'tool-call'\u001b[0m\n",
       "            \u001b[1m)\u001b[0m\n",
       "        \u001b[1m]\u001b[0m,\n",
       "        \u001b[33mtimestamp\u001b[0m=\u001b[1;35mdatetime\u001b[0m\u001b[1;35m.datetime\u001b[0m\u001b[1m(\u001b[0m\u001b[1;36m2024\u001b[0m, \u001b[1;36m12\u001b[0m, \u001b[1;36m31\u001b[0m, \u001b[1;36m5\u001b[0m, \u001b[1;36m41\u001b[0m, \u001b[1;36m12\u001b[0m, \u001b[1;36m144381\u001b[0m, \u001b[33mtzinfo\u001b[0m=\u001b[35mdatetime\u001b[0m.timezone.utc\u001b[1m)\u001b[0m,\n",
       "        \u001b[33mkind\u001b[0m=\u001b[32m'response'\u001b[0m\n",
       "    \u001b[1m)\u001b[0m,\n",
       "    \u001b[1;35mModelRequest\u001b[0m\u001b[1m(\u001b[0m\n",
       "        \u001b[33mparts\u001b[0m=\u001b[1m[\u001b[0m\n",
       "            \u001b[1;35mToolReturnPart\u001b[0m\u001b[1m(\u001b[0m\n",
       "                \u001b[33mtool_name\u001b[0m=\u001b[32m'additon'\u001b[0m,\n",
       "                \u001b[33mcontent\u001b[0m=\u001b[1;36m6\u001b[0m,\n",
       "                \u001b[33mtool_call_id\u001b[0m=\u001b[3;35mNone\u001b[0m,\n",
       "                \u001b[33mtimestamp\u001b[0m=\u001b[1;35mdatetime\u001b[0m\u001b[1;35m.datetime\u001b[0m\u001b[1m(\u001b[0m\u001b[1;36m2024\u001b[0m, \u001b[1;36m12\u001b[0m, \u001b[1;36m31\u001b[0m, \u001b[1;36m5\u001b[0m, \u001b[1;36m41\u001b[0m, \u001b[1;36m12\u001b[0m, \u001b[1;36m146023\u001b[0m, \u001b[33mtzinfo\u001b[0m=\u001b[35mdatetime\u001b[0m.timezone.utc\u001b[1m)\u001b[0m,\n",
       "                \u001b[33mpart_kind\u001b[0m=\u001b[32m'tool-return'\u001b[0m\n",
       "            \u001b[1m)\u001b[0m\n",
       "        \u001b[1m]\u001b[0m,\n",
       "        \u001b[33mkind\u001b[0m=\u001b[32m'request'\u001b[0m\n",
       "    \u001b[1m)\u001b[0m,\n",
       "    \u001b[1;35mModelResponse\u001b[0m\u001b[1m(\u001b[0m\n",
       "        \u001b[33mparts\u001b[0m=\u001b[1m[\u001b[0m\n",
       "            \u001b[1;35mToolCallPart\u001b[0m\u001b[1m(\u001b[0m\n",
       "                \u001b[33mtool_name\u001b[0m=\u001b[32m'final_result'\u001b[0m,\n",
       "                \u001b[33margs\u001b[0m=\u001b[1;35mArgsDict\u001b[0m\u001b[1m(\u001b[0m\u001b[33margs_dict\u001b[0m=\u001b[1m{\u001b[0m\u001b[32m'response'\u001b[0m: \u001b[1;36m6\u001b[0m\u001b[1m}\u001b[0m\u001b[1m)\u001b[0m,\n",
       "                \u001b[33mtool_call_id\u001b[0m=\u001b[3;35mNone\u001b[0m,\n",
       "                \u001b[33mpart_kind\u001b[0m=\u001b[32m'tool-call'\u001b[0m\n",
       "            \u001b[1m)\u001b[0m\n",
       "        \u001b[1m]\u001b[0m,\n",
       "        \u001b[33mtimestamp\u001b[0m=\u001b[1;35mdatetime\u001b[0m\u001b[1;35m.datetime\u001b[0m\u001b[1m(\u001b[0m\u001b[1;36m2024\u001b[0m, \u001b[1;36m12\u001b[0m, \u001b[1;36m31\u001b[0m, \u001b[1;36m5\u001b[0m, \u001b[1;36m41\u001b[0m, \u001b[1;36m12\u001b[0m, \u001b[1;36m838536\u001b[0m, \u001b[33mtzinfo\u001b[0m=\u001b[35mdatetime\u001b[0m.timezone.utc\u001b[1m)\u001b[0m,\n",
       "        \u001b[33mkind\u001b[0m=\u001b[32m'response'\u001b[0m\n",
       "    \u001b[1m)\u001b[0m,\n",
       "    \u001b[1;35mModelRequest\u001b[0m\u001b[1m(\u001b[0m\n",
       "        \u001b[33mparts\u001b[0m=\u001b[1m[\u001b[0m\n",
       "            \u001b[1;35mToolReturnPart\u001b[0m\u001b[1m(\u001b[0m\n",
       "                \u001b[33mtool_name\u001b[0m=\u001b[32m'final_result'\u001b[0m,\n",
       "                \u001b[33mcontent\u001b[0m=\u001b[32m'Final result processed.'\u001b[0m,\n",
       "                \u001b[33mtool_call_id\u001b[0m=\u001b[3;35mNone\u001b[0m,\n",
       "                \u001b[33mtimestamp\u001b[0m=\u001b[1;35mdatetime\u001b[0m\u001b[1;35m.datetime\u001b[0m\u001b[1m(\u001b[0m\u001b[1;36m2024\u001b[0m, \u001b[1;36m12\u001b[0m, \u001b[1;36m31\u001b[0m, \u001b[1;36m5\u001b[0m, \u001b[1;36m41\u001b[0m, \u001b[1;36m12\u001b[0m, \u001b[1;36m839550\u001b[0m, \u001b[33mtzinfo\u001b[0m=\u001b[35mdatetime\u001b[0m.timezone.utc\u001b[1m)\u001b[0m,\n",
       "                \u001b[33mpart_kind\u001b[0m=\u001b[32m'tool-return'\u001b[0m\n",
       "            \u001b[1m)\u001b[0m\n",
       "        \u001b[1m]\u001b[0m,\n",
       "        \u001b[33mkind\u001b[0m=\u001b[32m'request'\u001b[0m\n",
       "    \u001b[1m)\u001b[0m\n",
       "\u001b[1m]\u001b[0m\n"
      ]
     },
     "metadata": {},
     "output_type": "display_data"
    }
   ],
   "source": [
    "from typing import Union\n",
    "\n",
    "from pydantic import BaseModel\n",
    "\n",
    "from pydantic_ai import Agent\n",
    "\n",
    "\n",
    "\n",
    "agent= Agent(\n",
    "    'gemini-1.5-flash',\n",
    "    result_type=int,\n",
    "    system_prompt=(\n",
    "      \"You are a calculator and you can only use the tool i provide.\"\n",
    "    )\n",
    ")\n",
    "\n",
    "@agent.tool_plain\n",
    "def additon( a:int , b:int)->int:\n",
    "    \"Perfoms addition\"\n",
    "    return a+b\n",
    "\n",
    "\n",
    "result = agent.run_sync('What is 2 + 4')\n",
    "pprint(result.data)\n",
    "pprint(result.all_messages())\n"
   ]
  },
  {
   "cell_type": "code",
   "execution_count": 25,
   "metadata": {},
   "outputs": [
    {
     "data": {
      "text/html": [
       "<pre style=\"white-space:pre;overflow-x:auto;line-height:normal;font-family:Menlo,'DejaVu Sans Mono',consolas,'Courier New',monospace\"><span style=\"font-weight: bold\">[</span><span style=\"color: #008000; text-decoration-color: #008000\">'red'</span>, <span style=\"color: #008000; text-decoration-color: #008000\">'blue'</span>, <span style=\"color: #008000; text-decoration-color: #008000\">'green'</span><span style=\"font-weight: bold\">]</span>\n",
       "</pre>\n"
      ],
      "text/plain": [
       "\u001b[1m[\u001b[0m\u001b[32m'red'\u001b[0m, \u001b[32m'blue'\u001b[0m, \u001b[32m'green'\u001b[0m\u001b[1m]\u001b[0m\n"
      ]
     },
     "metadata": {},
     "output_type": "display_data"
    },
    {
     "data": {
      "text/html": [
       "<pre style=\"white-space:pre;overflow-x:auto;line-height:normal;font-family:Menlo,'DejaVu Sans Mono',consolas,'Courier New',monospace\"><span style=\"font-weight: bold\">[</span>\n",
       "    <span style=\"color: #800080; text-decoration-color: #800080; font-weight: bold\">ModelRequest</span><span style=\"font-weight: bold\">(</span>\n",
       "        <span style=\"color: #808000; text-decoration-color: #808000\">parts</span>=<span style=\"font-weight: bold\">[</span>\n",
       "            <span style=\"color: #800080; text-decoration-color: #800080; font-weight: bold\">SystemPromptPart</span><span style=\"font-weight: bold\">(</span>\n",
       "                <span style=\"color: #808000; text-decoration-color: #808000\">content</span>=<span style=\"color: #008000; text-decoration-color: #008000\">'Extract either colors or sizes as list from the shapes provided'</span>,\n",
       "                <span style=\"color: #808000; text-decoration-color: #808000\">part_kind</span>=<span style=\"color: #008000; text-decoration-color: #008000\">'system-prompt'</span>\n",
       "            <span style=\"font-weight: bold\">)</span>,\n",
       "            <span style=\"color: #800080; text-decoration-color: #800080; font-weight: bold\">UserPromptPart</span><span style=\"font-weight: bold\">(</span>\n",
       "                <span style=\"color: #808000; text-decoration-color: #808000\">content</span>=<span style=\"color: #008000; text-decoration-color: #008000\">'red square ,blue circle,green rectangle'</span>,\n",
       "                <span style=\"color: #808000; text-decoration-color: #808000\">timestamp</span>=<span style=\"color: #800080; text-decoration-color: #800080; font-weight: bold\">datetime</span><span style=\"color: #800080; text-decoration-color: #800080; font-weight: bold\">.datetime</span><span style=\"font-weight: bold\">(</span><span style=\"color: #008080; text-decoration-color: #008080; font-weight: bold\">2024</span>, <span style=\"color: #008080; text-decoration-color: #008080; font-weight: bold\">12</span>, <span style=\"color: #008080; text-decoration-color: #008080; font-weight: bold\">31</span>, <span style=\"color: #008080; text-decoration-color: #008080; font-weight: bold\">4</span>, <span style=\"color: #008080; text-decoration-color: #008080; font-weight: bold\">59</span>, <span style=\"color: #008080; text-decoration-color: #008080; font-weight: bold\">55</span>, <span style=\"color: #008080; text-decoration-color: #008080; font-weight: bold\">548097</span>, <span style=\"color: #808000; text-decoration-color: #808000\">tzinfo</span>=<span style=\"color: #800080; text-decoration-color: #800080\">datetime</span>.timezone.utc<span style=\"font-weight: bold\">)</span>,\n",
       "                <span style=\"color: #808000; text-decoration-color: #808000\">part_kind</span>=<span style=\"color: #008000; text-decoration-color: #008000\">'user-prompt'</span>\n",
       "            <span style=\"font-weight: bold\">)</span>\n",
       "        <span style=\"font-weight: bold\">]</span>,\n",
       "        <span style=\"color: #808000; text-decoration-color: #808000\">kind</span>=<span style=\"color: #008000; text-decoration-color: #008000\">'request'</span>\n",
       "    <span style=\"font-weight: bold\">)</span>,\n",
       "    <span style=\"color: #800080; text-decoration-color: #800080; font-weight: bold\">ModelResponse</span><span style=\"font-weight: bold\">(</span>\n",
       "        <span style=\"color: #808000; text-decoration-color: #808000\">parts</span>=<span style=\"font-weight: bold\">[</span>\n",
       "            <span style=\"color: #800080; text-decoration-color: #800080; font-weight: bold\">ToolCallPart</span><span style=\"font-weight: bold\">(</span>\n",
       "                <span style=\"color: #808000; text-decoration-color: #808000\">tool_name</span>=<span style=\"color: #008000; text-decoration-color: #008000\">'final_result_list'</span>,\n",
       "                <span style=\"color: #808000; text-decoration-color: #808000\">args</span>=<span style=\"color: #800080; text-decoration-color: #800080; font-weight: bold\">ArgsJson</span><span style=\"font-weight: bold\">(</span><span style=\"color: #808000; text-decoration-color: #808000\">args_json</span>=<span style=\"color: #008000; text-decoration-color: #008000\">'{\"response\": [\"red\", \"blue\", \"green\"]}'</span><span style=\"font-weight: bold\">)</span>,\n",
       "                <span style=\"color: #808000; text-decoration-color: #808000\">tool_call_id</span>=<span style=\"color: #008000; text-decoration-color: #008000\">'call_vmfg'</span>,\n",
       "                <span style=\"color: #808000; text-decoration-color: #808000\">part_kind</span>=<span style=\"color: #008000; text-decoration-color: #008000\">'tool-call'</span>\n",
       "            <span style=\"font-weight: bold\">)</span>\n",
       "        <span style=\"font-weight: bold\">]</span>,\n",
       "        <span style=\"color: #808000; text-decoration-color: #808000\">timestamp</span>=<span style=\"color: #800080; text-decoration-color: #800080; font-weight: bold\">datetime</span><span style=\"color: #800080; text-decoration-color: #800080; font-weight: bold\">.datetime</span><span style=\"font-weight: bold\">(</span><span style=\"color: #008080; text-decoration-color: #008080; font-weight: bold\">2024</span>, <span style=\"color: #008080; text-decoration-color: #008080; font-weight: bold\">12</span>, <span style=\"color: #008080; text-decoration-color: #008080; font-weight: bold\">31</span>, <span style=\"color: #008080; text-decoration-color: #008080; font-weight: bold\">5</span>, <span style=\"color: #008080; text-decoration-color: #008080; font-weight: bold\">0</span>, <span style=\"color: #008080; text-decoration-color: #008080; font-weight: bold\">1</span>, <span style=\"color: #808000; text-decoration-color: #808000\">tzinfo</span>=<span style=\"color: #800080; text-decoration-color: #800080\">datetime</span>.timezone.utc<span style=\"font-weight: bold\">)</span>,\n",
       "        <span style=\"color: #808000; text-decoration-color: #808000\">kind</span>=<span style=\"color: #008000; text-decoration-color: #008000\">'response'</span>\n",
       "    <span style=\"font-weight: bold\">)</span>,\n",
       "    <span style=\"color: #800080; text-decoration-color: #800080; font-weight: bold\">ModelRequest</span><span style=\"font-weight: bold\">(</span>\n",
       "        <span style=\"color: #808000; text-decoration-color: #808000\">parts</span>=<span style=\"font-weight: bold\">[</span>\n",
       "            <span style=\"color: #800080; text-decoration-color: #800080; font-weight: bold\">ToolReturnPart</span><span style=\"font-weight: bold\">(</span>\n",
       "                <span style=\"color: #808000; text-decoration-color: #808000\">tool_name</span>=<span style=\"color: #008000; text-decoration-color: #008000\">'final_result_list'</span>,\n",
       "                <span style=\"color: #808000; text-decoration-color: #808000\">content</span>=<span style=\"color: #008000; text-decoration-color: #008000\">'Final result processed.'</span>,\n",
       "                <span style=\"color: #808000; text-decoration-color: #808000\">tool_call_id</span>=<span style=\"color: #008000; text-decoration-color: #008000\">'call_vmfg'</span>,\n",
       "                <span style=\"color: #808000; text-decoration-color: #808000\">timestamp</span>=<span style=\"color: #800080; text-decoration-color: #800080; font-weight: bold\">datetime</span><span style=\"color: #800080; text-decoration-color: #800080; font-weight: bold\">.datetime</span><span style=\"font-weight: bold\">(</span><span style=\"color: #008080; text-decoration-color: #008080; font-weight: bold\">2024</span>, <span style=\"color: #008080; text-decoration-color: #008080; font-weight: bold\">12</span>, <span style=\"color: #008080; text-decoration-color: #008080; font-weight: bold\">31</span>, <span style=\"color: #008080; text-decoration-color: #008080; font-weight: bold\">4</span>, <span style=\"color: #008080; text-decoration-color: #008080; font-weight: bold\">59</span>, <span style=\"color: #008080; text-decoration-color: #008080; font-weight: bold\">56</span>, <span style=\"color: #008080; text-decoration-color: #008080; font-weight: bold\">25694</span>, <span style=\"color: #808000; text-decoration-color: #808000\">tzinfo</span>=<span style=\"color: #800080; text-decoration-color: #800080\">datetime</span>.timezone.utc<span style=\"font-weight: bold\">)</span>,\n",
       "                <span style=\"color: #808000; text-decoration-color: #808000\">part_kind</span>=<span style=\"color: #008000; text-decoration-color: #008000\">'tool-return'</span>\n",
       "            <span style=\"font-weight: bold\">)</span>\n",
       "        <span style=\"font-weight: bold\">]</span>,\n",
       "        <span style=\"color: #808000; text-decoration-color: #808000\">kind</span>=<span style=\"color: #008000; text-decoration-color: #008000\">'request'</span>\n",
       "    <span style=\"font-weight: bold\">)</span>\n",
       "<span style=\"font-weight: bold\">]</span>\n",
       "</pre>\n"
      ],
      "text/plain": [
       "\u001b[1m[\u001b[0m\n",
       "    \u001b[1;35mModelRequest\u001b[0m\u001b[1m(\u001b[0m\n",
       "        \u001b[33mparts\u001b[0m=\u001b[1m[\u001b[0m\n",
       "            \u001b[1;35mSystemPromptPart\u001b[0m\u001b[1m(\u001b[0m\n",
       "                \u001b[33mcontent\u001b[0m=\u001b[32m'Extract either colors or sizes as list from the shapes provided'\u001b[0m,\n",
       "                \u001b[33mpart_kind\u001b[0m=\u001b[32m'system-prompt'\u001b[0m\n",
       "            \u001b[1m)\u001b[0m,\n",
       "            \u001b[1;35mUserPromptPart\u001b[0m\u001b[1m(\u001b[0m\n",
       "                \u001b[33mcontent\u001b[0m=\u001b[32m'red square ,blue circle,green rectangle'\u001b[0m,\n",
       "                \u001b[33mtimestamp\u001b[0m=\u001b[1;35mdatetime\u001b[0m\u001b[1;35m.datetime\u001b[0m\u001b[1m(\u001b[0m\u001b[1;36m2024\u001b[0m, \u001b[1;36m12\u001b[0m, \u001b[1;36m31\u001b[0m, \u001b[1;36m4\u001b[0m, \u001b[1;36m59\u001b[0m, \u001b[1;36m55\u001b[0m, \u001b[1;36m548097\u001b[0m, \u001b[33mtzinfo\u001b[0m=\u001b[35mdatetime\u001b[0m.timezone.utc\u001b[1m)\u001b[0m,\n",
       "                \u001b[33mpart_kind\u001b[0m=\u001b[32m'user-prompt'\u001b[0m\n",
       "            \u001b[1m)\u001b[0m\n",
       "        \u001b[1m]\u001b[0m,\n",
       "        \u001b[33mkind\u001b[0m=\u001b[32m'request'\u001b[0m\n",
       "    \u001b[1m)\u001b[0m,\n",
       "    \u001b[1;35mModelResponse\u001b[0m\u001b[1m(\u001b[0m\n",
       "        \u001b[33mparts\u001b[0m=\u001b[1m[\u001b[0m\n",
       "            \u001b[1;35mToolCallPart\u001b[0m\u001b[1m(\u001b[0m\n",
       "                \u001b[33mtool_name\u001b[0m=\u001b[32m'final_result_list'\u001b[0m,\n",
       "                \u001b[33margs\u001b[0m=\u001b[1;35mArgsJson\u001b[0m\u001b[1m(\u001b[0m\u001b[33margs_json\u001b[0m=\u001b[32m'\u001b[0m\u001b[32m{\u001b[0m\u001b[32m\"response\": \u001b[0m\u001b[32m[\u001b[0m\u001b[32m\"red\", \"blue\", \"green\"\u001b[0m\u001b[32m]\u001b[0m\u001b[32m}\u001b[0m\u001b[32m'\u001b[0m\u001b[1m)\u001b[0m,\n",
       "                \u001b[33mtool_call_id\u001b[0m=\u001b[32m'call_vmfg'\u001b[0m,\n",
       "                \u001b[33mpart_kind\u001b[0m=\u001b[32m'tool-call'\u001b[0m\n",
       "            \u001b[1m)\u001b[0m\n",
       "        \u001b[1m]\u001b[0m,\n",
       "        \u001b[33mtimestamp\u001b[0m=\u001b[1;35mdatetime\u001b[0m\u001b[1;35m.datetime\u001b[0m\u001b[1m(\u001b[0m\u001b[1;36m2024\u001b[0m, \u001b[1;36m12\u001b[0m, \u001b[1;36m31\u001b[0m, \u001b[1;36m5\u001b[0m, \u001b[1;36m0\u001b[0m, \u001b[1;36m1\u001b[0m, \u001b[33mtzinfo\u001b[0m=\u001b[35mdatetime\u001b[0m.timezone.utc\u001b[1m)\u001b[0m,\n",
       "        \u001b[33mkind\u001b[0m=\u001b[32m'response'\u001b[0m\n",
       "    \u001b[1m)\u001b[0m,\n",
       "    \u001b[1;35mModelRequest\u001b[0m\u001b[1m(\u001b[0m\n",
       "        \u001b[33mparts\u001b[0m=\u001b[1m[\u001b[0m\n",
       "            \u001b[1;35mToolReturnPart\u001b[0m\u001b[1m(\u001b[0m\n",
       "                \u001b[33mtool_name\u001b[0m=\u001b[32m'final_result_list'\u001b[0m,\n",
       "                \u001b[33mcontent\u001b[0m=\u001b[32m'Final result processed.'\u001b[0m,\n",
       "                \u001b[33mtool_call_id\u001b[0m=\u001b[32m'call_vmfg'\u001b[0m,\n",
       "                \u001b[33mtimestamp\u001b[0m=\u001b[1;35mdatetime\u001b[0m\u001b[1;35m.datetime\u001b[0m\u001b[1m(\u001b[0m\u001b[1;36m2024\u001b[0m, \u001b[1;36m12\u001b[0m, \u001b[1;36m31\u001b[0m, \u001b[1;36m4\u001b[0m, \u001b[1;36m59\u001b[0m, \u001b[1;36m56\u001b[0m, \u001b[1;36m25694\u001b[0m, \u001b[33mtzinfo\u001b[0m=\u001b[35mdatetime\u001b[0m.timezone.utc\u001b[1m)\u001b[0m,\n",
       "                \u001b[33mpart_kind\u001b[0m=\u001b[32m'tool-return'\u001b[0m\n",
       "            \u001b[1m)\u001b[0m\n",
       "        \u001b[1m]\u001b[0m,\n",
       "        \u001b[33mkind\u001b[0m=\u001b[32m'request'\u001b[0m\n",
       "    \u001b[1m)\u001b[0m\n",
       "\u001b[1m]\u001b[0m\n"
      ]
     },
     "metadata": {},
     "output_type": "display_data"
    },
    {
     "data": {
      "text/html": [
       "<pre style=\"white-space:pre;overflow-x:auto;line-height:normal;font-family:Menlo,'DejaVu Sans Mono',consolas,'Courier New',monospace\"><span style=\"font-weight: bold\">[</span><span style=\"color: #008080; text-decoration-color: #008080; font-weight: bold\">10</span>, <span style=\"color: #008080; text-decoration-color: #008080; font-weight: bold\">20</span>, <span style=\"color: #008080; text-decoration-color: #008080; font-weight: bold\">30</span><span style=\"font-weight: bold\">]</span>\n",
       "</pre>\n"
      ],
      "text/plain": [
       "\u001b[1m[\u001b[0m\u001b[1;36m10\u001b[0m, \u001b[1;36m20\u001b[0m, \u001b[1;36m30\u001b[0m\u001b[1m]\u001b[0m\n"
      ]
     },
     "metadata": {},
     "output_type": "display_data"
    }
   ],
   "source": [
    "from typing import Union \n",
    "\n",
    "from pydantic_ai import Agent\n",
    "\n",
    "agent:Agent[None,Union[list[str],list[int]]] =Agent(\n",
    "    'groq:llama-3.1-70b-versatile',\n",
    "    result_type=Union[list[str],list[int]],\n",
    "    system_prompt=\"Extract either colors or sizes as list from the shapes provided\"\n",
    ")\n",
    "\n",
    "\n",
    "result = agent.run_sync('red square ,blue circle,green rectangle')\n",
    "pprint(result.data)\n",
    "pprint(result.all_messages())\n",
    "\n",
    "\n",
    "result = agent.run_sync('square size 10,circle size 20,triangle size 30')\n",
    "pprint(result.data)\n",
    "\n"
   ]
  },
  {
   "cell_type": "markdown",
   "metadata": {},
   "source": [
    "https://github.com/mistralai/cookbook/blob/main/third_party/PydanticAI/pydantic_bank_support_agent.ipynb\n",
    "https://github.com/pydantic/pydantic-ai/blob/main/tests/example_modules/fake_database.py"
   ]
  },
  {
   "cell_type": "code",
   "execution_count": 18,
   "metadata": {},
   "outputs": [
    {
     "data": {
      "text/html": [
       "<pre style=\"white-space:pre;overflow-x:auto;line-height:normal;font-family:Menlo,'DejaVu Sans Mono',consolas,'Courier New',monospace\"><span style=\"color: #800080; text-decoration-color: #800080; font-weight: bold\">Success</span><span style=\"font-weight: bold\">(</span><span style=\"color: #808000; text-decoration-color: #808000\">sql_query</span>=<span style=\"color: #008000; text-decoration-color: #008000\">'\\\\\"SELECT * FROM users WHERE last_active_date = CURRENT_DATE - INTERVAL \\'1 day\\';\\\\\"'</span><span style=\"font-weight: bold\">)</span>\n",
       "</pre>\n"
      ],
      "text/plain": [
       "\u001b[1;35mSuccess\u001b[0m\u001b[1m(\u001b[0m\u001b[33msql_query\u001b[0m=\u001b[32m'\\\\\"SELECT * FROM users WHERE last_active_date = CURRENT_DATE - INTERVAL \\'1 day\\';\\\\\"'\u001b[0m\u001b[1m)\u001b[0m\n"
      ]
     },
     "metadata": {},
     "output_type": "display_data"
    },
    {
     "data": {
      "text/html": [
       "<pre style=\"white-space:pre;overflow-x:auto;line-height:normal;font-family:Menlo,'DejaVu Sans Mono',consolas,'Courier New',monospace\"><span style=\"font-weight: bold\">[</span>\n",
       "    <span style=\"color: #800080; text-decoration-color: #800080; font-weight: bold\">ModelRequest</span><span style=\"font-weight: bold\">(</span>\n",
       "        <span style=\"color: #808000; text-decoration-color: #808000\">parts</span>=<span style=\"font-weight: bold\">[</span>\n",
       "            <span style=\"color: #800080; text-decoration-color: #800080; font-weight: bold\">SystemPromptPart</span><span style=\"font-weight: bold\">(</span>\n",
       "                <span style=\"color: #808000; text-decoration-color: #808000\">content</span>=<span style=\"color: #008000; text-decoration-color: #008000\">'Generate PostgreSQL flavored SQL queries based on user input'</span>,\n",
       "                <span style=\"color: #808000; text-decoration-color: #808000\">part_kind</span>=<span style=\"color: #008000; text-decoration-color: #008000\">'system-prompt'</span>\n",
       "            <span style=\"font-weight: bold\">)</span>,\n",
       "            <span style=\"color: #800080; text-decoration-color: #800080; font-weight: bold\">UserPromptPart</span><span style=\"font-weight: bold\">(</span>\n",
       "                <span style=\"color: #808000; text-decoration-color: #808000\">content</span>=<span style=\"color: #008000; text-decoration-color: #008000\">'get me uses who were last active yesterday.'</span>,\n",
       "                <span style=\"color: #808000; text-decoration-color: #808000\">timestamp</span>=<span style=\"color: #800080; text-decoration-color: #800080; font-weight: bold\">datetime</span><span style=\"color: #800080; text-decoration-color: #800080; font-weight: bold\">.datetime</span><span style=\"font-weight: bold\">(</span><span style=\"color: #008080; text-decoration-color: #008080; font-weight: bold\">2024</span>, <span style=\"color: #008080; text-decoration-color: #008080; font-weight: bold\">12</span>, <span style=\"color: #008080; text-decoration-color: #008080; font-weight: bold\">31</span>, <span style=\"color: #008080; text-decoration-color: #008080; font-weight: bold\">6</span>, <span style=\"color: #008080; text-decoration-color: #008080; font-weight: bold\">8</span>, <span style=\"color: #008080; text-decoration-color: #008080; font-weight: bold\">57</span>, <span style=\"color: #008080; text-decoration-color: #008080; font-weight: bold\">37558</span>, <span style=\"color: #808000; text-decoration-color: #808000\">tzinfo</span>=<span style=\"color: #800080; text-decoration-color: #800080\">datetime</span>.timezone.utc<span style=\"font-weight: bold\">)</span>,\n",
       "                <span style=\"color: #808000; text-decoration-color: #808000\">part_kind</span>=<span style=\"color: #008000; text-decoration-color: #008000\">'user-prompt'</span>\n",
       "            <span style=\"font-weight: bold\">)</span>\n",
       "        <span style=\"font-weight: bold\">]</span>,\n",
       "        <span style=\"color: #808000; text-decoration-color: #808000\">kind</span>=<span style=\"color: #008000; text-decoration-color: #008000\">'request'</span>\n",
       "    <span style=\"font-weight: bold\">)</span>,\n",
       "    <span style=\"color: #800080; text-decoration-color: #800080; font-weight: bold\">ModelResponse</span><span style=\"font-weight: bold\">(</span>\n",
       "        <span style=\"color: #808000; text-decoration-color: #808000\">parts</span>=<span style=\"font-weight: bold\">[</span>\n",
       "            <span style=\"color: #800080; text-decoration-color: #800080; font-weight: bold\">ToolCallPart</span><span style=\"font-weight: bold\">(</span>\n",
       "                <span style=\"color: #808000; text-decoration-color: #808000\">tool_name</span>=<span style=\"color: #008000; text-decoration-color: #008000\">'final_result_Success'</span>,\n",
       "                <span style=\"color: #808000; text-decoration-color: #808000\">args</span>=<span style=\"color: #800080; text-decoration-color: #800080; font-weight: bold\">ArgsDict</span><span style=\"font-weight: bold\">(</span>\n",
       "                    <span style=\"color: #808000; text-decoration-color: #808000\">args_dict</span>=<span style=\"font-weight: bold\">{</span>\n",
       "                        <span style=\"color: #008000; text-decoration-color: #008000\">'sql_query'</span>: <span style=\"color: #008000; text-decoration-color: #008000\">'\\\\\"SELECT * FROM users WHERE last_active_date = CURRENT_DATE - INTERVAL \\'1 </span>\n",
       "<span style=\"color: #008000; text-decoration-color: #008000\">day\\';\\\\\"'</span>\n",
       "                    <span style=\"font-weight: bold\">}</span>\n",
       "                <span style=\"font-weight: bold\">)</span>,\n",
       "                <span style=\"color: #808000; text-decoration-color: #808000\">tool_call_id</span>=<span style=\"color: #800080; text-decoration-color: #800080; font-style: italic\">None</span>,\n",
       "                <span style=\"color: #808000; text-decoration-color: #808000\">part_kind</span>=<span style=\"color: #008000; text-decoration-color: #008000\">'tool-call'</span>\n",
       "            <span style=\"font-weight: bold\">)</span>\n",
       "        <span style=\"font-weight: bold\">]</span>,\n",
       "        <span style=\"color: #808000; text-decoration-color: #808000\">timestamp</span>=<span style=\"color: #800080; text-decoration-color: #800080; font-weight: bold\">datetime</span><span style=\"color: #800080; text-decoration-color: #800080; font-weight: bold\">.datetime</span><span style=\"font-weight: bold\">(</span><span style=\"color: #008080; text-decoration-color: #008080; font-weight: bold\">2024</span>, <span style=\"color: #008080; text-decoration-color: #008080; font-weight: bold\">12</span>, <span style=\"color: #008080; text-decoration-color: #008080; font-weight: bold\">31</span>, <span style=\"color: #008080; text-decoration-color: #008080; font-weight: bold\">6</span>, <span style=\"color: #008080; text-decoration-color: #008080; font-weight: bold\">8</span>, <span style=\"color: #008080; text-decoration-color: #008080; font-weight: bold\">59</span>, <span style=\"color: #008080; text-decoration-color: #008080; font-weight: bold\">48476</span>, <span style=\"color: #808000; text-decoration-color: #808000\">tzinfo</span>=<span style=\"color: #800080; text-decoration-color: #800080\">datetime</span>.timezone.utc<span style=\"font-weight: bold\">)</span>,\n",
       "        <span style=\"color: #808000; text-decoration-color: #808000\">kind</span>=<span style=\"color: #008000; text-decoration-color: #008000\">'response'</span>\n",
       "    <span style=\"font-weight: bold\">)</span>,\n",
       "    <span style=\"color: #800080; text-decoration-color: #800080; font-weight: bold\">ModelRequest</span><span style=\"font-weight: bold\">(</span>\n",
       "        <span style=\"color: #808000; text-decoration-color: #808000\">parts</span>=<span style=\"font-weight: bold\">[</span>\n",
       "            <span style=\"color: #800080; text-decoration-color: #800080; font-weight: bold\">ToolReturnPart</span><span style=\"font-weight: bold\">(</span>\n",
       "                <span style=\"color: #808000; text-decoration-color: #808000\">tool_name</span>=<span style=\"color: #008000; text-decoration-color: #008000\">'final_result_Success'</span>,\n",
       "                <span style=\"color: #808000; text-decoration-color: #808000\">content</span>=<span style=\"color: #008000; text-decoration-color: #008000\">'Final result processed.'</span>,\n",
       "                <span style=\"color: #808000; text-decoration-color: #808000\">tool_call_id</span>=<span style=\"color: #800080; text-decoration-color: #800080; font-style: italic\">None</span>,\n",
       "                <span style=\"color: #808000; text-decoration-color: #808000\">timestamp</span>=<span style=\"color: #800080; text-decoration-color: #800080; font-weight: bold\">datetime</span><span style=\"color: #800080; text-decoration-color: #800080; font-weight: bold\">.datetime</span><span style=\"font-weight: bold\">(</span><span style=\"color: #008080; text-decoration-color: #008080; font-weight: bold\">2024</span>, <span style=\"color: #008080; text-decoration-color: #008080; font-weight: bold\">12</span>, <span style=\"color: #008080; text-decoration-color: #008080; font-weight: bold\">31</span>, <span style=\"color: #008080; text-decoration-color: #008080; font-weight: bold\">6</span>, <span style=\"color: #008080; text-decoration-color: #008080; font-weight: bold\">8</span>, <span style=\"color: #008080; text-decoration-color: #008080; font-weight: bold\">59</span>, <span style=\"color: #008080; text-decoration-color: #008080; font-weight: bold\">48981</span>, <span style=\"color: #808000; text-decoration-color: #808000\">tzinfo</span>=<span style=\"color: #800080; text-decoration-color: #800080\">datetime</span>.timezone.utc<span style=\"font-weight: bold\">)</span>,\n",
       "                <span style=\"color: #808000; text-decoration-color: #808000\">part_kind</span>=<span style=\"color: #008000; text-decoration-color: #008000\">'tool-return'</span>\n",
       "            <span style=\"font-weight: bold\">)</span>\n",
       "        <span style=\"font-weight: bold\">]</span>,\n",
       "        <span style=\"color: #808000; text-decoration-color: #808000\">kind</span>=<span style=\"color: #008000; text-decoration-color: #008000\">'request'</span>\n",
       "    <span style=\"font-weight: bold\">)</span>\n",
       "<span style=\"font-weight: bold\">]</span>\n",
       "</pre>\n"
      ],
      "text/plain": [
       "\u001b[1m[\u001b[0m\n",
       "    \u001b[1;35mModelRequest\u001b[0m\u001b[1m(\u001b[0m\n",
       "        \u001b[33mparts\u001b[0m=\u001b[1m[\u001b[0m\n",
       "            \u001b[1;35mSystemPromptPart\u001b[0m\u001b[1m(\u001b[0m\n",
       "                \u001b[33mcontent\u001b[0m=\u001b[32m'Generate PostgreSQL flavored SQL queries based on user input'\u001b[0m,\n",
       "                \u001b[33mpart_kind\u001b[0m=\u001b[32m'system-prompt'\u001b[0m\n",
       "            \u001b[1m)\u001b[0m,\n",
       "            \u001b[1;35mUserPromptPart\u001b[0m\u001b[1m(\u001b[0m\n",
       "                \u001b[33mcontent\u001b[0m=\u001b[32m'get me uses who were last active yesterday.'\u001b[0m,\n",
       "                \u001b[33mtimestamp\u001b[0m=\u001b[1;35mdatetime\u001b[0m\u001b[1;35m.datetime\u001b[0m\u001b[1m(\u001b[0m\u001b[1;36m2024\u001b[0m, \u001b[1;36m12\u001b[0m, \u001b[1;36m31\u001b[0m, \u001b[1;36m6\u001b[0m, \u001b[1;36m8\u001b[0m, \u001b[1;36m57\u001b[0m, \u001b[1;36m37558\u001b[0m, \u001b[33mtzinfo\u001b[0m=\u001b[35mdatetime\u001b[0m.timezone.utc\u001b[1m)\u001b[0m,\n",
       "                \u001b[33mpart_kind\u001b[0m=\u001b[32m'user-prompt'\u001b[0m\n",
       "            \u001b[1m)\u001b[0m\n",
       "        \u001b[1m]\u001b[0m,\n",
       "        \u001b[33mkind\u001b[0m=\u001b[32m'request'\u001b[0m\n",
       "    \u001b[1m)\u001b[0m,\n",
       "    \u001b[1;35mModelResponse\u001b[0m\u001b[1m(\u001b[0m\n",
       "        \u001b[33mparts\u001b[0m=\u001b[1m[\u001b[0m\n",
       "            \u001b[1;35mToolCallPart\u001b[0m\u001b[1m(\u001b[0m\n",
       "                \u001b[33mtool_name\u001b[0m=\u001b[32m'final_result_Success'\u001b[0m,\n",
       "                \u001b[33margs\u001b[0m=\u001b[1;35mArgsDict\u001b[0m\u001b[1m(\u001b[0m\n",
       "                    \u001b[33margs_dict\u001b[0m=\u001b[1m{\u001b[0m\n",
       "                        \u001b[32m'sql_query'\u001b[0m: \u001b[32m'\\\\\"SELECT * FROM users WHERE last_active_date = CURRENT_DATE - INTERVAL \\'1 \u001b[0m\n",
       "\u001b[32mday\\';\\\\\"'\u001b[0m\n",
       "                    \u001b[1m}\u001b[0m\n",
       "                \u001b[1m)\u001b[0m,\n",
       "                \u001b[33mtool_call_id\u001b[0m=\u001b[3;35mNone\u001b[0m,\n",
       "                \u001b[33mpart_kind\u001b[0m=\u001b[32m'tool-call'\u001b[0m\n",
       "            \u001b[1m)\u001b[0m\n",
       "        \u001b[1m]\u001b[0m,\n",
       "        \u001b[33mtimestamp\u001b[0m=\u001b[1;35mdatetime\u001b[0m\u001b[1;35m.datetime\u001b[0m\u001b[1m(\u001b[0m\u001b[1;36m2024\u001b[0m, \u001b[1;36m12\u001b[0m, \u001b[1;36m31\u001b[0m, \u001b[1;36m6\u001b[0m, \u001b[1;36m8\u001b[0m, \u001b[1;36m59\u001b[0m, \u001b[1;36m48476\u001b[0m, \u001b[33mtzinfo\u001b[0m=\u001b[35mdatetime\u001b[0m.timezone.utc\u001b[1m)\u001b[0m,\n",
       "        \u001b[33mkind\u001b[0m=\u001b[32m'response'\u001b[0m\n",
       "    \u001b[1m)\u001b[0m,\n",
       "    \u001b[1;35mModelRequest\u001b[0m\u001b[1m(\u001b[0m\n",
       "        \u001b[33mparts\u001b[0m=\u001b[1m[\u001b[0m\n",
       "            \u001b[1;35mToolReturnPart\u001b[0m\u001b[1m(\u001b[0m\n",
       "                \u001b[33mtool_name\u001b[0m=\u001b[32m'final_result_Success'\u001b[0m,\n",
       "                \u001b[33mcontent\u001b[0m=\u001b[32m'Final result processed.'\u001b[0m,\n",
       "                \u001b[33mtool_call_id\u001b[0m=\u001b[3;35mNone\u001b[0m,\n",
       "                \u001b[33mtimestamp\u001b[0m=\u001b[1;35mdatetime\u001b[0m\u001b[1;35m.datetime\u001b[0m\u001b[1m(\u001b[0m\u001b[1;36m2024\u001b[0m, \u001b[1;36m12\u001b[0m, \u001b[1;36m31\u001b[0m, \u001b[1;36m6\u001b[0m, \u001b[1;36m8\u001b[0m, \u001b[1;36m59\u001b[0m, \u001b[1;36m48981\u001b[0m, \u001b[33mtzinfo\u001b[0m=\u001b[35mdatetime\u001b[0m.timezone.utc\u001b[1m)\u001b[0m,\n",
       "                \u001b[33mpart_kind\u001b[0m=\u001b[32m'tool-return'\u001b[0m\n",
       "            \u001b[1m)\u001b[0m\n",
       "        \u001b[1m]\u001b[0m,\n",
       "        \u001b[33mkind\u001b[0m=\u001b[32m'request'\u001b[0m\n",
       "    \u001b[1m)\u001b[0m\n",
       "\u001b[1m]\u001b[0m\n"
      ]
     },
     "metadata": {},
     "output_type": "display_data"
    }
   ],
   "source": [
    "from typing import Union\n",
    "from fake_database import DatabaseConn,QueryError\n",
    "\n",
    "from pydantic import BaseModel\n",
    "\n",
    "from pydantic_ai import Agent, RunContext,ModelRetry\n",
    "\n",
    "class Success(BaseModel):\n",
    "    sql_query:str\n",
    "\n",
    "class InvalidRequest(BaseModel):\n",
    "    error_message:str\n",
    "\n",
    "Response = Union[Success,InvalidRequest]\n",
    "\n",
    "agent :Agent[DatabaseConn,Response] =Agent(\n",
    "    \"gemini-1.5-flash\",\n",
    "    result_type=Response,\n",
    "    deps_type=DatabaseConn,\n",
    "    system_prompt=\"Generate PostgreSQL flavored SQL queries based on user input\"\n",
    ")\n",
    "\n",
    "\n",
    "@agent.result_validator\n",
    "async def validate_result(ctx:RunContext[DatabaseConn],result:Response)->Response:\n",
    "    if isinstance(result,InvalidRequest):\n",
    "        return result\n",
    "    try:\n",
    "        await ctx.deps.execute(f'Explain {result.sql_query}')\n",
    "    \n",
    "    except QueryError:\n",
    "        raise ModelRetry(f'Invalid query: {e}') from e\n",
    "    else:\n",
    "        return result\n",
    "    \n",
    "\n",
    "# result = agent.run_sync(\n",
    "#     'get me puppies who were dancing', deps =DatabaseConn()\n",
    "# )\n",
    "\n",
    "\n",
    "\n",
    "# pprint(result.data)\n",
    "\n",
    "\n",
    "result = agent.run_sync(\n",
    "    'get me uses who were last active yesterday.', deps =DatabaseConn()\n",
    ")\n",
    "\n",
    "pprint(result.data)\n",
    "pprint(result.all_messages())\n"
   ]
  },
  {
   "cell_type": "code",
   "execution_count": 22,
   "metadata": {},
   "outputs": [
    {
     "name": "stdout",
     "output_type": "stream",
     "text": [
      "The\n",
      " \"Hello, world!\" program originates from Brian Kernighan's 1\n",
      "972 internal document, \"A Tutorial Introduction to the Language B\".  \n",
      "While not the very first example of a simple program printing text, it's the one that popularized the phrase and the practice of using it as a beginner's programming exercise.  Its simplicity and widespread use cemented its place in programming history.  Before Kernighan's document, similar examples existed, but\n",
      " his version is the one that became the standard.\n",
      "\n"
     ]
    }
   ],
   "source": [
    "from pydantic_ai import Agent\n",
    "\n",
    "agent = Agent('gemini-1.5-flash')\n",
    "\n",
    "async def main():\n",
    "    async with agent.run_stream(\"Where does 'hello world' come from\") as result:\n",
    "        async for message in result.stream_text(delta=True):\n",
    "            print(message)\n",
    "\n",
    "\n",
    "await main()"
   ]
  },
  {
   "cell_type": "markdown",
   "metadata": {},
   "source": [
    "The final result message will NOT be added to result messages if you use .stream_text(delta=True), see Messages and chat history for more information.\n",
    "\n"
   ]
  },
  {
   "cell_type": "code",
   "execution_count": 44,
   "metadata": {},
   "outputs": [
    {
     "name": "stdout",
     "output_type": "stream",
     "text": [
      "{'name': 'Ben', 'dob': datetime.date(1990, 1, 28), 'bio': 'likes llms and AI'}\n",
      "{'name': 'Ben', 'dob': datetime.date(1990, 1, 28), 'bio': 'likes llms and AI'}\n"
     ]
    },
    {
     "data": {
      "text/html": [
       "<pre style=\"white-space:pre;overflow-x:auto;line-height:normal;font-family:Menlo,'DejaVu Sans Mono',consolas,'Courier New',monospace\"><span style=\"font-weight: bold\">[</span>\n",
       "    <span style=\"color: #800080; text-decoration-color: #800080; font-weight: bold\">ModelRequest</span><span style=\"font-weight: bold\">(</span>\n",
       "        <span style=\"color: #808000; text-decoration-color: #808000\">parts</span>=<span style=\"font-weight: bold\">[</span>\n",
       "            <span style=\"color: #800080; text-decoration-color: #800080; font-weight: bold\">SystemPromptPart</span><span style=\"font-weight: bold\">(</span><span style=\"color: #808000; text-decoration-color: #808000\">content</span>=<span style=\"color: #008000; text-decoration-color: #008000\">'Extract a user profile from the input'</span>, <span style=\"color: #808000; text-decoration-color: #808000\">part_kind</span>=<span style=\"color: #008000; text-decoration-color: #008000\">'system-prompt'</span><span style=\"font-weight: bold\">)</span>,\n",
       "            <span style=\"color: #800080; text-decoration-color: #800080; font-weight: bold\">UserPromptPart</span><span style=\"font-weight: bold\">(</span>\n",
       "                <span style=\"color: #808000; text-decoration-color: #808000\">content</span>=<span style=\"color: #008000; text-decoration-color: #008000\">'Name is Ben , Born on January 28th 1990 and likes llms and AI '</span>,\n",
       "                <span style=\"color: #808000; text-decoration-color: #808000\">timestamp</span>=<span style=\"color: #800080; text-decoration-color: #800080; font-weight: bold\">datetime</span><span style=\"color: #800080; text-decoration-color: #800080; font-weight: bold\">.datetime</span><span style=\"font-weight: bold\">(</span><span style=\"color: #008080; text-decoration-color: #008080; font-weight: bold\">2024</span>, <span style=\"color: #008080; text-decoration-color: #008080; font-weight: bold\">12</span>, <span style=\"color: #008080; text-decoration-color: #008080; font-weight: bold\">31</span>, <span style=\"color: #008080; text-decoration-color: #008080; font-weight: bold\">7</span>, <span style=\"color: #008080; text-decoration-color: #008080; font-weight: bold\">19</span>, <span style=\"color: #008080; text-decoration-color: #008080; font-weight: bold\">5</span>, <span style=\"color: #008080; text-decoration-color: #008080; font-weight: bold\">177981</span>, <span style=\"color: #808000; text-decoration-color: #808000\">tzinfo</span>=<span style=\"color: #800080; text-decoration-color: #800080\">datetime</span>.timezone.utc<span style=\"font-weight: bold\">)</span>,\n",
       "                <span style=\"color: #808000; text-decoration-color: #808000\">part_kind</span>=<span style=\"color: #008000; text-decoration-color: #008000\">'user-prompt'</span>\n",
       "            <span style=\"font-weight: bold\">)</span>\n",
       "        <span style=\"font-weight: bold\">]</span>,\n",
       "        <span style=\"color: #808000; text-decoration-color: #808000\">kind</span>=<span style=\"color: #008000; text-decoration-color: #008000\">'request'</span>\n",
       "    <span style=\"font-weight: bold\">)</span>,\n",
       "    <span style=\"color: #800080; text-decoration-color: #800080; font-weight: bold\">ModelResponse</span><span style=\"font-weight: bold\">(</span>\n",
       "        <span style=\"color: #808000; text-decoration-color: #808000\">parts</span>=<span style=\"font-weight: bold\">[</span>\n",
       "            <span style=\"color: #800080; text-decoration-color: #800080; font-weight: bold\">ToolCallPart</span><span style=\"font-weight: bold\">(</span>\n",
       "                <span style=\"color: #808000; text-decoration-color: #808000\">tool_name</span>=<span style=\"color: #008000; text-decoration-color: #008000\">'final_result'</span>,\n",
       "                <span style=\"color: #808000; text-decoration-color: #808000\">args</span>=<span style=\"color: #800080; text-decoration-color: #800080; font-weight: bold\">ArgsJson</span><span style=\"font-weight: bold\">(</span><span style=\"color: #808000; text-decoration-color: #808000\">args_json</span>=<span style=\"color: #008000; text-decoration-color: #008000\">'{\"name\": \"Ben\", \"dob\": \"1990-01-28\", \"bio\": \"likes llms and AI\"}'</span><span style=\"font-weight: bold\">)</span>,\n",
       "                <span style=\"color: #808000; text-decoration-color: #808000\">tool_call_id</span>=<span style=\"color: #008000; text-decoration-color: #008000\">'call_g1pp'</span>,\n",
       "                <span style=\"color: #808000; text-decoration-color: #808000\">part_kind</span>=<span style=\"color: #008000; text-decoration-color: #008000\">'tool-call'</span>\n",
       "            <span style=\"font-weight: bold\">)</span>\n",
       "        <span style=\"font-weight: bold\">]</span>,\n",
       "        <span style=\"color: #808000; text-decoration-color: #808000\">timestamp</span>=<span style=\"color: #800080; text-decoration-color: #800080; font-weight: bold\">datetime</span><span style=\"color: #800080; text-decoration-color: #800080; font-weight: bold\">.datetime</span><span style=\"font-weight: bold\">(</span><span style=\"color: #008080; text-decoration-color: #008080; font-weight: bold\">2024</span>, <span style=\"color: #008080; text-decoration-color: #008080; font-weight: bold\">12</span>, <span style=\"color: #008080; text-decoration-color: #008080; font-weight: bold\">31</span>, <span style=\"color: #008080; text-decoration-color: #008080; font-weight: bold\">7</span>, <span style=\"color: #008080; text-decoration-color: #008080; font-weight: bold\">19</span>, <span style=\"color: #008080; text-decoration-color: #008080; font-weight: bold\">11</span>, <span style=\"color: #808000; text-decoration-color: #808000\">tzinfo</span>=<span style=\"color: #800080; text-decoration-color: #800080\">datetime</span>.timezone.utc<span style=\"font-weight: bold\">)</span>,\n",
       "        <span style=\"color: #808000; text-decoration-color: #808000\">kind</span>=<span style=\"color: #008000; text-decoration-color: #008000\">'response'</span>\n",
       "    <span style=\"font-weight: bold\">)</span>,\n",
       "    <span style=\"color: #800080; text-decoration-color: #800080; font-weight: bold\">ModelRequest</span><span style=\"font-weight: bold\">(</span>\n",
       "        <span style=\"color: #808000; text-decoration-color: #808000\">parts</span>=<span style=\"font-weight: bold\">[</span>\n",
       "            <span style=\"color: #800080; text-decoration-color: #800080; font-weight: bold\">ToolReturnPart</span><span style=\"font-weight: bold\">(</span>\n",
       "                <span style=\"color: #808000; text-decoration-color: #808000\">tool_name</span>=<span style=\"color: #008000; text-decoration-color: #008000\">'final_result'</span>,\n",
       "                <span style=\"color: #808000; text-decoration-color: #808000\">content</span>=<span style=\"color: #008000; text-decoration-color: #008000\">'Final result processed.'</span>,\n",
       "                <span style=\"color: #808000; text-decoration-color: #808000\">tool_call_id</span>=<span style=\"color: #008000; text-decoration-color: #008000\">'call_g1pp'</span>,\n",
       "                <span style=\"color: #808000; text-decoration-color: #808000\">timestamp</span>=<span style=\"color: #800080; text-decoration-color: #800080; font-weight: bold\">datetime</span><span style=\"color: #800080; text-decoration-color: #800080; font-weight: bold\">.datetime</span><span style=\"font-weight: bold\">(</span><span style=\"color: #008080; text-decoration-color: #008080; font-weight: bold\">2024</span>, <span style=\"color: #008080; text-decoration-color: #008080; font-weight: bold\">12</span>, <span style=\"color: #008080; text-decoration-color: #008080; font-weight: bold\">31</span>, <span style=\"color: #008080; text-decoration-color: #008080; font-weight: bold\">7</span>, <span style=\"color: #008080; text-decoration-color: #008080; font-weight: bold\">19</span>, <span style=\"color: #008080; text-decoration-color: #008080; font-weight: bold\">5</span>, <span style=\"color: #008080; text-decoration-color: #008080; font-weight: bold\">719041</span>, <span style=\"color: #808000; text-decoration-color: #808000\">tzinfo</span>=<span style=\"color: #800080; text-decoration-color: #800080\">datetime</span>.timezone.utc<span style=\"font-weight: bold\">)</span>,\n",
       "                <span style=\"color: #808000; text-decoration-color: #808000\">part_kind</span>=<span style=\"color: #008000; text-decoration-color: #008000\">'tool-return'</span>\n",
       "            <span style=\"font-weight: bold\">)</span>\n",
       "        <span style=\"font-weight: bold\">]</span>,\n",
       "        <span style=\"color: #808000; text-decoration-color: #808000\">kind</span>=<span style=\"color: #008000; text-decoration-color: #008000\">'request'</span>\n",
       "    <span style=\"font-weight: bold\">)</span>\n",
       "<span style=\"font-weight: bold\">]</span>\n",
       "</pre>\n"
      ],
      "text/plain": [
       "\u001b[1m[\u001b[0m\n",
       "    \u001b[1;35mModelRequest\u001b[0m\u001b[1m(\u001b[0m\n",
       "        \u001b[33mparts\u001b[0m=\u001b[1m[\u001b[0m\n",
       "            \u001b[1;35mSystemPromptPart\u001b[0m\u001b[1m(\u001b[0m\u001b[33mcontent\u001b[0m=\u001b[32m'Extract a user profile from the input'\u001b[0m, \u001b[33mpart_kind\u001b[0m=\u001b[32m'system-prompt'\u001b[0m\u001b[1m)\u001b[0m,\n",
       "            \u001b[1;35mUserPromptPart\u001b[0m\u001b[1m(\u001b[0m\n",
       "                \u001b[33mcontent\u001b[0m=\u001b[32m'Name is Ben , Born on January 28th 1990 and likes llms and AI '\u001b[0m,\n",
       "                \u001b[33mtimestamp\u001b[0m=\u001b[1;35mdatetime\u001b[0m\u001b[1;35m.datetime\u001b[0m\u001b[1m(\u001b[0m\u001b[1;36m2024\u001b[0m, \u001b[1;36m12\u001b[0m, \u001b[1;36m31\u001b[0m, \u001b[1;36m7\u001b[0m, \u001b[1;36m19\u001b[0m, \u001b[1;36m5\u001b[0m, \u001b[1;36m177981\u001b[0m, \u001b[33mtzinfo\u001b[0m=\u001b[35mdatetime\u001b[0m.timezone.utc\u001b[1m)\u001b[0m,\n",
       "                \u001b[33mpart_kind\u001b[0m=\u001b[32m'user-prompt'\u001b[0m\n",
       "            \u001b[1m)\u001b[0m\n",
       "        \u001b[1m]\u001b[0m,\n",
       "        \u001b[33mkind\u001b[0m=\u001b[32m'request'\u001b[0m\n",
       "    \u001b[1m)\u001b[0m,\n",
       "    \u001b[1;35mModelResponse\u001b[0m\u001b[1m(\u001b[0m\n",
       "        \u001b[33mparts\u001b[0m=\u001b[1m[\u001b[0m\n",
       "            \u001b[1;35mToolCallPart\u001b[0m\u001b[1m(\u001b[0m\n",
       "                \u001b[33mtool_name\u001b[0m=\u001b[32m'final_result'\u001b[0m,\n",
       "                \u001b[33margs\u001b[0m=\u001b[1;35mArgsJson\u001b[0m\u001b[1m(\u001b[0m\u001b[33margs_json\u001b[0m=\u001b[32m'\u001b[0m\u001b[32m{\u001b[0m\u001b[32m\"name\": \"Ben\", \"dob\": \"1990-01-28\", \"bio\": \"likes llms and AI\"\u001b[0m\u001b[32m}\u001b[0m\u001b[32m'\u001b[0m\u001b[1m)\u001b[0m,\n",
       "                \u001b[33mtool_call_id\u001b[0m=\u001b[32m'call_g1pp'\u001b[0m,\n",
       "                \u001b[33mpart_kind\u001b[0m=\u001b[32m'tool-call'\u001b[0m\n",
       "            \u001b[1m)\u001b[0m\n",
       "        \u001b[1m]\u001b[0m,\n",
       "        \u001b[33mtimestamp\u001b[0m=\u001b[1;35mdatetime\u001b[0m\u001b[1;35m.datetime\u001b[0m\u001b[1m(\u001b[0m\u001b[1;36m2024\u001b[0m, \u001b[1;36m12\u001b[0m, \u001b[1;36m31\u001b[0m, \u001b[1;36m7\u001b[0m, \u001b[1;36m19\u001b[0m, \u001b[1;36m11\u001b[0m, \u001b[33mtzinfo\u001b[0m=\u001b[35mdatetime\u001b[0m.timezone.utc\u001b[1m)\u001b[0m,\n",
       "        \u001b[33mkind\u001b[0m=\u001b[32m'response'\u001b[0m\n",
       "    \u001b[1m)\u001b[0m,\n",
       "    \u001b[1;35mModelRequest\u001b[0m\u001b[1m(\u001b[0m\n",
       "        \u001b[33mparts\u001b[0m=\u001b[1m[\u001b[0m\n",
       "            \u001b[1;35mToolReturnPart\u001b[0m\u001b[1m(\u001b[0m\n",
       "                \u001b[33mtool_name\u001b[0m=\u001b[32m'final_result'\u001b[0m,\n",
       "                \u001b[33mcontent\u001b[0m=\u001b[32m'Final result processed.'\u001b[0m,\n",
       "                \u001b[33mtool_call_id\u001b[0m=\u001b[32m'call_g1pp'\u001b[0m,\n",
       "                \u001b[33mtimestamp\u001b[0m=\u001b[1;35mdatetime\u001b[0m\u001b[1;35m.datetime\u001b[0m\u001b[1m(\u001b[0m\u001b[1;36m2024\u001b[0m, \u001b[1;36m12\u001b[0m, \u001b[1;36m31\u001b[0m, \u001b[1;36m7\u001b[0m, \u001b[1;36m19\u001b[0m, \u001b[1;36m5\u001b[0m, \u001b[1;36m719041\u001b[0m, \u001b[33mtzinfo\u001b[0m=\u001b[35mdatetime\u001b[0m.timezone.utc\u001b[1m)\u001b[0m,\n",
       "                \u001b[33mpart_kind\u001b[0m=\u001b[32m'tool-return'\u001b[0m\n",
       "            \u001b[1m)\u001b[0m\n",
       "        \u001b[1m]\u001b[0m,\n",
       "        \u001b[33mkind\u001b[0m=\u001b[32m'request'\u001b[0m\n",
       "    \u001b[1m)\u001b[0m\n",
       "\u001b[1m]\u001b[0m\n"
      ]
     },
     "metadata": {},
     "output_type": "display_data"
    }
   ],
   "source": [
    "from datetime import date\n",
    "\n",
    "from typing_extensions import TypedDict\n",
    "\n",
    "from pydantic_ai import Agent\n",
    "\n",
    "class UserProfile(TypedDict,total=False):\n",
    "    \"\"\"\n",
    "       name : Name of person\n",
    "       dob :Date of birth of person\n",
    "       bio :More information about the person\n",
    "    \"\"\"\n",
    "    name:str\n",
    "    dob:date\n",
    "    bio:str\n",
    "\n",
    "\n",
    "agent =Agent(\n",
    "    \"groq:llama-3.1-70b-versatile\",\n",
    "    result_type=UserProfile,\n",
    "    system_prompt=\"Extract a user profile from the input\"\n",
    ")\n",
    "\n",
    "\n",
    "async def main():\n",
    "    user_input = 'Name is Ben , Born on January 28th 1990 and likes llms and AI '\n",
    "    async with agent.run_stream(user_input) as result:\n",
    "        async for profile in result.stream():\n",
    "            print(profile)\n",
    "        \n",
    "        pprint(result.all_messages())\n",
    "\n",
    "\n",
    "\n",
    "await main()"
   ]
  },
  {
   "cell_type": "code",
   "execution_count": null,
   "metadata": {},
   "outputs": [
    {
     "name": "stdout",
     "output_type": "stream",
     "text": [
      "[ModelRequest(parts=[SystemPromptPart(content='Extract a user profile from the input', part_kind='system-prompt'), UserPromptPart(content='Name is Ben , Born on January 28th 1990 and likes llms and AI ', timestamp=datetime.datetime(2024, 12, 31, 7, 17, 32, 326587, tzinfo=datetime.timezone.utc), part_kind='user-prompt')], kind='request'), ModelResponse(parts=[ToolCallPart(tool_name='final_result', args=ArgsJson(args_json='{\"name\": \"Ben\",\"dob\": \"January 28th 1990\",\"bio\": \"likes llms and AI\"}'), tool_call_id='call_98j4', part_kind='tool-call')], timestamp=datetime.datetime(2024, 12, 31, 7, 17, 39, tzinfo=datetime.timezone.utc), kind='response'), ModelRequest(parts=[ToolReturnPart(tool_name='final_result', content='Final result processed.', tool_call_id='call_98j4', timestamp=datetime.datetime(2024, 12, 31, 7, 17, 32, 776439, tzinfo=datetime.timezone.utc), part_kind='tool-return')], kind='request')]\n"
     ]
    }
   ],
   "source": [
    "from datetime import date\n",
    "\n",
    "from typing_extensions import TypedDict\n",
    "from pydantic import ValidationError\n",
    "from pydantic_ai import Agent\n",
    "\n",
    "class UserProfile(TypedDict,total=False):\n",
    "    \"\"\"\n",
    "       name : Name of person\n",
    "       dob :Date of birth of person\n",
    "       bio :More information about the person\n",
    "    \"\"\"\n",
    "    name:str\n",
    "    dob:date\n",
    "    bio:str\n",
    "\n",
    "\n",
    "agent =Agent(\n",
    "    \"groq:llama-3.2-3b-preview\",\n",
    "    result_type=UserProfile,\n",
    "    system_prompt=\"Extract a user profile from the input\"\n",
    ")\n",
    "\n",
    "\n",
    "async def main():\n",
    "    user_input = 'Name is Ben , Born on January 28th 1990 and likes llms and AI '\n",
    "    async with agent.run_stream(user_input) as result:\n",
    "        async for message, last in result.stream_structured(debounce_by=0.01):\n",
    "            try:\n",
    "                profile = await result.validate_structured_result(\n",
    "                    message,\n",
    "                    allow_partial=not last\n",
    "                )\n",
    "            except ValidationError:\n",
    "                continue\n",
    "            print(profile)\n",
    "\n",
    "\n",
    "await main()"
   ]
  },
  {
   "cell_type": "markdown",
   "metadata": {},
   "source": [
    "# Dependencies\n"
   ]
  },
  {
   "cell_type": "code",
   "execution_count": 45,
   "metadata": {},
   "outputs": [
    {
     "name": "stdout",
     "output_type": "stream",
     "text": [
      "Why don't scientists trust atoms? \n",
      "\n",
      "Because they make up everything!\n",
      "\n"
     ]
    }
   ],
   "source": [
    "from dataclasses import dataclass\n",
    "\n",
    "import httpx\n",
    "\n",
    "from pydantic_ai import Agent\n",
    "\n",
    "\n",
    "@dataclass\n",
    "class MyDeps:\n",
    "    api_key:str\n",
    "    http_client: httpx.AsyncClient\n",
    "\n",
    "agent = Agent(\n",
    "    'gemini-1.5-flash',\n",
    "    deps_type=MyDeps\n",
    ")\n",
    "\n",
    "\n",
    "async def main():\n",
    "    async with httpx.AsyncClient() as client:\n",
    "        deps= MyDeps('foobar',client)\n",
    "        result = await agent.run('Tell me a joke.',deps = deps)\n",
    "\n",
    "    print(result.data)\n",
    "\n",
    "await main()"
   ]
  },
  {
   "cell_type": "code",
   "execution_count": 7,
   "metadata": {},
   "outputs": [
    {
     "name": "stdout",
     "output_type": "stream",
     "text": [
      "Why don't scientists trust atoms? \n",
      "\n",
      "Because they make up everything!\n",
      "\n"
     ]
    },
    {
     "data": {
      "text/html": [
       "<pre style=\"white-space:pre;overflow-x:auto;line-height:normal;font-family:Menlo,'DejaVu Sans Mono',consolas,'Courier New',monospace\"><span style=\"font-weight: bold\">[</span>\n",
       "    <span style=\"color: #800080; text-decoration-color: #800080; font-weight: bold\">ModelRequest</span><span style=\"font-weight: bold\">(</span>\n",
       "        <span style=\"color: #808000; text-decoration-color: #808000\">parts</span>=<span style=\"font-weight: bold\">[</span>\n",
       "            <span style=\"color: #800080; text-decoration-color: #800080; font-weight: bold\">SystemPromptPart</span><span style=\"font-weight: bold\">(</span>\n",
       "                <span style=\"color: #808000; text-decoration-color: #808000\">content</span>=<span style=\"color: #008000; text-decoration-color: #008000\">'Prompt: &lt;!doctype html&gt;\\n&lt;html&gt;\\n&lt;head&gt;\\n    &lt;title&gt;Example Domain&lt;/title&gt;\\n\\n    &lt;meta </span>\n",
       "<span style=\"color: #008000; text-decoration-color: #008000\">charset=\"utf-8\" /&gt;\\n    &lt;meta http-equiv=\"Content-type\" content=\"text/html; charset=utf-8\" /&gt;\\n    &lt;meta </span>\n",
       "<span style=\"color: #008000; text-decoration-color: #008000\">name=\"viewport\" content=\"width=device-width, initial-scale=1\" /&gt;\\n    &lt;style type=\"text/css\"&gt;\\n    body {\\n        </span>\n",
       "<span style=\"color: #008000; text-decoration-color: #008000\">background-color: #f0f0f2;\\n        margin: 0;\\n        padding: 0;\\n        font-family: -apple-system, system-ui,</span>\n",
       "<span style=\"color: #008000; text-decoration-color: #008000\">BlinkMacSystemFont, \"Segoe UI\", \"Open Sans\", \"Helvetica Neue\", Helvetica, Arial, sans-serif;\\n        \\n    }\\n    </span>\n",
       "<span style=\"color: #008000; text-decoration-color: #008000\">div {\\n        width: 600px;\\n        margin: 5em auto;\\n        padding: 2em;\\n        background-color: </span>\n",
       "<span style=\"color: #008000; text-decoration-color: #008000\">#fdfdff;\\n        border-radius: 0.5em;\\n        box-shadow: 2px 3px 7px 2px rgba(0,0,0,0.02);\\n    }\\n    a:link, </span>\n",
       "<span style=\"color: #008000; text-decoration-color: #008000\">a:visited {\\n        color: #38488f;\\n        text-decoration: none;\\n    }\\n    @media (max-width: 700px) {\\n     </span>\n",
       "<span style=\"color: #008000; text-decoration-color: #008000\">div {\\n            margin: 0 auto;\\n            width: auto;\\n        }\\n    }\\n    &lt;/style&gt;    </span>\n",
       "<span style=\"color: #008000; text-decoration-color: #008000\">\\n&lt;/head&gt;\\n\\n&lt;body&gt;\\n&lt;div&gt;\\n    &lt;h1&gt;Example Domain&lt;/h1&gt;\\n    &lt;p&gt;This domain is for use in illustrative examples in </span>\n",
       "<span style=\"color: #008000; text-decoration-color: #008000\">documents. You may use this\\n    domain in literature without prior coordination or asking for permission.&lt;/p&gt;\\n   </span>\n",
       "<span style=\"color: #008000; text-decoration-color: #008000\">&lt;p&gt;&lt;a href=\"https://www.iana.org/domains/example\"&gt;More information...&lt;/a&gt;&lt;/p&gt;\\n&lt;/div&gt;\\n&lt;/body&gt;\\n&lt;/html&gt;\\n'</span>,\n",
       "                <span style=\"color: #808000; text-decoration-color: #808000\">part_kind</span>=<span style=\"color: #008000; text-decoration-color: #008000\">'system-prompt'</span>\n",
       "            <span style=\"font-weight: bold\">)</span>,\n",
       "            <span style=\"color: #800080; text-decoration-color: #800080; font-weight: bold\">UserPromptPart</span><span style=\"font-weight: bold\">(</span>\n",
       "                <span style=\"color: #808000; text-decoration-color: #808000\">content</span>=<span style=\"color: #008000; text-decoration-color: #008000\">'Tell me a joke'</span>,\n",
       "                <span style=\"color: #808000; text-decoration-color: #808000\">timestamp</span>=<span style=\"color: #800080; text-decoration-color: #800080; font-weight: bold\">datetime</span><span style=\"color: #800080; text-decoration-color: #800080; font-weight: bold\">.datetime</span><span style=\"font-weight: bold\">(</span><span style=\"color: #008080; text-decoration-color: #008080; font-weight: bold\">2024</span>, <span style=\"color: #008080; text-decoration-color: #008080; font-weight: bold\">12</span>, <span style=\"color: #008080; text-decoration-color: #008080; font-weight: bold\">31</span>, <span style=\"color: #008080; text-decoration-color: #008080; font-weight: bold\">11</span>, <span style=\"color: #008080; text-decoration-color: #008080; font-weight: bold\">46</span>, <span style=\"color: #008080; text-decoration-color: #008080; font-weight: bold\">33</span>, <span style=\"color: #008080; text-decoration-color: #008080; font-weight: bold\">422231</span>, <span style=\"color: #808000; text-decoration-color: #808000\">tzinfo</span>=<span style=\"color: #800080; text-decoration-color: #800080\">datetime</span>.timezone.utc<span style=\"font-weight: bold\">)</span>,\n",
       "                <span style=\"color: #808000; text-decoration-color: #808000\">part_kind</span>=<span style=\"color: #008000; text-decoration-color: #008000\">'user-prompt'</span>\n",
       "            <span style=\"font-weight: bold\">)</span>\n",
       "        <span style=\"font-weight: bold\">]</span>,\n",
       "        <span style=\"color: #808000; text-decoration-color: #808000\">kind</span>=<span style=\"color: #008000; text-decoration-color: #008000\">'request'</span>\n",
       "    <span style=\"font-weight: bold\">)</span>,\n",
       "    <span style=\"color: #800080; text-decoration-color: #800080; font-weight: bold\">ModelResponse</span><span style=\"font-weight: bold\">(</span>\n",
       "        <span style=\"color: #808000; text-decoration-color: #808000\">parts</span>=<span style=\"font-weight: bold\">[</span>\n",
       "            <span style=\"color: #800080; text-decoration-color: #800080; font-weight: bold\">TextPart</span><span style=\"font-weight: bold\">(</span>\n",
       "                <span style=\"color: #808000; text-decoration-color: #808000\">content</span>=<span style=\"color: #008000; text-decoration-color: #008000\">\"Why don't scientists trust atoms? \\n\\nBecause they make up everything!\\n\"</span>,\n",
       "                <span style=\"color: #808000; text-decoration-color: #808000\">part_kind</span>=<span style=\"color: #008000; text-decoration-color: #008000\">'text'</span>\n",
       "            <span style=\"font-weight: bold\">)</span>\n",
       "        <span style=\"font-weight: bold\">]</span>,\n",
       "        <span style=\"color: #808000; text-decoration-color: #808000\">timestamp</span>=<span style=\"color: #800080; text-decoration-color: #800080; font-weight: bold\">datetime</span><span style=\"color: #800080; text-decoration-color: #800080; font-weight: bold\">.datetime</span><span style=\"font-weight: bold\">(</span><span style=\"color: #008080; text-decoration-color: #008080; font-weight: bold\">2024</span>, <span style=\"color: #008080; text-decoration-color: #008080; font-weight: bold\">12</span>, <span style=\"color: #008080; text-decoration-color: #008080; font-weight: bold\">31</span>, <span style=\"color: #008080; text-decoration-color: #008080; font-weight: bold\">11</span>, <span style=\"color: #008080; text-decoration-color: #008080; font-weight: bold\">46</span>, <span style=\"color: #008080; text-decoration-color: #008080; font-weight: bold\">35</span>, <span style=\"color: #008080; text-decoration-color: #008080; font-weight: bold\">70138</span>, <span style=\"color: #808000; text-decoration-color: #808000\">tzinfo</span>=<span style=\"color: #800080; text-decoration-color: #800080\">datetime</span>.timezone.utc<span style=\"font-weight: bold\">)</span>,\n",
       "        <span style=\"color: #808000; text-decoration-color: #808000\">kind</span>=<span style=\"color: #008000; text-decoration-color: #008000\">'response'</span>\n",
       "    <span style=\"font-weight: bold\">)</span>\n",
       "<span style=\"font-weight: bold\">]</span>\n",
       "</pre>\n"
      ],
      "text/plain": [
       "\u001b[1m[\u001b[0m\n",
       "    \u001b[1;35mModelRequest\u001b[0m\u001b[1m(\u001b[0m\n",
       "        \u001b[33mparts\u001b[0m=\u001b[1m[\u001b[0m\n",
       "            \u001b[1;35mSystemPromptPart\u001b[0m\u001b[1m(\u001b[0m\n",
       "                \u001b[33mcontent\u001b[0m=\u001b[32m'Prompt: \u001b[0m\u001b[32m<\u001b[0m\u001b[32m!doctype html>\\n<html>\\n<head>\\n    <title>Example Domain</title>\\n\\n    <meta \u001b[0m\n",
       "\u001b[32mcharset\u001b[0m\u001b[32m=\u001b[0m\u001b[32m\"utf\u001b[0m\u001b[32m-8\" />\\n    <meta http-\u001b[0m\u001b[32mequiv\u001b[0m\u001b[32m=\u001b[0m\u001b[32m\"Content\u001b[0m\u001b[32m-type\" \u001b[0m\u001b[32mcontent\u001b[0m\u001b[32m=\u001b[0m\u001b[32m\"text\u001b[0m\u001b[32m/html; \u001b[0m\u001b[32mcharset\u001b[0m\u001b[32m=\u001b[0m\u001b[32mutf\u001b[0m\u001b[32m-8\" />\\n    <meta \u001b[0m\n",
       "\u001b[32mname\u001b[0m\u001b[32m=\u001b[0m\u001b[32m\"viewport\"\u001b[0m\u001b[32m \u001b[0m\u001b[32mcontent\u001b[0m\u001b[32m=\u001b[0m\u001b[32m\"width\u001b[0m\u001b[32m=device-width, initial-\u001b[0m\u001b[32mscale\u001b[0m\u001b[32m=\u001b[0m\u001b[32m1\"\u001b[0m\u001b[32m />\\n    <style \u001b[0m\u001b[32mtype\u001b[0m\u001b[32m=\u001b[0m\u001b[32m\"text\u001b[0m\u001b[32m/css\">\\n    body \u001b[0m\u001b[32m{\u001b[0m\u001b[32m\\n        \u001b[0m\n",
       "\u001b[32mbackground-color: #f0f0f2;\\n        margin: 0;\\n        padding: 0;\\n        font-family: -apple-system, system-ui,\u001b[0m\n",
       "\u001b[32mBlinkMacSystemFont, \"Segoe UI\", \"Open Sans\", \"Helvetica Neue\", Helvetica, Arial, sans-serif;\\n        \\n    \u001b[0m\u001b[32m}\u001b[0m\u001b[32m\\n    \u001b[0m\n",
       "\u001b[32mdiv \u001b[0m\u001b[32m{\u001b[0m\u001b[32m\\n        width: 600px;\\n        margin: 5em auto;\\n        padding: 2em;\\n        background-color: \u001b[0m\n",
       "\u001b[32m#fdfdff;\\n        border-radius: 0.5em;\\n        box-shadow: 2px 3px 7px 2px rgba\u001b[0m\u001b[32m(\u001b[0m\u001b[32m0,0,0,0.02\u001b[0m\u001b[32m)\u001b[0m\u001b[32m;\\n    \u001b[0m\u001b[32m}\u001b[0m\u001b[32m\\n    a:link, \u001b[0m\n",
       "\u001b[32ma:visited \u001b[0m\u001b[32m{\u001b[0m\u001b[32m\\n        color: #38488f;\\n        text-decoration: none;\\n    \u001b[0m\u001b[32m}\u001b[0m\u001b[32m\\n    @media \u001b[0m\u001b[32m(\u001b[0m\u001b[32mmax-width: 700px\u001b[0m\u001b[32m)\u001b[0m\u001b[32m \u001b[0m\u001b[32m{\u001b[0m\u001b[32m\\n     \u001b[0m\n",
       "\u001b[32mdiv \u001b[0m\u001b[32m{\u001b[0m\u001b[32m\\n            margin: 0 auto;\\n            width: auto;\\n        \u001b[0m\u001b[32m}\u001b[0m\u001b[32m\\n    \u001b[0m\u001b[32m}\u001b[0m\u001b[32m\\n    </style>    \u001b[0m\n",
       "\u001b[32m\\n</head>\\n\\n<body>\\n<div>\\n    <h1>Example Domain</h1>\\n    <p>This domain is for use in illustrative examples in \u001b[0m\n",
       "\u001b[32mdocuments. You may use this\\n    domain in literature without prior coordination or asking for permission.</p>\\n   \u001b[0m\n",
       "\u001b[32m<p><a \u001b[0m\u001b[32mhref\u001b[0m\u001b[32m=\u001b[0m\u001b[32m\"https\u001b[0m\u001b[32m://www.iana.org/domains/example\">More information...</a></p>\\n</div>\\n</body>\\n</html\u001b[0m\u001b[32m>\u001b[0m\u001b[32m\\n'\u001b[0m,\n",
       "                \u001b[33mpart_kind\u001b[0m=\u001b[32m'system-prompt'\u001b[0m\n",
       "            \u001b[1m)\u001b[0m,\n",
       "            \u001b[1;35mUserPromptPart\u001b[0m\u001b[1m(\u001b[0m\n",
       "                \u001b[33mcontent\u001b[0m=\u001b[32m'Tell me a joke'\u001b[0m,\n",
       "                \u001b[33mtimestamp\u001b[0m=\u001b[1;35mdatetime\u001b[0m\u001b[1;35m.datetime\u001b[0m\u001b[1m(\u001b[0m\u001b[1;36m2024\u001b[0m, \u001b[1;36m12\u001b[0m, \u001b[1;36m31\u001b[0m, \u001b[1;36m11\u001b[0m, \u001b[1;36m46\u001b[0m, \u001b[1;36m33\u001b[0m, \u001b[1;36m422231\u001b[0m, \u001b[33mtzinfo\u001b[0m=\u001b[35mdatetime\u001b[0m.timezone.utc\u001b[1m)\u001b[0m,\n",
       "                \u001b[33mpart_kind\u001b[0m=\u001b[32m'user-prompt'\u001b[0m\n",
       "            \u001b[1m)\u001b[0m\n",
       "        \u001b[1m]\u001b[0m,\n",
       "        \u001b[33mkind\u001b[0m=\u001b[32m'request'\u001b[0m\n",
       "    \u001b[1m)\u001b[0m,\n",
       "    \u001b[1;35mModelResponse\u001b[0m\u001b[1m(\u001b[0m\n",
       "        \u001b[33mparts\u001b[0m=\u001b[1m[\u001b[0m\n",
       "            \u001b[1;35mTextPart\u001b[0m\u001b[1m(\u001b[0m\n",
       "                \u001b[33mcontent\u001b[0m=\u001b[32m\"Why\u001b[0m\u001b[32m don't scientists trust atoms? \\n\\nBecause they make up everything!\\n\"\u001b[0m,\n",
       "                \u001b[33mpart_kind\u001b[0m=\u001b[32m'text'\u001b[0m\n",
       "            \u001b[1m)\u001b[0m\n",
       "        \u001b[1m]\u001b[0m,\n",
       "        \u001b[33mtimestamp\u001b[0m=\u001b[1;35mdatetime\u001b[0m\u001b[1;35m.datetime\u001b[0m\u001b[1m(\u001b[0m\u001b[1;36m2024\u001b[0m, \u001b[1;36m12\u001b[0m, \u001b[1;36m31\u001b[0m, \u001b[1;36m11\u001b[0m, \u001b[1;36m46\u001b[0m, \u001b[1;36m35\u001b[0m, \u001b[1;36m70138\u001b[0m, \u001b[33mtzinfo\u001b[0m=\u001b[35mdatetime\u001b[0m.timezone.utc\u001b[1m)\u001b[0m,\n",
       "        \u001b[33mkind\u001b[0m=\u001b[32m'response'\u001b[0m\n",
       "    \u001b[1m)\u001b[0m\n",
       "\u001b[1m]\u001b[0m\n"
      ]
     },
     "metadata": {},
     "output_type": "display_data"
    }
   ],
   "source": [
    "from dataclasses import dataclass\n",
    "\n",
    "import httpx\n",
    "\n",
    "from pydantic_ai import Agent, RunContext\n",
    "\n",
    "@dataclass\n",
    "class MyDeps:\n",
    "    api_key:str\n",
    "    http_client:httpx.AsyncClient\n",
    "\n",
    "agent = Agent(\n",
    "    \"gemini-1.5-flash\",\n",
    "    deps_type=MyDeps\n",
    ")\n",
    "\n",
    "\n",
    "@agent.system_prompt\n",
    "async def get_system_prompt(ctx:RunContext[MyDeps])-> str:\n",
    "    response = await ctx.deps.http_client.get(\n",
    "        'http://example.com',\n",
    "        headers={'Authorization': f'Bearer {ctx.deps.api_key}'}\n",
    "    )\n",
    "\n",
    "    response.raise_for_status()\n",
    "    return f'Prompt: {response.text}' \n",
    "\n",
    "async def main():\n",
    "    async with httpx.AsyncClient() as client:\n",
    "        deps = MyDeps('foobar',client)\n",
    "        result = await agent.run('Tell me a joke',deps = deps)\n",
    "        print(result.data)\n",
    "        pprint(result.all_messages())\n",
    "\n",
    "\n",
    "\n",
    "await main()\n",
    "\n"
   ]
  },
  {
   "cell_type": "code",
   "execution_count": 27,
   "metadata": {},
   "outputs": [
    {
     "name": "stdout",
     "output_type": "stream",
     "text": [
      "Why don't scientists trust atoms? \n",
      "\n",
      "Because they make up everything!\n",
      "\n"
     ]
    }
   ],
   "source": [
    "from dataclasses import dataclass\n",
    "\n",
    "import httpx\n",
    "\n",
    "from pydantic_ai import Agent, RunContext\n",
    "\n",
    "@dataclass\n",
    "class MyDeps:\n",
    "    api_key:str\n",
    "    http_client:httpx.AsyncClient  # how is it working with sync??\n",
    "\n",
    "agent = Agent(\n",
    "    \"gemini-1.5-flash\",\n",
    "    deps_type=MyDeps\n",
    ")\n",
    "\n",
    "\n",
    "@agent.system_prompt\n",
    "def get_system_prompt(ctx:RunContext[MyDeps])-> str:\n",
    "    response = ctx.deps.http_client.get(\n",
    "        'http://example.com',\n",
    "        headers={'Authorization': f'Bearer {ctx.deps.api_key}'}\n",
    "    )\n",
    "\n",
    "    response.raise_for_status()\n",
    "    return f'Prompt: {response.text}' \n",
    "\n",
    "async def main():\n",
    "        deps = MyDeps('foobar',httpx.Client())\n",
    "        result = await agent.run('Tell me a joke',deps = deps)\n",
    "        print(result.data)\n",
    "\n",
    "\n",
    "\n",
    "await main()\n",
    "\n"
   ]
  },
  {
   "cell_type": "code",
   "execution_count": 23,
   "metadata": {},
   "outputs": [
    {
     "name": "stdout",
     "output_type": "stream",
     "text": [
      "<function=get_joke_material{\"subject\": \"joke\"}</function>\n"
     ]
    },
    {
     "data": {
      "text/html": [
       "<pre style=\"white-space:pre;overflow-x:auto;line-height:normal;font-family:Menlo,'DejaVu Sans Mono',consolas,'Courier New',monospace\"><span style=\"font-weight: bold\">[</span>\n",
       "    <span style=\"color: #800080; text-decoration-color: #800080; font-weight: bold\">ModelRequest</span><span style=\"font-weight: bold\">(</span>\n",
       "        <span style=\"color: #808000; text-decoration-color: #808000\">parts</span>=<span style=\"font-weight: bold\">[</span>\n",
       "            <span style=\"color: #800080; text-decoration-color: #800080; font-weight: bold\">SystemPromptPart</span><span style=\"font-weight: bold\">(</span>\n",
       "                <span style=\"color: #808000; text-decoration-color: #808000\">content</span>=<span style=\"color: #008000; text-decoration-color: #008000\">'Prompt: &lt;!doctype html&gt;\\n&lt;html&gt;\\n&lt;head&gt;\\n    &lt;title&gt;Example Domain&lt;/title&gt;\\n\\n    &lt;meta </span>\n",
       "<span style=\"color: #008000; text-decoration-color: #008000\">charset=\"utf-8\" /&gt;\\n    &lt;meta http-equiv=\"Content-type\" content=\"text/html; charset=utf-8\" /&gt;\\n    &lt;meta </span>\n",
       "<span style=\"color: #008000; text-decoration-color: #008000\">name=\"viewport\" content=\"width=device-width, initial-scale=1\" /&gt;\\n    &lt;style type=\"text/css\"&gt;\\n    body {\\n        </span>\n",
       "<span style=\"color: #008000; text-decoration-color: #008000\">background-color: #f0f0f2;\\n        margin: 0;\\n        padding: 0;\\n        font-family: -apple-system, system-ui,</span>\n",
       "<span style=\"color: #008000; text-decoration-color: #008000\">BlinkMacSystemFont, \"Segoe UI\", \"Open Sans\", \"Helvetica Neue\", Helvetica, Arial, sans-serif;\\n        \\n    }\\n    </span>\n",
       "<span style=\"color: #008000; text-decoration-color: #008000\">div {\\n        width: 600px;\\n        margin: 5em auto;\\n        padding: 2em;\\n        background-color: </span>\n",
       "<span style=\"color: #008000; text-decoration-color: #008000\">#fdfdff;\\n        border-radius: 0.5em;\\n        box-shadow: 2px 3px 7px 2px rgba(0,0,0,0.02);\\n    }\\n    a:link, </span>\n",
       "<span style=\"color: #008000; text-decoration-color: #008000\">a:visited {\\n        color: #38488f;\\n        text-decoration: none;\\n    }\\n    @media (max-width: 700px) {\\n     </span>\n",
       "<span style=\"color: #008000; text-decoration-color: #008000\">div {\\n            margin: 0 auto;\\n            width: auto;\\n        }\\n    }\\n    &lt;/style&gt;    </span>\n",
       "<span style=\"color: #008000; text-decoration-color: #008000\">\\n&lt;/head&gt;\\n\\n&lt;body&gt;\\n&lt;div&gt;\\n    &lt;h1&gt;Example Domain&lt;/h1&gt;\\n    &lt;p&gt;This domain is for use in illustrative examples in </span>\n",
       "<span style=\"color: #008000; text-decoration-color: #008000\">documents. You may use this\\n    domain in literature without prior coordination or asking for permission.&lt;/p&gt;\\n   </span>\n",
       "<span style=\"color: #008000; text-decoration-color: #008000\">&lt;p&gt;&lt;a href=\"https://www.iana.org/domains/example\"&gt;More information...&lt;/a&gt;&lt;/p&gt;\\n&lt;/div&gt;\\n&lt;/body&gt;\\n&lt;/html&gt;\\n'</span><span style=\"color: #000000; text-decoration-color: #000000\">,</span>\n",
       "<span style=\"color: #000000; text-decoration-color: #000000\">                </span><span style=\"color: #808000; text-decoration-color: #808000\">part_kind</span><span style=\"color: #000000; text-decoration-color: #000000\">=</span><span style=\"color: #008000; text-decoration-color: #008000\">'system-prompt'</span>\n",
       "<span style=\"color: #000000; text-decoration-color: #000000\">            </span><span style=\"color: #000000; text-decoration-color: #000000; font-weight: bold\">)</span><span style=\"color: #000000; text-decoration-color: #000000\">,</span>\n",
       "<span style=\"color: #000000; text-decoration-color: #000000\">            </span><span style=\"color: #800080; text-decoration-color: #800080; font-weight: bold\">UserPromptPart</span><span style=\"color: #000000; text-decoration-color: #000000; font-weight: bold\">(</span>\n",
       "<span style=\"color: #000000; text-decoration-color: #000000\">                </span><span style=\"color: #808000; text-decoration-color: #808000\">content</span><span style=\"color: #000000; text-decoration-color: #000000\">=</span><span style=\"color: #008000; text-decoration-color: #008000\">'Tell me a joke'</span><span style=\"color: #000000; text-decoration-color: #000000\">,</span>\n",
       "<span style=\"color: #000000; text-decoration-color: #000000\">                </span><span style=\"color: #808000; text-decoration-color: #808000\">timestamp</span><span style=\"color: #000000; text-decoration-color: #000000\">=</span><span style=\"color: #800080; text-decoration-color: #800080; font-weight: bold\">datetime</span><span style=\"color: #800080; text-decoration-color: #800080; font-weight: bold\">.datetime</span><span style=\"color: #000000; text-decoration-color: #000000; font-weight: bold\">(</span><span style=\"color: #008080; text-decoration-color: #008080; font-weight: bold\">2024</span><span style=\"color: #000000; text-decoration-color: #000000\">, </span><span style=\"color: #008080; text-decoration-color: #008080; font-weight: bold\">12</span><span style=\"color: #000000; text-decoration-color: #000000\">, </span><span style=\"color: #008080; text-decoration-color: #008080; font-weight: bold\">31</span><span style=\"color: #000000; text-decoration-color: #000000\">, </span><span style=\"color: #008080; text-decoration-color: #008080; font-weight: bold\">13</span><span style=\"color: #000000; text-decoration-color: #000000\">, </span><span style=\"color: #008080; text-decoration-color: #008080; font-weight: bold\">33</span><span style=\"color: #000000; text-decoration-color: #000000\">, </span><span style=\"color: #008080; text-decoration-color: #008080; font-weight: bold\">54</span><span style=\"color: #000000; text-decoration-color: #000000\">, </span><span style=\"color: #008080; text-decoration-color: #008080; font-weight: bold\">685035</span><span style=\"color: #000000; text-decoration-color: #000000\">, </span><span style=\"color: #808000; text-decoration-color: #808000\">tzinfo</span><span style=\"color: #000000; text-decoration-color: #000000\">=</span><span style=\"color: #800080; text-decoration-color: #800080\">datetime</span><span style=\"color: #000000; text-decoration-color: #000000\">.timezone.utc</span><span style=\"color: #000000; text-decoration-color: #000000; font-weight: bold\">)</span><span style=\"color: #000000; text-decoration-color: #000000\">,</span>\n",
       "<span style=\"color: #000000; text-decoration-color: #000000\">                </span><span style=\"color: #808000; text-decoration-color: #808000\">part_kind</span><span style=\"color: #000000; text-decoration-color: #000000\">=</span><span style=\"color: #008000; text-decoration-color: #008000\">'user-prompt'</span>\n",
       "<span style=\"color: #000000; text-decoration-color: #000000\">            </span><span style=\"color: #000000; text-decoration-color: #000000; font-weight: bold\">)</span>\n",
       "<span style=\"color: #000000; text-decoration-color: #000000\">        </span><span style=\"color: #000000; text-decoration-color: #000000; font-weight: bold\">]</span><span style=\"color: #000000; text-decoration-color: #000000\">,</span>\n",
       "<span style=\"color: #000000; text-decoration-color: #000000\">        </span><span style=\"color: #808000; text-decoration-color: #808000\">kind</span><span style=\"color: #000000; text-decoration-color: #000000\">=</span><span style=\"color: #008000; text-decoration-color: #008000\">'request'</span>\n",
       "<span style=\"color: #000000; text-decoration-color: #000000\">    </span><span style=\"color: #000000; text-decoration-color: #000000; font-weight: bold\">)</span><span style=\"color: #000000; text-decoration-color: #000000\">,</span>\n",
       "<span style=\"color: #000000; text-decoration-color: #000000\">    </span><span style=\"color: #800080; text-decoration-color: #800080; font-weight: bold\">ModelResponse</span><span style=\"color: #000000; text-decoration-color: #000000; font-weight: bold\">(</span>\n",
       "<span style=\"color: #000000; text-decoration-color: #000000\">        </span><span style=\"color: #808000; text-decoration-color: #808000\">parts</span><span style=\"color: #000000; text-decoration-color: #000000\">=</span><span style=\"color: #000000; text-decoration-color: #000000; font-weight: bold\">[</span><span style=\"color: #800080; text-decoration-color: #800080; font-weight: bold\">TextPart</span><span style=\"color: #000000; text-decoration-color: #000000; font-weight: bold\">(</span><span style=\"color: #808000; text-decoration-color: #808000\">content</span><span style=\"color: #000000; text-decoration-color: #000000\">=</span><span style=\"color: #008000; text-decoration-color: #008000\">'&lt;function=get_joke_material{\"subject\": \"joke\"}&lt;/function&gt;'</span>, <span style=\"color: #808000; text-decoration-color: #808000\">part_kind</span>=<span style=\"color: #008000; text-decoration-color: #008000\">'text'</span><span style=\"font-weight: bold\">)]</span>,\n",
       "        <span style=\"color: #808000; text-decoration-color: #808000\">timestamp</span>=<span style=\"color: #800080; text-decoration-color: #800080; font-weight: bold\">datetime</span><span style=\"color: #800080; text-decoration-color: #800080; font-weight: bold\">.datetime</span><span style=\"font-weight: bold\">(</span><span style=\"color: #008080; text-decoration-color: #008080; font-weight: bold\">2024</span>, <span style=\"color: #008080; text-decoration-color: #008080; font-weight: bold\">12</span>, <span style=\"color: #008080; text-decoration-color: #008080; font-weight: bold\">31</span>, <span style=\"color: #008080; text-decoration-color: #008080; font-weight: bold\">13</span>, <span style=\"color: #008080; text-decoration-color: #008080; font-weight: bold\">34</span>, <span style=\"color: #008080; text-decoration-color: #008080; font-weight: bold\">1</span>, <span style=\"color: #808000; text-decoration-color: #808000\">tzinfo</span>=<span style=\"color: #800080; text-decoration-color: #800080\">datetime</span>.timezone.utc<span style=\"font-weight: bold\">)</span>,\n",
       "        <span style=\"color: #808000; text-decoration-color: #808000\">kind</span>=<span style=\"color: #008000; text-decoration-color: #008000\">'response'</span>\n",
       "    <span style=\"font-weight: bold\">)</span>\n",
       "<span style=\"font-weight: bold\">]</span>\n",
       "</pre>\n"
      ],
      "text/plain": [
       "\u001b[1m[\u001b[0m\n",
       "    \u001b[1;35mModelRequest\u001b[0m\u001b[1m(\u001b[0m\n",
       "        \u001b[33mparts\u001b[0m=\u001b[1m[\u001b[0m\n",
       "            \u001b[1;35mSystemPromptPart\u001b[0m\u001b[1m(\u001b[0m\n",
       "                \u001b[33mcontent\u001b[0m=\u001b[32m'Prompt: \u001b[0m\u001b[32m<\u001b[0m\u001b[32m!doctype html>\\n<html>\\n<head>\\n    <title>Example Domain</title>\\n\\n    <meta \u001b[0m\n",
       "\u001b[32mcharset\u001b[0m\u001b[32m=\u001b[0m\u001b[32m\"utf\u001b[0m\u001b[32m-8\" />\\n    <meta http-\u001b[0m\u001b[32mequiv\u001b[0m\u001b[32m=\u001b[0m\u001b[32m\"Content\u001b[0m\u001b[32m-type\" \u001b[0m\u001b[32mcontent\u001b[0m\u001b[32m=\u001b[0m\u001b[32m\"text\u001b[0m\u001b[32m/html; \u001b[0m\u001b[32mcharset\u001b[0m\u001b[32m=\u001b[0m\u001b[32mutf\u001b[0m\u001b[32m-8\" />\\n    <meta \u001b[0m\n",
       "\u001b[32mname\u001b[0m\u001b[32m=\u001b[0m\u001b[32m\"viewport\"\u001b[0m\u001b[32m \u001b[0m\u001b[32mcontent\u001b[0m\u001b[32m=\u001b[0m\u001b[32m\"width\u001b[0m\u001b[32m=device-width, initial-\u001b[0m\u001b[32mscale\u001b[0m\u001b[32m=\u001b[0m\u001b[32m1\"\u001b[0m\u001b[32m />\\n    <style \u001b[0m\u001b[32mtype\u001b[0m\u001b[32m=\u001b[0m\u001b[32m\"text\u001b[0m\u001b[32m/css\">\\n    body \u001b[0m\u001b[32m{\u001b[0m\u001b[32m\\n        \u001b[0m\n",
       "\u001b[32mbackground-color: #f0f0f2;\\n        margin: 0;\\n        padding: 0;\\n        font-family: -apple-system, system-ui,\u001b[0m\n",
       "\u001b[32mBlinkMacSystemFont, \"Segoe UI\", \"Open Sans\", \"Helvetica Neue\", Helvetica, Arial, sans-serif;\\n        \\n    \u001b[0m\u001b[32m}\u001b[0m\u001b[32m\\n    \u001b[0m\n",
       "\u001b[32mdiv \u001b[0m\u001b[32m{\u001b[0m\u001b[32m\\n        width: 600px;\\n        margin: 5em auto;\\n        padding: 2em;\\n        background-color: \u001b[0m\n",
       "\u001b[32m#fdfdff;\\n        border-radius: 0.5em;\\n        box-shadow: 2px 3px 7px 2px rgba\u001b[0m\u001b[32m(\u001b[0m\u001b[32m0,0,0,0.02\u001b[0m\u001b[32m)\u001b[0m\u001b[32m;\\n    \u001b[0m\u001b[32m}\u001b[0m\u001b[32m\\n    a:link, \u001b[0m\n",
       "\u001b[32ma:visited \u001b[0m\u001b[32m{\u001b[0m\u001b[32m\\n        color: #38488f;\\n        text-decoration: none;\\n    \u001b[0m\u001b[32m}\u001b[0m\u001b[32m\\n    @media \u001b[0m\u001b[32m(\u001b[0m\u001b[32mmax-width: 700px\u001b[0m\u001b[32m)\u001b[0m\u001b[32m \u001b[0m\u001b[32m{\u001b[0m\u001b[32m\\n     \u001b[0m\n",
       "\u001b[32mdiv \u001b[0m\u001b[32m{\u001b[0m\u001b[32m\\n            margin: 0 auto;\\n            width: auto;\\n        \u001b[0m\u001b[32m}\u001b[0m\u001b[32m\\n    \u001b[0m\u001b[32m}\u001b[0m\u001b[32m\\n    </style>    \u001b[0m\n",
       "\u001b[32m\\n</head>\\n\\n<body>\\n<div>\\n    <h1>Example Domain</h1>\\n    <p>This domain is for use in illustrative examples in \u001b[0m\n",
       "\u001b[32mdocuments. You may use this\\n    domain in literature without prior coordination or asking for permission.</p>\\n   \u001b[0m\n",
       "\u001b[32m<p><a \u001b[0m\u001b[32mhref\u001b[0m\u001b[32m=\u001b[0m\u001b[32m\"https\u001b[0m\u001b[32m://www.iana.org/domains/example\">More information...</a></p>\\n</div>\\n</body>\\n</html>\\n'\u001b[0m\u001b[39m,\u001b[0m\n",
       "\u001b[39m                \u001b[0m\u001b[33mpart_kind\u001b[0m\u001b[39m=\u001b[0m\u001b[32m'system-prompt'\u001b[0m\n",
       "\u001b[39m            \u001b[0m\u001b[1;39m)\u001b[0m\u001b[39m,\u001b[0m\n",
       "\u001b[39m            \u001b[0m\u001b[1;35mUserPromptPart\u001b[0m\u001b[1;39m(\u001b[0m\n",
       "\u001b[39m                \u001b[0m\u001b[33mcontent\u001b[0m\u001b[39m=\u001b[0m\u001b[32m'Tell me a joke'\u001b[0m\u001b[39m,\u001b[0m\n",
       "\u001b[39m                \u001b[0m\u001b[33mtimestamp\u001b[0m\u001b[39m=\u001b[0m\u001b[1;35mdatetime\u001b[0m\u001b[1;35m.datetime\u001b[0m\u001b[1;39m(\u001b[0m\u001b[1;36m2024\u001b[0m\u001b[39m, \u001b[0m\u001b[1;36m12\u001b[0m\u001b[39m, \u001b[0m\u001b[1;36m31\u001b[0m\u001b[39m, \u001b[0m\u001b[1;36m13\u001b[0m\u001b[39m, \u001b[0m\u001b[1;36m33\u001b[0m\u001b[39m, \u001b[0m\u001b[1;36m54\u001b[0m\u001b[39m, \u001b[0m\u001b[1;36m685035\u001b[0m\u001b[39m, \u001b[0m\u001b[33mtzinfo\u001b[0m\u001b[39m=\u001b[0m\u001b[35mdatetime\u001b[0m\u001b[39m.timezone.utc\u001b[0m\u001b[1;39m)\u001b[0m\u001b[39m,\u001b[0m\n",
       "\u001b[39m                \u001b[0m\u001b[33mpart_kind\u001b[0m\u001b[39m=\u001b[0m\u001b[32m'user-prompt'\u001b[0m\n",
       "\u001b[39m            \u001b[0m\u001b[1;39m)\u001b[0m\n",
       "\u001b[39m        \u001b[0m\u001b[1;39m]\u001b[0m\u001b[39m,\u001b[0m\n",
       "\u001b[39m        \u001b[0m\u001b[33mkind\u001b[0m\u001b[39m=\u001b[0m\u001b[32m'request'\u001b[0m\n",
       "\u001b[39m    \u001b[0m\u001b[1;39m)\u001b[0m\u001b[39m,\u001b[0m\n",
       "\u001b[39m    \u001b[0m\u001b[1;35mModelResponse\u001b[0m\u001b[1;39m(\u001b[0m\n",
       "\u001b[39m        \u001b[0m\u001b[33mparts\u001b[0m\u001b[39m=\u001b[0m\u001b[1;39m[\u001b[0m\u001b[1;35mTextPart\u001b[0m\u001b[1;39m(\u001b[0m\u001b[33mcontent\u001b[0m\u001b[39m=\u001b[0m\u001b[32m'<\u001b[0m\u001b[32mfunction\u001b[0m\u001b[32m=\u001b[0m\u001b[32mget_joke_material\u001b[0m\u001b[32m{\u001b[0m\u001b[32m\"subject\": \"joke\"\u001b[0m\u001b[32m}\u001b[0m\u001b[32m</function\u001b[0m\u001b[32m>\u001b[0m\u001b[32m'\u001b[0m, \u001b[33mpart_kind\u001b[0m=\u001b[32m'text'\u001b[0m\u001b[1m)\u001b[0m\u001b[1m]\u001b[0m,\n",
       "        \u001b[33mtimestamp\u001b[0m=\u001b[1;35mdatetime\u001b[0m\u001b[1;35m.datetime\u001b[0m\u001b[1m(\u001b[0m\u001b[1;36m2024\u001b[0m, \u001b[1;36m12\u001b[0m, \u001b[1;36m31\u001b[0m, \u001b[1;36m13\u001b[0m, \u001b[1;36m34\u001b[0m, \u001b[1;36m1\u001b[0m, \u001b[33mtzinfo\u001b[0m=\u001b[35mdatetime\u001b[0m.timezone.utc\u001b[1m)\u001b[0m,\n",
       "        \u001b[33mkind\u001b[0m=\u001b[32m'response'\u001b[0m\n",
       "    \u001b[1m)\u001b[0m\n",
       "\u001b[1m]\u001b[0m\n"
      ]
     },
     "metadata": {},
     "output_type": "display_data"
    }
   ],
   "source": [
    "from dataclasses import dataclass\n",
    "\n",
    "import httpx\n",
    "\n",
    "from pydantic_ai import Agent ,RunContext\n",
    "\n",
    "\n",
    "@dataclass\n",
    "class MyDeps:\n",
    "    api_key:str\n",
    "    http_client:httpx.AsyncClient\n",
    "\n",
    "\n",
    "agent = Agent(\n",
    "    'groq:llama-3.3-70b-versatile',\n",
    "    deps_type=MyDeps\n",
    ")\n",
    "\n",
    "@agent.system_prompt\n",
    "async def get_system_prompt(ctx=RunContext[MyDeps])->str:\n",
    "    response = await ctx.deps.http_client.get('https://example.com')\n",
    "    response.raise_for_status()\n",
    "    return f'Prompt: {response.text}'\n",
    "\n",
    "@agent.tool\n",
    "async def get_joke_material(ctx:RunContext[MyDeps],subject:str)->str:\n",
    "    response = await ctx.deps.http_client.get(\n",
    "        'https://example.com#jokes',\n",
    "        params ={\"subject\":subject},\n",
    "        headers= {\"Authorization\": f'Bearer{ ctx.deps.api_key}'}\n",
    "    )\n",
    "\n",
    "    response.raise_for_status()\n",
    "    return  response.text\n",
    "\n",
    "\n",
    "\n",
    "@agent.result_validator\n",
    "async def validate_result(ctx:RunContext[MyDeps],final_response:str)->str:\n",
    "    response= await ctx.deps.http_client.get(\n",
    "        'https://example.com#validate',\n",
    "        headers= {'Authorization': f'Bearer: {ctx.deps.api_key}'},\n",
    "        params = {'query':final_response}\n",
    "    )\n",
    "\n",
    "    if response.status_code==400:\n",
    "        raise ModelRetry(f'invalid response: {response.text}')\n",
    "    response.raise_for_status()\n",
    "    return final_response\n",
    "\n",
    "\n",
    "async def main():\n",
    "    async with httpx.AsyncClient() as client:\n",
    "        deps = MyDeps('foobar',client)\n",
    "        result = await agent.run('Tell me a joke', deps = deps)\n",
    "        print(result.data)\n",
    "        pprint(result.all_messages())\n",
    "\n",
    "\n",
    "await main()\n",
    "\n",
    "\n"
   ]
  },
  {
   "cell_type": "markdown",
   "metadata": {},
   "source": [
    "# Problem in understanding"
   ]
  },
  {
   "cell_type": "code",
   "execution_count": 16,
   "metadata": {},
   "outputs": [],
   "source": [
    "from dataclasses import dataclass\n",
    "\n",
    "import httpx\n",
    "\n",
    "from pydantic_ai import Agent ,RunContext\n",
    "\n",
    "\n",
    "@dataclass\n",
    "class MyDeps:\n",
    "    api_key:str\n",
    "    http_client:httpx.AsyncClient\n",
    "    \n",
    "    async def system_prompt_factory(self)->str:\n",
    "        response = await self.http_client.get('https://example.com')\n",
    "        response.raise_for_status()\n",
    "        return f'Prompt: {response.text}'\n",
    "\n",
    "\n",
    "\n",
    "agent = Agent(\n",
    "    'groq:llama-3.3-70b-versatile',\n",
    "    deps_type=MyDeps\n",
    ")\n",
    "\n",
    "\n",
    "\n",
    "joke_agent= Agent('gemini-1.5-flash',deps_type=MyDeps)\n",
    "\n",
    "@joke_agent.system_prompt\n",
    "async def get_system_prompt(ctx:RunContext[MyDeps])->str:\n",
    "    return await ctx.deps.system_prompt_factory()\n",
    "\n",
    "async def application_code(prompt:str)->str:\n",
    "    # application code \n",
    "\n",
    "    async with httpx.AsyncClient() as client:\n",
    "        app_deps = MyDeps('foobar',client)\n",
    "        result = await joke_agent.run(prompt,deps = app_deps)\n",
    "    return result.all_messages()\n",
    "\n"
   ]
  },
  {
   "cell_type": "code",
   "execution_count": 15,
   "metadata": {},
   "outputs": [
    {
     "data": {
      "text/html": [
       "<pre style=\"white-space:pre;overflow-x:auto;line-height:normal;font-family:Menlo,'DejaVu Sans Mono',consolas,'Courier New',monospace\"><span style=\"font-weight: bold\">[</span>\n",
       "    <span style=\"color: #800080; text-decoration-color: #800080; font-weight: bold\">ModelRequest</span><span style=\"font-weight: bold\">(</span>\n",
       "        <span style=\"color: #808000; text-decoration-color: #808000\">parts</span>=<span style=\"font-weight: bold\">[</span>\n",
       "            <span style=\"color: #800080; text-decoration-color: #800080; font-weight: bold\">SystemPromptPart</span><span style=\"font-weight: bold\">(</span><span style=\"color: #808000; text-decoration-color: #808000\">content</span>=<span style=\"color: #008000; text-decoration-color: #008000\">'test prompt'</span>, <span style=\"color: #808000; text-decoration-color: #808000\">part_kind</span>=<span style=\"color: #008000; text-decoration-color: #008000\">'system-prompt'</span><span style=\"font-weight: bold\">)</span>,\n",
       "            <span style=\"color: #800080; text-decoration-color: #800080; font-weight: bold\">UserPromptPart</span><span style=\"font-weight: bold\">(</span>\n",
       "                <span style=\"color: #808000; text-decoration-color: #808000\">content</span>=<span style=\"color: #008000; text-decoration-color: #008000\">'Tell me a joke'</span>,\n",
       "                <span style=\"color: #808000; text-decoration-color: #808000\">timestamp</span>=<span style=\"color: #800080; text-decoration-color: #800080; font-weight: bold\">datetime</span><span style=\"color: #800080; text-decoration-color: #800080; font-weight: bold\">.datetime</span><span style=\"font-weight: bold\">(</span><span style=\"color: #008080; text-decoration-color: #008080; font-weight: bold\">2024</span>, <span style=\"color: #008080; text-decoration-color: #008080; font-weight: bold\">12</span>, <span style=\"color: #008080; text-decoration-color: #008080; font-weight: bold\">31</span>, <span style=\"color: #008080; text-decoration-color: #008080; font-weight: bold\">15</span>, <span style=\"color: #008080; text-decoration-color: #008080; font-weight: bold\">26</span>, <span style=\"color: #008080; text-decoration-color: #008080; font-weight: bold\">7</span>, <span style=\"color: #008080; text-decoration-color: #008080; font-weight: bold\">164314</span>, <span style=\"color: #808000; text-decoration-color: #808000\">tzinfo</span>=<span style=\"color: #800080; text-decoration-color: #800080\">datetime</span>.timezone.utc<span style=\"font-weight: bold\">)</span>,\n",
       "                <span style=\"color: #808000; text-decoration-color: #808000\">part_kind</span>=<span style=\"color: #008000; text-decoration-color: #008000\">'user-prompt'</span>\n",
       "            <span style=\"font-weight: bold\">)</span>\n",
       "        <span style=\"font-weight: bold\">]</span>,\n",
       "        <span style=\"color: #808000; text-decoration-color: #808000\">kind</span>=<span style=\"color: #008000; text-decoration-color: #008000\">'request'</span>\n",
       "    <span style=\"font-weight: bold\">)</span>,\n",
       "    <span style=\"color: #800080; text-decoration-color: #800080; font-weight: bold\">ModelResponse</span><span style=\"font-weight: bold\">(</span>\n",
       "        <span style=\"color: #808000; text-decoration-color: #808000\">parts</span>=<span style=\"font-weight: bold\">[</span>\n",
       "            <span style=\"color: #800080; text-decoration-color: #800080; font-weight: bold\">TextPart</span><span style=\"font-weight: bold\">(</span>\n",
       "                <span style=\"color: #808000; text-decoration-color: #808000\">content</span>=<span style=\"color: #008000; text-decoration-color: #008000\">\"Why don't scientists trust atoms? \\n\\nBecause they make up everything!\\n\"</span>,\n",
       "                <span style=\"color: #808000; text-decoration-color: #808000\">part_kind</span>=<span style=\"color: #008000; text-decoration-color: #008000\">'text'</span>\n",
       "            <span style=\"font-weight: bold\">)</span>\n",
       "        <span style=\"font-weight: bold\">]</span>,\n",
       "        <span style=\"color: #808000; text-decoration-color: #808000\">timestamp</span>=<span style=\"color: #800080; text-decoration-color: #800080; font-weight: bold\">datetime</span><span style=\"color: #800080; text-decoration-color: #800080; font-weight: bold\">.datetime</span><span style=\"font-weight: bold\">(</span><span style=\"color: #008080; text-decoration-color: #008080; font-weight: bold\">2024</span>, <span style=\"color: #008080; text-decoration-color: #008080; font-weight: bold\">12</span>, <span style=\"color: #008080; text-decoration-color: #008080; font-weight: bold\">31</span>, <span style=\"color: #008080; text-decoration-color: #008080; font-weight: bold\">15</span>, <span style=\"color: #008080; text-decoration-color: #008080; font-weight: bold\">26</span>, <span style=\"color: #008080; text-decoration-color: #008080; font-weight: bold\">7</span>, <span style=\"color: #008080; text-decoration-color: #008080; font-weight: bold\">842093</span>, <span style=\"color: #808000; text-decoration-color: #808000\">tzinfo</span>=<span style=\"color: #800080; text-decoration-color: #800080\">datetime</span>.timezone.utc<span style=\"font-weight: bold\">)</span>,\n",
       "        <span style=\"color: #808000; text-decoration-color: #808000\">kind</span>=<span style=\"color: #008000; text-decoration-color: #008000\">'response'</span>\n",
       "    <span style=\"font-weight: bold\">)</span>\n",
       "<span style=\"font-weight: bold\">]</span>\n",
       "</pre>\n"
      ],
      "text/plain": [
       "\u001b[1m[\u001b[0m\n",
       "    \u001b[1;35mModelRequest\u001b[0m\u001b[1m(\u001b[0m\n",
       "        \u001b[33mparts\u001b[0m=\u001b[1m[\u001b[0m\n",
       "            \u001b[1;35mSystemPromptPart\u001b[0m\u001b[1m(\u001b[0m\u001b[33mcontent\u001b[0m=\u001b[32m'test prompt'\u001b[0m, \u001b[33mpart_kind\u001b[0m=\u001b[32m'system-prompt'\u001b[0m\u001b[1m)\u001b[0m,\n",
       "            \u001b[1;35mUserPromptPart\u001b[0m\u001b[1m(\u001b[0m\n",
       "                \u001b[33mcontent\u001b[0m=\u001b[32m'Tell me a joke'\u001b[0m,\n",
       "                \u001b[33mtimestamp\u001b[0m=\u001b[1;35mdatetime\u001b[0m\u001b[1;35m.datetime\u001b[0m\u001b[1m(\u001b[0m\u001b[1;36m2024\u001b[0m, \u001b[1;36m12\u001b[0m, \u001b[1;36m31\u001b[0m, \u001b[1;36m15\u001b[0m, \u001b[1;36m26\u001b[0m, \u001b[1;36m7\u001b[0m, \u001b[1;36m164314\u001b[0m, \u001b[33mtzinfo\u001b[0m=\u001b[35mdatetime\u001b[0m.timezone.utc\u001b[1m)\u001b[0m,\n",
       "                \u001b[33mpart_kind\u001b[0m=\u001b[32m'user-prompt'\u001b[0m\n",
       "            \u001b[1m)\u001b[0m\n",
       "        \u001b[1m]\u001b[0m,\n",
       "        \u001b[33mkind\u001b[0m=\u001b[32m'request'\u001b[0m\n",
       "    \u001b[1m)\u001b[0m,\n",
       "    \u001b[1;35mModelResponse\u001b[0m\u001b[1m(\u001b[0m\n",
       "        \u001b[33mparts\u001b[0m=\u001b[1m[\u001b[0m\n",
       "            \u001b[1;35mTextPart\u001b[0m\u001b[1m(\u001b[0m\n",
       "                \u001b[33mcontent\u001b[0m=\u001b[32m\"Why\u001b[0m\u001b[32m don't scientists trust atoms? \\n\\nBecause they make up everything!\\n\"\u001b[0m,\n",
       "                \u001b[33mpart_kind\u001b[0m=\u001b[32m'text'\u001b[0m\n",
       "            \u001b[1m)\u001b[0m\n",
       "        \u001b[1m]\u001b[0m,\n",
       "        \u001b[33mtimestamp\u001b[0m=\u001b[1;35mdatetime\u001b[0m\u001b[1;35m.datetime\u001b[0m\u001b[1m(\u001b[0m\u001b[1;36m2024\u001b[0m, \u001b[1;36m12\u001b[0m, \u001b[1;36m31\u001b[0m, \u001b[1;36m15\u001b[0m, \u001b[1;36m26\u001b[0m, \u001b[1;36m7\u001b[0m, \u001b[1;36m842093\u001b[0m, \u001b[33mtzinfo\u001b[0m=\u001b[35mdatetime\u001b[0m.timezone.utc\u001b[1m)\u001b[0m,\n",
       "        \u001b[33mkind\u001b[0m=\u001b[32m'response'\u001b[0m\n",
       "    \u001b[1m)\u001b[0m\n",
       "\u001b[1m]\u001b[0m\n"
      ]
     },
     "metadata": {},
     "output_type": "display_data"
    }
   ],
   "source": [
    "class TestMyDeps(MyDeps):\n",
    "    async def system_prompt_factory(self):\n",
    "        return 'test prompt'\n",
    "\n",
    "async def test_application_code():\n",
    "    test_deps = TestMyDeps('test_key',None)\n",
    "\n",
    "    with joke_agent.override(deps =test_deps):\n",
    "        joke = await application_code('Tell me a joke')\n",
    "        pprint(joke)\n",
    "\n",
    "await test_application_code()"
   ]
  },
  {
   "cell_type": "code",
   "execution_count": 55,
   "metadata": {},
   "outputs": [
    {
     "data": {
      "text/html": [
       "<pre style=\"white-space:pre;overflow-x:auto;line-height:normal;font-family:Menlo,'DejaVu Sans Mono',consolas,'Courier New',monospace\"><span style=\"color: #800080; text-decoration-color: #800080; font-weight: bold\">Jokes</span><span style=\"font-weight: bold\">(</span><span style=\"color: #808000; text-decoration-color: #808000\">jokes</span>=<span style=\"font-weight: bold\">[</span><span style=\"color: #008000; text-decoration-color: #008000\">'joke1'</span>, <span style=\"color: #008000; text-decoration-color: #008000\">'joke2'</span>, <span style=\"color: #008000; text-decoration-color: #008000\">'joke3'</span><span style=\"font-weight: bold\">]</span>, <span style=\"color: #808000; text-decoration-color: #808000\">bestJoke</span>=<span style=\"color: #008000; text-decoration-color: #008000\">'joke1'</span><span style=\"font-weight: bold\">)</span>\n",
       "</pre>\n"
      ],
      "text/plain": [
       "\u001b[1;35mJokes\u001b[0m\u001b[1m(\u001b[0m\u001b[33mjokes\u001b[0m=\u001b[1m[\u001b[0m\u001b[32m'joke1'\u001b[0m, \u001b[32m'joke2'\u001b[0m, \u001b[32m'joke3'\u001b[0m\u001b[1m]\u001b[0m, \u001b[33mbestJoke\u001b[0m=\u001b[32m'joke1'\u001b[0m\u001b[1m)\u001b[0m\n"
      ]
     },
     "metadata": {},
     "output_type": "display_data"
    }
   ],
   "source": [
    "from dataclasses import dataclass\n",
    "\n",
    "from pydantic_ai import Agent,RunContext\n",
    "\n",
    "@dataclass\n",
    "class MyDeps:\n",
    "    factory_agent: Agent[None,list[str]]\n",
    "\n",
    "\n",
    "@dataclass\n",
    "class Jokes:\n",
    "    \"jokes: a list of strings containing jokes\"\n",
    "    \"best joke:a joke selected among them\"\n",
    "    jokes:list[str]\n",
    "    bestJoke:str\n",
    "\n",
    "joke_agent= Agent(\n",
    "    'groq:llama-3.1-70b-versatile',\n",
    "    deps_type=MyDeps,\n",
    "    system_prompt=(\n",
    "        'use the joke factory to generate some jokes, then choose the best'\n",
    "    ),\n",
    "    result_type=Jokes\n",
    ")\n",
    "\n",
    "\n",
    "factory_agent= Agent('ollama:llama3.2',result_type=list[str])\n",
    "\n",
    "\n",
    "@joke_agent.tool\n",
    "async def joke_factory(ctx:RunContext[MyDeps], count:int)->str:\n",
    "    r= await ctx.deps.factory_agent.run('Please generate {count} jokes.')\n",
    "    return '\\n'.join(r.data)\n",
    "\n",
    "result =joke_agent.run_sync('Tell me a joke', deps=MyDeps(factory_agent))\n",
    "pprint(result.data)\n"
   ]
  },
  {
   "cell_type": "code",
   "execution_count": 58,
   "metadata": {},
   "outputs": [
    {
     "data": {
      "text/html": [
       "<pre style=\"white-space:pre;overflow-x:auto;line-height:normal;font-family:Menlo,'DejaVu Sans Mono',consolas,'Courier New',monospace\"><span style=\"color: #ff0000; text-decoration-color: #ff0000; font-style: italic\">False</span>\n",
       "</pre>\n"
      ],
      "text/plain": [
       "\u001b[3;91mFalse\u001b[0m\n"
      ]
     },
     "metadata": {},
     "output_type": "display_data"
    }
   ],
   "source": [
    "from pydantic_ai import Agent ,RunContext\n",
    "\n",
    "roulette_agent = Agent(\n",
    "    'gemini-1.5-flash',\n",
    "    deps_type=int,\n",
    "    result_type=bool,\n",
    "    system_prompt=(\n",
    "        \"Use the roulette_wheel function to see if \"\n",
    "        \"customer has won based on the number they provide\"\n",
    "    )\n",
    ")\n",
    "\n",
    "\n",
    "@roulette_agent.tool\n",
    "async def roulette_wheel(ctx:RunContext[int], square:int)->str:\n",
    "    'check if the square is a winner'\n",
    "    return 'winner' if square == ctx.deps else 'loser'\n",
    "\n",
    "success_number = 18\n",
    "\n",
    "result =roulette_agent.run_sync('Player chose 17', deps = success_number)\n",
    "pprint(result.data)"
   ]
  },
  {
   "cell_type": "code",
   "execution_count": 61,
   "metadata": {},
   "outputs": [
    {
     "name": "stdout",
     "output_type": "stream",
     "text": [
      "Rome\n",
      "\n",
      "Paris\n",
      "\n",
      "The capital of the USA is **Washington, D.C.**\n",
      "\n"
     ]
    }
   ],
   "source": [
    "from pydantic_ai import Agent\n",
    "\n",
    "agent = Agent('gemini-1.5-flash')\n",
    "\n",
    "result_sync = agent.run_sync('What is the capital of italy?')\n",
    "print(result_sync.data)\n",
    "\n",
    "async def main():\n",
    "    result = await agent.run(\"What is the capital of France?\")\n",
    "    print(result.data)\n",
    "\n",
    "    async with agent.run_stream('What is the capital of USA?') as response:\n",
    "        print(await response.get_data())\n",
    "\n",
    "await main()\n"
   ]
  },
  {
   "cell_type": "code",
   "execution_count": 63,
   "metadata": {},
   "outputs": [
    {
     "name": "stdout",
     "output_type": "stream",
     "text": [
      "Rome\n",
      "Usage(requests=1, request_tokens=49, response_tokens=3, total_tokens=52, details=None)\n",
      "Exceeded the response_tokens_limit of 10 (response_tokens=150)\n"
     ]
    }
   ],
   "source": [
    "from pydantic_ai import Agent\n",
    "from pydantic_ai.exceptions import UsageLimitExceeded\n",
    "from pydantic_ai.settings import UsageLimits\n",
    "\n",
    "\n",
    "agent = Agent('groq:llama-3.1-8b-instant')\n",
    "\n",
    "result_sync = agent.run_sync(\n",
    "    'What is the captial of Italy? Answer with just the city.',\n",
    "    usage_limits=UsageLimits(response_tokens_limit=10)\n",
    ")\n",
    "\n",
    "print(result_sync.data)\n",
    "\n",
    "print(result_sync.usage())\n",
    "\n",
    "\n",
    "try:\n",
    "    result_sync = agent.run_sync(\n",
    "        'What is the capital of Italy?Answer with a paragraph.',\n",
    "        usage_limits=UsageLimits(response_tokens_limit=10)\n",
    "    )\n",
    "except UsageLimitExceeded as e:\n",
    "    print(e)\n"
   ]
  },
  {
   "cell_type": "code",
   "execution_count": 77,
   "metadata": {},
   "outputs": [
    {
     "data": {
      "text/html": [
       "<pre style=\"white-space:pre;overflow-x:auto;line-height:normal;font-family:Menlo,'DejaVu Sans Mono',consolas,'Courier New',monospace\">The next request would exceed the request_limit of <span style=\"color: #008080; text-decoration-color: #008080; font-weight: bold\">3</span>\n",
       "</pre>\n"
      ],
      "text/plain": [
       "The next request would exceed the request_limit of \u001b[1;36m3\u001b[0m\n"
      ]
     },
     "metadata": {},
     "output_type": "display_data"
    }
   ],
   "source": [
    "from typing_extensions import TypedDict\n",
    "\n",
    "from pydantic_ai import Agent,ModelRetry\n",
    "from pydantic_ai.exceptions import UsageLimitExceeded\n",
    "from pydantic_ai.settings import UsageLimits\n",
    "\n",
    "class NeverResultType(TypedDict):\n",
    "    never_use_this:str\n",
    "\n",
    "agent = Agent(\n",
    "    'gemini-1.5-flash',\n",
    "    result_type=NeverResultType,\n",
    "    system_prompt=\"Any time you get a response,call the infinite_retry_tool\"\n",
    "                \"to produce another response\"\n",
    ")\n",
    "\n",
    "\n",
    "@agent.tool_plain(retries=5)\n",
    "def infinite_retry_tool()->int:\n",
    "    raise ModelRetry('Please try again')\n",
    "\n",
    "try:\n",
    "    result_sync = agent.run_sync(\n",
    "        'Begin infinite retry loop! ', usage_limits=UsageLimits(request_limit=3)\n",
    "    )\n",
    "\n",
    "except UsageLimitExceeded as e:\n",
    "    pprint(e)\n",
    "\n",
    "\n"
   ]
  },
  {
   "cell_type": "code",
   "execution_count": 79,
   "metadata": {},
   "outputs": [
    {
     "name": "stdout",
     "output_type": "stream",
     "text": [
      "Rome\n",
      "\n"
     ]
    }
   ],
   "source": [
    "from pydantic_ai import Agent\n",
    "\n",
    "agent= Agent('gemini-1.5-flash')\n",
    "\n",
    "result_sync= agent.run_sync(\n",
    "    'What is the captial of Italy?' ,model_settings={'temperature':1.0}\n",
    ")\n",
    "\n",
    "\n",
    "print(result_sync.data)"
   ]
  },
  {
   "cell_type": "code",
   "execution_count": 81,
   "metadata": {},
   "outputs": [
    {
     "data": {
      "text/html": [
       "<pre style=\"white-space:pre;overflow-x:auto;line-height:normal;font-family:Menlo,'DejaVu Sans Mono',consolas,'Courier New',monospace\">Albert Einstein <span style=\"font-weight: bold\">(</span><span style=\"color: #008080; text-decoration-color: #008080; font-weight: bold\">1879</span>-<span style=\"color: #008080; text-decoration-color: #008080; font-weight: bold\">1955</span><span style=\"font-weight: bold\">)</span> was a German-born theoretical physicist who developed the theory of relativity, one of \n",
       "the two pillars of modern physics.  His work is also known for its influence on the philosophy of science.  He is \n",
       "widely regarded as one of the most influential scientists of all time.\n",
       "\n",
       "</pre>\n"
      ],
      "text/plain": [
       "Albert Einstein \u001b[1m(\u001b[0m\u001b[1;36m1879\u001b[0m-\u001b[1;36m1955\u001b[0m\u001b[1m)\u001b[0m was a German-born theoretical physicist who developed the theory of relativity, one of \n",
       "the two pillars of modern physics.  His work is also known for its influence on the philosophy of science.  He is \n",
       "widely regarded as one of the most influential scientists of all time.\n",
       "\n"
      ]
     },
     "metadata": {},
     "output_type": "display_data"
    },
    {
     "data": {
      "text/html": [
       "<pre style=\"white-space:pre;overflow-x:auto;line-height:normal;font-family:Menlo,'DejaVu Sans Mono',consolas,'Courier New',monospace\">His most famous equation is **<span style=\"color: #808000; text-decoration-color: #808000\">E</span>=<span style=\"color: #800080; text-decoration-color: #800080\">mc²</span>**.\n",
       "\n",
       "</pre>\n"
      ],
      "text/plain": [
       "His most famous equation is **\u001b[33mE\u001b[0m=\u001b[35mmc²\u001b[0m**.\n",
       "\n"
      ]
     },
     "metadata": {},
     "output_type": "display_data"
    }
   ],
   "source": [
    "from pydantic_ai import Agent\n",
    "\n",
    "agent = Agent('gemini-1.5-flash')\n",
    "\n",
    "result1 = agent.run_sync('Who was Albert Einstein.Tell in short?')\n",
    "\n",
    "result2 = agent.run_sync(\n",
    "    \"What was his fost famous equation\",\n",
    "    message_history=result1.new_messages()\n",
    ")\n",
    "\n",
    "pprint(result1.data)\n",
    "pprint(result2.data)"
   ]
  },
  {
   "cell_type": "code",
   "execution_count": 83,
   "metadata": {},
   "outputs": [
    {
     "name": "stdout",
     "output_type": "stream",
     "text": [
      "Collecting mypy\n",
      "  Using cached mypy-1.14.1-cp311-cp311-win_amd64.whl.metadata (2.2 kB)\n",
      "Requirement already satisfied: typing_extensions>=4.6.0 in c:\\users\\rupak\\onedrive\\documents\\agents2\\venv\\lib\\site-packages (from mypy) (4.12.2)\n",
      "Requirement already satisfied: mypy_extensions>=1.0.0 in c:\\users\\rupak\\onedrive\\documents\\agents2\\venv\\lib\\site-packages (from mypy) (1.0.0)\n",
      "Downloading mypy-1.14.1-cp311-cp311-win_amd64.whl (9.8 MB)\n",
      "   ---------------------------------------- 0.0/9.8 MB ? eta -:--:--\n",
      "   - -------------------------------------- 0.3/9.8 MB ? eta -:--:--\n",
      "   ------- -------------------------------- 1.8/9.8 MB 6.7 MB/s eta 0:00:02\n",
      "   -------------------- ------------------- 5.0/9.8 MB 10.1 MB/s eta 0:00:01\n",
      "   ------------------------------ --------- 7.3/9.8 MB 10.3 MB/s eta 0:00:01\n",
      "   ------------------------------------- -- 9.2/9.8 MB 10.0 MB/s eta 0:00:01\n",
      "   ---------------------------------------- 9.8/9.8 MB 9.5 MB/s eta 0:00:00\n",
      "Installing collected packages: mypy\n",
      "Successfully installed mypy-1.14.1\n"
     ]
    }
   ],
   "source": [
    "!pip install mypy "
   ]
  },
  {
   "cell_type": "code",
   "execution_count": 84,
   "metadata": {},
   "outputs": [
    {
     "name": "stdout",
     "output_type": "stream",
     "text": [
      "The mypy module is not an IPython extension.\n"
     ]
    }
   ],
   "source": [
    "%load_ext mypy\n"
   ]
  },
  {
   "cell_type": "markdown",
   "metadata": {},
   "source": [
    "Skipped"
   ]
  },
  {
   "cell_type": "code",
   "execution_count": 102,
   "metadata": {},
   "outputs": [
    {
     "name": "stdout",
     "output_type": "stream",
     "text": [
      "Jerry\n"
     ]
    },
    {
     "ename": "UnexpectedModelBehavior",
     "evalue": "Tool exceeded max retries count of 2",
     "output_type": "error",
     "traceback": [
      "\u001b[1;31m---------------------------------------------------------------------------\u001b[0m",
      "\u001b[1;31mModelRetry\u001b[0m                                Traceback (most recent call last)",
      "File \u001b[1;32mc:\\Users\\rupak\\OneDrive\\Documents\\agents2\\venv\\Lib\\site-packages\\pydantic_ai\\tools.py:269\u001b[0m, in \u001b[0;36mTool.run\u001b[1;34m(self, message, run_context)\u001b[0m\n\u001b[0;32m    268\u001b[0m         function \u001b[38;5;241m=\u001b[39m cast(Callable[[Any], \u001b[38;5;28mstr\u001b[39m], \u001b[38;5;28mself\u001b[39m\u001b[38;5;241m.\u001b[39mfunction)\n\u001b[1;32m--> 269\u001b[0m         response_content \u001b[38;5;241m=\u001b[39m \u001b[38;5;28;01mawait\u001b[39;00m _utils\u001b[38;5;241m.\u001b[39mrun_in_executor(function, \u001b[38;5;241m*\u001b[39margs, \u001b[38;5;241m*\u001b[39m\u001b[38;5;241m*\u001b[39mkwargs)\n\u001b[0;32m    270\u001b[0m \u001b[38;5;28;01mexcept\u001b[39;00m ModelRetry \u001b[38;5;28;01mas\u001b[39;00m e:\n",
      "File \u001b[1;32mc:\\Users\\rupak\\OneDrive\\Documents\\agents2\\venv\\Lib\\site-packages\\pydantic_ai\\_utils.py:28\u001b[0m, in \u001b[0;36mrun_in_executor\u001b[1;34m(func, *args, **kwargs)\u001b[0m\n\u001b[0;32m     26\u001b[0m \u001b[38;5;28;01mif\u001b[39;00m kwargs:\n\u001b[0;32m     27\u001b[0m     \u001b[38;5;66;03m# noinspection PyTypeChecker\u001b[39;00m\n\u001b[1;32m---> 28\u001b[0m     \u001b[38;5;28;01mreturn\u001b[39;00m \u001b[38;5;28;01mawait\u001b[39;00m asyncio\u001b[38;5;241m.\u001b[39mget_running_loop()\u001b[38;5;241m.\u001b[39mrun_in_executor(\u001b[38;5;28;01mNone\u001b[39;00m, partial(func, \u001b[38;5;241m*\u001b[39margs, \u001b[38;5;241m*\u001b[39m\u001b[38;5;241m*\u001b[39mkwargs))\n\u001b[0;32m     29\u001b[0m \u001b[38;5;28;01melse\u001b[39;00m:\n",
      "File \u001b[1;32m~\\AppData\\Local\\Programs\\Python\\Python311\\Lib\\asyncio\\futures.py:287\u001b[0m, in \u001b[0;36mFuture.__await__\u001b[1;34m(self)\u001b[0m\n\u001b[0;32m    286\u001b[0m     \u001b[38;5;28mself\u001b[39m\u001b[38;5;241m.\u001b[39m_asyncio_future_blocking \u001b[38;5;241m=\u001b[39m \u001b[38;5;28;01mTrue\u001b[39;00m\n\u001b[1;32m--> 287\u001b[0m     \u001b[38;5;28;01myield\u001b[39;00m \u001b[38;5;28mself\u001b[39m  \u001b[38;5;66;03m# This tells Task to wait for completion.\u001b[39;00m\n\u001b[0;32m    288\u001b[0m \u001b[38;5;28;01mif\u001b[39;00m \u001b[38;5;129;01mnot\u001b[39;00m \u001b[38;5;28mself\u001b[39m\u001b[38;5;241m.\u001b[39mdone():\n",
      "File \u001b[1;32m~\\AppData\\Local\\Programs\\Python\\Python311\\Lib\\asyncio\\tasks.py:349\u001b[0m, in \u001b[0;36mTask.__wakeup\u001b[1;34m(self, future)\u001b[0m\n\u001b[0;32m    348\u001b[0m \u001b[38;5;28;01mtry\u001b[39;00m:\n\u001b[1;32m--> 349\u001b[0m     \u001b[43mfuture\u001b[49m\u001b[38;5;241;43m.\u001b[39;49m\u001b[43mresult\u001b[49m\u001b[43m(\u001b[49m\u001b[43m)\u001b[49m\n\u001b[0;32m    350\u001b[0m \u001b[38;5;28;01mexcept\u001b[39;00m \u001b[38;5;167;01mBaseException\u001b[39;00m \u001b[38;5;28;01mas\u001b[39;00m exc:\n\u001b[0;32m    351\u001b[0m     \u001b[38;5;66;03m# This may also be a cancellation.\u001b[39;00m\n",
      "File \u001b[1;32m~\\AppData\\Local\\Programs\\Python\\Python311\\Lib\\asyncio\\futures.py:203\u001b[0m, in \u001b[0;36mFuture.result\u001b[1;34m(self)\u001b[0m\n\u001b[0;32m    202\u001b[0m \u001b[38;5;28;01mif\u001b[39;00m \u001b[38;5;28mself\u001b[39m\u001b[38;5;241m.\u001b[39m_exception \u001b[38;5;129;01mis\u001b[39;00m \u001b[38;5;129;01mnot\u001b[39;00m \u001b[38;5;28;01mNone\u001b[39;00m:\n\u001b[1;32m--> 203\u001b[0m     \u001b[38;5;28;01mraise\u001b[39;00m \u001b[38;5;28mself\u001b[39m\u001b[38;5;241m.\u001b[39m_exception\u001b[38;5;241m.\u001b[39mwith_traceback(\u001b[38;5;28mself\u001b[39m\u001b[38;5;241m.\u001b[39m_exception_tb)\n\u001b[0;32m    204\u001b[0m \u001b[38;5;28;01mreturn\u001b[39;00m \u001b[38;5;28mself\u001b[39m\u001b[38;5;241m.\u001b[39m_result\n",
      "File \u001b[1;32m~\\AppData\\Local\\Programs\\Python\\Python311\\Lib\\concurrent\\futures\\thread.py:58\u001b[0m, in \u001b[0;36m_WorkItem.run\u001b[1;34m(self)\u001b[0m\n\u001b[0;32m     57\u001b[0m \u001b[38;5;28;01mtry\u001b[39;00m:\n\u001b[1;32m---> 58\u001b[0m     result \u001b[38;5;241m=\u001b[39m \u001b[38;5;28;43mself\u001b[39;49m\u001b[38;5;241;43m.\u001b[39;49m\u001b[43mfn\u001b[49m\u001b[43m(\u001b[49m\u001b[38;5;241;43m*\u001b[39;49m\u001b[38;5;28;43mself\u001b[39;49m\u001b[38;5;241;43m.\u001b[39;49m\u001b[43margs\u001b[49m\u001b[43m,\u001b[49m\u001b[43m \u001b[49m\u001b[38;5;241;43m*\u001b[39;49m\u001b[38;5;241;43m*\u001b[39;49m\u001b[38;5;28;43mself\u001b[39;49m\u001b[38;5;241;43m.\u001b[39;49m\u001b[43mkwargs\u001b[49m\u001b[43m)\u001b[49m\n\u001b[0;32m     59\u001b[0m \u001b[38;5;28;01mexcept\u001b[39;00m \u001b[38;5;167;01mBaseException\u001b[39;00m \u001b[38;5;28;01mas\u001b[39;00m exc:\n",
      "Cell \u001b[1;32mIn[102], line 26\u001b[0m, in \u001b[0;36mget_user_by_name\u001b[1;34m(ctx, name)\u001b[0m\n\u001b[0;32m     25\u001b[0m \u001b[38;5;28;01mif\u001b[39;00m user_id \u001b[38;5;129;01mis\u001b[39;00m \u001b[38;5;28;01mNone\u001b[39;00m:\n\u001b[1;32m---> 26\u001b[0m     \u001b[38;5;28;01mraise\u001b[39;00m ModelRetry(\n\u001b[0;32m     27\u001b[0m         \u001b[38;5;124mf\u001b[39m\u001b[38;5;124m'\u001b[39m\u001b[38;5;124mNo user found with name \u001b[39m\u001b[38;5;132;01m{\u001b[39;00mname\u001b[38;5;132;01m!r}\u001b[39;00m\u001b[38;5;124m.Retry\u001b[39m\u001b[38;5;124m'\u001b[39m\n\u001b[0;32m     28\u001b[0m     )\n\u001b[0;32m     30\u001b[0m \u001b[38;5;28;01mreturn\u001b[39;00m user_id\n",
      "\u001b[1;31mModelRetry\u001b[0m: No user found with name 'Tom'.Retry",
      "\nThe above exception was the direct cause of the following exception:\n",
      "\u001b[1;31mUnexpectedModelBehavior\u001b[0m                   Traceback (most recent call last)",
      "Cell \u001b[1;32mIn[102], line 32\u001b[0m\n\u001b[0;32m     26\u001b[0m         \u001b[38;5;28;01mraise\u001b[39;00m ModelRetry(\n\u001b[0;32m     27\u001b[0m             \u001b[38;5;124mf\u001b[39m\u001b[38;5;124m'\u001b[39m\u001b[38;5;124mNo user found with name \u001b[39m\u001b[38;5;132;01m{\u001b[39;00mname\u001b[38;5;132;01m!r}\u001b[39;00m\u001b[38;5;124m.Retry\u001b[39m\u001b[38;5;124m'\u001b[39m\n\u001b[0;32m     28\u001b[0m         )\n\u001b[0;32m     30\u001b[0m     \u001b[38;5;28;01mreturn\u001b[39;00m user_id\n\u001b[1;32m---> 32\u001b[0m result \u001b[38;5;241m=\u001b[39m \u001b[43magent\u001b[49m\u001b[38;5;241;43m.\u001b[39;49m\u001b[43mrun_sync\u001b[49m\u001b[43m(\u001b[49m\n\u001b[0;32m     33\u001b[0m \u001b[43m    \u001b[49m\u001b[38;5;124;43m'\u001b[39;49m\u001b[38;5;124;43mSend a message to Tom  for coffee next week\u001b[39;49m\u001b[38;5;124;43m'\u001b[39;49m\u001b[43m \u001b[49m\u001b[43m,\u001b[49m\u001b[43mdeps\u001b[49m\u001b[43m \u001b[49m\u001b[38;5;241;43m=\u001b[39;49m\u001b[43m \u001b[49m\u001b[43mDatabaseConn\u001b[49m\u001b[43m(\u001b[49m\u001b[43m)\u001b[49m\n\u001b[0;32m     34\u001b[0m \u001b[43m)\u001b[49m\n\u001b[0;32m     36\u001b[0m pprint(result\u001b[38;5;241m.\u001b[39mdata)\n",
      "File \u001b[1;32mc:\\Users\\rupak\\OneDrive\\Documents\\agents2\\venv\\Lib\\site-packages\\pydantic_ai\\agent.py:327\u001b[0m, in \u001b[0;36mAgent.run_sync\u001b[1;34m(self, user_prompt, message_history, model, deps, model_settings, usage_limits, infer_name)\u001b[0m\n\u001b[0;32m    325\u001b[0m \u001b[38;5;28;01mif\u001b[39;00m infer_name \u001b[38;5;129;01mand\u001b[39;00m \u001b[38;5;28mself\u001b[39m\u001b[38;5;241m.\u001b[39mname \u001b[38;5;129;01mis\u001b[39;00m \u001b[38;5;28;01mNone\u001b[39;00m:\n\u001b[0;32m    326\u001b[0m     \u001b[38;5;28mself\u001b[39m\u001b[38;5;241m.\u001b[39m_infer_name(inspect\u001b[38;5;241m.\u001b[39mcurrentframe())\n\u001b[1;32m--> 327\u001b[0m \u001b[38;5;28;01mreturn\u001b[39;00m \u001b[43masyncio\u001b[49m\u001b[38;5;241;43m.\u001b[39;49m\u001b[43mget_event_loop\u001b[49m\u001b[43m(\u001b[49m\u001b[43m)\u001b[49m\u001b[38;5;241;43m.\u001b[39;49m\u001b[43mrun_until_complete\u001b[49m\u001b[43m(\u001b[49m\n\u001b[0;32m    328\u001b[0m \u001b[43m    \u001b[49m\u001b[38;5;28;43mself\u001b[39;49m\u001b[38;5;241;43m.\u001b[39;49m\u001b[43mrun\u001b[49m\u001b[43m(\u001b[49m\n\u001b[0;32m    329\u001b[0m \u001b[43m        \u001b[49m\u001b[43muser_prompt\u001b[49m\u001b[43m,\u001b[49m\n\u001b[0;32m    330\u001b[0m \u001b[43m        \u001b[49m\u001b[43mmessage_history\u001b[49m\u001b[38;5;241;43m=\u001b[39;49m\u001b[43mmessage_history\u001b[49m\u001b[43m,\u001b[49m\n\u001b[0;32m    331\u001b[0m \u001b[43m        \u001b[49m\u001b[43mmodel\u001b[49m\u001b[38;5;241;43m=\u001b[39;49m\u001b[43mmodel\u001b[49m\u001b[43m,\u001b[49m\n\u001b[0;32m    332\u001b[0m \u001b[43m        \u001b[49m\u001b[43mdeps\u001b[49m\u001b[38;5;241;43m=\u001b[39;49m\u001b[43mdeps\u001b[49m\u001b[43m,\u001b[49m\n\u001b[0;32m    333\u001b[0m \u001b[43m        \u001b[49m\u001b[43mmodel_settings\u001b[49m\u001b[38;5;241;43m=\u001b[39;49m\u001b[43mmodel_settings\u001b[49m\u001b[43m,\u001b[49m\n\u001b[0;32m    334\u001b[0m \u001b[43m        \u001b[49m\u001b[43musage_limits\u001b[49m\u001b[38;5;241;43m=\u001b[39;49m\u001b[43musage_limits\u001b[49m\u001b[43m,\u001b[49m\n\u001b[0;32m    335\u001b[0m \u001b[43m        \u001b[49m\u001b[43minfer_name\u001b[49m\u001b[38;5;241;43m=\u001b[39;49m\u001b[38;5;28;43;01mFalse\u001b[39;49;00m\u001b[43m,\u001b[49m\n\u001b[0;32m    336\u001b[0m \u001b[43m    \u001b[49m\u001b[43m)\u001b[49m\n\u001b[0;32m    337\u001b[0m \u001b[43m\u001b[49m\u001b[43m)\u001b[49m\n",
      "File \u001b[1;32mc:\\Users\\rupak\\OneDrive\\Documents\\agents2\\venv\\Lib\\site-packages\\nest_asyncio.py:98\u001b[0m, in \u001b[0;36m_patch_loop.<locals>.run_until_complete\u001b[1;34m(self, future)\u001b[0m\n\u001b[0;32m     95\u001b[0m \u001b[38;5;28;01mif\u001b[39;00m \u001b[38;5;129;01mnot\u001b[39;00m f\u001b[38;5;241m.\u001b[39mdone():\n\u001b[0;32m     96\u001b[0m     \u001b[38;5;28;01mraise\u001b[39;00m \u001b[38;5;167;01mRuntimeError\u001b[39;00m(\n\u001b[0;32m     97\u001b[0m         \u001b[38;5;124m'\u001b[39m\u001b[38;5;124mEvent loop stopped before Future completed.\u001b[39m\u001b[38;5;124m'\u001b[39m)\n\u001b[1;32m---> 98\u001b[0m \u001b[38;5;28;01mreturn\u001b[39;00m \u001b[43mf\u001b[49m\u001b[38;5;241;43m.\u001b[39;49m\u001b[43mresult\u001b[49m\u001b[43m(\u001b[49m\u001b[43m)\u001b[49m\n",
      "File \u001b[1;32m~\\AppData\\Local\\Programs\\Python\\Python311\\Lib\\asyncio\\futures.py:203\u001b[0m, in \u001b[0;36mFuture.result\u001b[1;34m(self)\u001b[0m\n\u001b[0;32m    201\u001b[0m \u001b[38;5;28mself\u001b[39m\u001b[38;5;241m.\u001b[39m__log_traceback \u001b[38;5;241m=\u001b[39m \u001b[38;5;28;01mFalse\u001b[39;00m\n\u001b[0;32m    202\u001b[0m \u001b[38;5;28;01mif\u001b[39;00m \u001b[38;5;28mself\u001b[39m\u001b[38;5;241m.\u001b[39m_exception \u001b[38;5;129;01mis\u001b[39;00m \u001b[38;5;129;01mnot\u001b[39;00m \u001b[38;5;28;01mNone\u001b[39;00m:\n\u001b[1;32m--> 203\u001b[0m     \u001b[38;5;28;01mraise\u001b[39;00m \u001b[38;5;28mself\u001b[39m\u001b[38;5;241m.\u001b[39m_exception\u001b[38;5;241m.\u001b[39mwith_traceback(\u001b[38;5;28mself\u001b[39m\u001b[38;5;241m.\u001b[39m_exception_tb)\n\u001b[0;32m    204\u001b[0m \u001b[38;5;28;01mreturn\u001b[39;00m \u001b[38;5;28mself\u001b[39m\u001b[38;5;241m.\u001b[39m_result\n",
      "File \u001b[1;32m~\\AppData\\Local\\Programs\\Python\\Python311\\Lib\\asyncio\\tasks.py:279\u001b[0m, in \u001b[0;36mTask.__step\u001b[1;34m(***failed resolving arguments***)\u001b[0m\n\u001b[0;32m    277\u001b[0m         result \u001b[38;5;241m=\u001b[39m coro\u001b[38;5;241m.\u001b[39msend(\u001b[38;5;28;01mNone\u001b[39;00m)\n\u001b[0;32m    278\u001b[0m     \u001b[38;5;28;01melse\u001b[39;00m:\n\u001b[1;32m--> 279\u001b[0m         result \u001b[38;5;241m=\u001b[39m coro\u001b[38;5;241m.\u001b[39mthrow(exc)\n\u001b[0;32m    280\u001b[0m \u001b[38;5;28;01mexcept\u001b[39;00m \u001b[38;5;167;01mStopIteration\u001b[39;00m \u001b[38;5;28;01mas\u001b[39;00m exc:\n\u001b[0;32m    281\u001b[0m     \u001b[38;5;28;01mif\u001b[39;00m \u001b[38;5;28mself\u001b[39m\u001b[38;5;241m.\u001b[39m_must_cancel:\n\u001b[0;32m    282\u001b[0m         \u001b[38;5;66;03m# Task is cancelled right before coro stops.\u001b[39;00m\n",
      "File \u001b[1;32mc:\\Users\\rupak\\OneDrive\\Documents\\agents2\\venv\\Lib\\site-packages\\pydantic_ai\\agent.py:265\u001b[0m, in \u001b[0;36mAgent.run\u001b[1;34m(self, user_prompt, message_history, model, deps, model_settings, usage_limits, infer_name)\u001b[0m\n\u001b[0;32m    262\u001b[0m usage_limits\u001b[38;5;241m.\u001b[39mcheck_tokens(request_usage)\n\u001b[0;32m    264\u001b[0m \u001b[38;5;28;01mwith\u001b[39;00m _logfire\u001b[38;5;241m.\u001b[39mspan(\u001b[38;5;124m'\u001b[39m\u001b[38;5;124mhandle model response\u001b[39m\u001b[38;5;124m'\u001b[39m, run_step\u001b[38;5;241m=\u001b[39mrun_step) \u001b[38;5;28;01mas\u001b[39;00m handle_span:\n\u001b[1;32m--> 265\u001b[0m     final_result, tool_responses \u001b[38;5;241m=\u001b[39m \u001b[38;5;28;01mawait\u001b[39;00m \u001b[38;5;28mself\u001b[39m\u001b[38;5;241m.\u001b[39m_handle_model_response(model_response, run_context)\n\u001b[0;32m    267\u001b[0m     \u001b[38;5;28;01mif\u001b[39;00m tool_responses:\n\u001b[0;32m    268\u001b[0m         \u001b[38;5;66;03m# Add parts to the conversation as a new message\u001b[39;00m\n\u001b[0;32m    269\u001b[0m         messages\u001b[38;5;241m.\u001b[39mappend(_messages\u001b[38;5;241m.\u001b[39mModelRequest(tool_responses))\n",
      "File \u001b[1;32mc:\\Users\\rupak\\OneDrive\\Documents\\agents2\\venv\\Lib\\site-packages\\pydantic_ai\\agent.py:871\u001b[0m, in \u001b[0;36mAgent._handle_model_response\u001b[1;34m(self, model_response, run_context)\u001b[0m\n\u001b[0;32m    869\u001b[0m     \u001b[38;5;28;01mreturn\u001b[39;00m \u001b[38;5;28;01mawait\u001b[39;00m \u001b[38;5;28mself\u001b[39m\u001b[38;5;241m.\u001b[39m_handle_text_response(text, run_context)\n\u001b[0;32m    870\u001b[0m \u001b[38;5;28;01melif\u001b[39;00m tool_calls:\n\u001b[1;32m--> 871\u001b[0m     \u001b[38;5;28;01mreturn\u001b[39;00m \u001b[38;5;28;01mawait\u001b[39;00m \u001b[38;5;28mself\u001b[39m\u001b[38;5;241m.\u001b[39m_handle_structured_response(tool_calls, run_context)\n\u001b[0;32m    872\u001b[0m \u001b[38;5;28;01melse\u001b[39;00m:\n\u001b[0;32m    873\u001b[0m     \u001b[38;5;28;01mraise\u001b[39;00m exceptions\u001b[38;5;241m.\u001b[39mUnexpectedModelBehavior(\u001b[38;5;124m'\u001b[39m\u001b[38;5;124mReceived empty model response\u001b[39m\u001b[38;5;124m'\u001b[39m)\n",
      "File \u001b[1;32mc:\\Users\\rupak\\OneDrive\\Documents\\agents2\\venv\\Lib\\site-packages\\pydantic_ai\\agent.py:918\u001b[0m, in \u001b[0;36mAgent._handle_structured_response\u001b[1;34m(self, tool_calls, run_context)\u001b[0m\n\u001b[0;32m    915\u001b[0m             final_result \u001b[38;5;241m=\u001b[39m _MarkFinalResult(result_data, call\u001b[38;5;241m.\u001b[39mtool_name)\n\u001b[0;32m    917\u001b[0m \u001b[38;5;66;03m# Then build the other request parts based on end strategy\u001b[39;00m\n\u001b[1;32m--> 918\u001b[0m parts \u001b[38;5;241m+\u001b[39m\u001b[38;5;241m=\u001b[39m \u001b[38;5;28;01mawait\u001b[39;00m \u001b[38;5;28mself\u001b[39m\u001b[38;5;241m.\u001b[39m_process_function_tools(tool_calls, final_result \u001b[38;5;129;01mand\u001b[39;00m final_result\u001b[38;5;241m.\u001b[39mtool_name, run_context)\n\u001b[0;32m    920\u001b[0m \u001b[38;5;28;01mreturn\u001b[39;00m final_result, parts\n",
      "File \u001b[1;32mc:\\Users\\rupak\\OneDrive\\Documents\\agents2\\venv\\Lib\\site-packages\\pydantic_ai\\agent.py:977\u001b[0m, in \u001b[0;36mAgent._process_function_tools\u001b[1;34m(self, tool_calls, result_tool_name, run_context)\u001b[0m\n\u001b[0;32m    975\u001b[0m \u001b[38;5;28;01mif\u001b[39;00m tasks:\n\u001b[0;32m    976\u001b[0m     \u001b[38;5;28;01mwith\u001b[39;00m _logfire\u001b[38;5;241m.\u001b[39mspan(\u001b[38;5;124m'\u001b[39m\u001b[38;5;124mrunning \u001b[39m\u001b[38;5;124m{\u001b[39m\u001b[38;5;124mtools=}\u001b[39m\u001b[38;5;124m'\u001b[39m, tools\u001b[38;5;241m=\u001b[39m[t\u001b[38;5;241m.\u001b[39mget_name() \u001b[38;5;28;01mfor\u001b[39;00m t \u001b[38;5;129;01min\u001b[39;00m tasks]):\n\u001b[1;32m--> 977\u001b[0m         task_results: Sequence[_messages\u001b[38;5;241m.\u001b[39mModelRequestPart] \u001b[38;5;241m=\u001b[39m \u001b[38;5;28;01mawait\u001b[39;00m asyncio\u001b[38;5;241m.\u001b[39mgather(\u001b[38;5;241m*\u001b[39mtasks)\n\u001b[0;32m    978\u001b[0m         parts\u001b[38;5;241m.\u001b[39mextend(task_results)\n\u001b[0;32m    979\u001b[0m \u001b[38;5;28;01mreturn\u001b[39;00m parts\n",
      "File \u001b[1;32m~\\AppData\\Local\\Programs\\Python\\Python311\\Lib\\asyncio\\tasks.py:349\u001b[0m, in \u001b[0;36mTask.__wakeup\u001b[1;34m(self, future)\u001b[0m\n\u001b[0;32m    347\u001b[0m \u001b[38;5;28;01mdef\u001b[39;00m \u001b[38;5;21m__wakeup\u001b[39m(\u001b[38;5;28mself\u001b[39m, future):\n\u001b[0;32m    348\u001b[0m     \u001b[38;5;28;01mtry\u001b[39;00m:\n\u001b[1;32m--> 349\u001b[0m         \u001b[43mfuture\u001b[49m\u001b[38;5;241;43m.\u001b[39;49m\u001b[43mresult\u001b[49m\u001b[43m(\u001b[49m\u001b[43m)\u001b[49m\n\u001b[0;32m    350\u001b[0m     \u001b[38;5;28;01mexcept\u001b[39;00m \u001b[38;5;167;01mBaseException\u001b[39;00m \u001b[38;5;28;01mas\u001b[39;00m exc:\n\u001b[0;32m    351\u001b[0m         \u001b[38;5;66;03m# This may also be a cancellation.\u001b[39;00m\n\u001b[0;32m    352\u001b[0m         \u001b[38;5;28mself\u001b[39m\u001b[38;5;241m.\u001b[39m__step(exc)\n",
      "File \u001b[1;32m~\\AppData\\Local\\Programs\\Python\\Python311\\Lib\\asyncio\\tasks.py:279\u001b[0m, in \u001b[0;36mTask.__step\u001b[1;34m(***failed resolving arguments***)\u001b[0m\n\u001b[0;32m    277\u001b[0m         result \u001b[38;5;241m=\u001b[39m coro\u001b[38;5;241m.\u001b[39msend(\u001b[38;5;28;01mNone\u001b[39;00m)\n\u001b[0;32m    278\u001b[0m     \u001b[38;5;28;01melse\u001b[39;00m:\n\u001b[1;32m--> 279\u001b[0m         result \u001b[38;5;241m=\u001b[39m coro\u001b[38;5;241m.\u001b[39mthrow(exc)\n\u001b[0;32m    280\u001b[0m \u001b[38;5;28;01mexcept\u001b[39;00m \u001b[38;5;167;01mStopIteration\u001b[39;00m \u001b[38;5;28;01mas\u001b[39;00m exc:\n\u001b[0;32m    281\u001b[0m     \u001b[38;5;28;01mif\u001b[39;00m \u001b[38;5;28mself\u001b[39m\u001b[38;5;241m.\u001b[39m_must_cancel:\n\u001b[0;32m    282\u001b[0m         \u001b[38;5;66;03m# Task is cancelled right before coro stops.\u001b[39;00m\n",
      "File \u001b[1;32mc:\\Users\\rupak\\OneDrive\\Documents\\agents2\\venv\\Lib\\site-packages\\pydantic_ai\\tools.py:271\u001b[0m, in \u001b[0;36mTool.run\u001b[1;34m(self, message, run_context)\u001b[0m\n\u001b[0;32m    269\u001b[0m         response_content \u001b[38;5;241m=\u001b[39m \u001b[38;5;28;01mawait\u001b[39;00m _utils\u001b[38;5;241m.\u001b[39mrun_in_executor(function, \u001b[38;5;241m*\u001b[39margs, \u001b[38;5;241m*\u001b[39m\u001b[38;5;241m*\u001b[39mkwargs)\n\u001b[0;32m    270\u001b[0m \u001b[38;5;28;01mexcept\u001b[39;00m ModelRetry \u001b[38;5;28;01mas\u001b[39;00m e:\n\u001b[1;32m--> 271\u001b[0m     \u001b[38;5;28;01mreturn\u001b[39;00m \u001b[38;5;28;43mself\u001b[39;49m\u001b[38;5;241;43m.\u001b[39;49m\u001b[43m_on_error\u001b[49m\u001b[43m(\u001b[49m\u001b[43me\u001b[49m\u001b[43m,\u001b[49m\u001b[43m \u001b[49m\u001b[43mmessage\u001b[49m\u001b[43m)\u001b[49m\n\u001b[0;32m    273\u001b[0m \u001b[38;5;28mself\u001b[39m\u001b[38;5;241m.\u001b[39mcurrent_retry \u001b[38;5;241m=\u001b[39m \u001b[38;5;241m0\u001b[39m\n\u001b[0;32m    274\u001b[0m \u001b[38;5;28;01mreturn\u001b[39;00m _messages\u001b[38;5;241m.\u001b[39mToolReturnPart(\n\u001b[0;32m    275\u001b[0m     tool_name\u001b[38;5;241m=\u001b[39mmessage\u001b[38;5;241m.\u001b[39mtool_name,\n\u001b[0;32m    276\u001b[0m     content\u001b[38;5;241m=\u001b[39mresponse_content,\n\u001b[0;32m    277\u001b[0m     tool_call_id\u001b[38;5;241m=\u001b[39mmessage\u001b[38;5;241m.\u001b[39mtool_call_id,\n\u001b[0;32m    278\u001b[0m )\n",
      "File \u001b[1;32mc:\\Users\\rupak\\OneDrive\\Documents\\agents2\\venv\\Lib\\site-packages\\pydantic_ai\\tools.py:303\u001b[0m, in \u001b[0;36mTool._on_error\u001b[1;34m(self, exc, call_message)\u001b[0m\n\u001b[0;32m    301\u001b[0m \u001b[38;5;28mself\u001b[39m\u001b[38;5;241m.\u001b[39mcurrent_retry \u001b[38;5;241m+\u001b[39m\u001b[38;5;241m=\u001b[39m \u001b[38;5;241m1\u001b[39m\n\u001b[0;32m    302\u001b[0m \u001b[38;5;28;01mif\u001b[39;00m \u001b[38;5;28mself\u001b[39m\u001b[38;5;241m.\u001b[39mmax_retries \u001b[38;5;129;01mis\u001b[39;00m \u001b[38;5;28;01mNone\u001b[39;00m \u001b[38;5;129;01mor\u001b[39;00m \u001b[38;5;28mself\u001b[39m\u001b[38;5;241m.\u001b[39mcurrent_retry \u001b[38;5;241m>\u001b[39m \u001b[38;5;28mself\u001b[39m\u001b[38;5;241m.\u001b[39mmax_retries:\n\u001b[1;32m--> 303\u001b[0m     \u001b[38;5;28;01mraise\u001b[39;00m UnexpectedModelBehavior(\u001b[38;5;124mf\u001b[39m\u001b[38;5;124m'\u001b[39m\u001b[38;5;124mTool exceeded max retries count of \u001b[39m\u001b[38;5;132;01m{\u001b[39;00m\u001b[38;5;28mself\u001b[39m\u001b[38;5;241m.\u001b[39mmax_retries\u001b[38;5;132;01m}\u001b[39;00m\u001b[38;5;124m'\u001b[39m) \u001b[38;5;28;01mfrom\u001b[39;00m \u001b[38;5;21;01mexc\u001b[39;00m\n\u001b[0;32m    304\u001b[0m \u001b[38;5;28;01melse\u001b[39;00m:\n\u001b[0;32m    305\u001b[0m     \u001b[38;5;28;01mif\u001b[39;00m \u001b[38;5;28misinstance\u001b[39m(exc, ValidationError):\n",
      "\u001b[1;31mUnexpectedModelBehavior\u001b[0m: Tool exceeded max retries count of 2"
     ]
    }
   ],
   "source": [
    "from pydantic import BaseModel\n",
    "\n",
    "from pydantic_ai import Agent,RunContext,ModelRetry\n",
    "\n",
    "from fake_database import DatabaseConn\n",
    "\n",
    "class ChatResult(BaseModel):\n",
    "    user_id:int\n",
    "    message:str\n",
    "\n",
    "agent= Agent(\n",
    "        'groq:mixtral-8x7b-32768',\n",
    "        deps_type=DatabaseConn,\n",
    "        result_type=ChatResult,\n",
    "        system_prompt=\"You are a message agent\"\n",
    "        \"User the tool to get the name and if name not found\"\n",
    "        \"Don't assume aything and do as said\"\n",
    ")\n",
    "\n",
    "@agent.tool(retries=2)\n",
    "def get_user_by_name(ctx:RunContext[DatabaseConn],name:str)->int:\n",
    "    print(name)\n",
    "\n",
    "    user_id = ctx.deps.users.get(name=name)\n",
    "    if user_id is None:\n",
    "        raise ModelRetry(\n",
    "            f'No user found with name {name!r}.Retry'\n",
    "        )\n",
    "    \n",
    "    return user_id\n",
    "\n",
    "result = agent.run_sync(\n",
    "    'Send a message to Tom  for coffee next week' ,deps = DatabaseConn()\n",
    ")\n",
    "\n",
    "pprint(result.data)\n",
    "\n",
    "\n",
    "\n"
   ]
  },
  {
   "cell_type": "code",
   "execution_count": 104,
   "metadata": {},
   "outputs": [
    {
     "name": "stdout",
     "output_type": "stream",
     "text": [
      "True\n"
     ]
    },
    {
     "ename": "BadRequestError",
     "evalue": "Error code: 400 - {'error': {'message': \"Failed to call a function. Please adjust your prompt. See 'failed_generation' for more details.\", 'type': 'invalid_request_error', 'code': 'tool_use_failed', 'failed_generation': 'roulette_wheel>{square: 5}</function>'}}",
     "output_type": "error",
     "traceback": [
      "\u001b[1;31m---------------------------------------------------------------------------\u001b[0m",
      "\u001b[1;31mBadRequestError\u001b[0m                           Traceback (most recent call last)",
      "Cell \u001b[1;32mIn[104], line 26\u001b[0m\n\u001b[0;32m     23\u001b[0m \u001b[38;5;28mprint\u001b[39m(result\u001b[38;5;241m.\u001b[39mdata)  \n\u001b[0;32m     24\u001b[0m \u001b[38;5;66;03m#> True\u001b[39;00m\n\u001b[1;32m---> 26\u001b[0m result \u001b[38;5;241m=\u001b[39m \u001b[43mroulette_agent\u001b[49m\u001b[38;5;241;43m.\u001b[39;49m\u001b[43mrun_sync\u001b[49m\u001b[43m(\u001b[49m\u001b[38;5;124;43m'\u001b[39;49m\u001b[38;5;124;43mI bet five is the winner\u001b[39;49m\u001b[38;5;124;43m'\u001b[39;49m\u001b[43m,\u001b[49m\u001b[43m \u001b[49m\u001b[43mdeps\u001b[49m\u001b[38;5;241;43m=\u001b[39;49m\u001b[43msuccess_number\u001b[49m\u001b[43m)\u001b[49m\n\u001b[0;32m     27\u001b[0m \u001b[38;5;28mprint\u001b[39m(result\u001b[38;5;241m.\u001b[39mdata)\n",
      "File \u001b[1;32mc:\\Users\\rupak\\OneDrive\\Documents\\agents2\\venv\\Lib\\site-packages\\pydantic_ai\\agent.py:327\u001b[0m, in \u001b[0;36mAgent.run_sync\u001b[1;34m(self, user_prompt, message_history, model, deps, model_settings, usage_limits, infer_name)\u001b[0m\n\u001b[0;32m    325\u001b[0m \u001b[38;5;28;01mif\u001b[39;00m infer_name \u001b[38;5;129;01mand\u001b[39;00m \u001b[38;5;28mself\u001b[39m\u001b[38;5;241m.\u001b[39mname \u001b[38;5;129;01mis\u001b[39;00m \u001b[38;5;28;01mNone\u001b[39;00m:\n\u001b[0;32m    326\u001b[0m     \u001b[38;5;28mself\u001b[39m\u001b[38;5;241m.\u001b[39m_infer_name(inspect\u001b[38;5;241m.\u001b[39mcurrentframe())\n\u001b[1;32m--> 327\u001b[0m \u001b[38;5;28;01mreturn\u001b[39;00m \u001b[43masyncio\u001b[49m\u001b[38;5;241;43m.\u001b[39;49m\u001b[43mget_event_loop\u001b[49m\u001b[43m(\u001b[49m\u001b[43m)\u001b[49m\u001b[38;5;241;43m.\u001b[39;49m\u001b[43mrun_until_complete\u001b[49m\u001b[43m(\u001b[49m\n\u001b[0;32m    328\u001b[0m \u001b[43m    \u001b[49m\u001b[38;5;28;43mself\u001b[39;49m\u001b[38;5;241;43m.\u001b[39;49m\u001b[43mrun\u001b[49m\u001b[43m(\u001b[49m\n\u001b[0;32m    329\u001b[0m \u001b[43m        \u001b[49m\u001b[43muser_prompt\u001b[49m\u001b[43m,\u001b[49m\n\u001b[0;32m    330\u001b[0m \u001b[43m        \u001b[49m\u001b[43mmessage_history\u001b[49m\u001b[38;5;241;43m=\u001b[39;49m\u001b[43mmessage_history\u001b[49m\u001b[43m,\u001b[49m\n\u001b[0;32m    331\u001b[0m \u001b[43m        \u001b[49m\u001b[43mmodel\u001b[49m\u001b[38;5;241;43m=\u001b[39;49m\u001b[43mmodel\u001b[49m\u001b[43m,\u001b[49m\n\u001b[0;32m    332\u001b[0m \u001b[43m        \u001b[49m\u001b[43mdeps\u001b[49m\u001b[38;5;241;43m=\u001b[39;49m\u001b[43mdeps\u001b[49m\u001b[43m,\u001b[49m\n\u001b[0;32m    333\u001b[0m \u001b[43m        \u001b[49m\u001b[43mmodel_settings\u001b[49m\u001b[38;5;241;43m=\u001b[39;49m\u001b[43mmodel_settings\u001b[49m\u001b[43m,\u001b[49m\n\u001b[0;32m    334\u001b[0m \u001b[43m        \u001b[49m\u001b[43musage_limits\u001b[49m\u001b[38;5;241;43m=\u001b[39;49m\u001b[43musage_limits\u001b[49m\u001b[43m,\u001b[49m\n\u001b[0;32m    335\u001b[0m \u001b[43m        \u001b[49m\u001b[43minfer_name\u001b[49m\u001b[38;5;241;43m=\u001b[39;49m\u001b[38;5;28;43;01mFalse\u001b[39;49;00m\u001b[43m,\u001b[49m\n\u001b[0;32m    336\u001b[0m \u001b[43m    \u001b[49m\u001b[43m)\u001b[49m\n\u001b[0;32m    337\u001b[0m \u001b[43m\u001b[49m\u001b[43m)\u001b[49m\n",
      "File \u001b[1;32mc:\\Users\\rupak\\OneDrive\\Documents\\agents2\\venv\\Lib\\site-packages\\nest_asyncio.py:98\u001b[0m, in \u001b[0;36m_patch_loop.<locals>.run_until_complete\u001b[1;34m(self, future)\u001b[0m\n\u001b[0;32m     95\u001b[0m \u001b[38;5;28;01mif\u001b[39;00m \u001b[38;5;129;01mnot\u001b[39;00m f\u001b[38;5;241m.\u001b[39mdone():\n\u001b[0;32m     96\u001b[0m     \u001b[38;5;28;01mraise\u001b[39;00m \u001b[38;5;167;01mRuntimeError\u001b[39;00m(\n\u001b[0;32m     97\u001b[0m         \u001b[38;5;124m'\u001b[39m\u001b[38;5;124mEvent loop stopped before Future completed.\u001b[39m\u001b[38;5;124m'\u001b[39m)\n\u001b[1;32m---> 98\u001b[0m \u001b[38;5;28;01mreturn\u001b[39;00m \u001b[43mf\u001b[49m\u001b[38;5;241;43m.\u001b[39;49m\u001b[43mresult\u001b[49m\u001b[43m(\u001b[49m\u001b[43m)\u001b[49m\n",
      "File \u001b[1;32m~\\AppData\\Local\\Programs\\Python\\Python311\\Lib\\asyncio\\futures.py:203\u001b[0m, in \u001b[0;36mFuture.result\u001b[1;34m(self)\u001b[0m\n\u001b[0;32m    201\u001b[0m \u001b[38;5;28mself\u001b[39m\u001b[38;5;241m.\u001b[39m__log_traceback \u001b[38;5;241m=\u001b[39m \u001b[38;5;28;01mFalse\u001b[39;00m\n\u001b[0;32m    202\u001b[0m \u001b[38;5;28;01mif\u001b[39;00m \u001b[38;5;28mself\u001b[39m\u001b[38;5;241m.\u001b[39m_exception \u001b[38;5;129;01mis\u001b[39;00m \u001b[38;5;129;01mnot\u001b[39;00m \u001b[38;5;28;01mNone\u001b[39;00m:\n\u001b[1;32m--> 203\u001b[0m     \u001b[38;5;28;01mraise\u001b[39;00m \u001b[38;5;28mself\u001b[39m\u001b[38;5;241m.\u001b[39m_exception\u001b[38;5;241m.\u001b[39mwith_traceback(\u001b[38;5;28mself\u001b[39m\u001b[38;5;241m.\u001b[39m_exception_tb)\n\u001b[0;32m    204\u001b[0m \u001b[38;5;28;01mreturn\u001b[39;00m \u001b[38;5;28mself\u001b[39m\u001b[38;5;241m.\u001b[39m_result\n",
      "File \u001b[1;32m~\\AppData\\Local\\Programs\\Python\\Python311\\Lib\\asyncio\\tasks.py:277\u001b[0m, in \u001b[0;36mTask.__step\u001b[1;34m(***failed resolving arguments***)\u001b[0m\n\u001b[0;32m    273\u001b[0m \u001b[38;5;28;01mtry\u001b[39;00m:\n\u001b[0;32m    274\u001b[0m     \u001b[38;5;28;01mif\u001b[39;00m exc \u001b[38;5;129;01mis\u001b[39;00m \u001b[38;5;28;01mNone\u001b[39;00m:\n\u001b[0;32m    275\u001b[0m         \u001b[38;5;66;03m# We use the `send` method directly, because coroutines\u001b[39;00m\n\u001b[0;32m    276\u001b[0m         \u001b[38;5;66;03m# don't have `__iter__` and `__next__` methods.\u001b[39;00m\n\u001b[1;32m--> 277\u001b[0m         result \u001b[38;5;241m=\u001b[39m coro\u001b[38;5;241m.\u001b[39msend(\u001b[38;5;28;01mNone\u001b[39;00m)\n\u001b[0;32m    278\u001b[0m     \u001b[38;5;28;01melse\u001b[39;00m:\n\u001b[0;32m    279\u001b[0m         result \u001b[38;5;241m=\u001b[39m coro\u001b[38;5;241m.\u001b[39mthrow(exc)\n",
      "File \u001b[1;32mc:\\Users\\rupak\\OneDrive\\Documents\\agents2\\venv\\Lib\\site-packages\\pydantic_ai\\agent.py:255\u001b[0m, in \u001b[0;36mAgent.run\u001b[1;34m(self, user_prompt, message_history, model, deps, model_settings, usage_limits, infer_name)\u001b[0m\n\u001b[0;32m    252\u001b[0m     agent_model \u001b[38;5;241m=\u001b[39m \u001b[38;5;28;01mawait\u001b[39;00m \u001b[38;5;28mself\u001b[39m\u001b[38;5;241m.\u001b[39m_prepare_model(run_context)\n\u001b[0;32m    254\u001b[0m \u001b[38;5;28;01mwith\u001b[39;00m _logfire\u001b[38;5;241m.\u001b[39mspan(\u001b[38;5;124m'\u001b[39m\u001b[38;5;124mmodel request\u001b[39m\u001b[38;5;124m'\u001b[39m, run_step\u001b[38;5;241m=\u001b[39mrun_step) \u001b[38;5;28;01mas\u001b[39;00m model_req_span:\n\u001b[1;32m--> 255\u001b[0m     model_response, request_usage \u001b[38;5;241m=\u001b[39m \u001b[38;5;28;01mawait\u001b[39;00m agent_model\u001b[38;5;241m.\u001b[39mrequest(messages, model_settings)\n\u001b[0;32m    256\u001b[0m     model_req_span\u001b[38;5;241m.\u001b[39mset_attribute(\u001b[38;5;124m'\u001b[39m\u001b[38;5;124mresponse\u001b[39m\u001b[38;5;124m'\u001b[39m, model_response)\n\u001b[0;32m    257\u001b[0m     model_req_span\u001b[38;5;241m.\u001b[39mset_attribute(\u001b[38;5;124m'\u001b[39m\u001b[38;5;124musage\u001b[39m\u001b[38;5;124m'\u001b[39m, request_usage)\n",
      "File \u001b[1;32mc:\\Users\\rupak\\OneDrive\\Documents\\agents2\\venv\\Lib\\site-packages\\pydantic_ai\\models\\groq.py:161\u001b[0m, in \u001b[0;36mGroqAgentModel.request\u001b[1;34m(self, messages, model_settings)\u001b[0m\n\u001b[0;32m    158\u001b[0m \u001b[38;5;28;01masync\u001b[39;00m \u001b[38;5;28;01mdef\u001b[39;00m \u001b[38;5;21mrequest\u001b[39m(\n\u001b[0;32m    159\u001b[0m     \u001b[38;5;28mself\u001b[39m, messages: \u001b[38;5;28mlist\u001b[39m[ModelMessage], model_settings: ModelSettings \u001b[38;5;241m|\u001b[39m \u001b[38;5;28;01mNone\u001b[39;00m\n\u001b[0;32m    160\u001b[0m ) \u001b[38;5;241m-\u001b[39m\u001b[38;5;241m>\u001b[39m \u001b[38;5;28mtuple\u001b[39m[ModelResponse, result\u001b[38;5;241m.\u001b[39mUsage]:\n\u001b[1;32m--> 161\u001b[0m     response \u001b[38;5;241m=\u001b[39m \u001b[38;5;28;01mawait\u001b[39;00m \u001b[38;5;28mself\u001b[39m\u001b[38;5;241m.\u001b[39m_completions_create(messages, \u001b[38;5;28;01mFalse\u001b[39;00m, model_settings)\n\u001b[0;32m    162\u001b[0m     \u001b[38;5;28;01mreturn\u001b[39;00m \u001b[38;5;28mself\u001b[39m\u001b[38;5;241m.\u001b[39m_process_response(response), _map_usage(response)\n",
      "File \u001b[1;32mc:\\Users\\rupak\\OneDrive\\Documents\\agents2\\venv\\Lib\\site-packages\\pydantic_ai\\models\\groq.py:199\u001b[0m, in \u001b[0;36mGroqAgentModel._completions_create\u001b[1;34m(self, messages, stream, model_settings)\u001b[0m\n\u001b[0;32m    195\u001b[0m groq_messages \u001b[38;5;241m=\u001b[39m \u001b[38;5;28mlist\u001b[39m(chain(\u001b[38;5;241m*\u001b[39m(\u001b[38;5;28mself\u001b[39m\u001b[38;5;241m.\u001b[39m_map_message(m) \u001b[38;5;28;01mfor\u001b[39;00m m \u001b[38;5;129;01min\u001b[39;00m messages)))\n\u001b[0;32m    197\u001b[0m model_settings \u001b[38;5;241m=\u001b[39m model_settings \u001b[38;5;129;01mor\u001b[39;00m {}\n\u001b[1;32m--> 199\u001b[0m \u001b[38;5;28;01mreturn\u001b[39;00m \u001b[38;5;28;01mawait\u001b[39;00m \u001b[38;5;28mself\u001b[39m\u001b[38;5;241m.\u001b[39mclient\u001b[38;5;241m.\u001b[39mchat\u001b[38;5;241m.\u001b[39mcompletions\u001b[38;5;241m.\u001b[39mcreate(\n\u001b[0;32m    200\u001b[0m     model\u001b[38;5;241m=\u001b[39m\u001b[38;5;28mstr\u001b[39m(\u001b[38;5;28mself\u001b[39m\u001b[38;5;241m.\u001b[39mmodel_name),\n\u001b[0;32m    201\u001b[0m     messages\u001b[38;5;241m=\u001b[39mgroq_messages,\n\u001b[0;32m    202\u001b[0m     n\u001b[38;5;241m=\u001b[39m\u001b[38;5;241m1\u001b[39m,\n\u001b[0;32m    203\u001b[0m     parallel_tool_calls\u001b[38;5;241m=\u001b[39m\u001b[38;5;28;01mTrue\u001b[39;00m \u001b[38;5;28;01mif\u001b[39;00m \u001b[38;5;28mself\u001b[39m\u001b[38;5;241m.\u001b[39mtools \u001b[38;5;28;01melse\u001b[39;00m NOT_GIVEN,\n\u001b[0;32m    204\u001b[0m     tools\u001b[38;5;241m=\u001b[39m\u001b[38;5;28mself\u001b[39m\u001b[38;5;241m.\u001b[39mtools \u001b[38;5;129;01mor\u001b[39;00m NOT_GIVEN,\n\u001b[0;32m    205\u001b[0m     tool_choice\u001b[38;5;241m=\u001b[39mtool_choice \u001b[38;5;129;01mor\u001b[39;00m NOT_GIVEN,\n\u001b[0;32m    206\u001b[0m     stream\u001b[38;5;241m=\u001b[39mstream,\n\u001b[0;32m    207\u001b[0m     max_tokens\u001b[38;5;241m=\u001b[39mmodel_settings\u001b[38;5;241m.\u001b[39mget(\u001b[38;5;124m'\u001b[39m\u001b[38;5;124mmax_tokens\u001b[39m\u001b[38;5;124m'\u001b[39m, NOT_GIVEN),\n\u001b[0;32m    208\u001b[0m     temperature\u001b[38;5;241m=\u001b[39mmodel_settings\u001b[38;5;241m.\u001b[39mget(\u001b[38;5;124m'\u001b[39m\u001b[38;5;124mtemperature\u001b[39m\u001b[38;5;124m'\u001b[39m, NOT_GIVEN),\n\u001b[0;32m    209\u001b[0m     top_p\u001b[38;5;241m=\u001b[39mmodel_settings\u001b[38;5;241m.\u001b[39mget(\u001b[38;5;124m'\u001b[39m\u001b[38;5;124mtop_p\u001b[39m\u001b[38;5;124m'\u001b[39m, NOT_GIVEN),\n\u001b[0;32m    210\u001b[0m     timeout\u001b[38;5;241m=\u001b[39mmodel_settings\u001b[38;5;241m.\u001b[39mget(\u001b[38;5;124m'\u001b[39m\u001b[38;5;124mtimeout\u001b[39m\u001b[38;5;124m'\u001b[39m, NOT_GIVEN),\n\u001b[0;32m    211\u001b[0m )\n",
      "File \u001b[1;32mc:\\Users\\rupak\\OneDrive\\Documents\\agents2\\venv\\Lib\\site-packages\\groq\\resources\\chat\\completions.py:598\u001b[0m, in \u001b[0;36mAsyncCompletions.create\u001b[1;34m(self, messages, model, frequency_penalty, function_call, functions, logit_bias, logprobs, max_tokens, n, parallel_tool_calls, presence_penalty, response_format, seed, stop, stream, temperature, tool_choice, tools, top_logprobs, top_p, user, extra_headers, extra_query, extra_body, timeout)\u001b[0m\n\u001b[0;32m    457\u001b[0m \u001b[38;5;28;01masync\u001b[39;00m \u001b[38;5;28;01mdef\u001b[39;00m \u001b[38;5;21mcreate\u001b[39m(\n\u001b[0;32m    458\u001b[0m     \u001b[38;5;28mself\u001b[39m,\n\u001b[0;32m    459\u001b[0m     \u001b[38;5;241m*\u001b[39m,\n\u001b[1;32m   (...)\u001b[0m\n\u001b[0;32m    486\u001b[0m     timeout: \u001b[38;5;28mfloat\u001b[39m \u001b[38;5;241m|\u001b[39m httpx\u001b[38;5;241m.\u001b[39mTimeout \u001b[38;5;241m|\u001b[39m \u001b[38;5;28;01mNone\u001b[39;00m \u001b[38;5;241m|\u001b[39m NotGiven \u001b[38;5;241m=\u001b[39m NOT_GIVEN,\n\u001b[0;32m    487\u001b[0m ) \u001b[38;5;241m-\u001b[39m\u001b[38;5;241m>\u001b[39m ChatCompletion \u001b[38;5;241m|\u001b[39m AsyncStream[ChatCompletionChunk]:\n\u001b[0;32m    488\u001b[0m \u001b[38;5;250m    \u001b[39m\u001b[38;5;124;03m\"\"\"\u001b[39;00m\n\u001b[0;32m    489\u001b[0m \u001b[38;5;124;03m    Creates a model response for the given chat conversation.\u001b[39;00m\n\u001b[0;32m    490\u001b[0m \n\u001b[1;32m   (...)\u001b[0m\n\u001b[0;32m    596\u001b[0m \u001b[38;5;124;03m      timeout: Override the client-level default timeout for this request, in seconds\u001b[39;00m\n\u001b[0;32m    597\u001b[0m \u001b[38;5;124;03m    \"\"\"\u001b[39;00m\n\u001b[1;32m--> 598\u001b[0m     \u001b[38;5;28;01mreturn\u001b[39;00m \u001b[38;5;28;01mawait\u001b[39;00m \u001b[38;5;28mself\u001b[39m\u001b[38;5;241m.\u001b[39m_post(\n\u001b[0;32m    599\u001b[0m         \u001b[38;5;124m\"\u001b[39m\u001b[38;5;124m/openai/v1/chat/completions\u001b[39m\u001b[38;5;124m\"\u001b[39m,\n\u001b[0;32m    600\u001b[0m         body\u001b[38;5;241m=\u001b[39m\u001b[38;5;28;01mawait\u001b[39;00m async_maybe_transform(\n\u001b[0;32m    601\u001b[0m             {\n\u001b[0;32m    602\u001b[0m                 \u001b[38;5;124m\"\u001b[39m\u001b[38;5;124mmessages\u001b[39m\u001b[38;5;124m\"\u001b[39m: messages,\n\u001b[0;32m    603\u001b[0m                 \u001b[38;5;124m\"\u001b[39m\u001b[38;5;124mmodel\u001b[39m\u001b[38;5;124m\"\u001b[39m: model,\n\u001b[0;32m    604\u001b[0m                 \u001b[38;5;124m\"\u001b[39m\u001b[38;5;124mfrequency_penalty\u001b[39m\u001b[38;5;124m\"\u001b[39m: frequency_penalty,\n\u001b[0;32m    605\u001b[0m                 \u001b[38;5;124m\"\u001b[39m\u001b[38;5;124mfunction_call\u001b[39m\u001b[38;5;124m\"\u001b[39m: function_call,\n\u001b[0;32m    606\u001b[0m                 \u001b[38;5;124m\"\u001b[39m\u001b[38;5;124mfunctions\u001b[39m\u001b[38;5;124m\"\u001b[39m: functions,\n\u001b[0;32m    607\u001b[0m                 \u001b[38;5;124m\"\u001b[39m\u001b[38;5;124mlogit_bias\u001b[39m\u001b[38;5;124m\"\u001b[39m: logit_bias,\n\u001b[0;32m    608\u001b[0m                 \u001b[38;5;124m\"\u001b[39m\u001b[38;5;124mlogprobs\u001b[39m\u001b[38;5;124m\"\u001b[39m: logprobs,\n\u001b[0;32m    609\u001b[0m                 \u001b[38;5;124m\"\u001b[39m\u001b[38;5;124mmax_tokens\u001b[39m\u001b[38;5;124m\"\u001b[39m: max_tokens,\n\u001b[0;32m    610\u001b[0m                 \u001b[38;5;124m\"\u001b[39m\u001b[38;5;124mn\u001b[39m\u001b[38;5;124m\"\u001b[39m: n,\n\u001b[0;32m    611\u001b[0m                 \u001b[38;5;124m\"\u001b[39m\u001b[38;5;124mparallel_tool_calls\u001b[39m\u001b[38;5;124m\"\u001b[39m: parallel_tool_calls,\n\u001b[0;32m    612\u001b[0m                 \u001b[38;5;124m\"\u001b[39m\u001b[38;5;124mpresence_penalty\u001b[39m\u001b[38;5;124m\"\u001b[39m: presence_penalty,\n\u001b[0;32m    613\u001b[0m                 \u001b[38;5;124m\"\u001b[39m\u001b[38;5;124mresponse_format\u001b[39m\u001b[38;5;124m\"\u001b[39m: response_format,\n\u001b[0;32m    614\u001b[0m                 \u001b[38;5;124m\"\u001b[39m\u001b[38;5;124mseed\u001b[39m\u001b[38;5;124m\"\u001b[39m: seed,\n\u001b[0;32m    615\u001b[0m                 \u001b[38;5;124m\"\u001b[39m\u001b[38;5;124mstop\u001b[39m\u001b[38;5;124m\"\u001b[39m: stop,\n\u001b[0;32m    616\u001b[0m                 \u001b[38;5;124m\"\u001b[39m\u001b[38;5;124mstream\u001b[39m\u001b[38;5;124m\"\u001b[39m: stream,\n\u001b[0;32m    617\u001b[0m                 \u001b[38;5;124m\"\u001b[39m\u001b[38;5;124mtemperature\u001b[39m\u001b[38;5;124m\"\u001b[39m: temperature,\n\u001b[0;32m    618\u001b[0m                 \u001b[38;5;124m\"\u001b[39m\u001b[38;5;124mtool_choice\u001b[39m\u001b[38;5;124m\"\u001b[39m: tool_choice,\n\u001b[0;32m    619\u001b[0m                 \u001b[38;5;124m\"\u001b[39m\u001b[38;5;124mtools\u001b[39m\u001b[38;5;124m\"\u001b[39m: tools,\n\u001b[0;32m    620\u001b[0m                 \u001b[38;5;124m\"\u001b[39m\u001b[38;5;124mtop_logprobs\u001b[39m\u001b[38;5;124m\"\u001b[39m: top_logprobs,\n\u001b[0;32m    621\u001b[0m                 \u001b[38;5;124m\"\u001b[39m\u001b[38;5;124mtop_p\u001b[39m\u001b[38;5;124m\"\u001b[39m: top_p,\n\u001b[0;32m    622\u001b[0m                 \u001b[38;5;124m\"\u001b[39m\u001b[38;5;124muser\u001b[39m\u001b[38;5;124m\"\u001b[39m: user,\n\u001b[0;32m    623\u001b[0m             },\n\u001b[0;32m    624\u001b[0m             completion_create_params\u001b[38;5;241m.\u001b[39mCompletionCreateParams,\n\u001b[0;32m    625\u001b[0m         ),\n\u001b[0;32m    626\u001b[0m         options\u001b[38;5;241m=\u001b[39mmake_request_options(\n\u001b[0;32m    627\u001b[0m             extra_headers\u001b[38;5;241m=\u001b[39mextra_headers, extra_query\u001b[38;5;241m=\u001b[39mextra_query, extra_body\u001b[38;5;241m=\u001b[39mextra_body, timeout\u001b[38;5;241m=\u001b[39mtimeout\n\u001b[0;32m    628\u001b[0m         ),\n\u001b[0;32m    629\u001b[0m         cast_to\u001b[38;5;241m=\u001b[39mChatCompletion,\n\u001b[0;32m    630\u001b[0m         stream\u001b[38;5;241m=\u001b[39mstream \u001b[38;5;129;01mor\u001b[39;00m \u001b[38;5;28;01mFalse\u001b[39;00m,\n\u001b[0;32m    631\u001b[0m         stream_cls\u001b[38;5;241m=\u001b[39mAsyncStream[ChatCompletionChunk],\n\u001b[0;32m    632\u001b[0m     )\n",
      "File \u001b[1;32mc:\\Users\\rupak\\OneDrive\\Documents\\agents2\\venv\\Lib\\site-packages\\groq\\_base_client.py:1812\u001b[0m, in \u001b[0;36mAsyncAPIClient.post\u001b[1;34m(self, path, cast_to, body, files, options, stream, stream_cls)\u001b[0m\n\u001b[0;32m   1798\u001b[0m \u001b[38;5;28;01masync\u001b[39;00m \u001b[38;5;28;01mdef\u001b[39;00m \u001b[38;5;21mpost\u001b[39m(\n\u001b[0;32m   1799\u001b[0m     \u001b[38;5;28mself\u001b[39m,\n\u001b[0;32m   1800\u001b[0m     path: \u001b[38;5;28mstr\u001b[39m,\n\u001b[1;32m   (...)\u001b[0m\n\u001b[0;32m   1807\u001b[0m     stream_cls: \u001b[38;5;28mtype\u001b[39m[_AsyncStreamT] \u001b[38;5;241m|\u001b[39m \u001b[38;5;28;01mNone\u001b[39;00m \u001b[38;5;241m=\u001b[39m \u001b[38;5;28;01mNone\u001b[39;00m,\n\u001b[0;32m   1808\u001b[0m ) \u001b[38;5;241m-\u001b[39m\u001b[38;5;241m>\u001b[39m ResponseT \u001b[38;5;241m|\u001b[39m _AsyncStreamT:\n\u001b[0;32m   1809\u001b[0m     opts \u001b[38;5;241m=\u001b[39m FinalRequestOptions\u001b[38;5;241m.\u001b[39mconstruct(\n\u001b[0;32m   1810\u001b[0m         method\u001b[38;5;241m=\u001b[39m\u001b[38;5;124m\"\u001b[39m\u001b[38;5;124mpost\u001b[39m\u001b[38;5;124m\"\u001b[39m, url\u001b[38;5;241m=\u001b[39mpath, json_data\u001b[38;5;241m=\u001b[39mbody, files\u001b[38;5;241m=\u001b[39m\u001b[38;5;28;01mawait\u001b[39;00m async_to_httpx_files(files), \u001b[38;5;241m*\u001b[39m\u001b[38;5;241m*\u001b[39moptions\n\u001b[0;32m   1811\u001b[0m     )\n\u001b[1;32m-> 1812\u001b[0m     \u001b[38;5;28;01mreturn\u001b[39;00m \u001b[38;5;28;01mawait\u001b[39;00m \u001b[38;5;28mself\u001b[39m\u001b[38;5;241m.\u001b[39mrequest(cast_to, opts, stream\u001b[38;5;241m=\u001b[39mstream, stream_cls\u001b[38;5;241m=\u001b[39mstream_cls)\n",
      "File \u001b[1;32mc:\\Users\\rupak\\OneDrive\\Documents\\agents2\\venv\\Lib\\site-packages\\groq\\_base_client.py:1520\u001b[0m, in \u001b[0;36mAsyncAPIClient.request\u001b[1;34m(self, cast_to, options, stream, stream_cls, remaining_retries)\u001b[0m\n\u001b[0;32m   1517\u001b[0m \u001b[38;5;28;01melse\u001b[39;00m:\n\u001b[0;32m   1518\u001b[0m     retries_taken \u001b[38;5;241m=\u001b[39m \u001b[38;5;241m0\u001b[39m\n\u001b[1;32m-> 1520\u001b[0m \u001b[38;5;28;01mreturn\u001b[39;00m \u001b[38;5;28;01mawait\u001b[39;00m \u001b[38;5;28mself\u001b[39m\u001b[38;5;241m.\u001b[39m_request(\n\u001b[0;32m   1521\u001b[0m     cast_to\u001b[38;5;241m=\u001b[39mcast_to,\n\u001b[0;32m   1522\u001b[0m     options\u001b[38;5;241m=\u001b[39moptions,\n\u001b[0;32m   1523\u001b[0m     stream\u001b[38;5;241m=\u001b[39mstream,\n\u001b[0;32m   1524\u001b[0m     stream_cls\u001b[38;5;241m=\u001b[39mstream_cls,\n\u001b[0;32m   1525\u001b[0m     retries_taken\u001b[38;5;241m=\u001b[39mretries_taken,\n\u001b[0;32m   1526\u001b[0m )\n",
      "File \u001b[1;32mc:\\Users\\rupak\\OneDrive\\Documents\\agents2\\venv\\Lib\\site-packages\\groq\\_base_client.py:1621\u001b[0m, in \u001b[0;36mAsyncAPIClient._request\u001b[1;34m(self, cast_to, options, stream, stream_cls, retries_taken)\u001b[0m\n\u001b[0;32m   1618\u001b[0m         \u001b[38;5;28;01mawait\u001b[39;00m err\u001b[38;5;241m.\u001b[39mresponse\u001b[38;5;241m.\u001b[39maread()\n\u001b[0;32m   1620\u001b[0m     log\u001b[38;5;241m.\u001b[39mdebug(\u001b[38;5;124m\"\u001b[39m\u001b[38;5;124mRe-raising status error\u001b[39m\u001b[38;5;124m\"\u001b[39m)\n\u001b[1;32m-> 1621\u001b[0m     \u001b[38;5;28;01mraise\u001b[39;00m \u001b[38;5;28mself\u001b[39m\u001b[38;5;241m.\u001b[39m_make_status_error_from_response(err\u001b[38;5;241m.\u001b[39mresponse) \u001b[38;5;28;01mfrom\u001b[39;00m \u001b[38;5;28;01mNone\u001b[39;00m\n\u001b[0;32m   1623\u001b[0m \u001b[38;5;28;01mreturn\u001b[39;00m \u001b[38;5;28;01mawait\u001b[39;00m \u001b[38;5;28mself\u001b[39m\u001b[38;5;241m.\u001b[39m_process_response(\n\u001b[0;32m   1624\u001b[0m     cast_to\u001b[38;5;241m=\u001b[39mcast_to,\n\u001b[0;32m   1625\u001b[0m     options\u001b[38;5;241m=\u001b[39moptions,\n\u001b[1;32m   (...)\u001b[0m\n\u001b[0;32m   1629\u001b[0m     retries_taken\u001b[38;5;241m=\u001b[39mretries_taken,\n\u001b[0;32m   1630\u001b[0m )\n",
      "\u001b[1;31mBadRequestError\u001b[0m: Error code: 400 - {'error': {'message': \"Failed to call a function. Please adjust your prompt. See 'failed_generation' for more details.\", 'type': 'invalid_request_error', 'code': 'tool_use_failed', 'failed_generation': 'roulette_wheel>{square: 5}</function>'}}"
     ]
    }
   ],
   "source": [
    "from pydantic_ai import Agent, RunContext\n",
    "\n",
    "roulette_agent = Agent(  \n",
    "    'groq:llama-3.2-3b-preview',\n",
    "    deps_type=int,\n",
    "    result_type=bool,\n",
    "    system_prompt=(\n",
    "        'Use the `roulette_wheel` function to see if the '\n",
    "        'customer has won based on the number they provide.'\n",
    "    ),\n",
    ")\n",
    "\n",
    "\n",
    "@roulette_agent.tool\n",
    "async def roulette_wheel(ctx: RunContext[int], square: int) -> str:  \n",
    "    \"\"\"check if the square is a winner\"\"\"\n",
    "    return 'winner' if square == ctx.deps else 'loser'\n",
    "\n",
    "\n",
    "# Run the agent\n",
    "success_number = 18  \n",
    "result = roulette_agent.run_sync('Put my money on square eighteen', deps=success_number)\n",
    "print(result.data)  \n",
    "#> True\n",
    "\n",
    "result = roulette_agent.run_sync('I bet five is the winner', deps=success_number)\n",
    "print(result.data)\n",
    "\n"
   ]
  }
 ],
 "metadata": {
  "kernelspec": {
   "display_name": "venv",
   "language": "python",
   "name": "python3"
  },
  "language_info": {
   "codemirror_mode": {
    "name": "ipython",
    "version": 3
   },
   "file_extension": ".py",
   "mimetype": "text/x-python",
   "name": "python",
   "nbconvert_exporter": "python",
   "pygments_lexer": "ipython3",
   "version": "3.11.9"
  }
 },
 "nbformat": 4,
 "nbformat_minor": 2
}
